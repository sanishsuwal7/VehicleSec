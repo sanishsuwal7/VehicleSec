{
 "cells": [
  {
   "cell_type": "code",
   "execution_count": 3,
   "id": "d3e671d5-ea38-4d53-9b93-700e21998a7e",
   "metadata": {},
   "outputs": [],
   "source": [
    "# importing required libraries\n",
    "from pathlib import Path\n",
    "\n",
    "import torch\n",
    "from torch import nn\n",
    "import torch.nn as nn\n",
    "import torch.nn.functional as F\n",
    "from torch.utils.data import DataLoader\n",
    "import torch.nn.utils.prune as prune\n",
    "\n",
    "import torchvision\n",
    "from torchvision import datasets\n",
    "from torchvision import transforms\n",
    "from torchvision.transforms import Normalize\n",
    "from torchmetrics import Accuracy\n",
    "\n",
    "import torch.optim as optim\n",
    "from cleverhans.torch.attacks.projected_gradient_descent import (projected_gradient_descent)\n",
    "\n",
    "import quantus\n",
    "import captum\n",
    "from captum.attr import Saliency, IntegratedGradients, NoiseTunnel\n",
    "\n",
    "import pandas as pd\n",
    "import numpy as np\n",
    "import matplotlib.pyplot as plt\n",
    "\n",
    "import random\n",
    "import copy\n",
    "import gc\n",
    "\n",
    "import warnings\n",
    "warnings.filterwarnings('ignore')"
   ]
  },
  {
   "cell_type": "code",
   "execution_count": 37,
   "id": "9dac2627-71f4-446d-b520-60255275ff26",
   "metadata": {},
   "outputs": [],
   "source": [
    "device = 'cuda' if torch.cuda.is_available() else 'cpu'"
   ]
  },
  {
   "cell_type": "code",
   "execution_count": 39,
   "id": "06a50ea5-7a18-426c-83ef-e32f27116f9f",
   "metadata": {},
   "outputs": [],
   "source": [
    "transformer = torchvision.transforms.Compose([torchvision.transforms.ToTensor()])\n",
    "\n",
    "# downloading dataset from pytorch\n",
    "train_dataset = datasets.FashionMNIST(root='./datasets', train=True, download = True, transform=transformer)\n",
    "test_dataset = datasets.FashionMNIST(root='./datasets', train=False, download = True, transform=transformer)\n",
    "\n",
    "# preparing the dataloader\n",
    "train_dataloader = torch.utils.data.DataLoader(train_dataset, batch_size=32, shuffle=True, pin_memory=True) # num_workers=4,\n",
    "test_dataloader = torch.utils.data.DataLoader(test_dataset, batch_size=32, pin_memory=True)"
   ]
  },
  {
   "cell_type": "code",
   "execution_count": 41,
   "id": "d3b8e827-f84d-46a5-bd31-1a0d4024e9a6",
   "metadata": {},
   "outputs": [],
   "source": [
    "%run models.ipynb"
   ]
  },
  {
   "cell_type": "code",
   "execution_count": 45,
   "id": "0300c511-9636-4993-bfad-07ccfd1055b5",
   "metadata": {},
   "outputs": [],
   "source": [
    "model = LeNet()\n",
    "learning_rate = 0.001\n",
    "epochs = 50 \n",
    "# loss function\n",
    "criterion = torch.nn.CrossEntropyLoss(reduction=\"mean\")\n",
    "# adam Optimizer\n",
    "optimizer = torch.optim.Adam(model.parameters(), lr=learning_rate)"
   ]
  },
  {
   "cell_type": "code",
   "execution_count": 47,
   "id": "65f4441d-ed90-4319-ad80-2f5c246f71ac",
   "metadata": {},
   "outputs": [],
   "source": [
    "def train_model(model, epochs):\n",
    "    model.train()\n",
    "    for epoch in range(epochs):\n",
    "        for x_batch, y_batch in train_dataloader:\n",
    "            x_batch, y_batch = x_batch.to(device), y_batch.to(device)\n",
    "            optimizer.zero_grad()\n",
    "            # passing data through the model\n",
    "            output = model(x_batch)\n",
    "            # calculating loss\n",
    "            loss = criterion(output, y_batch)\n",
    "            loss.backward()\n",
    "            optimizer.step()\n",
    "\n",
    "        # Evaluating model in each epoch\n",
    "        if epochs%10==0:\n",
    "            prediction, labels = evaluate_model(model, test_dataloader, device)\n",
    "            test_acc = np.mean(np.argmax(prediction.cpu().numpy(), axis=1) == labels.cpu().numpy())\n",
    "            print(f\"Epoch {epoch+1}/{epochs} - test accuracy: {(100 * test_acc):.2f}% and CE loss {loss.item():.2f}\")\n",
    "    return model"
   ]
  },
  {
   "cell_type": "code",
   "execution_count": 49,
   "id": "b23adf41-6462-47e1-a7f3-6cb823ea3111",
   "metadata": {},
   "outputs": [
    {
     "name": "stdout",
     "output_type": "stream",
     "text": [
      "Epoch 1/50 - test accuracy: 82.53% and CE loss 0.38\n",
      "Epoch 2/50 - test accuracy: 85.22% and CE loss 0.56\n",
      "Epoch 3/50 - test accuracy: 87.23% and CE loss 0.36\n",
      "Epoch 4/50 - test accuracy: 87.84% and CE loss 0.16\n",
      "Epoch 5/50 - test accuracy: 87.98% and CE loss 0.24\n",
      "Epoch 6/50 - test accuracy: 88.65% and CE loss 0.24\n",
      "Epoch 7/50 - test accuracy: 88.83% and CE loss 0.22\n",
      "Epoch 8/50 - test accuracy: 88.47% and CE loss 0.15\n",
      "Epoch 9/50 - test accuracy: 89.29% and CE loss 0.16\n",
      "Epoch 10/50 - test accuracy: 89.52% and CE loss 0.38\n",
      "Epoch 11/50 - test accuracy: 89.65% and CE loss 0.15\n",
      "Epoch 12/50 - test accuracy: 89.80% and CE loss 0.23\n",
      "Epoch 13/50 - test accuracy: 89.33% and CE loss 0.10\n",
      "Epoch 14/50 - test accuracy: 89.40% and CE loss 0.11\n",
      "Epoch 15/50 - test accuracy: 89.62% and CE loss 0.12\n",
      "Epoch 16/50 - test accuracy: 89.73% and CE loss 0.36\n",
      "Epoch 17/50 - test accuracy: 88.88% and CE loss 0.21\n",
      "Epoch 18/50 - test accuracy: 89.79% and CE loss 0.13\n",
      "Epoch 19/50 - test accuracy: 89.69% and CE loss 0.20\n",
      "Epoch 20/50 - test accuracy: 89.29% and CE loss 0.22\n",
      "Epoch 21/50 - test accuracy: 89.32% and CE loss 0.10\n",
      "Epoch 22/50 - test accuracy: 89.67% and CE loss 0.15\n",
      "Epoch 23/50 - test accuracy: 89.41% and CE loss 0.41\n",
      "Epoch 24/50 - test accuracy: 89.00% and CE loss 0.17\n",
      "Epoch 25/50 - test accuracy: 89.94% and CE loss 0.24\n",
      "Epoch 26/50 - test accuracy: 89.81% and CE loss 0.17\n",
      "Epoch 27/50 - test accuracy: 89.65% and CE loss 0.12\n",
      "Epoch 28/50 - test accuracy: 89.49% and CE loss 0.02\n",
      "Epoch 29/50 - test accuracy: 89.78% and CE loss 0.09\n",
      "Epoch 30/50 - test accuracy: 89.54% and CE loss 0.23\n",
      "Epoch 31/50 - test accuracy: 89.67% and CE loss 0.13\n",
      "Epoch 32/50 - test accuracy: 89.11% and CE loss 0.27\n",
      "Epoch 33/50 - test accuracy: 89.16% and CE loss 0.10\n",
      "Epoch 34/50 - test accuracy: 89.25% and CE loss 0.04\n",
      "Epoch 35/50 - test accuracy: 89.81% and CE loss 0.10\n",
      "Epoch 36/50 - test accuracy: 88.98% and CE loss 0.24\n",
      "Epoch 37/50 - test accuracy: 89.49% and CE loss 0.39\n",
      "Epoch 38/50 - test accuracy: 89.06% and CE loss 0.05\n",
      "Epoch 39/50 - test accuracy: 89.59% and CE loss 0.07\n",
      "Epoch 40/50 - test accuracy: 89.51% and CE loss 0.01\n",
      "Epoch 41/50 - test accuracy: 89.47% and CE loss 0.09\n",
      "Epoch 42/50 - test accuracy: 88.81% and CE loss 0.12\n",
      "Epoch 43/50 - test accuracy: 89.28% and CE loss 0.09\n",
      "Epoch 44/50 - test accuracy: 89.09% and CE loss 0.06\n",
      "Epoch 45/50 - test accuracy: 89.38% and CE loss 0.06\n",
      "Epoch 46/50 - test accuracy: 88.96% and CE loss 0.14\n",
      "Epoch 47/50 - test accuracy: 89.07% and CE loss 0.15\n",
      "Epoch 48/50 - test accuracy: 89.64% and CE loss 0.16\n",
      "Epoch 49/50 - test accuracy: 89.09% and CE loss 0.03\n",
      "Epoch 50/50 - test accuracy: 89.05% and CE loss 0.12\n"
     ]
    }
   ],
   "source": [
    "model_normal = train_model(model = model.to(device), epochs = epochs)"
   ]
  },
  {
   "cell_type": "code",
   "execution_count": 51,
   "id": "9a390518-d09b-4080-917b-f68390cf814f",
   "metadata": {},
   "outputs": [
    {
     "name": "stdout",
     "output_type": "stream",
     "text": [
      "Model test accuracy: 89.05%\n"
     ]
    }
   ],
   "source": [
    "# Model to GPU \n",
    "model_normal.to(device)\n",
    "# Evaluation Mode\n",
    "model_normal.eval()\n",
    "# Check test set performance.\n",
    "prediction, labels = evaluate_model(model_normal, test_dataloader, device)\n",
    "test_acc = np.mean(np.argmax(prediction.cpu().numpy(), axis=1) == labels.cpu().numpy())        \n",
    "print(f\"Model test accuracy: {(100 * test_acc):.2f}%\")"
   ]
  },
  {
   "cell_type": "code",
   "execution_count": 10,
   "id": "dfb78616-0351-444e-a330-3994eeeb0563",
   "metadata": {},
   "outputs": [
    {
     "name": "stdout",
     "output_type": "stream",
     "text": [
      "Saving the model: models\\lenet_fmnist.pth\n"
     ]
    }
   ],
   "source": [
    "model_path = Path(\"models\")\n",
    "model_path.mkdir(parents=True, exist_ok=True)\n",
    "\n",
    "model_name = \"lenet_fmnist.pth\"\n",
    "model_save_path = model_path / model_name\n",
    "\n",
    "print(f\"Saving the model: {model_save_path}\")\n",
    "torch.save(obj=model_normal.state_dict(), f=model_save_path)"
   ]
  },
  {
   "cell_type": "markdown",
   "id": "77e8598c-2f5e-43f5-b10b-3771f6e27755",
   "metadata": {},
   "source": [
    "# Train Adversarial Models"
   ]
  },
  {
   "cell_type": "code",
   "execution_count": 9,
   "id": "30ace2b9-b265-419a-bb89-41a1ee2c36fb",
   "metadata": {},
   "outputs": [],
   "source": [
    "model = LeNet()\n",
    "learning_rate = 1e-4\n",
    "epochs = 40\n",
    "eps = [0.01,0.03,0.06,0.0,0.3,0.5]\n",
    "criterion = torch.nn.CrossEntropyLoss(reduction=\"mean\")\n",
    "optimizer = torch.optim.Adam(model.parameters(), lr=learning_rate)"
   ]
  },
  {
   "cell_type": "code",
   "execution_count": 13,
   "id": "337aad80-ffe6-4e28-86fb-8e5a5d0bde1c",
   "metadata": {},
   "outputs": [],
   "source": [
    "def train_adv(model, epsilon, epochs):\n",
    "    model.train()\n",
    "    eps = epsilon\n",
    "    for epoch in range(epochs):\n",
    "        for x_batch, y_batch in train_dataloader:\n",
    "            x_batch, y_batch = x_batch.to(device), y_batch.to(device)\n",
    "            x_batch = projected_gradient_descent(model, x_batch, eps, eps/10, 40, np.inf)\n",
    "            optimizer.zero_grad()\n",
    "            output = model(x_batch)\n",
    "            loss = criterion(output, y_batch)\n",
    "            loss.backward()\n",
    "            optimizer.step()\n",
    "\n",
    "        # Evaluating Model after each epoch\n",
    "        if epochs%10==0:\n",
    "            prediction, labels = evaluate_model(model, test_dataloader, device)\n",
    "            test_acc = np.mean(np.argmax(prediction.cpu().numpy(), axis=1) == labels.cpu().numpy())\n",
    "            print(f\"Epoch {epoch+1}/{epochs} - test accuracy: {(100 * test_acc):.2f}% and CE loss {loss.item():.2f}\")\n",
    "    return model"
   ]
  },
  {
   "cell_type": "code",
   "execution_count": 15,
   "id": "181b24a9-9bcc-4f9a-bc23-25d0daf64b70",
   "metadata": {},
   "outputs": [
    {
     "name": "stdout",
     "output_type": "stream",
     "text": [
      "Epoch 1/40 - test accuracy: 72.75% and CE loss 0.65\n",
      "Epoch 2/40 - test accuracy: 74.71% and CE loss 0.60\n",
      "Epoch 3/40 - test accuracy: 77.28% and CE loss 0.52\n",
      "Epoch 4/40 - test accuracy: 78.62% and CE loss 0.60\n",
      "Epoch 5/40 - test accuracy: 79.47% and CE loss 0.57\n",
      "Epoch 6/40 - test accuracy: 81.42% and CE loss 0.22\n",
      "Epoch 7/40 - test accuracy: 82.02% and CE loss 0.53\n",
      "Epoch 8/40 - test accuracy: 83.04% and CE loss 0.55\n",
      "Epoch 9/40 - test accuracy: 83.57% and CE loss 0.40\n",
      "Epoch 10/40 - test accuracy: 84.38% and CE loss 0.25\n",
      "Epoch 11/40 - test accuracy: 84.24% and CE loss 0.47\n",
      "Epoch 12/40 - test accuracy: 85.49% and CE loss 0.26\n",
      "Epoch 13/40 - test accuracy: 85.57% and CE loss 0.65\n",
      "Epoch 14/40 - test accuracy: 85.63% and CE loss 0.33\n",
      "Epoch 15/40 - test accuracy: 85.96% and CE loss 0.25\n",
      "Epoch 16/40 - test accuracy: 85.97% and CE loss 0.35\n",
      "Epoch 17/40 - test accuracy: 86.23% and CE loss 0.35\n",
      "Epoch 18/40 - test accuracy: 86.60% and CE loss 0.25\n",
      "Epoch 19/40 - test accuracy: 86.61% and CE loss 0.55\n",
      "Epoch 20/40 - test accuracy: 85.90% and CE loss 0.49\n",
      "Epoch 21/40 - test accuracy: 86.72% and CE loss 0.57\n",
      "Epoch 22/40 - test accuracy: 87.02% and CE loss 0.48\n",
      "Epoch 23/40 - test accuracy: 86.96% and CE loss 0.27\n",
      "Epoch 24/40 - test accuracy: 86.97% and CE loss 0.52\n",
      "Epoch 25/40 - test accuracy: 87.20% and CE loss 0.27\n",
      "Epoch 26/40 - test accuracy: 86.95% and CE loss 0.54\n",
      "Epoch 27/40 - test accuracy: 87.53% and CE loss 0.44\n",
      "Epoch 28/40 - test accuracy: 87.62% and CE loss 0.24\n",
      "Epoch 29/40 - test accuracy: 87.39% and CE loss 0.33\n",
      "Epoch 30/40 - test accuracy: 87.59% and CE loss 0.43\n",
      "Epoch 31/40 - test accuracy: 87.69% and CE loss 0.42\n",
      "Epoch 32/40 - test accuracy: 88.12% and CE loss 0.28\n",
      "Epoch 33/40 - test accuracy: 87.75% and CE loss 0.34\n",
      "Epoch 34/40 - test accuracy: 88.07% and CE loss 0.17\n",
      "Epoch 35/40 - test accuracy: 87.98% and CE loss 0.34\n",
      "Epoch 36/40 - test accuracy: 87.58% and CE loss 0.45\n",
      "Epoch 37/40 - test accuracy: 88.37% and CE loss 0.37\n",
      "Epoch 38/40 - test accuracy: 88.29% and CE loss 0.30\n",
      "Epoch 39/40 - test accuracy: 88.30% and CE loss 0.38\n",
      "Epoch 40/40 - test accuracy: 87.97% and CE loss 0.49\n"
     ]
    }
   ],
   "source": [
    "model_adversarial = train_adv(model=model.to(device),\n",
    "                    epsilon = eps[0], \n",
    "                    epochs=epochs)"
   ]
  },
  {
   "cell_type": "code",
   "execution_count": 21,
   "id": "c299b3fd-fe4e-4c30-a067-04d115c0ff80",
   "metadata": {},
   "outputs": [
    {
     "name": "stdout",
     "output_type": "stream",
     "text": [
      "Model test accuracy: 87.97%\n"
     ]
    }
   ],
   "source": [
    "model_adversarial.to(device)\n",
    "model_adversarial.eval()\n",
    "\n",
    "# Check test set performance.\n",
    "prediction, labels = evaluate_model(model_adversarial, test_dataloader, device)\n",
    "test_acc = np.mean(np.argmax(prediction.cpu().numpy(), axis=1) == labels.cpu().numpy())        \n",
    "print(f\"Model test accuracy: {(100 * test_acc):.2f}%\")"
   ]
  },
  {
   "cell_type": "code",
   "execution_count": 23,
   "id": "242782e1-bb3d-482d-a210-da7bd8c72858",
   "metadata": {},
   "outputs": [
    {
     "name": "stdout",
     "output_type": "stream",
     "text": [
      "Saving the model: models\\lenet_fmnist_adv.pth\n"
     ]
    }
   ],
   "source": [
    "model_path = Path(\"models\")\n",
    "model_path.mkdir(parents=True, exist_ok=True)\n",
    "\n",
    "model_name = \"lenet_fmnist_adv.pth\"\n",
    "model_save_path = model_path / model_name\n",
    "\n",
    "print(f\"Saving the model: {model_save_path}\")\n",
    "torch.save(obj=model_adversarial.state_dict(), f=model_save_path)"
   ]
  },
  {
   "cell_type": "markdown",
   "id": "e60e7bd3-47fc-4805-a735-b322298bb70f",
   "metadata": {},
   "source": [
    "# L1 Unstructured "
   ]
  },
  {
   "cell_type": "code",
   "execution_count": 53,
   "id": "01d50e6a-d0e4-4636-93c0-7590c97fd688",
   "metadata": {},
   "outputs": [],
   "source": [
    "model = LeNet()\n",
    "learning_rate = 0.001\n",
    "epochs = 50\n",
    "criterion = torch.nn.CrossEntropyLoss()\n",
    "optimizer = torch.optim.Adam(params=model.parameters(), lr = learning_rate)"
   ]
  },
  {
   "cell_type": "code",
   "execution_count": 69,
   "id": "bd677650-a9a7-4b87-8775-7f7c11abd4f0",
   "metadata": {},
   "outputs": [],
   "source": [
    "%run utils.ipynb"
   ]
  },
  {
   "cell_type": "code",
   "execution_count": 60,
   "id": "0de43668-8df2-4e98-a60a-65075e346e5d",
   "metadata": {},
   "outputs": [
    {
     "name": "stdout",
     "output_type": "stream",
     "text": [
      "Unpruned LeNet-5 model has 44426 trainable parameters\n"
     ]
    }
   ],
   "source": [
    "orig_params = count_params(model)\n",
    "print(f\"Unpruned LeNet-5 model has {orig_params} trainable parameters\")"
   ]
  },
  {
   "cell_type": "code",
   "execution_count": 62,
   "id": "9675d74a-6004-4d51-ab45-2cad1fc79e3e",
   "metadata": {},
   "outputs": [
    {
     "name": "stdout",
     "output_type": "stream",
     "text": [
      "layer.name: conv_1.weight & param.shape = torch.Size([6, 1, 5, 5])\n",
      "layer.name: conv_1.bias & param.shape = torch.Size([6])\n",
      "layer.name: conv_2.weight & param.shape = torch.Size([16, 6, 5, 5])\n",
      "layer.name: conv_2.bias & param.shape = torch.Size([16])\n",
      "layer.name: fc_1.weight & param.shape = torch.Size([120, 256])\n",
      "layer.name: fc_1.bias & param.shape = torch.Size([120])\n",
      "layer.name: fc_2.weight & param.shape = torch.Size([84, 120])\n",
      "layer.name: fc_2.bias & param.shape = torch.Size([84])\n",
      "layer.name: fc_3.weight & param.shape = torch.Size([10, 84])\n",
      "layer.name: fc_3.bias & param.shape = torch.Size([10])\n"
     ]
    }
   ],
   "source": [
    "for layer, param in model.named_parameters():\n",
    "    print(f\"layer.name: {layer} & param.shape = {param.shape}\")"
   ]
  },
  {
   "cell_type": "code",
   "execution_count": 64,
   "id": "4ce0bd78-d3f2-4073-8cf3-3b67ebbf51d6",
   "metadata": {},
   "outputs": [
    {
     "name": "stdout",
     "output_type": "stream",
     "text": [
      "conv_1.weight torch.Size([6, 1, 5, 5])\n",
      "conv_1.bias torch.Size([6])\n",
      "conv_2.weight torch.Size([16, 6, 5, 5])\n",
      "conv_2.bias torch.Size([16])\n",
      "fc_1.weight torch.Size([120, 256])\n",
      "fc_1.bias torch.Size([120])\n",
      "fc_2.weight torch.Size([84, 120])\n",
      "fc_2.bias torch.Size([84])\n",
      "fc_3.weight torch.Size([10, 84])\n",
      "fc_3.bias torch.Size([10])\n"
     ]
    }
   ],
   "source": [
    "for layer_name in model.state_dict().keys():\n",
    "    print(layer_name, model.state_dict()[layer_name].shape)"
   ]
  },
  {
   "cell_type": "code",
   "execution_count": 66,
   "id": "62817fb0-ae9a-4b72-b30e-d24391a15b43",
   "metadata": {},
   "outputs": [
    {
     "data": {
      "text/plain": [
       "odict_keys(['conv_1.weight', 'conv_1.bias', 'conv_2.weight', 'conv_2.bias', 'fc_1.weight', 'fc_1.bias', 'fc_2.weight', 'fc_2.bias', 'fc_3.weight', 'fc_3.bias'])"
      ]
     },
     "execution_count": 66,
     "metadata": {},
     "output_type": "execute_result"
    }
   ],
   "source": [
    "model.state_dict().keys()"
   ]
  },
  {
   "cell_type": "code",
   "execution_count": 71,
   "id": "e01bea03-3473-4b0e-8a10-4ced33719739",
   "metadata": {},
   "outputs": [
    {
     "name": "stdout",
     "output_type": "stream",
     "text": [
      "LeNet-5 global sparsity = 0.00%\n"
     ]
    }
   ],
   "source": [
    "print(f\"LeNet-5 global sparsity = {compute_sparsity_lenet(model):.2f}%\")"
   ]
  },
  {
   "cell_type": "code",
   "execution_count": 73,
   "id": "e9d72630-dc33-4254-861e-86c0073356c1",
   "metadata": {},
   "outputs": [],
   "source": [
    "# Using l1 unstructured pruning to prune the modles\n",
    "for name, module in model.named_modules():\n",
    "    # prune 20% of weights in for all hidden layaers\n",
    "    if isinstance(module, torch.nn.Conv2d):\n",
    "        prune.l1_unstructured(module = module, name = 'weight', amount = 0.2)\n",
    "    \n",
    "    # prune 10% of weights for output layer\n",
    "    elif isinstance(module, torch.nn.Linear):\n",
    "        prune.l1_unstructured(module = module, name = 'weight', amount = 0.1)"
   ]
  },
  {
   "cell_type": "code",
   "execution_count": 75,
   "id": "ae21c25b-f53a-4b27-9183-49340f5eafc7",
   "metadata": {},
   "outputs": [
    {
     "name": "stdout",
     "output_type": "stream",
     "text": [
      "LeNet-5 global sparsity = 10.58%\n"
     ]
    }
   ],
   "source": [
    "print(f\"LeNet-5 global sparsity = {compute_sparsity_lenet(model):.2f}%\")\n"
   ]
  },
  {
   "cell_type": "code",
   "execution_count": 77,
   "id": "c19c0414-472d-47f6-a999-e34936851ac8",
   "metadata": {},
   "outputs": [
    {
     "name": "stdout",
     "output_type": "stream",
     "text": [
      "Pruned LeNet-5 model has 44426 trainable parameters\n"
     ]
    }
   ],
   "source": [
    "new_params = count_params(model)\n",
    "print(f\"Pruned LeNet-5 model has {new_params} trainable parameters\")"
   ]
  },
  {
   "cell_type": "code",
   "execution_count": 67,
   "id": "d7710ab1-8314-4576-a6fa-1b5c341d5426",
   "metadata": {},
   "outputs": [
    {
     "name": "stdout",
     "output_type": "stream",
     "text": [
      "Epoch 1/50 - test accuracy: 80.86% and CE loss 0.29\n",
      "Epoch 2/50 - test accuracy: 84.95% and CE loss 0.73\n",
      "Epoch 3/50 - test accuracy: 86.20% and CE loss 0.45\n",
      "Epoch 4/50 - test accuracy: 86.38% and CE loss 0.49\n",
      "Epoch 5/50 - test accuracy: 87.75% and CE loss 0.29\n",
      "Epoch 6/50 - test accuracy: 88.38% and CE loss 0.38\n",
      "Epoch 7/50 - test accuracy: 87.91% and CE loss 0.29\n",
      "Epoch 8/50 - test accuracy: 88.56% and CE loss 0.16\n",
      "Epoch 9/50 - test accuracy: 89.02% and CE loss 0.23\n",
      "Epoch 10/50 - test accuracy: 88.87% and CE loss 0.21\n",
      "Epoch 11/50 - test accuracy: 89.00% and CE loss 0.33\n",
      "Epoch 12/50 - test accuracy: 89.57% and CE loss 0.15\n",
      "Epoch 13/50 - test accuracy: 89.64% and CE loss 0.10\n",
      "Epoch 14/50 - test accuracy: 89.56% and CE loss 0.18\n",
      "Epoch 15/50 - test accuracy: 90.08% and CE loss 0.40\n",
      "Epoch 16/50 - test accuracy: 89.93% and CE loss 0.44\n",
      "Epoch 17/50 - test accuracy: 89.92% and CE loss 0.27\n",
      "Epoch 18/50 - test accuracy: 89.54% and CE loss 0.19\n",
      "Epoch 19/50 - test accuracy: 89.43% and CE loss 0.35\n",
      "Epoch 20/50 - test accuracy: 89.42% and CE loss 0.13\n",
      "Epoch 21/50 - test accuracy: 89.77% and CE loss 0.29\n",
      "Epoch 22/50 - test accuracy: 89.87% and CE loss 0.21\n",
      "Epoch 23/50 - test accuracy: 89.88% and CE loss 0.17\n",
      "Epoch 24/50 - test accuracy: 89.14% and CE loss 0.34\n",
      "Epoch 25/50 - test accuracy: 89.27% and CE loss 0.09\n",
      "Epoch 26/50 - test accuracy: 89.79% and CE loss 0.17\n",
      "Epoch 27/50 - test accuracy: 88.83% and CE loss 0.15\n",
      "Epoch 28/50 - test accuracy: 89.21% and CE loss 0.10\n",
      "Epoch 29/50 - test accuracy: 89.08% and CE loss 0.04\n",
      "Epoch 30/50 - test accuracy: 89.34% and CE loss 0.06\n",
      "Epoch 31/50 - test accuracy: 89.32% and CE loss 0.20\n",
      "Epoch 32/50 - test accuracy: 89.28% and CE loss 0.21\n",
      "Epoch 33/50 - test accuracy: 89.46% and CE loss 0.17\n",
      "Epoch 34/50 - test accuracy: 89.70% and CE loss 0.13\n",
      "Epoch 35/50 - test accuracy: 88.55% and CE loss 0.16\n",
      "Epoch 36/50 - test accuracy: 89.39% and CE loss 0.05\n",
      "Epoch 37/50 - test accuracy: 89.56% and CE loss 0.14\n",
      "Epoch 38/50 - test accuracy: 89.48% and CE loss 0.04\n",
      "Epoch 39/50 - test accuracy: 89.47% and CE loss 0.05\n",
      "Epoch 40/50 - test accuracy: 89.45% and CE loss 0.24\n",
      "Epoch 41/50 - test accuracy: 89.36% and CE loss 0.04\n",
      "Epoch 42/50 - test accuracy: 89.11% and CE loss 0.11\n",
      "Epoch 43/50 - test accuracy: 88.94% and CE loss 0.03\n",
      "Epoch 44/50 - test accuracy: 89.34% and CE loss 0.19\n",
      "Epoch 45/50 - test accuracy: 89.21% and CE loss 0.02\n",
      "Epoch 46/50 - test accuracy: 88.89% and CE loss 0.05\n",
      "Epoch 47/50 - test accuracy: 89.23% and CE loss 0.02\n",
      "Epoch 48/50 - test accuracy: 88.89% and CE loss 0.03\n",
      "Epoch 49/50 - test accuracy: 88.80% and CE loss 0.05\n",
      "Epoch 50/50 - test accuracy: 88.95% and CE loss 0.04\n"
     ]
    }
   ],
   "source": [
    "model_l1_unstructured = train_model(model = model.to(device), epochs = epochs)"
   ]
  },
  {
   "cell_type": "code",
   "execution_count": 68,
   "id": "850b3f11-c9b3-4ab1-812a-2c93af1bae04",
   "metadata": {},
   "outputs": [
    {
     "name": "stdout",
     "output_type": "stream",
     "text": [
      "Model test accuracy: 88.95%\n"
     ]
    }
   ],
   "source": [
    "# Model to GPU and eval mode.\n",
    "model_l1_unstructured.to(device)\n",
    "model_l1_unstructured.eval()\n",
    "\n",
    "# Check test set performance.\n",
    "prediction, labels = evaluate_model(model_l1_unstructured, test_dataloader, device)\n",
    "test_acc = np.mean(np.argmax(prediction.cpu().numpy(), axis=1) == labels.cpu().numpy())        \n",
    "print(f\"Model test accuracy: {(100 * test_acc):.2f}%\")"
   ]
  },
  {
   "cell_type": "code",
   "execution_count": 69,
   "id": "85ef5f06-c6a5-4bda-ad7f-a295f5b7a5ab",
   "metadata": {},
   "outputs": [
    {
     "name": "stdout",
     "output_type": "stream",
     "text": [
      "Saving the model: models\\lenet_fmnist_l1_unstructured.pth\n"
     ]
    }
   ],
   "source": [
    "model_path = Path(\"models\")\n",
    "model_path.mkdir(parents=True, exist_ok=True)\n",
    "\n",
    "model_name = \"lenet_fmnist_l1_unstructured.pth\"\n",
    "model_save_path = model_path / model_name\n",
    "\n",
    "print(f\"Saving the model: {model_save_path}\")\n",
    "torch.save(obj=model_l1_unstructured.state_dict(), f=model_save_path)"
   ]
  },
  {
   "cell_type": "markdown",
   "id": "a8e2479d-2790-4238-bc9f-9981a28506ab",
   "metadata": {},
   "source": [
    "# Global Pruning"
   ]
  },
  {
   "cell_type": "code",
   "execution_count": 56,
   "id": "b4f450cb-5881-40aa-a66a-7f17e0e7bc7a",
   "metadata": {},
   "outputs": [],
   "source": [
    "model = LeNet()\n",
    "learning_rate = 0.001\n",
    "epochs = 20\n",
    "criterion = torch.nn.CrossEntropyLoss(reduction=\"mean\")\n",
    "optimizer = torch.optim.Adam(params=model.parameters(), lr = learning_rate)"
   ]
  },
  {
   "cell_type": "code",
   "execution_count": 57,
   "id": "fd39f6e7-9078-459a-af02-24468e018abd",
   "metadata": {},
   "outputs": [],
   "source": [
    "# parameters to prune for global pruning\n",
    "parameters_to_prune = (\n",
    "    (model.conv_1, 'weight'),\n",
    "    (model.conv_2, 'weight'),\n",
    "    (model.fc_1, 'weight'),\n",
    "    (model.fc_2, 'weight'),\n",
    "    (model.fc_3, 'weight')\n",
    ")"
   ]
  },
  {
   "cell_type": "code",
   "execution_count": 58,
   "id": "77a9bf0b-b601-4762-a31f-3ee082038582",
   "metadata": {},
   "outputs": [
    {
     "name": "stdout",
     "output_type": "stream",
     "text": [
      "LeNet-5 global sparsity = 0.00%\n"
     ]
    }
   ],
   "source": [
    "print(f\"LeNet-5 global sparsity = {compute_sparsity_lenet(model):.2f}%\")"
   ]
  },
  {
   "cell_type": "code",
   "execution_count": 59,
   "id": "5eeb667e-23e9-4c45-8ba3-62c67ff17bf3",
   "metadata": {},
   "outputs": [],
   "source": [
    "prune_rates_global = [0.2, 0.3, 0.4, 0.5, 0.6]"
   ]
  },
  {
   "cell_type": "code",
   "execution_count": 61,
   "id": "91c0b98f-8afd-43d9-a6b8-c9375e1c923b",
   "metadata": {},
   "outputs": [],
   "source": [
    "def train_pruned(model, epochs):\n",
    "    # Prunes the model once\n",
    "    for iter_prune_round in range(1):\n",
    "        print(f\"\\n\\nIterative Global pruning round = {iter_prune_round + 1}\")\n",
    "        \n",
    "        # Global Pruning\n",
    "        prune.global_unstructured(\n",
    "            parameters_to_prune,\n",
    "            pruning_method = prune.L1Unstructured,\n",
    "            amount = prune_rates_global[iter_prune_round]\n",
    "            \n",
    "        )\n",
    "    \n",
    "        # Print current global sparsity level\n",
    "        print(f\"LeNet-5 global sparsity = {compute_sparsity_lenet(model):.2f}%\")\n",
    "        \n",
    "        \n",
    "        # Fine-training loop\n",
    "        print(\"\\nFine-tuning pruned model to recover model's performance\\n\")\n",
    "        model.train()\n",
    "        for epoch in range(epochs):\n",
    "            for x_batch, y_batch in train_dataloader:\n",
    "                x_batch, y_batch = x_batch.to(device), y_batch.to(device)\n",
    "                optimizer.zero_grad()\n",
    "                output = model(x_batch)\n",
    "                loss = criterion(output, y_batch)\n",
    "                loss.backward()\n",
    "                optimizer.step()\n",
    "    \n",
    "            # Evaluate model!\n",
    "            if epochs%10==0:\n",
    "                prediction, labels = evaluate_model(model, test_dataloader, device)\n",
    "                test_acc = np.mean(np.argmax(prediction.cpu().numpy(), axis=1) == labels.cpu().numpy())\n",
    "                print(f\"Epoch {epoch+1}/{epochs} - test accuracy: {(100 * test_acc):.2f}% and CE loss {loss.item():.2f}\")\n",
    "    return model"
   ]
  },
  {
   "cell_type": "code",
   "execution_count": 62,
   "id": "566ee877-d22b-4981-9d3a-e405708ea4ea",
   "metadata": {},
   "outputs": [
    {
     "name": "stdout",
     "output_type": "stream",
     "text": [
      "\n",
      "\n",
      "Iterative Global pruning round = 1\n",
      "LeNet-5 global sparsity = 20.00%\n",
      "\n",
      "Fine-tuning pruned model to recover model's performance\n",
      "\n",
      "Epoch 1/20 - test accuracy: 83.03% and CE loss 0.28\n",
      "Epoch 2/20 - test accuracy: 85.60% and CE loss 0.24\n",
      "Epoch 3/20 - test accuracy: 87.07% and CE loss 0.14\n",
      "Epoch 4/20 - test accuracy: 88.25% and CE loss 0.45\n",
      "Epoch 5/20 - test accuracy: 88.33% and CE loss 0.17\n",
      "Epoch 6/20 - test accuracy: 88.39% and CE loss 0.22\n",
      "Epoch 7/20 - test accuracy: 89.36% and CE loss 0.12\n",
      "Epoch 8/20 - test accuracy: 88.65% and CE loss 0.59\n",
      "Epoch 9/20 - test accuracy: 89.53% and CE loss 0.19\n",
      "Epoch 10/20 - test accuracy: 89.51% and CE loss 0.02\n",
      "Epoch 11/20 - test accuracy: 89.58% and CE loss 0.29\n",
      "Epoch 12/20 - test accuracy: 88.65% and CE loss 0.27\n",
      "Epoch 13/20 - test accuracy: 89.43% and CE loss 0.15\n",
      "Epoch 14/20 - test accuracy: 89.09% and CE loss 0.12\n",
      "Epoch 15/20 - test accuracy: 89.62% and CE loss 0.19\n",
      "Epoch 16/20 - test accuracy: 89.70% and CE loss 0.10\n",
      "Epoch 17/20 - test accuracy: 89.50% and CE loss 0.09\n",
      "Epoch 18/20 - test accuracy: 89.78% and CE loss 0.10\n",
      "Epoch 19/20 - test accuracy: 89.04% and CE loss 0.25\n",
      "Epoch 20/20 - test accuracy: 89.47% and CE loss 0.23\n"
     ]
    }
   ],
   "source": [
    "model_global = train_pruned(model = model.to(device), epochs = epochs)"
   ]
  },
  {
   "cell_type": "code",
   "execution_count": 63,
   "id": "38ad19ac-7ef3-42c2-b7d4-895843021cb4",
   "metadata": {},
   "outputs": [
    {
     "name": "stdout",
     "output_type": "stream",
     "text": [
      "Model test accuracy: 89.47%\n"
     ]
    }
   ],
   "source": [
    "model_global.to(device)\n",
    "model_global.eval()\n",
    "\n",
    "# Check test set performance.\n",
    "predictions, labels = evaluate_model(model_global, test_dataloader, device)\n",
    "test_acc = np.mean(np.argmax(predictions.cpu().numpy(), axis=1) == labels.cpu().numpy())        \n",
    "print(f\"Model test accuracy: {(100 * test_acc):.2f}%\")"
   ]
  },
  {
   "cell_type": "code",
   "execution_count": 64,
   "id": "02fea924-0b36-4494-9265-2b81cd07b307",
   "metadata": {},
   "outputs": [
    {
     "name": "stdout",
     "output_type": "stream",
     "text": [
      "Saving the model: models\\lenet_fmnist_global.pth\n"
     ]
    }
   ],
   "source": [
    "model_path = Path(\"models\")\n",
    "model_path.mkdir(parents=True, exist_ok=True)\n",
    "\n",
    "model_name = \"lenet_fmnist_global.pth\"\n",
    "model_save_path = model_path / model_name\n",
    "\n",
    "print(f\"Saving the model: {model_save_path}\")\n",
    "torch.save(obj=model_global.state_dict(), f=model_save_path)"
   ]
  },
  {
   "cell_type": "markdown",
   "id": "db5a08e3-58b9-45af-bf02-2fb3dabb3587",
   "metadata": {},
   "source": [
    "# Layered Structured"
   ]
  },
  {
   "cell_type": "code",
   "execution_count": 66,
   "id": "571adef9-1569-429b-90d4-d79df54e6dd2",
   "metadata": {},
   "outputs": [],
   "source": [
    "model = LeNet()\n",
    "learning_rate = 0.01\n",
    "epochs = 20\n",
    "criterion = torch.nn.CrossEntropyLoss()\n",
    "optimizer = torch.optim.Adam(params=model.parameters(), lr = learning_rate)"
   ]
  },
  {
   "cell_type": "code",
   "execution_count": 67,
   "id": "5798760a-fc3d-4b5a-bcd8-eb996daa11fb",
   "metadata": {},
   "outputs": [],
   "source": [
    "def train_pruned(model, epochs):\n",
    "    for iter_prune_round in range(1):\n",
    "        print(f\"\\n\\nIterative Global pruning round = {iter_prune_round + 1}\")\n",
    "        \n",
    "        # Prune layer-wise using layered structured pruning\n",
    "        prune.ln_structured(model.conv_1, name = \"weight\", amount = 0.1, n = 2, dim = 0)\n",
    "        prune.ln_structured(model.conv_2, name = \"weight\", amount = 0.1, n = 2, dim = 0)\n",
    "        prune.ln_structured(model.fc_1, name = \"weight\", amount = 0.1, n = 2, dim = 0)\n",
    "        prune.ln_structured(model.fc_2, name = \"weight\", amount = 0.1, n = 2, dim = 0)\n",
    "        prune.ln_structured(model.fc_3, name = \"weight\", amount = 0, n = 2, dim = 0)\n",
    "        \n",
    "        # Print current global sparsity level\n",
    "        print(f\"LeNet-5 global sparsity = {compute_sparsity_lenet(model):.2f}%\")\n",
    "        \n",
    "        \n",
    "        # Fine-training loop\n",
    "        print(\"\\nFine-tuning pruned model to recover model's performance\\n\")\n",
    "        model.train()\n",
    "        for epoch in range(epochs):\n",
    "            for x_batch, y_batch in train_dataloader:\n",
    "                x_batch, y_batch = x_batch.to(device), y_batch.to(device)\n",
    "                optimizer.zero_grad()\n",
    "                output = model(x_batch)\n",
    "                loss = criterion(output, y_batch)\n",
    "                loss.backward()\n",
    "                optimizer.step()\n",
    "    \n",
    "            # Evaluate model!\n",
    "            if epochs%10==0:\n",
    "                prediction, labels = evaluate_model(model, test_dataloader, device)\n",
    "                test_acc = np.mean(np.argmax(prediction.cpu().numpy(), axis=1) == labels.cpu().numpy())\n",
    "                print(f\"Epoch {epoch+1}/{epochs} - test accuracy: {(100 * test_acc):.2f}% and CE loss {loss.item():.2f}\")\n",
    "    return model"
   ]
  },
  {
   "cell_type": "code",
   "execution_count": 68,
   "id": "e27aee46-d61c-47bd-a1f7-02be3005b326",
   "metadata": {},
   "outputs": [
    {
     "name": "stdout",
     "output_type": "stream",
     "text": [
      "\n",
      "\n",
      "Iterative Global pruning round = 1\n",
      "LeNet-5 global sparsity = 9.86%\n",
      "\n",
      "Fine-tuning pruned model to recover model's performance\n",
      "\n",
      "Epoch 1/20 - test accuracy: 82.60% and CE loss 0.34\n",
      "Epoch 2/20 - test accuracy: 83.46% and CE loss 0.60\n",
      "Epoch 3/20 - test accuracy: 83.72% and CE loss 0.33\n",
      "Epoch 4/20 - test accuracy: 84.48% and CE loss 0.70\n",
      "Epoch 5/20 - test accuracy: 84.59% and CE loss 0.29\n",
      "Epoch 6/20 - test accuracy: 84.32% and CE loss 0.56\n",
      "Epoch 7/20 - test accuracy: 84.64% and CE loss 0.22\n",
      "Epoch 8/20 - test accuracy: 85.00% and CE loss 0.41\n",
      "Epoch 9/20 - test accuracy: 86.04% and CE loss 0.37\n",
      "Epoch 10/20 - test accuracy: 85.69% and CE loss 0.44\n",
      "Epoch 11/20 - test accuracy: 84.98% and CE loss 0.75\n",
      "Epoch 12/20 - test accuracy: 85.03% and CE loss 0.21\n",
      "Epoch 13/20 - test accuracy: 85.89% and CE loss 0.40\n",
      "Epoch 14/20 - test accuracy: 84.35% and CE loss 0.31\n",
      "Epoch 15/20 - test accuracy: 85.54% and CE loss 0.42\n",
      "Epoch 16/20 - test accuracy: 85.49% and CE loss 0.31\n",
      "Epoch 17/20 - test accuracy: 85.54% and CE loss 0.23\n",
      "Epoch 18/20 - test accuracy: 85.53% and CE loss 0.27\n",
      "Epoch 19/20 - test accuracy: 85.76% and CE loss 0.20\n",
      "Epoch 20/20 - test accuracy: 85.99% and CE loss 0.68\n"
     ]
    }
   ],
   "source": [
    "model_layered_structured = train_pruned(model = model.to(device), epochs = epochs)"
   ]
  },
  {
   "cell_type": "code",
   "execution_count": 69,
   "id": "43293264-6cac-4143-af44-a180b12a9b99",
   "metadata": {},
   "outputs": [
    {
     "name": "stdout",
     "output_type": "stream",
     "text": [
      "Model test accuracy: 85.99%\n"
     ]
    }
   ],
   "source": [
    "model_layered_structured.to(device)\n",
    "model_layered_structured.eval()\n",
    "\n",
    "# Check test set performance.\n",
    "predictions, labels = evaluate_model(model_layered_structured, test_dataloader, device)\n",
    "test_acc = np.mean(np.argmax(predictions.cpu().numpy(), axis=1) == labels.cpu().numpy())        \n",
    "print(f\"Model test accuracy: {(100 * test_acc):.2f}%\")"
   ]
  },
  {
   "cell_type": "code",
   "execution_count": 70,
   "id": "c77ea042-f1af-4a64-8b76-6c85e25cd659",
   "metadata": {},
   "outputs": [
    {
     "name": "stdout",
     "output_type": "stream",
     "text": [
      "Saving the model: models\\lenet_fmnist_structured.pth\n"
     ]
    }
   ],
   "source": [
    "model_path = Path(\"models\")\n",
    "model_path.mkdir(parents=True, exist_ok=True)\n",
    "\n",
    "model_name = \"lenet_fmnist_structured.pth\"\n",
    "model_save_path = model_path / model_name\n",
    "\n",
    "print(f\"Saving the model: {model_save_path}\")\n",
    "torch.save(obj=model_layered_structured.state_dict(), f=model_save_path)"
   ]
  },
  {
   "cell_type": "code",
   "execution_count": null,
   "id": "5ca1cee4-3021-4c2a-85ce-19699fff84d4",
   "metadata": {},
   "outputs": [],
   "source": []
  }
 ],
 "metadata": {
  "kernelspec": {
   "display_name": "Python 3 (ipykernel)",
   "language": "python",
   "name": "python3"
  },
  "language_info": {
   "codemirror_mode": {
    "name": "ipython",
    "version": 3
   },
   "file_extension": ".py",
   "mimetype": "text/x-python",
   "name": "python",
   "nbconvert_exporter": "python",
   "pygments_lexer": "ipython3",
   "version": "3.12.3"
  }
 },
 "nbformat": 4,
 "nbformat_minor": 5
}
