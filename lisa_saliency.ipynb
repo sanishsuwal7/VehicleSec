{
 "cells": [
  {
   "cell_type": "code",
   "execution_count": 4,
   "id": "560629dc-04dc-40b5-b61e-1b68ab8a0e4f",
   "metadata": {},
   "outputs": [],
   "source": [
    "import torch\n",
    "from torch import nn\n",
    "import torch.nn as nn\n",
    "import torch.nn.functional as F\n",
    "from torch.utils.data import DataLoader\n",
    "import torch.nn.utils.prune as prune\n",
    "\n",
    "import torchvision\n",
    "from torchvision import datasets\n",
    "from torchvision import transforms\n",
    "from torchmetrics import Accuracy\n",
    "\n",
    "import torch.optim as optim\n",
    "from cleverhans.torch.attacks.projected_gradient_descent import (projected_gradient_descent)\n",
    "\n",
    "import quantus\n",
    "import captum\n",
    "from captum.attr import Saliency, IntegratedGradients, NoiseTunnel\n",
    "\n",
    "import pandas as pd\n",
    "import numpy as np\n",
    "import matplotlib.pyplot as plt\n",
    "\n",
    "import random\n",
    "import copy\n",
    "import gc\n",
    "import math\n",
    "\n",
    "import warnings\n",
    "warnings.filterwarnings('ignore')"
   ]
  },
  {
   "cell_type": "code",
   "execution_count": 7,
   "id": "62eda1d6-fe95-4a06-9064-27099e8dad5b",
   "metadata": {},
   "outputs": [],
   "source": [
    "device = torch.device(\"cuda\" if torch.cuda.is_available() else \"cpu\")"
   ]
  },
  {
   "cell_type": "code",
   "execution_count": 11,
   "id": "e8cc665a-516d-4dc0-a923-357877362ee1",
   "metadata": {},
   "outputs": [],
   "source": [
    "normalize = transforms.Normalize(mean=[0.4563, 0.4076, 0.3895], std=[0.2298, 0.2144, 0.2259])\n",
    "\n",
    "# lisa_transforms = transforms.Compose([ transforms.ToPILImage(), transforms.Resize((224, 224)),transforms.ToTensor(),normalize])\n",
    "lisa_transforms = transforms.Compose([ transforms.ToPILImage(),transforms.ToTensor(),normalize])"
   ]
  },
  {
   "cell_type": "code",
   "execution_count": 43,
   "id": "d55a254a-e094-4553-a9ab-0949f8c233e9",
   "metadata": {},
   "outputs": [],
   "source": [
    "class_names = ['stop','speedlimit', 'pedestrianCrossing', 'turnLeft','slow', 'signalAhead', 'laneEnds', 'school', 'merge','yield', 'noRightTurn','noLeftTurn', 'roundabout', 'turnRight']\n",
    "import torch\n",
    "from torch.utils.data import Dataset\n",
    "\n",
    "class SubsetLISA(Dataset):\n",
    "    \"\"\"\n",
    "    A custom dataset for the LISA subset, created using filtered image and label tensors.\n",
    "    \"\"\"\n",
    "    def __init__(self, image_tensor_path, label_tensor_path,train:bool, transform=None):\n",
    "        \"\"\"\n",
    "        Args:\n",
    "            image_tensor_path (str): Path to the images tensor file.\n",
    "            label_tensor_path (str): Path to the labels tensor file.\n",
    "            transform (callable, optional): A function/transform to apply to the images.\n",
    "        \"\"\"\n",
    "        self.images = torch.load(image_tensor_path)\n",
    "        self.labels = torch.load(label_tensor_path)\n",
    "        self.transform = transform\n",
    "        self.train = train\n",
    "        self._train_test_split()\n",
    "\n",
    "        assert len(self.images) == len(self.labels), \"Images and labels length mismatch\"\n",
    "\n",
    "    def __len__(self):\n",
    "        \"\"\"\n",
    "        Returns the total number of samples in the dataset.\n",
    "        \"\"\"\n",
    "        return len(self.labels)\n",
    "\n",
    "    def __getitem__(self, index):\n",
    "        \"\"\"\n",
    "        Args:\n",
    "            index (int): Index of the sample.\n",
    "\n",
    "        Returns:\n",
    "            tuple: (image, label) where image is the input tensor and label is the target tensor.\n",
    "        \"\"\"\n",
    "        image = self.images[index]\n",
    "        target = self.labels[index]\n",
    "\n",
    "        if self.transform:\n",
    "            image = self.transform(image)\n",
    "\n",
    "        return image, target\n",
    "\n",
    "    def _train_test_split(self, test_percent: float = 0.16):\n",
    "        classes = {}\n",
    "        for i, cl in enumerate(self.labels.numpy()):\n",
    "            arr = classes.get(cl, [])\n",
    "            arr.append(i)\n",
    "            classes[cl] = arr\n",
    "\n",
    "        train, test = [], []\n",
    "        for cl, arr in classes.items():\n",
    "            split_index = int(len(arr) * test_percent)\n",
    "            test = test + arr[:split_index]\n",
    "            train = train + arr[split_index:]\n",
    "\n",
    "        sub = train if self.train else test\n",
    "        self.images, self.labels = self.images[sub], self.labels[sub]\n"
   ]
  },
  {
   "cell_type": "code",
   "execution_count": 16,
   "id": "19d20a74-e624-4aa2-9a6e-5f4cb7405f69",
   "metadata": {},
   "outputs": [],
   "source": [
    "# Paths to the saved subset tensors\n",
    "image_tensor_path = \"datasets/lisa-batches/subset_images.tensor\"  # Replace with your actual file path\n",
    "label_tensor_path = \"datasets/lisa-batches/subset_labels2.tensor\"  # Replace with your actual file path\n",
    "\n",
    "# Initialize the dataset\n",
    "train_dataset = SubsetLISA(image_tensor_path, label_tensor_path, train=True, transform = lisa_transforms)\n",
    "test_dataset = SubsetLISA(image_tensor_path, label_tensor_path, train=False, transform = lisa_transforms)"
   ]
  },
  {
   "cell_type": "code",
   "execution_count": 22,
   "id": "432d0020-0461-4f3f-b091-06ca358b928a",
   "metadata": {},
   "outputs": [],
   "source": [
    "epochs = 100\n",
    "batch_size = 128\n",
    "\n",
    "train_dataloader = torch.utils.data.DataLoader(train_dataset, batch_size=batch_size, shuffle=True,) # num_workers=4,\n",
    "test_dataloader = torch.utils.data.DataLoader(test_dataset, batch_size=batch_size, shuffle=False)\n"
   ]
  },
  {
   "cell_type": "code",
   "execution_count": 124,
   "id": "eade97c4-cc51-4112-8e81-1f71b2dcb338",
   "metadata": {},
   "outputs": [],
   "source": [
    "%run models.ipynb\n",
    "%run utils.ipynb\n",
    "%run metrics.ipynb"
   ]
  },
  {
   "cell_type": "markdown",
   "id": "5b73f3b9-123b-45a9-83f9-cbb7d40b440e",
   "metadata": {},
   "source": [
    "# Normal Training"
   ]
  },
  {
   "cell_type": "code",
   "execution_count": 119,
   "id": "d08f25c9-75d3-41ae-8a10-cfd6f151e0a4",
   "metadata": {},
   "outputs": [
    {
     "data": {
      "text/plain": [
       "<All keys matched successfully>"
      ]
     },
     "execution_count": 119,
     "metadata": {},
     "output_type": "execute_result"
    }
   ],
   "source": [
    "from pathlib import Path\n",
    "\n",
    "model_path = Path(\"models\")\n",
    "model_path.mkdir(parents=True, exist_ok=True)\n",
    "\n",
    "model_name = \"lisa_normal_subset.pth\"\n",
    "model_save_path = model_path / model_name\n",
    "model = vgg16().to(device)\n",
    "model.load_state_dict(torch.load(model_save_path))"
   ]
  },
  {
   "cell_type": "code",
   "execution_count": 33,
   "id": "9c9e1cbe-c5da-430f-8acf-88c4399b3c69",
   "metadata": {},
   "outputs": [
    {
     "name": "stdout",
     "output_type": "stream",
     "text": [
      "Test accuracy for VGG Normal is: 97.07%\n"
     ]
    }
   ],
   "source": [
    "# Model to GPU and eval mode.\n",
    "model.to(device)\n",
    "model.eval()\n",
    "\n",
    "# Check test set performance.\n",
    "predictions, labels = evaluate_model(model, test_dataloader, device)\n",
    "test_acc = np.mean(np.argmax(predictions.cpu().numpy(), axis=1) == labels.cpu().numpy())        \n",
    "print(f\"Test accuracy for VGG Normal is: {(100 * test_acc):.2f}%\")"
   ]
  },
  {
   "cell_type": "code",
   "execution_count": 98,
   "id": "21d31c8f-bf09-4e7e-bc5e-4fb99dba513e",
   "metadata": {},
   "outputs": [],
   "source": [
    "gc.collect()\n",
    "torch.cuda.empty_cache()\n",
    "\n",
    "x_batch, y_batch = next(iter(test_dataloader))\n",
    "x_batch, y_batch = x_batch.to(device), y_batch.to(device)"
   ]
  },
  {
   "cell_type": "code",
   "execution_count": 100,
   "id": "a031e222-aea6-4bb2-ade4-87ac857862b7",
   "metadata": {},
   "outputs": [
    {
     "data": {
      "image/png": "[encoded data removed]",
      "text/plain": [
       "<Figure size 1200x400 with 12 Axes>"
      ]
     },
     "metadata": {},
     "output_type": "display_data"
    }
   ],
   "source": [
    "import matplotlib.pyplot as plt\n",
    "import torch\n",
    "\n",
    "fig = plt.figure(figsize=(12, 4))\n",
    "indexes = []\n",
    "rows, cols = 2, 6\n",
    "\n",
    "for i in range(1, (rows * cols) + 1):\n",
    "    random_idx = torch.randint(0, len(x_batch), size=[1]).item()\n",
    "    img, label_gt = x_batch[random_idx], y_batch[random_idx]\n",
    "    indexes.append(random_idx)\n",
    "    img_temp = img.unsqueeze(dim=0).to(device)\n",
    "    \n",
    "    # Get the predicted label\n",
    "    label_pred = torch.argmax(model(img_temp))\n",
    "\n",
    "    # Add the subplot\n",
    "    fig.add_subplot(rows, cols, i)\n",
    "    \n",
    "    # Permute the image tensor from (C, H, W) to (H, W, C)\n",
    "    img = img.permute(1, 2, 0).cpu()  # Ensure the image is on CPU for matplotlib\n",
    "    \n",
    "    # Normalize the image to [0, 1] for proper visualization (if needed)\n",
    "    img = (img - img.min()) / (img.max() - img.min())  # Normalize to [0, 1]\n",
    "    \n",
    "    # Display the image\n",
    "    plt.imshow(img.numpy())  # No cmap='gray' for color images\n",
    "    \n",
    "    # Set the title color based on prediction correctness\n",
    "    if label_pred == label_gt:\n",
    "        plt.title(class_names[label_pred], color='g')  # Correct prediction\n",
    "    else:\n",
    "        plt.title(class_names[label_pred], color='r')  # Incorrect prediction\n",
    "    \n",
    "    plt.axis(False)\n",
    "    plt.tight_layout()\n",
    "\n",
    "plt.show()"
   ]
  },
  {
   "cell_type": "code",
   "execution_count": 103,
   "id": "7fb601f2-fb00-4f11-becb-c0d2e012ec15",
   "metadata": {},
   "outputs": [],
   "source": [
    "gc.collect()\n",
    "torch.cuda.empty_cache()\n",
    "\n",
    "x_batch, y_batch = x_batch.to(device), y_batch.to(device)"
   ]
  },
  {
   "cell_type": "code",
   "execution_count": 107,
   "id": "72320483-5823-429c-b3a5-7941375aecc8",
   "metadata": {},
   "outputs": [],
   "source": [
    "# Applying explanation methods on the model outputs\n",
    "a_batch_integrad = IntegratedGradients(model).attribute(inputs=x_batch, target=y_batch, baselines=torch.zeros_like(x_batch)).sum(axis=1).cpu().numpy()\n",
    "a_batch_integrad[a_batch_integrad<0] = 0\n",
    "a_batch_saliency = Saliency(model).attribute(inputs=x_batch, target=y_batch, abs=True).sum(axis=1).cpu().numpy()\n",
    "saliency = Saliency(model)\n",
    "a_batch_smoothgrad = NoiseTunnel(saliency).attribute(inputs = x_batch, target = y_batch, nt_type ='smoothgrad', nt_samples = 50, stdevs=0.15).sum(axis=1).cpu().numpy()\n",
    "x_batch, y_batch = x_batch.cpu().numpy(), y_batch.cpu().numpy()"
   ]
  },
  {
   "cell_type": "code",
   "execution_count": 142,
   "id": "69ee9e90-d69e-42b3-a20a-1e32ce1acc14",
   "metadata": {},
   "outputs": [
    {
     "data": {
      "image/png": "[encoded data removed]",
      "text/plain": [
       "<Figure size 800x200 with 4 Axes>"
      ]
     },
     "metadata": {},
     "output_type": "display_data"
    }
   ],
   "source": [
    "index = indexes[1]\n",
    "image_explanation(index, x_batch, y_batch, a_batch_saliency, a_batch_integrad, a_batch_smoothgrad, 'lisa_normal')"
   ]
  },
  {
   "cell_type": "markdown",
   "id": "e703a5b7-4ebf-46e4-833a-33c7f3a7643f",
   "metadata": {},
   "source": [
    "# Adversarial Training"
   ]
  },
  {
   "cell_type": "code",
   "execution_count": null,
   "id": "ebcd06d8-a588-4d8f-8e2a-5eb91872acbb",
   "metadata": {},
   "outputs": [],
   "source": [
    "from pathlib import Path\n",
    "\n",
    "model_path = Path(\"models\")\n",
    "model_path.mkdir(parents=True, exist_ok=True)\n",
    "\n",
    "model_name = \"lisa_adv.pth\"\n",
    "model_save_path = model_path / model_name\n",
    "model = vgg16().to(device)\n",
    "model.load_state_dict(torch.load(model_save_path))"
   ]
  },
  {
   "cell_type": "code",
   "execution_count": null,
   "id": "c0bef8a0-9ac9-4062-9383-e8253a1eb700",
   "metadata": {},
   "outputs": [],
   "source": [
    "# Model to GPU and eval mode.\n",
    "model.to(device)\n",
    "model.eval()\n",
    "\n",
    "# Check test set performance.\n",
    "predictions, labels = evaluate_model(model, test_dataloader, device)\n",
    "test_acc = np.mean(np.argmax(predictions.cpu().numpy(), axis=1) == labels.cpu().numpy())        \n",
    "print(f\"Test accuracy for VGG Adversarial is: {(100 * test_acc):.2f}%\")"
   ]
  },
  {
   "cell_type": "code",
   "execution_count": null,
   "id": "50c3cc42-32f1-4a57-aac8-153eb3cb54a3",
   "metadata": {},
   "outputs": [],
   "source": [
    "gc.collect()\n",
    "torch.cuda.empty_cache()\n",
    "\n",
    "x_batch, y_batch = torch.from_numpy(x_batch), torch.from_numpy(y_batch)\n",
    "x_batch, y_batch = x_batch.to(device), y_batch.to(device)"
   ]
  },
  {
   "cell_type": "code",
   "execution_count": null,
   "id": "1d725154-7e50-46a9-bc02-c1c7861e9ffc",
   "metadata": {},
   "outputs": [],
   "source": [
    "# Applying explanation methods on the model outputs\n",
    "a_batch_integrad_adv = quantus.normalise_func.normalise_by_negative(IntegratedGradients(model_adv).attribute(inputs=x_batch, target=y_batch, baselines=torch.zeros_like(x_batch)).sum(axis=1).cpu().numpy())\n",
    "a_batch_integrad_adv[a_batch_integrad_adv<0] = 0\n",
    "a_batch_saliency_adv = quantus.normalise_func.normalise_by_negative(Saliency(model_adv).attribute(inputs=x_batch, target=y_batch, abs=True).sum(axis=1).cpu().numpy())\n",
    "saliency = Saliency(model_adv)\n",
    "a_batch_smoothgrad_adv = quantus.normalise_func.normalise_by_negative(NoiseTunnel(saliency).attribute(inputs = x_batch, target = y_batch, nt_type ='smoothgrad', nt_samples = 50, stdevs=0.15).sum(axis=1).cpu().numpy())\n",
    "x_batch, y_batch = x_batch.cpu().numpy(), y_batch.cpu().numpy()"
   ]
  },
  {
   "cell_type": "code",
   "execution_count": null,
   "id": "ca3de622-c391-445a-86a3-84a4372f6f03",
   "metadata": {},
   "outputs": [],
   "source": [
    "image_explanation(index, x_batch, y_batch, a_batch_saliency_adv, a_batch_integrad_adv, a_batch_smoothgrad_adv, 'lisa_adversarial')"
   ]
  },
  {
   "cell_type": "markdown",
   "id": "25a46a8a-b47a-4c6c-8e63-ddd0fbfaad95",
   "metadata": {},
   "source": [
    "# L1 Pre Prune"
   ]
  },
  {
   "cell_type": "code",
   "execution_count": null,
   "id": "dca9ff43-aaf7-4de1-b724-b895cf10fcc6",
   "metadata": {},
   "outputs": [],
   "source": [
    "from pathlib import Path\n",
    "\n",
    "model_path = Path(\"models\")\n",
    "model_path.mkdir(parents=True, exist_ok=True)\n",
    "\n",
    "model_name = \"lisa_l1_pre.pth\"\n",
    "model_save_path = model_path / model_name\n",
    "model_l1_unstructured = vgg16().to(device)\n",
    "\n",
    "for name, module in model_l1_unstructured.named_modules():\n",
    "    # prune 20% of weights/connections in for all hidden layaers-\n",
    "    if isinstance(module, torch.nn.Conv2d):\n",
    "        prune.l1_unstructured(module = module, name = 'weight', amount = 0.2)\n",
    "    \n",
    "    # prune 10% of weights/connections for output layer-\n",
    "    elif isinstance(module, torch.nn.Linear):\n",
    "        prune.l1_unstructured(module = module, name = 'weight', amount = 0.1)\n",
    "\n",
    "print(f\"VGG global sparsity = {compute_sparsity_vgg(model_l1_unstructured):.2f}%\")\n",
    "model_l1_unstructured.load_state_dict(torch.load(model_save_path))"
   ]
  },
  {
   "cell_type": "code",
   "execution_count": null,
   "id": "6b6d6a94-89d5-40ee-9e44-ad331f5f6324",
   "metadata": {},
   "outputs": [],
   "source": [
    "# Model to GPU and eval mode.\n",
    "model_l1_unstructured.to(device)\n",
    "model_l1_unstructured.eval()\n",
    "\n",
    "# Check test set performance.\n",
    "predictions, labels = evaluate_model(model_l1_unstructured, test_dataloader, device)\n",
    "test_acc = np.mean(np.argmax(predictions.cpu().numpy(), axis=1) == labels.cpu().numpy())        \n",
    "print(f\"Test accuracy for VGG Pruned L1 UnStructure Pre is: {(100 * test_acc):.2f}%\")"
   ]
  },
  {
   "cell_type": "code",
   "execution_count": null,
   "id": "f99dbff5-b504-4c5d-948d-fdd23c92a695",
   "metadata": {},
   "outputs": [],
   "source": [
    "gc.collect()\n",
    "torch.cuda.empty_cache()\n",
    "# x_batch, y_batch = next(iter(test_dataloader))\n",
    "x_batch, y_batch = torch.from_numpy(x_batch), torch.from_numpy(y_batch)\n",
    "x_batch, y_batch = x_batch.to(device), y_batch.to(device)"
   ]
  },
  {
   "cell_type": "code",
   "execution_count": null,
   "id": "6d56bd3a-d024-46cf-9c1a-21605b23f5ab",
   "metadata": {},
   "outputs": [],
   "source": [
    "# Applying explanation methods on the model outputs\n",
    "a_batch_integrad_l1 = IntegratedGradients(model_l1_unstructured).attribute(inputs=x_batch, target=y_batch, baselines=torch.zeros_like(x_batch)).sum(axis=1).cpu().numpy()\n",
    "a_batch_integrad_l1[a_batch_integrad_l1<0] = 0\n",
    "a_batch_saliency_l1 = Saliency(model_l1_unstructured).attribute(inputs=x_batch, target=y_batch, abs=True).sum(axis=1).cpu().numpy()\n",
    "saliency = Saliency(model_l1_unstructured)\n",
    "a_batch_smoothgrad_l1 = NoiseTunnel(saliency).attribute(inputs = x_batch, target = y_batch, nt_type ='smoothgrad', nt_samples = 50, stdevs=0.15).sum(axis=1).cpu().numpy()\n",
    "x_batch, y_batch = x_batch.cpu().numpy(), y_batch.cpu().numpy()"
   ]
  },
  {
   "cell_type": "code",
   "execution_count": null,
   "id": "1589b668-2bfc-431b-8bae-e175f101136f",
   "metadata": {},
   "outputs": [],
   "source": [
    "image_explanation(index, x_batch, y_batch, a_batch_saliency_l1, a_batch_integrad_l1, a_batch_smoothgrad_l1, 'lisa_l1_pre')"
   ]
  },
  {
   "cell_type": "markdown",
   "id": "1f10ba78-dc25-4d3c-beb3-bb810bd58ca6",
   "metadata": {},
   "source": [
    "# Post No Tune L1"
   ]
  },
  {
   "cell_type": "code",
   "execution_count": null,
   "id": "78690ff4-d4b8-4a50-bbb0-0b4184f2a716",
   "metadata": {},
   "outputs": [],
   "source": [
    "from pathlib import Path\n",
    "\n",
    "model_path = Path(\"models\")\n",
    "model_path.mkdir(parents=True, exist_ok=True)\n",
    "\n",
    "model_name = \"lisa_l1_post_notune.pth\"\n",
    "model_save_path = model_path / model_name\n",
    "model_no_tuned_l1 = vgg16().to(device)\n",
    "\n",
    "for name, module in model_no_tuned_l1.named_modules():\n",
    "    # prune 20% of weights/connections in for all hidden layaers-\n",
    "    if isinstance(module, torch.nn.Conv2d):\n",
    "        prune.l1_unstructured(module = module, name = 'weight', amount = 0.2)\n",
    "    \n",
    "    # prune 10% of weights/connections for output layer-\n",
    "    elif isinstance(module, torch.nn.Linear):\n",
    "        prune.l1_unstructured(module = module, name = 'weight', amount = 0.1)\n",
    "\n",
    "print(f\"VGG global sparsity = {compute_sparsity_vgg(model_no_tuned_l1):.2f}%\")\n",
    "model_no_tuned_l1.load_state_dict(torch.load(model_save_path))"
   ]
  },
  {
   "cell_type": "code",
   "execution_count": null,
   "id": "9cfea0b7-2eef-40e5-8463-62b2b392107f",
   "metadata": {},
   "outputs": [],
   "source": [
    "# Model to GPU and eval mode.\n",
    "model_no_tuned_l1.to(device)\n",
    "model_no_tuned_l1.eval()\n",
    "\n",
    "# Check test set performance.\n",
    "predictions, labels = evaluate_model(model_no_tuned_l1, test_dataloader, device)\n",
    "test_acc = np.mean(np.argmax(predictions.cpu().numpy(), axis=1) == labels.cpu().numpy())        \n",
    "print(f\"Test accuracy for VGG-16 Post no tune is: {(100 * test_acc):.2f}%\")"
   ]
  },
  {
   "cell_type": "code",
   "execution_count": null,
   "id": "c4fa29d5-0bc7-4819-9641-75562ee7ccb1",
   "metadata": {},
   "outputs": [],
   "source": [
    "gc.collect()\n",
    "torch.cuda.empty_cache()\n",
    "# x_batch, y_batch = next(iter(test_dataloader))\n",
    "x_batch, y_batch = torch.from_numpy(x_batch), torch.from_numpy(y_batch)\n",
    "x_batch, y_batch = x_batch.to(device), y_batch.to(device)"
   ]
  },
  {
   "cell_type": "code",
   "execution_count": null,
   "id": "2a7ee8da-0aea-487c-8059-a412faebe1aa",
   "metadata": {},
   "outputs": [],
   "source": [
    "gc.collect()\n",
    "torch.cuda.empty_cache()\n",
    "# Applying explanation methods on the model outputs\n",
    "a_batch_integrad = IntegratedGradients(model_no_tuned_l1).attribute(inputs=x_batch, target=y_batch, baselines=torch.zeros_like(x_batch)).sum(axis=1).cpu().numpy()\n",
    "a_batch_integrad[a_batch_integrad<0] = 0\n",
    "gc.collect()\n",
    "torch.cuda.empty_cache()\n",
    "a_batch_saliency = Saliency(model_no_tuned_l1).attribute(inputs=x_batch, target=y_batch, abs=True).sum(axis=1).cpu().numpy()\n",
    "gc.collect()\n",
    "torch.cuda.empty_cache()\n",
    "saliency = Saliency(model_no_tuned_l1)\n",
    "a_batch_smoothgrad = NoiseTunnel(saliency).attribute(inputs = x_batch, target = y_batch, nt_type ='smoothgrad', nt_samples = 50, stdevs=0.15).sum(axis=1).cpu().numpy()\n",
    "x_batch, y_batch = x_batch.cpu().numpy(), y_batch.cpu().numpy()"
   ]
  },
  {
   "cell_type": "code",
   "execution_count": null,
   "id": "dbeb2566-2b96-4c68-8fcd-5751f815dc77",
   "metadata": {},
   "outputs": [],
   "source": [
    "image_explanation(index, x_batch, y_batch, a_batch_saliency, a_batch_integrad, a_batch_smoothgrad, 'lisa_l1_post_no_tuned')"
   ]
  },
  {
   "cell_type": "markdown",
   "id": "25c990c1-a750-4254-8c3f-fd223313fa5b",
   "metadata": {},
   "source": [
    "# Post Tuned l1"
   ]
  },
  {
   "cell_type": "code",
   "execution_count": null,
   "id": "31d39844-b723-4fb1-bd60-5f43de5017e7",
   "metadata": {},
   "outputs": [],
   "source": [
    "from pathlib import Path\n",
    "\n",
    "model_path = Path(\"models\")\n",
    "model_path.mkdir(parents=True, exist_ok=True)\n",
    "\n",
    "model_name = \"lisa_l1_post_tuned.pth\"\n",
    "model_save_path = model_path / model_name\n",
    "model_post_tuned_l1 = vgg16().to(device)\n",
    "\n",
    "for name, module in model_post_tuned_l1.named_modules():\n",
    "    # prune 20% of weights/connections in for all hidden layaers-\n",
    "    if isinstance(module, torch.nn.Conv2d):\n",
    "        prune.l1_unstructured(module = module, name = 'weight', amount = 0.2)\n",
    "    \n",
    "    # prune 10% of weights/connections for output layer-\n",
    "    elif isinstance(module, torch.nn.Linear):\n",
    "        prune.l1_unstructured(module = module, name = 'weight', amount = 0.1)\n",
    "\n",
    "print(f\"VGG global sparsity = {compute_sparsity_vgg(model_post_tuned_l1):.2f}%\")\n",
    "model_post_tuned_l1.load_state_dict(torch.load(model_save_path))"
   ]
  },
  {
   "cell_type": "code",
   "execution_count": null,
   "id": "fcc08696-56af-4916-ae4a-083fe27f5d25",
   "metadata": {},
   "outputs": [],
   "source": [
    "# Model to GPU and eval mode.\n",
    "model_post_tuned_l1.to(device)\n",
    "model_post_tuned_l1.eval()\n",
    "\n",
    "# Check test set performance.\n",
    "predictions, labels = evaluate_model(model_post_tuned_l1, test_dataloader, device)\n",
    "\n",
    "test_acc = np.mean(np.argmax(predictions.cpu().numpy(), axis=1) == labels.cpu().numpy())        \n",
    "print(f\"Test accuracy for Resnet 18 Normal is: {(100 * test_acc):.2f}%\")"
   ]
  },
  {
   "cell_type": "code",
   "execution_count": null,
   "id": "0cb1ebc9-e37d-43ec-8b36-e144dd3e45b6",
   "metadata": {},
   "outputs": [],
   "source": [
    "gc.collect()\n",
    "torch.cuda.empty_cache()\n",
    "# x_batch, y_batch = next(iter(test_dataloader))\n",
    "x_batch, y_batch = torch.from_numpy(x_batch), torch.from_numpy(y_batch)\n",
    "x_batch, y_batch = x_batch.to(device), y_batch.to(device)"
   ]
  },
  {
   "cell_type": "code",
   "execution_count": null,
   "id": "1811b25f-1964-4d39-8e0e-86801304ce36",
   "metadata": {},
   "outputs": [],
   "source": [
    "gc.collect()\n",
    "torch.cuda.empty_cache()\n",
    "# Applying explanation methods on the model outputs\n",
    "a_batch_integrad = IntegratedGradients(model_post_tuned_l1).attribute(inputs=x_batch, target=y_batch, baselines=torch.zeros_like(x_batch)).sum(axis=1).cpu().numpy()\n",
    "a_batch_integrad[a_batch_integrad<0] = 0\n",
    "gc.collect()\n",
    "torch.cuda.empty_cache()\n",
    "a_batch_saliency = Saliency(model_post_tuned_l1).attribute(inputs=x_batch, target=y_batch, abs=True).sum(axis=1).cpu().numpy()\n",
    "gc.collect()\n",
    "torch.cuda.empty_cache()\n",
    "saliency = Saliency(model_post_tuned_l1)\n",
    "a_batch_smoothgrad = NoiseTunnel(saliency).attribute(inputs = x_batch, target = y_batch, nt_type ='smoothgrad', nt_samples = 50, stdevs=0.15).sum(axis=1).cpu().numpy()\n",
    "x_batch, y_batch = x_batch.cpu().numpy(), y_batch.cpu().numpy()"
   ]
  },
  {
   "cell_type": "code",
   "execution_count": null,
   "id": "51e9e1d2-c3b2-481b-8635-932dfcc6ae82",
   "metadata": {},
   "outputs": [],
   "source": [
    "image_explanation(index, x_batch, y_batch, a_batch_saliency, a_batch_integrad, a_batch_smoothgrad, 'lisa_l1_post_tuned')"
   ]
  },
  {
   "cell_type": "markdown",
   "id": "8486a202-8674-4a9f-9548-5e4dd5c41402",
   "metadata": {},
   "source": [
    "# Global Pre Prune"
   ]
  },
  {
   "cell_type": "code",
   "execution_count": null,
   "id": "177a5893-db6e-4859-831e-a70ce74e7db4",
   "metadata": {},
   "outputs": [],
   "source": [
    "from pathlib import Path\n",
    "\n",
    "prune_rates_global = [0.2, 0.3, 0.4, 0.5, 0.6]\n",
    "\n",
    "model_path = Path(\"models\")\n",
    "model_path.mkdir(parents=True, exist_ok=True)\n",
    "\n",
    "model_name = \"lisa_global_pre.pth\"\n",
    "model_save_path = model_path / model_name\n",
    "model_global = vgg16().to(device)\n",
    "\n",
    "parameters_to_prune = (\n",
    "    (model_global.features[0], 'weight'),\n",
    "    (model_global.features[2], 'weight'),\n",
    "    (model_global.features[5], 'weight'),\n",
    "    (model_global.features[7], 'weight'),\n",
    "    (model_global.features[10], 'weight'),\n",
    "    (model_global.features[12], 'weight'),\n",
    "    (model_global.features[14], 'weight'),\n",
    "    (model_global.features[17], 'weight'),\n",
    "    (model_global.features[19], 'weight'),\n",
    "    (model_global.features[21], 'weight'),\n",
    "    (model_global.features[24], 'weight'),\n",
    "    (model_global.features[26], 'weight'),\n",
    "    (model_global.features[28], 'weight'),\n",
    "    (model_global.classifier[1], 'weight'),\n",
    "    (model_global.classifier[4], 'weight'),\n",
    "    (model_global.classifier[6], 'weight')\n",
    ")\n",
    "\n",
    "for iter_prune_round in range(1):\n",
    "    print(f\"\\n\\nIterative Global pruning round = {iter_prune_round + 1}\")\n",
    "    \n",
    "    # Prune layer-wise in a structured manner-\n",
    "    prune.global_unstructured(\n",
    "        parameters_to_prune,\n",
    "        pruning_method = prune.L1Unstructured,\n",
    "        amount = prune_rates_global[iter_prune_round]\n",
    "        \n",
    "    )\n",
    "\n",
    "    # Print current global sparsity level-\n",
    "    print(f\"VGG global sparsity = {compute_sparsity_vgg(model_global):.2f}%\")\n",
    "\n",
    "        \n",
    "model_global.load_state_dict(torch.load(model_save_path))"
   ]
  },
  {
   "cell_type": "code",
   "execution_count": null,
   "id": "41627f1b-0723-4530-8ef4-fea6de99f0e1",
   "metadata": {},
   "outputs": [],
   "source": [
    "# Model to GPU and eval mode.\n",
    "model_global.to(device)\n",
    "model_global.eval()\n",
    "\n",
    "# Check test set performance.\n",
    "predictions, labels = evaluate_model(model_global, test_dataloader, device)\n",
    "test_acc = np.mean(np.argmax(predictions.cpu().numpy(), axis=1) == labels.cpu().numpy())        \n",
    "print(f\"Test accuracy for VGG Pruned Global Pre is: {(100 * test_acc):.2f}%\")"
   ]
  },
  {
   "cell_type": "code",
   "execution_count": null,
   "id": "6f5738e0-0c69-4823-81ce-24ce1b4a7a59",
   "metadata": {},
   "outputs": [],
   "source": [
    "gc.collect()\n",
    "torch.cuda.empty_cache()\n",
    "# x_batch, y_batch = next(iter(test_dataloader))\n",
    "x_batch, y_batch = torch.from_numpy(x_batch), torch.from_numpy(y_batch)\n",
    "x_batch, y_batch = x_batch.to(device), y_batch.to(device)"
   ]
  },
  {
   "cell_type": "code",
   "execution_count": null,
   "id": "1fa4bf5d-493f-4b48-93f1-7c0de853ea60",
   "metadata": {},
   "outputs": [],
   "source": [
    "# Applying explanation methods on the model outputs\n",
    "a_batch_integrad_global = IntegratedGradients(model_global).attribute(inputs=x_batch, target=y_batch, baselines=torch.zeros_like(x_batch)).sum(axis=1).cpu().numpy()\n",
    "a_batch_integrad_global[a_batch_integrad_global<0] = 0\n",
    "a_batch_saliency_global =Saliency(model_global).attribute(inputs=x_batch, target=y_batch, abs=True).sum(axis=1).cpu().numpy()\n",
    "saliency = Saliency(model_global)\n",
    "a_batch_smoothgrad_global = NoiseTunnel(saliency).attribute(inputs = x_batch, target = y_batch, nt_type ='smoothgrad', nt_samples = 50, stdevs=0.15).sum(axis=1).cpu().numpy()\n",
    "\n",
    "x_batch, y_batch = x_batch.cpu().numpy(), y_batch.cpu().numpy()"
   ]
  },
  {
   "cell_type": "code",
   "execution_count": null,
   "id": "5dcd9b9f-66f1-4785-91bd-33e8ec76274d",
   "metadata": {},
   "outputs": [],
   "source": [
    "image_explanation(index, x_batch, y_batch, a_batch_saliency_global, a_batch_integrad_global, a_batch_smoothgrad_global, 'lisa_global_pre')"
   ]
  },
  {
   "cell_type": "markdown",
   "id": "6ce33c0b-1185-4a09-a114-b488c6964f9e",
   "metadata": {},
   "source": [
    "# Global Post Prune No tune"
   ]
  },
  {
   "cell_type": "code",
   "execution_count": null,
   "id": "8fd019d3-03a3-4d2a-a89a-360952a16d41",
   "metadata": {},
   "outputs": [],
   "source": [
    "from pathlib import Path\n",
    "\n",
    "model_path = Path(\"models\")\n",
    "model_path.mkdir(parents=True, exist_ok=True)\n",
    "\n",
    "model_name = \"lisa_global_post_notune.pth\"\n",
    "model_save_path = model_path / model_name\n",
    "model_no_tuned_global = vgg16().to(device)\n",
    "\n",
    "parameters_to_prune = (\n",
    "    (model_no_tuned_global.features[0], 'weight'),\n",
    "    (model_no_tuned_global.features[2], 'weight'),\n",
    "    (model_no_tuned_global.features[5], 'weight'),\n",
    "    (model_no_tuned_global.features[7], 'weight'),\n",
    "    (model_no_tuned_global.features[10], 'weight'),\n",
    "    (model_no_tuned_global.features[12], 'weight'),\n",
    "    (model_no_tuned_global.features[14], 'weight'),\n",
    "    (model_no_tuned_global.features[17], 'weight'),\n",
    "    (model_no_tuned_global.features[19], 'weight'),\n",
    "    (model_no_tuned_global.features[21], 'weight'),\n",
    "    (model_no_tuned_global.features[24], 'weight'),\n",
    "    (model_no_tuned_global.features[26], 'weight'),\n",
    "    (model_no_tuned_global.features[28], 'weight'),\n",
    "    (model_no_tuned_global.classifier[1], 'weight'),\n",
    "    (model_no_tuned_global.classifier[4], 'weight'),\n",
    "    (model_no_tuned_global.classifier[6], 'weight')\n",
    ")\n",
    "\n",
    "prune_rates_global = [0.2, 0.3, 0.4, 0.5, 0.6]\n",
    "\n",
    "for iter_prune_round in range(1):\n",
    "    print(f\"\\n\\nIterative Global pruning round = {iter_prune_round + 1}\")\n",
    "    \n",
    "    # Prune layer-wise in a structured manner-\n",
    "    prune.global_unstructured(\n",
    "        parameters_to_prune,\n",
    "        pruning_method = prune.L1Unstructured,\n",
    "        amount = prune_rates_global[iter_prune_round]\n",
    "        \n",
    "    )\n",
    "\n",
    "    # Print current global sparsity level-\n",
    "    print(f\"RESNET-18 global sparsity post no tune = {compute_sparsity_vgg(model_no_tuned_global):.2f}%\")\n",
    "\n",
    "model_no_tuned_global.load_state_dict(torch.load(model_save_path))"
   ]
  },
  {
   "cell_type": "code",
   "execution_count": null,
   "id": "8f6a5875-e20f-4b6b-ae42-788b83635443",
   "metadata": {},
   "outputs": [],
   "source": [
    "# Model to GPU and eval mode.\n",
    "model_no_tuned_global.to(device)\n",
    "model_no_tuned_global.eval()\n",
    "\n",
    "# Check test set performance.\n",
    "predictions, labels = evaluate_model(model_no_tuned_global, test_dataloader, device)\n",
    "\n",
    "test_acc = np.mean(np.argmax(predictions.cpu().numpy(), axis=1) == labels.cpu().numpy())        \n",
    "print(f\"Test accuracy for VGG Post no tune is: {(100 * test_acc):.2f}%\")"
   ]
  },
  {
   "cell_type": "code",
   "execution_count": null,
   "id": "9ce7b398-a125-458d-ac14-1019a976b6e7",
   "metadata": {},
   "outputs": [],
   "source": [
    "gc.collect()\n",
    "torch.cuda.empty_cache()\n",
    "# x_batch, y_batch = next(iter(test_dataloader))\n",
    "x_batch, y_batch = torch.from_numpy(x_batch), torch.from_numpy(y_batch)\n",
    "x_batch, y_batch = x_batch.to(device), y_batch.to(device)"
   ]
  },
  {
   "cell_type": "code",
   "execution_count": null,
   "id": "98210127-44c1-4e41-8438-65a0c3e39f71",
   "metadata": {},
   "outputs": [],
   "source": [
    "gc.collect()\n",
    "torch.cuda.empty_cache()\n",
    "# Applying explanation methods on the model outputs\n",
    "a_batch_integrad = IntegratedGradients(model_no_tuned_global).attribute(inputs=x_batch, target=y_batch, baselines=torch.zeros_like(x_batch)).sum(axis=1).cpu().numpy()\n",
    "a_batch_integrad[a_batch_integrad<0] = 0\n",
    "gc.collect()\n",
    "torch.cuda.empty_cache()\n",
    "a_batch_saliency = Saliency(model_no_tuned_global).attribute(inputs=x_batch, target=y_batch, abs=True).sum(axis=1).cpu().numpy()\n",
    "gc.collect()\n",
    "torch.cuda.empty_cache()\n",
    "saliency = Saliency(model_no_tuned_global)\n",
    "a_batch_smoothgrad = NoiseTunnel(saliency).attribute(inputs = x_batch, target = y_batch, nt_type ='smoothgrad', nt_samples = 50, stdevs=0.15).sum(axis=1).cpu().numpy()\n",
    "x_batch, y_batch = x_batch.cpu().numpy(), y_batch.cpu().numpy()"
   ]
  },
  {
   "cell_type": "code",
   "execution_count": null,
   "id": "bef9c9c1-2da6-425c-b7da-ad5717cf987f",
   "metadata": {},
   "outputs": [],
   "source": [
    "image_explanation(index, x_batch, y_batch, a_batch_saliency, a_batch_integrad, a_batch_smoothgrad, 'lisa_global_no_tune')"
   ]
  },
  {
   "cell_type": "markdown",
   "id": "1c2944f8-6194-4c0e-92d9-468f755ce1bf",
   "metadata": {},
   "source": [
    "# Tuned Global"
   ]
  },
  {
   "cell_type": "code",
   "execution_count": null,
   "id": "c5c71a71-12dd-4ae9-a09d-8861897061f7",
   "metadata": {},
   "outputs": [],
   "source": [
    "from pathlib import Path\n",
    "\n",
    "model_path = Path(\"models\")\n",
    "model_path.mkdir(parents=True, exist_ok=True)\n",
    "\n",
    "model_name = \"lisa_global_post_tuned.pth\"\n",
    "model_save_path = model_path / model_name\n",
    "model_post_tuned_global = vgg16().to(device)\n",
    "\n",
    "parameters_to_prune = (\n",
    "    (model_post_tuned_global.features[0], 'weight'),\n",
    "    (model_post_tuned_global.features[2], 'weight'),\n",
    "    (model_post_tuned_global.features[5], 'weight'),\n",
    "    (model_post_tuned_global.features[7], 'weight'),\n",
    "    (model_post_tuned_global.features[10], 'weight'),\n",
    "    (model_post_tuned_global.features[12], 'weight'),\n",
    "    (model_post_tuned_global.features[14], 'weight'),\n",
    "    (model_post_tuned_global.features[17], 'weight'),\n",
    "    (model_post_tuned_global.features[19], 'weight'),\n",
    "    (model_post_tuned_global.features[21], 'weight'),\n",
    "    (model_post_tuned_global.features[24], 'weight'),\n",
    "    (model_post_tuned_global.features[26], 'weight'),\n",
    "    (model_post_tuned_global.features[28], 'weight'),\n",
    "    (model_post_tuned_global.classifier[1], 'weight'),\n",
    "    (model_post_tuned_global.classifier[4], 'weight'),\n",
    "    (model_post_tuned_global.classifier[6], 'weight')\n",
    ")\n",
    "\n",
    "prune_rates_global = [0.2, 0.3, 0.4, 0.5, 0.6]\n",
    "\n",
    "for iter_prune_round in range(1):\n",
    "    print(f\"\\n\\nIterative Global pruning round = {iter_prune_round + 1}\")\n",
    "    \n",
    "    # Prune layer-wise in a structured manner-\n",
    "    prune.global_unstructured(\n",
    "        parameters_to_prune,\n",
    "        pruning_method = prune.L1Unstructured,\n",
    "        amount = prune_rates_global[iter_prune_round]\n",
    "        \n",
    "    )\n",
    "\n",
    "    # Print current global sparsity level-\n",
    "    print(f\"RESNET-18 global sparsity post no tune = {compute_sparsity_vgg(model_post_tuned_global):.2f}%\")\n",
    "\n",
    "model_post_tuned_global.load_state_dict(torch.load(model_save_path))"
   ]
  },
  {
   "cell_type": "code",
   "execution_count": null,
   "id": "04930d00-9455-470b-a883-e54d8cba2cc1",
   "metadata": {},
   "outputs": [],
   "source": [
    "# Model to GPU and eval mode.\n",
    "model_post_tuned_global.to(device)\n",
    "model_post_tuned_global.eval()\n",
    "\n",
    "# Check test set performance.\n",
    "predictions, labels = evaluate_model(model_post_tuned_global, test_dataloader, device)\n",
    "\n",
    "test_acc = np.mean(np.argmax(predictions.cpu().numpy(), axis=1) == labels.cpu().numpy())        \n",
    "print(f\"Test accuracy for Global post tuned is: {(100 * test_acc):.2f}%\")"
   ]
  },
  {
   "cell_type": "code",
   "execution_count": null,
   "id": "806d00f5-7e48-4639-8412-f727ca0cd1f1",
   "metadata": {},
   "outputs": [],
   "source": [
    "gc.collect()\n",
    "torch.cuda.empty_cache()\n",
    "# x_batch, y_batch = next(iter(test_dataloader))\n",
    "x_batch, y_batch = torch.from_numpy(x_batch), torch.from_numpy(y_batch)\n",
    "x_batch, y_batch = x_batch.to(device), y_batch.to(device)"
   ]
  },
  {
   "cell_type": "code",
   "execution_count": null,
   "id": "4f77959f-6613-4ea3-9ce1-e312b1896b0b",
   "metadata": {},
   "outputs": [],
   "source": [
    "gc.collect()\n",
    "torch.cuda.empty_cache()\n",
    "# Applying explanation methods on the model outputs\n",
    "a_batch_integrad = IntegratedGradients(model_post_tuned_global).attribute(inputs=x_batch, target=y_batch, baselines=torch.zeros_like(x_batch)).sum(axis=1).cpu().numpy()\n",
    "a_batch_integrad[a_batch_integrad<0] = 0\n",
    "gc.collect()\n",
    "torch.cuda.empty_cache()\n",
    "a_batch_saliency = Saliency(model_post_tuned_global).attribute(inputs=x_batch, target=y_batch, abs=True).sum(axis=1).cpu().numpy()\n",
    "gc.collect()\n",
    "torch.cuda.empty_cache()\n",
    "saliency = Saliency(model_post_tuned_global)\n",
    "a_batch_smoothgrad = NoiseTunnel(saliency).attribute(inputs = x_batch, target = y_batch, nt_type ='smoothgrad', nt_samples = 50, stdevs=0.15).sum(axis=1).cpu().numpy()\n",
    "x_batch, y_batch = x_batch.cpu().numpy(), y_batch.cpu().numpy()"
   ]
  },
  {
   "cell_type": "code",
   "execution_count": null,
   "id": "4960a97d-8fb3-48ba-8f69-720039876b11",
   "metadata": {},
   "outputs": [],
   "source": [
    "image_explanation(index, x_batch, y_batch, a_batch_saliency, a_batch_integrad, a_batch_smoothgrad, 'lisa_global_post_tuned')"
   ]
  },
  {
   "cell_type": "markdown",
   "id": "b97ef035-5e46-4a2d-80aa-5b31c66a8683",
   "metadata": {},
   "source": [
    "# Layered Pre"
   ]
  },
  {
   "cell_type": "code",
   "execution_count": null,
   "id": "cd6ff001-5897-424f-b16d-28496a59213f",
   "metadata": {},
   "outputs": [],
   "source": [
    "from pathlib import Path\n",
    "\n",
    "model_path = Path(\"models\")\n",
    "model_path.mkdir(parents=True, exist_ok=True)\n",
    "\n",
    "model_name = \"lisa_layered_pre.pth\"\n",
    "model_save_path = model_path / model_name\n",
    "model_structured = vgg16().to(device)\n",
    "\n",
    "# # Prune layer-wise in a structured manner-\n",
    "prune.ln_structured(model_structured.features[0], name = \"weight\", amount = 0.1, n = 2, dim = 0)\n",
    "prune.ln_structured(model_structured.features[2], name = \"weight\", amount = 0.1, n = 2, dim = 0)\n",
    "prune.ln_structured(model_structured.features[5], name = \"weight\", amount = 0.1, n = 2, dim = 0)\n",
    "prune.ln_structured(model_structured.features[7], name = \"weight\", amount = 0.1, n = 2, dim = 0)\n",
    "prune.ln_structured(model_structured.features[10], name = \"weight\", amount = 0.1, n = 2, dim = 0)\n",
    "prune.ln_structured(model_structured.features[12], name = \"weight\", amount = 0.1, n = 2, dim = 0)\n",
    "prune.ln_structured(model_structured.features[14], name = \"weight\", amount = 0.1, n = 2, dim = 0)\n",
    "prune.ln_structured(model_structured.features[17], name = \"weight\", amount = 0.1, n = 2, dim = 0)\n",
    "prune.ln_structured(model_structured.features[19], name = \"weight\", amount = 0.1, n = 2, dim = 0)\n",
    "prune.ln_structured(model_structured.features[21], name = \"weight\", amount = 0.1, n = 2, dim = 0)\n",
    "prune.ln_structured(model_structured.features[24], name = \"weight\", amount = 0.1, n = 2, dim = 0)\n",
    "prune.ln_structured(model_structured.features[26], name = \"weight\", amount = 0.1, n = 2, dim = 0)\n",
    "prune.ln_structured(model_structured.features[28], name = \"weight\", amount = 0.1, n = 2, dim = 0)\n",
    "prune.ln_structured(model_structured.classifier[1], name = \"weight\", amount = 0.1, n = 2, dim = 0)\n",
    "prune.ln_structured(model_structured.classifier[4], name = \"weight\", amount = 0.1, n = 2, dim = 0)\n",
    "prune.ln_structured(model_structured.classifier[6], name = \"weight\", amount = 0.1, n = 2, dim = 0)\n",
    "\n",
    "# Print current global sparsity level-\n",
    "print(f\"VGG global sparsity = {compute_sparsity_vgg(model_structured):.2f}%\")\n",
    "\n",
    "model_structured.load_state_dict(torch.load(model_save_path))\n"
   ]
  },
  {
   "cell_type": "code",
   "execution_count": null,
   "id": "e86eea39-2823-4e71-95f3-45be8284be34",
   "metadata": {},
   "outputs": [],
   "source": [
    "# Model to GPU and eval mode.\n",
    "model_structured.to(device)\n",
    "model_structured.eval()\n",
    "\n",
    "# Check test set performance.\n",
    "predictions, labels = evaluate_model(model_structured, test_dataloader, device)\n",
    "test_acc = np.mean(np.argmax(predictions.cpu().numpy(), axis=1) == labels.cpu().numpy())        \n",
    "print(f\"Test accuracy for VGG Pruned Pre Layered Structure is: {(100 * test_acc):.2f}%\")"
   ]
  },
  {
   "cell_type": "code",
   "execution_count": null,
   "id": "3470640e-9261-4f47-ab4e-362c13437c3f",
   "metadata": {},
   "outputs": [],
   "source": [
    "gc.collect()\n",
    "torch.cuda.empty_cache()\n",
    "# x_batch, y_batch = next(iter(test_dataloader))\n",
    "x_batch, y_batch = torch.from_numpy(x_batch), torch.from_numpy(y_batch)\n",
    "x_batch, y_batch = x_batch.to(device), y_batch.to(device)"
   ]
  },
  {
   "cell_type": "code",
   "execution_count": null,
   "id": "b4dd5828-f09e-4e4f-babe-ca16d147623b",
   "metadata": {},
   "outputs": [],
   "source": [
    "# Applying explanation methods on the model outputs\n",
    "a_batch_integrad_structured = IntegratedGradients(model_structured).attribute(inputs=x_batch, target=y_batch, baselines=torch.zeros_like(x_batch)).sum(axis=1).cpu().numpy()\n",
    "a_batch_integrad_structured[a_batch_integrad_structured<0] = 0\n",
    "a_batch_saliency_structured = Saliency(model_structured).attribute(inputs=x_batch, target=y_batch, abs=True).sum(axis=1).cpu().numpy()\n",
    "saliency = Saliency(model_structured)\n",
    "a_batch_smoothgrad_structured = NoiseTunnel(saliency).attribute(inputs = x_batch, target = y_batch, nt_type ='smoothgrad', nt_samples = 50, stdevs=0.15).sum(axis=1).cpu().numpy()\n",
    "\n",
    "x_batch, y_batch = x_batch.cpu().numpy(), y_batch.cpu().numpy()"
   ]
  },
  {
   "cell_type": "code",
   "execution_count": null,
   "id": "cb741064-fcc5-493b-9c39-f3bad3cb06ef",
   "metadata": {},
   "outputs": [],
   "source": [
    "image_explanation(index, x_batch, y_batch, a_batch_saliency_structured, a_batch_integrad_structured, a_batch_smoothgrad_structured, 'lisa_layered_pre')"
   ]
  },
  {
   "cell_type": "markdown",
   "id": "75171238-4e12-4fb1-a333-2f009f6d60a4",
   "metadata": {},
   "source": [
    "# Layered Post No Tune"
   ]
  },
  {
   "cell_type": "code",
   "execution_count": null,
   "id": "d628d387-f39a-4e21-a2a5-81520eb94076",
   "metadata": {},
   "outputs": [],
   "source": [
    "from pathlib import Path\n",
    "\n",
    "model_path = Path(\"models\")\n",
    "model_path.mkdir(parents=True, exist_ok=True)\n",
    "\n",
    "model_name = \"lisa_layered_post_notune.pth\"\n",
    "model_save_path = model_path / model_name\n",
    "model_no_tuned_layered = vgg16().to(device)\n",
    "        \n",
    "# Prune layer-wise in a structured manner-\n",
    "prune.ln_structured(model_no_tuned_layered.features[0], name = \"weight\", amount = 0.1, n = 2, dim = 0)\n",
    "prune.ln_structured(model_no_tuned_layered.features[2], name = \"weight\", amount = 0.1, n = 2, dim = 0)\n",
    "prune.ln_structured(model_no_tuned_layered.features[5], name = \"weight\", amount = 0.1, n = 2, dim = 0)\n",
    "prune.ln_structured(model_no_tuned_layered.features[7], name = \"weight\", amount = 0.1, n = 2, dim = 0)\n",
    "prune.ln_structured(model_no_tuned_layered.features[10], name = \"weight\", amount = 0.1, n = 2, dim = 0)\n",
    "prune.ln_structured(model_no_tuned_layered.features[12], name = \"weight\", amount = 0.1, n = 2, dim = 0)\n",
    "prune.ln_structured(model_no_tuned_layered.features[14], name = \"weight\", amount = 0.1, n = 2, dim = 0)\n",
    "prune.ln_structured(model_no_tuned_layered.features[17], name = \"weight\", amount = 0.1, n = 2, dim = 0)\n",
    "prune.ln_structured(model_no_tuned_layered.features[19], name = \"weight\", amount = 0.1, n = 2, dim = 0)\n",
    "prune.ln_structured(model_no_tuned_layered.features[21], name = \"weight\", amount = 0.1, n = 2, dim = 0)\n",
    "prune.ln_structured(model_no_tuned_layered.features[24], name = \"weight\", amount = 0.1, n = 2, dim = 0)\n",
    "prune.ln_structured(model_no_tuned_layered.features[26], name = \"weight\", amount = 0.1, n = 2, dim = 0)\n",
    "prune.ln_structured(model_no_tuned_layered.features[28], name = \"weight\", amount = 0.1, n = 2, dim = 0)\n",
    "prune.ln_structured(model_no_tuned_layered.classifier[1], name = \"weight\", amount = 0.1, n = 2, dim = 0)\n",
    "prune.ln_structured(model_no_tuned_layered.classifier[4], name = \"weight\", amount = 0.1, n = 2, dim = 0)\n",
    "prune.ln_structured(model_no_tuned_layered.classifier[6], name = \"weight\", amount = 0.1, n = 2, dim = 0)\n",
    "\n",
    "# Print current global sparsity level-\n",
    "print(f\"VGG global sparsity = {compute_sparsity_vgg(model_no_tuned_layered):.2f}%\")\n",
    "\n",
    "model_no_tuned_layered.load_state_dict(torch.load(model_save_path))"
   ]
  },
  {
   "cell_type": "code",
   "execution_count": null,
   "id": "12a94356-4875-4323-8c7e-306972dd8329",
   "metadata": {},
   "outputs": [],
   "source": [
    "# Model to GPU and eval mode.\n",
    "model_no_tuned_layered.to(device)\n",
    "model_no_tuned_layered.eval()\n",
    "\n",
    "# Check test set performance.\n",
    "predictions, labels = evaluate_model(model_no_tuned_layered, test_dataloader, device)\n",
    "\n",
    "test_acc = np.mean(np.argmax(predictions.cpu().numpy(), axis=1) == labels.cpu().numpy())        \n",
    "print(f\"Test accuracy for VGG POST Layeredis: {(100 * test_acc):.2f}%\")"
   ]
  },
  {
   "cell_type": "code",
   "execution_count": null,
   "id": "898d2af7-d663-44b0-9d70-05d60cebe462",
   "metadata": {},
   "outputs": [],
   "source": [
    "gc.collect()\n",
    "torch.cuda.empty_cache()\n",
    "# x_batch, y_batch = next(iter(test_dataloader))\n",
    "x_batch, y_batch = torch.from_numpy(x_batch), torch.from_numpy(y_batch)\n",
    "x_batch, y_batch = x_batch.to(device), y_batch.to(device)"
   ]
  },
  {
   "cell_type": "code",
   "execution_count": null,
   "id": "5058e0db-8405-4c32-ae35-ffa5bbd20fd0",
   "metadata": {},
   "outputs": [],
   "source": [
    "gc.collect()\n",
    "torch.cuda.empty_cache()\n",
    "# Applying explanation methods on the model outputs\n",
    "a_batch_integrad = IntegratedGradients(model_no_tuned_layered).attribute(inputs=x_batch, target=y_batch, baselines=torch.zeros_like(x_batch)).sum(axis=1).cpu().numpy()\n",
    "a_batch_integrad[a_batch_integrad<0] = 0\n",
    "gc.collect()\n",
    "torch.cuda.empty_cache()\n",
    "a_batch_saliency = Saliency(model_no_tuned_layered).attribute(inputs=x_batch, target=y_batch, abs=True).sum(axis=1).cpu().numpy()\n",
    "gc.collect()\n",
    "torch.cuda.empty_cache()\n",
    "saliency = Saliency(model_no_tuned_layered)\n",
    "a_batch_smoothgrad = NoiseTunnel(saliency).attribute(inputs = x_batch, target = y_batch, nt_type ='smoothgrad', nt_samples = 50, stdevs=0.15).sum(axis=1).cpu().numpy()\n",
    "x_batch, y_batch = x_batch.cpu().numpy(), y_batch.cpu().numpy()"
   ]
  },
  {
   "cell_type": "code",
   "execution_count": null,
   "id": "d796b417-1a05-48f4-927a-1d146c73337a",
   "metadata": {},
   "outputs": [],
   "source": [
    "image_explanation(index, x_batch, y_batch, a_batch_saliency, a_batch_integrad, a_batch_smoothgrad, 'lisa_layered_no_tune')"
   ]
  },
  {
   "cell_type": "markdown",
   "id": "9f5853f3-de53-44a0-833c-2a70d5f9eda5",
   "metadata": {},
   "source": [
    "# Layered Tuned"
   ]
  },
  {
   "cell_type": "code",
   "execution_count": null,
   "id": "117118cc-5c3e-4dfc-ba42-5408f7d4282b",
   "metadata": {},
   "outputs": [],
   "source": [
    "from pathlib import Path\n",
    "\n",
    "model_path = Path(\"models\")\n",
    "model_path.mkdir(parents=True, exist_ok=True)\n",
    "\n",
    "model_name = \"lisa_layered_post_tuned.pth\"\n",
    "model_save_path = model_path / model_name\n",
    "model_post_tuned_layered = vgg16().to(device)\n",
    "        \n",
    "# Prune layer-wise in a structured manner-\n",
    "prune.ln_structured(model_post_tuned_layered.features[0], name = \"weight\", amount = 0.1, n = 2, dim = 0)\n",
    "prune.ln_structured(model_post_tuned_layered.features[2], name = \"weight\", amount = 0.1, n = 2, dim = 0)\n",
    "prune.ln_structured(model_post_tuned_layered.features[5], name = \"weight\", amount = 0.1, n = 2, dim = 0)\n",
    "prune.ln_structured(model_post_tuned_layered.features[7], name = \"weight\", amount = 0.1, n = 2, dim = 0)\n",
    "prune.ln_structured(model_post_tuned_layered.features[10], name = \"weight\", amount = 0.1, n = 2, dim = 0)\n",
    "prune.ln_structured(model_post_tuned_layered.features[12], name = \"weight\", amount = 0.1, n = 2, dim = 0)\n",
    "prune.ln_structured(model_post_tuned_layered.features[14], name = \"weight\", amount = 0.1, n = 2, dim = 0)\n",
    "prune.ln_structured(model_post_tuned_layered.features[17], name = \"weight\", amount = 0.1, n = 2, dim = 0)\n",
    "prune.ln_structured(model_post_tuned_layered.features[19], name = \"weight\", amount = 0.1, n = 2, dim = 0)\n",
    "prune.ln_structured(model_post_tuned_layered.features[21], name = \"weight\", amount = 0.1, n = 2, dim = 0)\n",
    "prune.ln_structured(model_post_tuned_layered.features[24], name = \"weight\", amount = 0.1, n = 2, dim = 0)\n",
    "prune.ln_structured(model_post_tuned_layered.features[26], name = \"weight\", amount = 0.1, n = 2, dim = 0)\n",
    "prune.ln_structured(model_post_tuned_layered.features[28], name = \"weight\", amount = 0.1, n = 2, dim = 0)\n",
    "prune.ln_structured(model_post_tuned_layered.classifier[1], name = \"weight\", amount = 0.1, n = 2, dim = 0)\n",
    "prune.ln_structured(model_post_tuned_layered.classifier[4], name = \"weight\", amount = 0.1, n = 2, dim = 0)\n",
    "prune.ln_structured(model_post_tuned_layered.classifier[6], name = \"weight\", amount = 0.1, n = 2, dim = 0)\n",
    "\n",
    "# Print current global sparsity level-\n",
    "print(f\"VGG global sparsity = {compute_sparsity_vgg(model_post_tuned_layered):.2f}%\")\n",
    "\n",
    "model_post_tuned_layered.load_state_dict(torch.load(model_save_path))"
   ]
  },
  {
   "cell_type": "code",
   "execution_count": null,
   "id": "e013849f-c642-4952-a9c1-281dd45bbf3d",
   "metadata": {},
   "outputs": [],
   "source": [
    "# Model to GPU and eval mode.\n",
    "model_post_tuned_layered.to(device)\n",
    "model_post_tuned_layered.eval()\n",
    "\n",
    "# Check test set performance.\n",
    "predictions, labels = evaluate_model(model_post_tuned_layered, test_dataloader, device)\n",
    "\n",
    "test_acc = np.mean(np.argmax(predictions.cpu().numpy(), axis=1) == labels.cpu().numpy())        \n",
    "print(f\"Test accuracy for VGG Layered Tuned is: {(100 * test_acc):.2f}%\")"
   ]
  },
  {
   "cell_type": "code",
   "execution_count": null,
   "id": "3adab45a-113f-45a1-9755-2b31b94fb112",
   "metadata": {},
   "outputs": [],
   "source": [
    "gc.collect()\n",
    "torch.cuda.empty_cache()\n",
    "# x_batch, y_batch = next(iter(test_dataloader))\n",
    "x_batch, y_batch = torch.from_numpy(x_batch), torch.from_numpy(y_batch)\n",
    "x_batch, y_batch = x_batch.to(device), y_batch.to(device)"
   ]
  },
  {
   "cell_type": "code",
   "execution_count": null,
   "id": "4e7e9cf4-13d6-4c8f-8e0e-394193e8b973",
   "metadata": {},
   "outputs": [],
   "source": [
    "gc.collect()\n",
    "torch.cuda.empty_cache()\n",
    "# Applying explanation methods on the model outputs\n",
    "a_batch_integrad = IntegratedGradients(model_post_tuned_layered).attribute(inputs=x_batch, target=y_batch, baselines=torch.zeros_like(x_batch)).sum(axis=1).cpu().numpy()\n",
    "a_batch_integrad[a_batch_integrad<0] = 0\n",
    "gc.collect()\n",
    "torch.cuda.empty_cache()\n",
    "a_batch_saliency = Saliency(model_post_tuned_layered).attribute(inputs=x_batch, target=y_batch, abs=True).sum(axis=1).cpu().numpy()\n",
    "gc.collect()\n",
    "torch.cuda.empty_cache()\n",
    "saliency = Saliency(model_post_tuned_layered)\n",
    "a_batch_smoothgrad = NoiseTunnel(saliency).attribute(inputs = x_batch, target = y_batch, nt_type ='smoothgrad', nt_samples = 50, stdevs=0.15).sum(axis=1).cpu().numpy()\n",
    "x_batch, y_batch = x_batch.cpu().numpy(), y_batch.cpu().numpy()"
   ]
  },
  {
   "cell_type": "code",
   "execution_count": null,
   "id": "021dd8d7-4699-4735-a461-8395884e74d8",
   "metadata": {},
   "outputs": [],
   "source": [
    "image_explanation(index, x_batch, y_batch, a_batch_saliency, a_batch_integrad, a_batch_smoothgrad, 'lisa_layered_post_tuned')"
   ]
  },
  {
   "cell_type": "code",
   "execution_count": null,
   "id": "831224e7-ef86-4842-99aa-64ad080844d6",
   "metadata": {},
   "outputs": [],
   "source": [
    "def explainer_wrapper(**kwargs):\n",
    "    \"\"\"\n",
    "    A wrapper function to call the appropriate explanation method.\n",
    "\n",
    "    \"\"\"\n",
    "    if kwargs[\"method\"] == \"SmoothGrad\":\n",
    "        return smoothgrad_explainer(**kwargs)\n",
    "    else:\n",
    "        return ValueError(\"Explanation function doesnt exist\")\n",
    "\n",
    "\n",
    "\n",
    "def smoothgrad_explainer(model, inputs, targets, abs=True, normalise=True, stdevs=0.15, nt_samples=10, *args, **kwargs):\n",
    "    \"\"\"\n",
    "    Generate explanations for a model's predictions using the SmoothGrad method.\n",
    "\n",
    "    Args:\n",
    "        model: The model to explain.\n",
    "        inputs : Input samples.\n",
    "        targets: Target labels corresponding to the inputs.\n",
    "        abs : Whether to use the absolute value of gradients.\n",
    "        normalise: Whether to normalize the explanation\n",
    "        stdevs: Standard deviation of the noise added to inputs\n",
    "        nt_samples: Number of noisy samples to generate for SmoothGrad.\n",
    "\n",
    "    Returns:\n",
    "        numpy.ndarray: Explanation maps for the input samples.\n",
    "    \"\"\"\n",
    "    std = kwargs.get(\"std\", 0.15)  # Standard deviation for input noise\n",
    "    n = kwargs.get(\"n\", 10)  # Number of noisy samples\n",
    "    clip = kwargs.get(\"clip\", False)\n",
    "\n",
    "    model.to(kwargs.get(\"device\", None))\n",
    "    model.eval()\n",
    "\n",
    "    if not isinstance(inputs, torch.Tensor):\n",
    "        inputs = (\n",
    "            torch.Tensor(inputs).reshape(-1,kwargs.get(\"nr_channels\", 3),kwargs.get(\"img_size\", 32),kwargs.get(\"img_size\", 32),).to(kwargs.get(\"device\", None))\n",
    "        )\n",
    "    \n",
    "    if not isinstance(targets, torch.Tensor):\n",
    "        targets = torch.as_tensor(targets).long().to(kwargs.get(\"device\", None))\n",
    "\n",
    "    assert (len(np.shape(inputs)) == 4), \"Inputs should be shaped (nr_samples, nr_channels, img_size, img_size\"\n",
    "\n",
    "    if inputs.shape[0] > 1:\n",
    "        explanation = torch.zeros(\n",
    "            (\n",
    "                n,\n",
    "                inputs.shape[0],\n",
    "                kwargs.get(\"img_size\", 32),\n",
    "                kwargs.get(\"img_size\", 32),\n",
    "            )\n",
    "        )\n",
    "    else:\n",
    "        explanation = torch.zeros(\n",
    "            (n, kwargs.get(\"img_size\", 32), kwargs.get(\"img_size\", 32))\n",
    "        )\n",
    "    saliency = Saliency(model)\n",
    "    \n",
    "    explanation = (\n",
    "        NoiseTunnel(saliency)\n",
    "        .attribute(inputs=inputs, target=targets, nt_type=\"smoothgrad\", stdevs = stdevs, nt_samples= 10)\n",
    "        .sum(axis=1)\n",
    "        .reshape(-1, kwargs.get(\"img_size\", 32), kwargs.get(\"img_size\", 32))\n",
    "        .cpu()\n",
    "        .data\n",
    "    )\n",
    "\n",
    "    # explanation = explanation.mean(axis=0)\n",
    "    gc.collect()\n",
    "    torch.cuda.empty_cache()\n",
    "\n",
    "    explanation = explanation.numpy()\n",
    "    # Normalization (if required)\n",
    "    if normalise:\n",
    "        explanation = quantus.normalise_func.normalise_by_negative(explanation)\n",
    "\n",
    "    # Convert the result to NumPy if it is still a PyTorch tensor\n",
    "    if isinstance(explanation, torch.Tensor):\n",
    "        if explanation.requires_grad:\n",
    "            return explanation.cpu().detach().numpy()\n",
    "        return explanation.cpu().numpy()\n",
    "\n",
    "    return explanation"
   ]
  },
  {
   "cell_type": "code",
   "execution_count": null,
   "id": "65af5b69-ce71-4863-9aab-0412d45fbfa5",
   "metadata": {},
   "outputs": [],
   "source": [
    "xai_method=[\"SmoothGrad\"]"
   ]
  },
  {
   "cell_type": "code",
   "execution_count": null,
   "id": "d7b0b081-1a7a-488e-86ee-fd146fd29924",
   "metadata": {},
   "outputs": [],
   "source": [
    "gc.collect()\n",
    "torch.cuda.empty_cache()"
   ]
  },
  {
   "cell_type": "code",
   "execution_count": null,
   "id": "7086587f-e0c3-47a6-9be6-56148f3c697f",
   "metadata": {},
   "outputs": [],
   "source": []
  },
  {
   "cell_type": "code",
   "execution_count": null,
   "id": "9e0d0cf4-8194-4248-9bf2-abaafb950d53",
   "metadata": {},
   "outputs": [],
   "source": []
  }
 ],
 "metadata": {
  "kernelspec": {
   "display_name": "Python 3 (ipykernel)",
   "language": "python",
   "name": "python3"
  },
  "language_info": {
   "codemirror_mode": {
    "name": "ipython",
    "version": 3
   },
   "file_extension": ".py",
   "mimetype": "text/x-python",
   "name": "python",
   "nbconvert_exporter": "python",
   "pygments_lexer": "ipython3",
   "version": "3.12.3"
  }
 },
 "nbformat": 4,
 "nbformat_minor": 5
}
