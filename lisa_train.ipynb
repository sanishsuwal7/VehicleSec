{
 "cells": [
  {
   "cell_type": "code",
   "execution_count": 1,
   "id": "9797c5f7-c045-482b-98fb-a37c45e6a377",
   "metadata": {},
   "outputs": [],
   "source": [
    "import torch\n",
    "import torch.nn as nn\n",
    "import torch.nn.functional as F\n",
    "from torch.utils.data import DataLoader\n",
    "import torch.nn.utils.prune as prune\n",
    "\n",
    "import torchvision\n",
    "from torchvision import datasets\n",
    "import torchvision.transforms as transforms\n",
    "from torchvision import models\n",
    "from torchmetrics import Accuracy\n",
    "\n",
    "import quantus\n",
    "import captum\n",
    "from captum.attr import Saliency, IntegratedGradients, NoiseTunnel\n",
    "from cleverhans.torch.attacks.projected_gradient_descent import (projected_gradient_descent)\n",
    "\n",
    "import numpy as np\n",
    "import pandas as pd\n",
    "import matplotlib.pyplot as plt\n",
    "import seaborn as sns\n",
    "\n",
    "import random\n",
    "import copy\n",
    "import gc\n",
    "import math\n",
    "\n",
    "import warnings\n",
    "warnings.filterwarnings('ignore')\n",
    "\n",
    "from lisa import LISA\n",
    "from itertools import chain\n",
    "\n",
    "import os\n",
    "os.environ['CUDA_LAUNCH_BLOCKING'] = '1'\n"
   ]
  },
  {
   "cell_type": "code",
   "execution_count": 2,
   "id": "b9af08fb-40d2-45e0-b882-a0fa99fed2bc",
   "metadata": {},
   "outputs": [],
   "source": [
    "device = torch.device(\"cpu\" if torch.cuda.is_available() else \"cuda\")"
   ]
  },
  {
   "cell_type": "code",
   "execution_count": 3,
   "id": "a0290a5e-3c3b-4aae-b83c-c1dc72536c05",
   "metadata": {},
   "outputs": [],
   "source": [
    "epochs = 100\n",
    "\n",
    "batch_size = 128"
   ]
  },
  {
   "cell_type": "code",
   "execution_count": 4,
   "id": "0c7532a6-3ed3-4636-8229-0c00d67a17a8",
   "metadata": {},
   "outputs": [],
   "source": [
    "normalize = transforms.Normalize(mean=[0.4563, 0.4076, 0.3895], std=[0.2298, 0.2144, 0.2259])\n",
    "\n",
    "# lisa_transforms = transforms.Compose([ transforms.ToPILImage(), transforms.Resize((224, 224)),transforms.ToTensor(),normalize])\n",
    "lisa_transforms = transforms.Compose([ transforms.ToPILImage(),transforms.ToTensor(),normalize])"
   ]
  },
  {
   "cell_type": "code",
   "execution_count": 11,
   "id": "398ecabe-0d05-41a9-8446-3dd7d309c62f",
   "metadata": {},
   "outputs": [
    {
     "name": "stdout",
     "output_type": "stream",
     "text": [
      "Files already downloaded and verified\n",
      "Files already downloaded and verified\n"
     ]
    }
   ],
   "source": [
    "# # dataset =  LISA(root='./datasets' , download=True, train=True, transform = lisa_transforms)\n",
    "\n",
    "# train_dataset = LISA(root='./datasets', download=True, train=True, transform = lisa_transforms)\n",
    "# test_dataset = LISA(root='./datasets', download=True, train=False, transform = lisa_transforms)\n"
   ]
  },
  {
   "cell_type": "code",
   "execution_count": 14,
   "id": "1f3cea7d-7381-480e-90e5-bd253a4ca73b",
   "metadata": {},
   "outputs": [],
   "source": [
    "# train_dataloader = torch.utils.data.DataLoader(train_dataset, batch_size=batch_size, shuffle=True,) # num_workers=4,\n",
    "# test_dataloader = torch.utils.data.DataLoader(test_dataset, batch_size=batch_size, shuffle=False)"
   ]
  },
  {
   "cell_type": "code",
   "execution_count": 9,
   "id": "6478a801-b6c8-466c-98a5-bf0dc2e46cb7",
   "metadata": {},
   "outputs": [],
   "source": [
    "# classes = ('stop', 'speedLimitUrdbl', 'speedLimit25', 'pedestrianCrossing', 'speedLimit35', 'turnLeft',\n",
    "#                       'slow', 'speedLimit15', 'speedLimit45', 'rightLaneMustTurn', 'signalAhead', 'keepRight',\n",
    "#                       'laneEnds', 'school', 'merge', 'addedLane', 'rampSpeedAdvisory40', 'rampSpeedAdvisory45',\n",
    "#                       'curveRight', 'speedLimit65', 'truckSpeedLimit55', 'thruMergeLeft', 'speedLimit30', 'stopAhead',\n",
    "#                       'yield', 'thruMergeRight', 'dip', 'schoolSpeedLimit25', 'thruTrafficMergeLeft', 'noRightTurn',\n",
    "#                       'rampSpeedAdvisory35', 'curveLeft', 'rampSpeedAdvisory20', 'noLeftTurn', 'zoneAhead25',\n",
    "#                       'zoneAhead45', 'doNotEnter', 'yieldAhead', 'roundabout', 'turnRight', 'speedLimit50',\n",
    "#                       'rampSpeedAdvisoryUrdbl', 'rampSpeedAdvisory50', 'speedLimit40', 'speedLimit55', 'doNotPass',\n",
    "#                       'intersection')"
   ]
  },
  {
   "cell_type": "code",
   "execution_count": 253,
   "id": "9fd30bf8-8e77-4349-bde7-822c1da2d91c",
   "metadata": {},
   "outputs": [
    {
     "data": {
      "image/png": "[encoded data removed]",
      "text/plain": [
       "<Figure size 640x480 with 1 Axes>"
      ]
     },
     "metadata": {},
     "output_type": "display_data"
    }
   ],
   "source": [
    "# # Get a sample image and label\n",
    "# sample_index = 6619\n",
    "\n",
    "# # Change index to see different samples\n",
    "# image, label = train_dataset[sample_index]\n",
    "\n",
    "# # Convert the image tensor to a format suitable for display\n",
    "# image = image.permute(1, 2, 0).numpy()  # Convert (C, H, W) to (H, W, C)\n",
    "# image = (image - image.min()) / (image.max() - image.min())  # Normalize to [0, 1]\n",
    "\n",
    "# # Visualize the image\n",
    "# plt.imshow(image)\n",
    "# plt.title(f\"Label: {label} ({classes[label]})\")  # Display the label\n",
    "# plt.axis('off')\n",
    "# plt.show()\n",
    "\n",
    "# # 0 -stop  \n",
    "# # 3 -pedesterianCrossing  \n",
    "# # 5- turnleft\n",
    "# # 39-turn right\n",
    "# # 6-slow \n",
    "# # 10-signalahead \n",
    "# # 12-laneends \n",
    "# # 13-school \n",
    "# # 14-merge \n",
    "# # 24-yield \n",
    "# # 29-noturnright \n",
    "# # 33-noleftturn \n",
    "# # 38-roundabout\n",
    "\n",
    "# # 2 4 7 8 19 22 40 43 44 - speed limits\n",
    "\n"
   ]
  },
  {
   "cell_type": "code",
   "execution_count": 10,
   "id": "1ff2f947-970f-4de7-bb14-cfce496daa53",
   "metadata": {},
   "outputs": [],
   "source": [
    "%run models.ipynb\n",
    "%run utils.ipynb"
   ]
  },
  {
   "cell_type": "code",
   "execution_count": 274,
   "id": "1dcc92e0-4965-458a-8f3b-9d9651da6fb1",
   "metadata": {},
   "outputs": [
    {
     "name": "stdout",
     "output_type": "stream",
     "text": [
      "Subset creation complete!\n"
     ]
    }
   ],
   "source": [
    "import torch\n",
    "\n",
    "# Define the labels and their corresponding indexes\n",
    "classes = ('stop', 'speedLimitUrdbl', 'speedLimit25', 'pedestrianCrossing', 'speedLimit35', 'turnLeft',\n",
    "                      'slow', 'speedLimit15', 'speedLimit45', 'rightLaneMustTurn', 'signalAhead', 'keepRight',\n",
    "                      'laneEnds', 'school', 'merge', 'addedLane', 'rampSpeedAdvisory40', 'rampSpeedAdvisory45',\n",
    "                      'curveRight', 'speedLimit65', 'truckSpeedLimit55', 'thruMergeLeft', 'speedLimit30', 'stopAhead',\n",
    "                      'yield', 'thruMergeRight', 'dip', 'schoolSpeedLimit25', 'thruTrafficMergeLeft', 'noRightTurn',\n",
    "                      'rampSpeedAdvisory35', 'curveLeft', 'rampSpeedAdvisory20', 'noLeftTurn', 'zoneAhead25',\n",
    "                      'zoneAhead45', 'doNotEnter', 'yieldAhead', 'roundabout', 'turnRight', 'speedLimit50',\n",
    "                      'rampSpeedAdvisoryUrdbl', 'rampSpeedAdvisory50', 'speedLimit40', 'speedLimit55', 'doNotPass',\n",
    "                      'intersection')\n",
    "\n",
    "# Define the indexes for the subset\n",
    "included_indexes = {0, 3, 5, 6, 10, 12, 13, 14, 24, 29, 33, 38, 39}\n",
    "remapped_indexes = {2, 3, 7, 8, 19, 22, 40, 43, 44}\n",
    "\n",
    "# Paths to the image tensors and label tensor\n",
    "image_tensor_paths = [\n",
    "    \"datasets/lisa-batches/images_0.tensor\",  # Replace with the actual path\n",
    "    \"datasets/lisa-batches/images_1.tensor\",\n",
    "    \"datasets/lisa-batches/images_2.tensor\"\n",
    "]\n",
    "label_file_path = \"datasets/lisa-batches/labels.tensor\"  # Replace with the actual path\n",
    "\n",
    "# Load and concatenate all image tensors\n",
    "images_tensor = torch.cat([torch.load(path) for path in image_tensor_paths], dim=0)\n",
    "\n",
    "# Load the labels tensor\n",
    "labels_tensor = torch.load(label_file_path)\n",
    "\n",
    "# Initialize lists for the subset\n",
    "subset_images = []\n",
    "subset_labels = []\n",
    "\n",
    "# Filter and process the dataset\n",
    "for i, label in enumerate(labels_tensor.tolist()):\n",
    "    if label in included_indexes:\n",
    "        subset_images.append(images_tensor[i])\n",
    "        subset_labels.append(label)  # Keep the original label\n",
    "    elif label in remapped_indexes:\n",
    "        subset_images.append(images_tensor[i])\n",
    "        subset_labels.append(50)  # Remap the label to \"speedlimit\"\n",
    "\n",
    "\n",
    "# Convert the subset to tensors\n",
    "subset_images_tensor = torch.stack(subset_images)\n",
    "subset_labels_tensor = torch.tensor(subset_labels)\n",
    "\n",
    "# Save the new subset tensors\n",
    "torch.save(subset_images_tensor, \"datasets/lisa-batches/subset_images.tensor\")  # Replace with the desired save path\n",
    "torch.save(subset_labels_tensor, \"datasets/lisa-batches/subset_labels.tensor\")  # Replace with the desired save path\n",
    "\n",
    "print(\"Subset creation complete!\")\n"
   ]
  },
  {
   "cell_type": "code",
   "execution_count": 285,
   "id": "489e3a5a-c096-42af-93d2-01acd9728011",
   "metadata": {},
   "outputs": [
    {
     "name": "stdout",
     "output_type": "stream",
     "text": [
      "Remapped labels saved to: datasets/lisa-batches/subset_labels2.tensor\n"
     ]
    }
   ],
   "source": [
    "import torch\n",
    "\n",
    "# Path to the original label tensor file\n",
    "label_tensor_path = \"datasets/lisa-batches/subset_labels.tensor\"  # Replace with the actual path\n",
    "\n",
    "# Load the label tensor\n",
    "labels_tensor = torch.load(label_tensor_path)\n",
    "\n",
    "# Define the mapping of original labels to new labels\n",
    "label_mapping = {\n",
    "    0: 0,  # Old 0 -> New 0\n",
    "    50: 1, # Old 50 -> New 1\n",
    "    3: 2,  # Old 3 -> New 2\n",
    "    5: 3,  # Old 5 -> New 3\n",
    "    6: 4,  # Old 6 -> New 4\n",
    "    10: 5, # Old 10 -> New 5\n",
    "    12: 6, # Old 12 -> New 6\n",
    "    13: 7, # Old 13 -> New 7\n",
    "    14: 8, # Old 14 -> New 8\n",
    "    24: 9, # Old 24 -> New 9\n",
    "    29: 10, # Old 29 -> New 10\n",
    "    33: 11, # Old 33 -> New 11\n",
    "    38: 12, # Old 38 -> New 12\n",
    "    39: 13  # Old 39 -> New 14\n",
    "}\n",
    "\n",
    "# Apply the label mapping to the tensor\n",
    "remapped_labels = torch.tensor([label_mapping[label.item()] if label.item() in label_mapping else -1 for label in labels_tensor])\n",
    "\n",
    "# Save the remapped labels tensor to a file\n",
    "save_path = \"datasets/lisa-batches/subset_labels2.tensor\"  # Replace with your desired save path\n",
    "torch.save(remapped_labels, save_path)\n",
    "\n",
    "print(f\"Remapped labels saved to: {save_path}\")\n"
   ]
  },
  {
   "cell_type": "code",
   "execution_count": 12,
   "id": "ffb45245-66e9-4e3a-9b3c-873e22c87569",
   "metadata": {},
   "outputs": [
    {
     "name": "stdout",
     "output_type": "stream",
     "text": [
      "Number of images in each label:\n",
      "Label 0: 1821 images\n",
      "Label 1: 838 images\n",
      "Label 2: 1085 images\n",
      "Label 3: 32 images\n",
      "Label 4: 34 images\n",
      "Label 5: 925 images\n",
      "Label 6: 210 images\n",
      "Label 7: 133 images\n",
      "Label 8: 266 images\n",
      "Label 9: 236 images\n",
      "Label 10: 26 images\n",
      "Label 11: 47 images\n",
      "Label 12: 53 images\n",
      "Label 13: 92 images\n",
      "Total number of images: 5798\n"
     ]
    }
   ],
   "source": [
    "from collections import Counter\n",
    "label_file_path = \"datasets/lisa-batches/subset_labels2.tensor\"  # Replace with the actual path\n",
    "\n",
    "# Load the labels tensor\n",
    "labels_tensor = torch.load(label_file_path)\n",
    "\n",
    "# Convert the tensor to a list for easy inspection\n",
    "labels_list = labels_tensor.tolist()\n",
    "\n",
    "label_counts = Counter(labels_list)\n",
    "\n",
    "# Print the unique labels and their counts\n",
    "print(\"Number of images in each label:\")\n",
    "for label, count in label_counts.items():\n",
    "    print(f\"Label {label}: {count} images\")\n",
    "\n",
    "# Optional: Print the total number of images\n",
    "print(f\"Total number of images: {sum(label_counts.values())}\")"
   ]
  },
  {
   "cell_type": "code",
   "execution_count": 9,
   "id": "30435389-c61b-412a-8c0c-ae12df0febcb",
   "metadata": {},
   "outputs": [],
   "source": [
    "classes = ['stop','speedlimit', 'pedestrianCrossing', 'turnLeft','slow', 'signalAhead', 'laneEnds', 'school', 'merge','yield', 'noRightTurn','noLeftTurn', 'roundabout', 'turnRight']\n",
    "import torch\n",
    "from torch.utils.data import Dataset\n",
    "\n",
    "class SubsetLISA(Dataset):\n",
    "    \"\"\"\n",
    "    A custom dataset for the LISA subset, created using filtered image and label tensors.\n",
    "    \"\"\"\n",
    "    def __init__(self, image_tensor_path, label_tensor_path,train:bool, transform=None):\n",
    "        \"\"\"\n",
    "        Args:\n",
    "            image_tensor_path (str): Path to the images tensor file.\n",
    "            label_tensor_path (str): Path to the labels tensor file.\n",
    "            transform (callable, optional): A function/transform to apply to the images.\n",
    "        \"\"\"\n",
    "        self.images = torch.load(image_tensor_path)\n",
    "        self.labels = torch.load(label_tensor_path)\n",
    "        self.transform = transform\n",
    "        self.train = train\n",
    "        self._train_test_split()\n",
    "\n",
    "        assert len(self.images) == len(self.labels), \"Images and labels length mismatch\"\n",
    "\n",
    "    def __len__(self):\n",
    "        \"\"\"\n",
    "        Returns the total number of samples in the dataset.\n",
    "        \"\"\"\n",
    "        return len(self.labels)\n",
    "\n",
    "    def __getitem__(self, index):\n",
    "        \"\"\"\n",
    "        Args:\n",
    "            index (int): Index of the sample.\n",
    "\n",
    "        Returns:\n",
    "            tuple: (image, label) where image is the input tensor and label is the target tensor.\n",
    "        \"\"\"\n",
    "        image = self.images[index]\n",
    "        target = self.labels[index]\n",
    "\n",
    "        if self.transform:\n",
    "            image = self.transform(image)\n",
    "\n",
    "        return image, target\n",
    "\n",
    "    def _train_test_split(self, test_percent: float = 0.16):\n",
    "        classes = {}\n",
    "        for i, cl in enumerate(self.labels.numpy()):\n",
    "            arr = classes.get(cl, [])\n",
    "            arr.append(i)\n",
    "            classes[cl] = arr\n",
    "\n",
    "        train, test = [], []\n",
    "        for cl, arr in classes.items():\n",
    "            split_index = int(len(arr) * test_percent)\n",
    "            test = test + arr[:split_index]\n",
    "            train = train + arr[split_index:]\n",
    "\n",
    "        sub = train if self.train else test\n",
    "        self.images, self.labels = self.images[sub], self.labels[sub]\n"
   ]
  },
  {
   "cell_type": "code",
   "execution_count": 21,
   "id": "cf3e7320-e064-4126-b6e6-ca49985c6683",
   "metadata": {},
   "outputs": [
    {
     "name": "stdout",
     "output_type": "stream",
     "text": [
      "4876\n",
      "922\n"
     ]
    }
   ],
   "source": [
    "# Paths to the saved subset tensors\n",
    "image_tensor_path = \"datasets/lisa-batches/subset_images.tensor\"  # Replace with your actual file path\n",
    "label_tensor_path = \"datasets/lisa-batches/subset_labels2.tensor\"  # Replace with your actual file path\n",
    "\n",
    "# Initialize the dataset\n",
    "train_dataset = SubsetLISA(image_tensor_path, label_tensor_path, train=True, transform = lisa_transforms)\n",
    "test_dataset = SubsetLISA(image_tensor_path, label_tensor_path, train=False, transform = lisa_transforms)\n",
    "\n",
    "print(len(train_dataset))\n",
    "print(len(test_dataset))\n",
    "\n"
   ]
  },
  {
   "cell_type": "code",
   "execution_count": 23,
   "id": "4ef10d4f-9b71-4416-b178-6da574499f8f",
   "metadata": {},
   "outputs": [
    {
     "name": "stdout",
     "output_type": "stream",
     "text": [
      "(32, 32, 3)\n"
     ]
    },
    {
     "data": {
      "image/png": "[encoded data removed]",
      "text/plain": [
       "<Figure size 640x480 with 1 Axes>"
      ]
     },
     "metadata": {},
     "output_type": "display_data"
    }
   ],
   "source": [
    "# Get a sample 4796 and label\n",
    "sample_index = 800\n",
    "\n",
    "# Change index to see different samples\n",
    "image, label = train_dataset[sample_index]\n",
    "\n",
    "# Convert the image tensor to a format suitable for display\n",
    "image = image.permute(1, 2, 0).numpy()\n",
    "print(image.shape)# Convert (C, H, W) to (H, W, C)\n",
    "image = (image - image.min()) / (image.max() - image.min())  # Normalize to [0, 1]\n",
    "\n",
    "# Visualize the image\n",
    "plt.imshow(image)\n",
    "plt.title(f\"Label: {label} ({classes[label]})\")  # Display the label\n",
    "plt.axis('off')\n",
    "plt.show()"
   ]
  },
  {
   "cell_type": "code",
   "execution_count": 17,
   "id": "1d471f80-9384-4686-afd2-cb83ec6bb578",
   "metadata": {},
   "outputs": [
    {
     "ename": "TypeError",
     "evalue": "'DataLoader' object is not subscriptable",
     "output_type": "error",
     "traceback": [
      "\u001b[1;31m---------------------------------------------------------------------------\u001b[0m",
      "\u001b[1;31mTypeError\u001b[0m                                 Traceback (most recent call last)",
      "Cell \u001b[1;32mIn[17], line 4\u001b[0m\n\u001b[0;32m      1\u001b[0m train_dataloader \u001b[38;5;241m=\u001b[39m torch\u001b[38;5;241m.\u001b[39mutils\u001b[38;5;241m.\u001b[39mdata\u001b[38;5;241m.\u001b[39mDataLoader(train_dataset, batch_size\u001b[38;5;241m=\u001b[39mbatch_size, shuffle\u001b[38;5;241m=\u001b[39m\u001b[38;5;28;01mTrue\u001b[39;00m,) \u001b[38;5;66;03m# num_workers=4,\u001b[39;00m\n\u001b[0;32m      2\u001b[0m test_dataloader \u001b[38;5;241m=\u001b[39m torch\u001b[38;5;241m.\u001b[39mutils\u001b[38;5;241m.\u001b[39mdata\u001b[38;5;241m.\u001b[39mDataLoader(test_dataset, batch_size\u001b[38;5;241m=\u001b[39mbatch_size, shuffle\u001b[38;5;241m=\u001b[39m\u001b[38;5;28;01mFalse\u001b[39;00m)\n\u001b[1;32m----> 4\u001b[0m \u001b[38;5;28mprint\u001b[39m(test_dataloader[\u001b[38;5;241m0\u001b[39m]\u001b[38;5;241m.\u001b[39mshape)\n",
      "\u001b[1;31mTypeError\u001b[0m: 'DataLoader' object is not subscriptable"
     ]
    }
   ],
   "source": [
    "train_dataloader = torch.utils.data.DataLoader(train_dataset, batch_size=batch_size, shuffle=True,) # num_workers=4,\n",
    "test_dataloader = torch.utils.data.DataLoader(test_dataset, batch_size=batch_size, shuffle=False)\n",
    "\n",
    "print(test_dataloader[0].shape)"
   ]
  },
  {
   "cell_type": "code",
   "execution_count": 330,
   "id": "e9f8d8a6-2244-4f86-b325-eab097995dcc",
   "metadata": {},
   "outputs": [],
   "source": [
    "model = vgg16()\n",
    "learning_rate = 0.01\n",
    "criterion = nn.CrossEntropyLoss(reduction=\"mean\")\n",
    "optimizer = torch.optim.SGD(model.parameters(), lr = learning_rate, momentum = 0.9, weight_decay = 5e-4)"
   ]
  },
  {
   "cell_type": "code",
   "execution_count": 332,
   "id": "c7d9f42e-b0be-419c-8034-12b71424c1fc",
   "metadata": {},
   "outputs": [],
   "source": [
    "def train_model(model, epochs):\n",
    "    model.train()\n",
    "    for epoch in range(epochs):\n",
    "        for x_batch, y_batch in train_dataloader:\n",
    "            x_batch, y_batch = x_batch.to(device), y_batch.to(device)\n",
    "            optimizer.zero_grad()\n",
    "            output = model(x_batch)\n",
    "            loss = criterion(output, y_batch)\n",
    "            loss.backward()\n",
    "            optimizer.step()\n",
    "\n",
    "        # Evaluate model!\n",
    "        if epochs%10==0:\n",
    "            predictions, labels = evaluate_model(model, test_dataloader, device)\n",
    "            test_acc = np.mean(np.argmax(predictions.cpu().numpy(), axis=1) == labels.cpu().numpy())\n",
    "            print(f\"Epoch {epoch+1}/{epochs} - test accuracy: {(100 * test_acc):.2f}% and CE loss {loss.item():.2f}\")\n",
    "    return model"
   ]
  },
  {
   "cell_type": "code",
   "execution_count": 334,
   "id": "f0e245b3-5b94-40b6-a86d-9a09027f379e",
   "metadata": {},
   "outputs": [
    {
     "name": "stdout",
     "output_type": "stream",
     "text": [
      "Epoch 1/100 - test accuracy: 19.85% and CE loss 2.02\n",
      "Epoch 2/100 - test accuracy: 31.56% and CE loss 1.88\n",
      "Epoch 3/100 - test accuracy: 31.56% and CE loss 2.06\n",
      "Epoch 4/100 - test accuracy: 26.68% and CE loss 0.98\n",
      "Epoch 5/100 - test accuracy: 38.94% and CE loss 1.21\n",
      "Epoch 6/100 - test accuracy: 35.03% and CE loss 2.05\n",
      "Epoch 7/100 - test accuracy: 23.10% and CE loss 1.56\n",
      "Epoch 8/100 - test accuracy: 61.82% and CE loss 1.15\n",
      "Epoch 9/100 - test accuracy: 70.93% and CE loss 0.83\n",
      "Epoch 10/100 - test accuracy: 76.25% and CE loss 0.06\n",
      "Epoch 11/100 - test accuracy: 77.77% and CE loss 0.78\n",
      "Epoch 12/100 - test accuracy: 84.27% and CE loss 0.13\n",
      "Epoch 13/100 - test accuracy: 85.25% and CE loss 0.36\n",
      "Epoch 14/100 - test accuracy: 85.25% and CE loss 0.09\n",
      "Epoch 15/100 - test accuracy: 89.37% and CE loss 0.06\n",
      "Epoch 16/100 - test accuracy: 93.17% and CE loss 0.01\n",
      "Epoch 17/100 - test accuracy: 92.62% and CE loss 0.04\n",
      "Epoch 18/100 - test accuracy: 94.69% and CE loss 0.00\n",
      "Epoch 19/100 - test accuracy: 92.41% and CE loss 0.01\n",
      "Epoch 20/100 - test accuracy: 93.93% and CE loss 0.00\n",
      "Epoch 21/100 - test accuracy: 92.84% and CE loss 0.00\n",
      "Epoch 22/100 - test accuracy: 92.08% and CE loss 0.00\n",
      "Epoch 23/100 - test accuracy: 95.66% and CE loss 0.00\n",
      "Epoch 24/100 - test accuracy: 96.31% and CE loss 0.00\n",
      "Epoch 25/100 - test accuracy: 95.12% and CE loss 0.00\n",
      "Epoch 26/100 - test accuracy: 96.31% and CE loss 0.00\n",
      "Epoch 27/100 - test accuracy: 96.31% and CE loss 0.00\n",
      "Epoch 28/100 - test accuracy: 96.20% and CE loss 0.00\n",
      "Epoch 29/100 - test accuracy: 96.20% and CE loss 0.00\n",
      "Epoch 30/100 - test accuracy: 96.20% and CE loss 0.00\n",
      "Epoch 31/100 - test accuracy: 96.20% and CE loss 0.00\n",
      "Epoch 32/100 - test accuracy: 96.20% and CE loss 0.00\n",
      "Epoch 33/100 - test accuracy: 96.31% and CE loss 0.00\n",
      "Epoch 34/100 - test accuracy: 96.42% and CE loss 0.00\n",
      "Epoch 35/100 - test accuracy: 96.42% and CE loss 0.00\n",
      "Epoch 36/100 - test accuracy: 96.42% and CE loss 0.00\n",
      "Epoch 37/100 - test accuracy: 96.53% and CE loss 0.00\n",
      "Epoch 38/100 - test accuracy: 96.42% and CE loss 0.00\n",
      "Epoch 39/100 - test accuracy: 96.53% and CE loss 0.00\n",
      "Epoch 40/100 - test accuracy: 96.53% and CE loss 0.00\n",
      "Epoch 41/100 - test accuracy: 96.64% and CE loss 0.00\n",
      "Epoch 42/100 - test accuracy: 96.53% and CE loss 0.00\n",
      "Epoch 43/100 - test accuracy: 96.75% and CE loss 0.00\n",
      "Epoch 44/100 - test accuracy: 96.75% and CE loss 0.00\n",
      "Epoch 45/100 - test accuracy: 96.75% and CE loss 0.00\n",
      "Epoch 46/100 - test accuracy: 96.64% and CE loss 0.00\n",
      "Epoch 47/100 - test accuracy: 96.85% and CE loss 0.00\n",
      "Epoch 48/100 - test accuracy: 96.75% and CE loss 0.00\n",
      "Epoch 49/100 - test accuracy: 96.75% and CE loss 0.00\n",
      "Epoch 50/100 - test accuracy: 96.85% and CE loss 0.00\n",
      "Epoch 51/100 - test accuracy: 96.75% and CE loss 0.00\n",
      "Epoch 52/100 - test accuracy: 96.85% and CE loss 0.00\n",
      "Epoch 53/100 - test accuracy: 96.75% and CE loss 0.00\n",
      "Epoch 54/100 - test accuracy: 96.85% and CE loss 0.00\n",
      "Epoch 55/100 - test accuracy: 96.85% and CE loss 0.00\n",
      "Epoch 56/100 - test accuracy: 96.75% and CE loss 0.00\n",
      "Epoch 57/100 - test accuracy: 96.53% and CE loss 0.00\n",
      "Epoch 58/100 - test accuracy: 96.75% and CE loss 0.00\n",
      "Epoch 59/100 - test accuracy: 96.10% and CE loss 0.00\n",
      "Epoch 60/100 - test accuracy: 96.64% and CE loss 0.00\n",
      "Epoch 61/100 - test accuracy: 96.75% and CE loss 0.00\n",
      "Epoch 62/100 - test accuracy: 96.85% and CE loss 0.00\n",
      "Epoch 63/100 - test accuracy: 96.85% and CE loss 0.00\n",
      "Epoch 64/100 - test accuracy: 96.85% and CE loss 0.00\n",
      "Epoch 65/100 - test accuracy: 96.96% and CE loss 0.00\n",
      "Epoch 66/100 - test accuracy: 96.96% and CE loss 0.00\n",
      "Epoch 67/100 - test accuracy: 96.85% and CE loss 0.00\n",
      "Epoch 68/100 - test accuracy: 96.96% and CE loss 0.00\n",
      "Epoch 69/100 - test accuracy: 96.75% and CE loss 0.00\n",
      "Epoch 70/100 - test accuracy: 96.96% and CE loss 0.00\n",
      "Epoch 71/100 - test accuracy: 96.96% and CE loss 0.00\n",
      "Epoch 72/100 - test accuracy: 96.75% and CE loss 0.00\n",
      "Epoch 73/100 - test accuracy: 97.07% and CE loss 0.00\n",
      "Epoch 74/100 - test accuracy: 97.07% and CE loss 0.00\n",
      "Epoch 75/100 - test accuracy: 97.18% and CE loss 0.00\n",
      "Epoch 76/100 - test accuracy: 96.96% and CE loss 0.00\n",
      "Epoch 77/100 - test accuracy: 97.07% and CE loss 0.00\n",
      "Epoch 78/100 - test accuracy: 97.18% and CE loss 0.00\n",
      "Epoch 79/100 - test accuracy: 97.18% and CE loss 0.00\n",
      "Epoch 80/100 - test accuracy: 97.18% and CE loss 0.00\n",
      "Epoch 81/100 - test accuracy: 97.07% and CE loss 0.00\n",
      "Epoch 82/100 - test accuracy: 97.18% and CE loss 0.00\n",
      "Epoch 83/100 - test accuracy: 97.18% and CE loss 0.00\n",
      "Epoch 84/100 - test accuracy: 97.07% and CE loss 0.00\n",
      "Epoch 85/100 - test accuracy: 97.07% and CE loss 0.00\n",
      "Epoch 86/100 - test accuracy: 97.18% and CE loss 0.00\n",
      "Epoch 87/100 - test accuracy: 97.07% and CE loss 0.00\n",
      "Epoch 88/100 - test accuracy: 96.96% and CE loss 0.00\n",
      "Epoch 89/100 - test accuracy: 97.07% and CE loss 0.00\n",
      "Epoch 90/100 - test accuracy: 97.07% and CE loss 0.00\n",
      "Epoch 91/100 - test accuracy: 97.07% and CE loss 0.00\n",
      "Epoch 92/100 - test accuracy: 97.07% and CE loss 0.00\n",
      "Epoch 93/100 - test accuracy: 96.96% and CE loss 0.00\n",
      "Epoch 94/100 - test accuracy: 97.29% and CE loss 0.00\n",
      "Epoch 95/100 - test accuracy: 97.18% and CE loss 0.00\n",
      "Epoch 96/100 - test accuracy: 97.18% and CE loss 0.00\n",
      "Epoch 97/100 - test accuracy: 97.40% and CE loss 0.00\n",
      "Epoch 98/100 - test accuracy: 96.96% and CE loss 0.00\n",
      "Epoch 99/100 - test accuracy: 97.29% and CE loss 0.00\n",
      "Epoch 100/100 - test accuracy: 97.07% and CE loss 0.00\n"
     ]
    }
   ],
   "source": [
    "model_normal = train_model(model = model.to(device), epochs = epochs)"
   ]
  },
  {
   "cell_type": "code",
   "execution_count": 335,
   "id": "31661518-2fc0-41d0-8b1d-06877e58b91a",
   "metadata": {},
   "outputs": [
    {
     "name": "stdout",
     "output_type": "stream",
     "text": [
      "Model test accuracy: 97.07%\n"
     ]
    }
   ],
   "source": [
    "# Model to GPU and eval mode.\n",
    "model_normal.to(device)\n",
    "model_normal.eval()\n",
    "\n",
    "# Check test set performance.\n",
    "predictions, labels = evaluate_model(model_normal, test_dataloader, device)\n",
    "test_acc = np.mean(np.argmax(predictions.cpu().numpy(), axis=1) == labels.cpu().numpy())        \n",
    "print(f\"Model test accuracy: {(100 * test_acc):.2f}%\")"
   ]
  },
  {
   "cell_type": "code",
   "execution_count": 339,
   "id": "c2a563b0-6a17-4665-9410-8e5c788d168f",
   "metadata": {},
   "outputs": [
    {
     "name": "stdout",
     "output_type": "stream",
     "text": [
      "Saving the model: models\\lisa_normal_subset.pth\n"
     ]
    }
   ],
   "source": [
    "from pathlib import Path\n",
    "\n",
    "model_path = Path(\"models\")\n",
    "model_path.mkdir(parents=True, exist_ok=True)\n",
    "\n",
    "model_name = \"lisa_normal_subset.pth\"\n",
    "model_save_path = model_path / model_name\n",
    "\n",
    "print(f\"Saving the model: {model_save_path}\")\n",
    "torch.save(obj=model_normal.state_dict(), f=model_save_path)"
   ]
  },
  {
   "cell_type": "code",
   "execution_count": 341,
   "id": "18a6056e-bc6a-487f-bf9b-4c22c6c79756",
   "metadata": {},
   "outputs": [
    {
     "data": {
      "text/plain": [
       "<All keys matched successfully>"
      ]
     },
     "execution_count": 341,
     "metadata": {},
     "output_type": "execute_result"
    }
   ],
   "source": [
    "\n",
    "model = vgg16().to(device)\n",
    "model.load_state_dict(torch.load(model_save_path))"
   ]
  },
  {
   "cell_type": "code",
   "execution_count": 343,
   "id": "e3263d9a-784e-4f9b-9660-c8560275c4ce",
   "metadata": {},
   "outputs": [
    {
     "name": "stdout",
     "output_type": "stream",
     "text": [
      "Test accuracy for VGG LISA Normal is: 97.07%\n"
     ]
    }
   ],
   "source": [
    "# Model to GPU and eval mode.\n",
    "model.to(device)\n",
    "model.eval()\n",
    "\n",
    "# Check test set performance.\n",
    "predictions, labels = evaluate_model(model, test_dataloader, device)\n",
    "test_acc = np.mean(np.argmax(predictions.cpu().numpy(), axis=1) == labels.cpu().numpy())        \n",
    "print(f\"Test accuracy for VGG LISA Normal is: {(100 * test_acc):.2f}%\")"
   ]
  },
  {
   "cell_type": "code",
   "execution_count": null,
   "id": "4a45a931-fc75-4baf-b930-8d567eb10a8a",
   "metadata": {},
   "outputs": [],
   "source": []
  },
  {
   "cell_type": "code",
   "execution_count": null,
   "id": "73cb76b9-954f-40a7-accb-e0c882e56bc5",
   "metadata": {},
   "outputs": [],
   "source": []
  }
 ],
 "metadata": {
  "kernelspec": {
   "display_name": "Python 3 (ipykernel)",
   "language": "python",
   "name": "python3"
  },
  "language_info": {
   "codemirror_mode": {
    "name": "ipython",
    "version": 3
   },
   "file_extension": ".py",
   "mimetype": "text/x-python",
   "name": "python",
   "nbconvert_exporter": "python",
   "pygments_lexer": "ipython3",
   "version": "3.12.3"
  }
 },
 "nbformat": 4,
 "nbformat_minor": 5
}
