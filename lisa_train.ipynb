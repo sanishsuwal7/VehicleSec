{
 "cells": [
  {
   "cell_type": "code",
   "execution_count": 1,
   "id": "9797c5f7-c045-482b-98fb-a37c45e6a377",
   "metadata": {},
   "outputs": [],
   "source": [
    "import torch\n",
    "import torch.nn as nn\n",
    "import torch.nn.functional as F\n",
    "from torch.utils.data import DataLoader\n",
    "import torch.nn.utils.prune as prune\n",
    "\n",
    "import torchvision\n",
    "from torchvision import datasets\n",
    "import torchvision.transforms as transforms\n",
    "from torchvision import models\n",
    "from torchmetrics import Accuracy\n",
    "\n",
    "import quantus\n",
    "import captum\n",
    "from captum.attr import Saliency, IntegratedGradients, NoiseTunnel\n",
    "from cleverhans.torch.attacks.projected_gradient_descent import (projected_gradient_descent)\n",
    "\n",
    "import numpy as np\n",
    "import pandas as pd\n",
    "import matplotlib.pyplot as plt\n",
    "import seaborn as sns\n",
    "\n",
    "import random\n",
    "import copy\n",
    "import gc\n",
    "import math\n",
    "\n",
    "import warnings\n",
    "warnings.filterwarnings('ignore')\n",
    "\n",
    "from lisa import LISA\n",
    "from itertools import chain\n",
    "\n",
    "import os\n",
    "os.environ['CUDA_LAUNCH_BLOCKING'] = '1'\n"
   ]
  },
  {
   "cell_type": "code",
   "execution_count": 2,
   "id": "b9af08fb-40d2-45e0-b882-a0fa99fed2bc",
   "metadata": {},
   "outputs": [],
   "source": [
    "device = torch.device(\"cpu\" if torch.cuda.is_available() else \"cuda\")"
   ]
  },
  {
   "cell_type": "code",
   "execution_count": 3,
   "id": "a0290a5e-3c3b-4aae-b83c-c1dc72536c05",
   "metadata": {},
   "outputs": [],
   "source": [
    "epochs = 100\n",
    "\n",
    "batch_size = 128"
   ]
  },
  {
   "cell_type": "code",
   "execution_count": 4,
   "id": "0c7532a6-3ed3-4636-8229-0c00d67a17a8",
   "metadata": {},
   "outputs": [],
   "source": [
    "normalize = transforms.Normalize(mean=[0.4563, 0.4076, 0.3895], std=[0.2298, 0.2144, 0.2259])\n",
    "\n",
    "lisa_transforms = transforms.Compose([ transforms.ToPILImage(),transforms.ToTensor(),normalize])"
   ]
  },
  {
   "cell_type": "code",
   "execution_count": 5,
   "id": "398ecabe-0d05-41a9-8446-3dd7d309c62f",
   "metadata": {},
   "outputs": [
    {
     "name": "stdout",
     "output_type": "stream",
     "text": [
      "Files already downloaded and verified\n",
      "Files already downloaded and verified\n"
     ]
    }
   ],
   "source": [
    "# dataset =  LISA(root='./datasets' , download=True, train=True, transform = lisa_transforms)\n",
    "\n",
    "train_dataset = LISA(root='./datasets', download=True, train=True, transform = lisa_transforms)\n",
    "test_dataset = LISA(root='./datasets', download=True, train=False, transform = lisa_transforms)\n"
   ]
  },
  {
   "cell_type": "code",
   "execution_count": 6,
   "id": "1f3cea7d-7381-480e-90e5-bd253a4ca73b",
   "metadata": {},
   "outputs": [],
   "source": [
    "train_dataloader = torch.utils.data.DataLoader(train_dataset, batch_size=batch_size, shuffle=True,) # num_workers=4,\n",
    "test_dataloader = torch.utils.data.DataLoader(test_dataset, batch_size=batch_size, shuffle=False)"
   ]
  },
  {
   "cell_type": "code",
   "execution_count": 7,
   "id": "6478a801-b6c8-466c-98a5-bf0dc2e46cb7",
   "metadata": {},
   "outputs": [],
   "source": [
    "classes = ('stop', 'yield', 'warning', 'speed', 'regulatory')"
   ]
  },
  {
   "cell_type": "code",
   "execution_count": 12,
   "id": "9fd30bf8-8e77-4349-bde7-822c1da2d91c",
   "metadata": {},
   "outputs": [
    {
     "data": {
      "image/png": "[encoded data removed]",
      "text/plain": [
       "<Figure size 640x480 with 1 Axes>"
      ]
     },
     "metadata": {},
     "output_type": "display_data"
    }
   ],
   "source": [
    "# Get a sample image and label\n",
    "sample_index = 2000  # Change index to see different samples\n",
    "image, label = train_dataset[sample_index]\n",
    "\n",
    "# Convert the image tensor to a format suitable for display\n",
    "image = image.permute(1, 2, 0).numpy()  # Convert (C, H, W) to (H, W, C)\n",
    "image = (image - image.min()) / (image.max() - image.min())  # Normalize to [0, 1]\n",
    "\n",
    "# Visualize the image\n",
    "plt.imshow(image)\n",
    "plt.title(f\"Label: {label} ({classes[label]})\")  # Display the label\n",
    "plt.axis('off')\n",
    "plt.show()"
   ]
  },
  {
   "cell_type": "code",
   "execution_count": 17,
   "id": "1ff2f947-970f-4de7-bb14-cfce496daa53",
   "metadata": {},
   "outputs": [],
   "source": [
    "%run models.ipynb\n",
    "%run utils.ipynb"
   ]
  },
  {
   "cell_type": "code",
   "execution_count": 19,
   "id": "0ff799b8-22f6-45e8-aaab-82d88701a7f4",
   "metadata": {},
   "outputs": [],
   "source": [
    "model = vgg16()\n",
    "learning_rate = 0.01\n",
    "criterion = nn.CrossEntropyLoss(reduction=\"mean\")\n",
    "optimizer = torch.optim.SGD(model.parameters(), lr = learning_rate, momentum = 0.9, weight_decay = 5e-4)"
   ]
  },
  {
   "cell_type": "code",
   "execution_count": 21,
   "id": "c7d9f42e-b0be-419c-8034-12b71424c1fc",
   "metadata": {},
   "outputs": [],
   "source": [
    "def train_model(model, epochs):\n",
    "    model.train()\n",
    "    for epoch in range(epochs):\n",
    "        for x_batch, y_batch in train_dataloader:\n",
    "            x_batch, y_batch = x_batch.to(device), y_batch.to(device)\n",
    "            optimizer.zero_grad()\n",
    "            output = model(x_batch)\n",
    "            loss = criterion(output, y_batch)\n",
    "            loss.backward()\n",
    "            optimizer.step()\n",
    "\n",
    "        # Evaluate model!\n",
    "        if epochs%10==0:\n",
    "            predictions, labels = evaluate_model(model, test_dataloader, device)\n",
    "            test_acc = np.mean(np.argmax(predictions.cpu().numpy(), axis=1) == labels.cpu().numpy())\n",
    "            print(f\"Epoch {epoch+1}/{epochs} - test accuracy: {(100 * test_acc):.2f}% and CE loss {loss.item():.2f}\")\n",
    "    return model"
   ]
  },
  {
   "cell_type": "code",
   "execution_count": null,
   "id": "f0e245b3-5b94-40b6-a86d-9a09027f379e",
   "metadata": {},
   "outputs": [],
   "source": [
    "model_normal = train_model(model = model.to(device), epochs = epochs)"
   ]
  },
  {
   "cell_type": "code",
   "execution_count": null,
   "id": "31661518-2fc0-41d0-8b1d-06877e58b91a",
   "metadata": {},
   "outputs": [],
   "source": [
    "# Model to GPU and eval mode.\n",
    "model_normal.to(device)\n",
    "model_normal.eval()\n",
    "\n",
    "# Check test set performance.\n",
    "predictions, labels = evaluate_model(model_normal, test_dataloader, device)\n",
    "test_acc = np.mean(np.argmax(predictions.cpu().numpy(), axis=1) == labels.cpu().numpy())        \n",
    "print(f\"Model test accuracy: {(100 * test_acc):.2f}%\")"
   ]
  },
  {
   "cell_type": "code",
   "execution_count": null,
   "id": "c2a563b0-6a17-4665-9410-8e5c788d168f",
   "metadata": {},
   "outputs": [],
   "source": [
    "from pathlib import Path\n",
    "\n",
    "model_path = Path(\"models\")\n",
    "model_path.mkdir(parents=True, exist_ok=True)\n",
    "\n",
    "model_name = \"lisa_normal.pth\"\n",
    "model_save_path = model_path / model_name\n",
    "\n",
    "print(f\"Saving the model: {model_save_path}\")\n",
    "torch.save(obj=model_normal.state_dict(), f=model_save_path)"
   ]
  },
  {
   "cell_type": "code",
   "execution_count": null,
   "id": "18a6056e-bc6a-487f-bf9b-4c22c6c79756",
   "metadata": {},
   "outputs": [],
   "source": [
    "from pathlib import Path\n",
    "\n",
    "model_path = Path(\"models\")\n",
    "model_path.mkdir(parents=True, exist_ok=True)\n",
    "\n",
    "model_name = \"lisa_normal.pth\"\n",
    "model_save_path = model_path / model_name\n",
    "model = vgg16().to(device)\n",
    "model.load_state_dict(torch.load(model_save_path))"
   ]
  },
  {
   "cell_type": "code",
   "execution_count": null,
   "id": "e3263d9a-784e-4f9b-9660-c8560275c4ce",
   "metadata": {},
   "outputs": [],
   "source": [
    "# Model to GPU and eval mode.\n",
    "model.to(device)\n",
    "model.eval()\n",
    "\n",
    "# Check test set performance.\n",
    "predictions, labels = evaluate_model(model, test_dataloader, device)\n",
    "test_acc = np.mean(np.argmax(predictions.cpu().numpy(), axis=1) == labels.cpu().numpy())        \n",
    "print(f\"Test accuracy for VGG LISA Normal is: {(100 * test_acc):.2f}%\")"
   ]
  },
  {
   "cell_type": "code",
   "execution_count": null,
   "id": "4a45a931-fc75-4baf-b930-8d567eb10a8a",
   "metadata": {},
   "outputs": [],
   "source": []
  },
  {
   "cell_type": "code",
   "execution_count": null,
   "id": "73cb76b9-954f-40a7-accb-e0c882e56bc5",
   "metadata": {},
   "outputs": [],
   "source": []
  }
 ],
 "metadata": {
  "kernelspec": {
   "display_name": "Python 3 (ipykernel)",
   "language": "python",
   "name": "python3"
  },
  "language_info": {
   "codemirror_mode": {
    "name": "ipython",
    "version": 3
   },
   "file_extension": ".py",
   "mimetype": "text/x-python",
   "name": "python",
   "nbconvert_exporter": "python",
   "pygments_lexer": "ipython3",
   "version": "3.12.3"
  }
 },
 "nbformat": 4,
 "nbformat_minor": 5
}
