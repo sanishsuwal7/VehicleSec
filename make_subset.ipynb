{
 "cells": [
  {
   "cell_type": "code",
   "execution_count": 1,
   "id": "9797c5f7-c045-482b-98fb-a37c45e6a377",
   "metadata": {},
   "outputs": [],
   "source": [
    "import torch\n",
    "import torch.nn as nn\n",
    "import torch.nn.functional as F\n",
    "from torch.utils.data import DataLoader\n",
    "import torch.nn.utils.prune as prune\n",
    "\n",
    "import torchvision\n",
    "from torchvision import datasets\n",
    "import torchvision.transforms as transforms\n",
    "from torchvision import models\n",
    "from torchmetrics import Accuracy\n",
    "\n",
    "import quantus\n",
    "import captum\n",
    "from captum.attr import Saliency, IntegratedGradients, NoiseTunnel\n",
    "from cleverhans.torch.attacks.projected_gradient_descent import (projected_gradient_descent)\n",
    "\n",
    "import numpy as np\n",
    "import pandas as pd\n",
    "import matplotlib.pyplot as plt\n",
    "import seaborn as sns\n",
    "\n",
    "import random\n",
    "import copy\n",
    "import gc\n",
    "import math\n",
    "\n",
    "import warnings\n",
    "warnings.filterwarnings('ignore')\n",
    "\n",
    "from lisa import LISA\n",
    "from itertools import chain\n",
    "\n",
    "import os\n",
    "os.environ['CUDA_LAUNCH_BLOCKING'] = '1'\n"
   ]
  },
  {
   "cell_type": "code",
   "execution_count": 2,
   "id": "b9af08fb-40d2-45e0-b882-a0fa99fed2bc",
   "metadata": {},
   "outputs": [],
   "source": [
    "device = torch.device(\"cpu\" if torch.cuda.is_available() else \"cuda\")"
   ]
  },
  {
   "cell_type": "code",
   "execution_count": 3,
   "id": "a0290a5e-3c3b-4aae-b83c-c1dc72536c05",
   "metadata": {},
   "outputs": [],
   "source": [
    "epochs = 100\n",
    "\n",
    "batch_size = 128"
   ]
  },
  {
   "cell_type": "code",
   "execution_count": 4,
   "id": "0c7532a6-3ed3-4636-8229-0c00d67a17a8",
   "metadata": {},
   "outputs": [],
   "source": [
    "normalize = transforms.Normalize(mean=[0.4563, 0.4076, 0.3895], std=[0.2298, 0.2144, 0.2259])\n",
    "\n",
    "# lisa_transforms = transforms.Compose([ transforms.ToPILImage(), transforms.Resize((224, 224)),transforms.ToTensor(),normalize])\n",
    "lisa_transforms = transforms.Compose([ transforms.ToPILImage(),transforms.ToTensor(),normalize])"
   ]
  },
  {
   "cell_type": "code",
   "execution_count": 10,
   "id": "1ff2f947-970f-4de7-bb14-cfce496daa53",
   "metadata": {},
   "outputs": [],
   "source": [
    "%run models.ipynb\n",
    "%run utils.ipynb"
   ]
  },
  {
   "cell_type": "code",
   "execution_count": 274,
   "id": "1dcc92e0-4965-458a-8f3b-9d9651da6fb1",
   "metadata": {},
   "outputs": [
    {
     "name": "stdout",
     "output_type": "stream",
     "text": [
      "Subset creation complete!\n"
     ]
    }
   ],
   "source": [
    "import torch\n",
    "\n",
    "# Define the labels and their corresponding indexes\n",
    "classes = ('stop', 'speedLimitUrdbl', 'speedLimit25', 'pedestrianCrossing', 'speedLimit35', 'turnLeft',\n",
    "                      'slow', 'speedLimit15', 'speedLimit45', 'rightLaneMustTurn', 'signalAhead', 'keepRight',\n",
    "                      'laneEnds', 'school', 'merge', 'addedLane', 'rampSpeedAdvisory40', 'rampSpeedAdvisory45',\n",
    "                      'curveRight', 'speedLimit65', 'truckSpeedLimit55', 'thruMergeLeft', 'speedLimit30', 'stopAhead',\n",
    "                      'yield', 'thruMergeRight', 'dip', 'schoolSpeedLimit25', 'thruTrafficMergeLeft', 'noRightTurn',\n",
    "                      'rampSpeedAdvisory35', 'curveLeft', 'rampSpeedAdvisory20', 'noLeftTurn', 'zoneAhead25',\n",
    "                      'zoneAhead45', 'doNotEnter', 'yieldAhead', 'roundabout', 'turnRight', 'speedLimit50',\n",
    "                      'rampSpeedAdvisoryUrdbl', 'rampSpeedAdvisory50', 'speedLimit40', 'speedLimit55', 'doNotPass',\n",
    "                      'intersection')\n",
    "\n",
    "# Define the indexes for the subset\n",
    "included_indexes = {0, 3, 5, 6, 10, 12, 13, 14, 24, 29, 33, 38, 39}\n",
    "remapped_indexes = {2, 3, 7, 8, 19, 22, 40, 43, 44}\n",
    "\n",
    "# Paths to the image tensors and label tensor\n",
    "image_tensor_paths = [\n",
    "    \"datasets/lisa-batches/images_0.tensor\",  # Replace with the actual path\n",
    "    \"datasets/lisa-batches/images_1.tensor\",\n",
    "    \"datasets/lisa-batches/images_2.tensor\"\n",
    "]\n",
    "label_file_path = \"datasets/lisa-batches/labels.tensor\"  # Replace with the actual path\n",
    "\n",
    "# Load and concatenate all image tensors\n",
    "images_tensor = torch.cat([torch.load(path) for path in image_tensor_paths], dim=0)\n",
    "\n",
    "# Load the labels tensor\n",
    "labels_tensor = torch.load(label_file_path)\n",
    "\n",
    "# Initialize lists for the subset\n",
    "subset_images = []\n",
    "subset_labels = []\n",
    "\n",
    "# Filter and process the dataset\n",
    "for i, label in enumerate(labels_tensor.tolist()):\n",
    "    if label in included_indexes:\n",
    "        subset_images.append(images_tensor[i])\n",
    "        subset_labels.append(label)  # Keep the original label\n",
    "    elif label in remapped_indexes:\n",
    "        subset_images.append(images_tensor[i])\n",
    "        subset_labels.append(50)  # Remap the label to \"speedlimit\"\n",
    "\n",
    "\n",
    "# Convert the subset to tensors\n",
    "subset_images_tensor = torch.stack(subset_images)\n",
    "subset_labels_tensor = torch.tensor(subset_labels)\n",
    "\n",
    "# Save the new subset tensors\n",
    "torch.save(subset_images_tensor, \"datasets/lisa-batches/subset_images.tensor\")  # Replace with the desired save path\n",
    "torch.save(subset_labels_tensor, \"datasets/lisa-batches/subset_labels.tensor\")  # Replace with the desired save path\n",
    "\n",
    "print(\"Subset creation complete!\")\n"
   ]
  },
  {
   "cell_type": "code",
   "execution_count": 285,
   "id": "489e3a5a-c096-42af-93d2-01acd9728011",
   "metadata": {},
   "outputs": [
    {
     "name": "stdout",
     "output_type": "stream",
     "text": [
      "Remapped labels saved to: datasets/lisa-batches/subset_labels2.tensor\n"
     ]
    }
   ],
   "source": [
    "import torch\n",
    "\n",
    "# Path to the original label tensor file\n",
    "label_tensor_path = \"datasets/lisa-batches/subset_labels.tensor\"  # Replace with the actual path\n",
    "\n",
    "# Load the label tensor\n",
    "labels_tensor = torch.load(label_tensor_path)\n",
    "\n",
    "# Define the mapping of original labels to new labels\n",
    "label_mapping = {\n",
    "    0: 0,  # Old 0 -> New 0\n",
    "    50: 1, # Old 50 -> New 1\n",
    "    3: 2,  # Old 3 -> New 2\n",
    "    5: 3,  # Old 5 -> New 3\n",
    "    6: 4,  # Old 6 -> New 4\n",
    "    10: 5, # Old 10 -> New 5\n",
    "    12: 6, # Old 12 -> New 6\n",
    "    13: 7, # Old 13 -> New 7\n",
    "    14: 8, # Old 14 -> New 8\n",
    "    24: 9, # Old 24 -> New 9\n",
    "    29: 10, # Old 29 -> New 10\n",
    "    33: 11, # Old 33 -> New 11\n",
    "    38: 12, # Old 38 -> New 12\n",
    "    39: 13  # Old 39 -> New 14\n",
    "}\n",
    "\n",
    "# Apply the label mapping to the tensor\n",
    "remapped_labels = torch.tensor([label_mapping[label.item()] if label.item() in label_mapping else -1 for label in labels_tensor])\n",
    "\n",
    "# Save the remapped labels tensor to a file\n",
    "save_path = \"datasets/lisa-batches/subset_labels2.tensor\"  # Replace with your desired save path\n",
    "torch.save(remapped_labels, save_path)\n",
    "\n",
    "print(f\"Remapped labels saved to: {save_path}\")\n"
   ]
  },
  {
   "cell_type": "code",
   "execution_count": 12,
   "id": "ffb45245-66e9-4e3a-9b3c-873e22c87569",
   "metadata": {},
   "outputs": [
    {
     "name": "stdout",
     "output_type": "stream",
     "text": [
      "Number of images in each label:\n",
      "Label 0: 1821 images\n",
      "Label 1: 838 images\n",
      "Label 2: 1085 images\n",
      "Label 3: 32 images\n",
      "Label 4: 34 images\n",
      "Label 5: 925 images\n",
      "Label 6: 210 images\n",
      "Label 7: 133 images\n",
      "Label 8: 266 images\n",
      "Label 9: 236 images\n",
      "Label 10: 26 images\n",
      "Label 11: 47 images\n",
      "Label 12: 53 images\n",
      "Label 13: 92 images\n",
      "Total number of images: 5798\n"
     ]
    }
   ],
   "source": [
    "from collections import Counter\n",
    "label_file_path = \"datasets/lisa-batches/subset_labels2.tensor\"  # Replace with the actual path\n",
    "\n",
    "# Load the labels tensor\n",
    "labels_tensor = torch.load(label_file_path)\n",
    "\n",
    "# Convert the tensor to a list for easy inspection\n",
    "labels_list = labels_tensor.tolist()\n",
    "\n",
    "label_counts = Counter(labels_list)\n",
    "\n",
    "# Print the unique labels and their counts\n",
    "print(\"Number of images in each label:\")\n",
    "for label, count in label_counts.items():\n",
    "    print(f\"Label {label}: {count} images\")\n",
    "\n",
    "# Optional: Print the total number of images\n",
    "print(f\"Total number of images: {sum(label_counts.values())}\")"
   ]
  },
  {
   "cell_type": "code",
   "execution_count": 9,
   "id": "30435389-c61b-412a-8c0c-ae12df0febcb",
   "metadata": {},
   "outputs": [],
   "source": [
    "classes = ['stop','speedlimit', 'pedestrianCrossing', 'turnLeft','slow', 'signalAhead', 'laneEnds', 'school', 'merge','yield', 'noRightTurn','noLeftTurn', 'roundabout', 'turnRight']\n",
    "import torch\n",
    "from torch.utils.data import Dataset\n",
    "\n",
    "class SubsetLISA(Dataset):\n",
    "    \"\"\"\n",
    "    A custom dataset for the LISA subset, created using filtered image and label tensors.\n",
    "    \"\"\"\n",
    "    def __init__(self, image_tensor_path, label_tensor_path,train:bool, transform=None):\n",
    "        \"\"\"\n",
    "        Args:\n",
    "            image_tensor_path (str): Path to the images tensor file.\n",
    "            label_tensor_path (str): Path to the labels tensor file.\n",
    "            transform (callable, optional): A function/transform to apply to the images.\n",
    "        \"\"\"\n",
    "        self.images = torch.load(image_tensor_path)\n",
    "        self.labels = torch.load(label_tensor_path)\n",
    "        self.transform = transform\n",
    "        self.train = train\n",
    "        self._train_test_split()\n",
    "\n",
    "        assert len(self.images) == len(self.labels), \"Images and labels length mismatch\"\n",
    "\n",
    "    def __len__(self):\n",
    "        \"\"\"\n",
    "        Returns the total number of samples in the dataset.\n",
    "        \"\"\"\n",
    "        return len(self.labels)\n",
    "\n",
    "    def __getitem__(self, index):\n",
    "        \"\"\"\n",
    "        Args:\n",
    "            index (int): Index of the sample.\n",
    "\n",
    "        Returns:\n",
    "            tuple: (image, label) where image is the input tensor and label is the target tensor.\n",
    "        \"\"\"\n",
    "        image = self.images[index]\n",
    "        target = self.labels[index]\n",
    "\n",
    "        if self.transform:\n",
    "            image = self.transform(image)\n",
    "\n",
    "        return image, target\n",
    "\n",
    "    def _train_test_split(self, test_percent: float = 0.16):\n",
    "        classes = {}\n",
    "        for i, cl in enumerate(self.labels.numpy()):\n",
    "            arr = classes.get(cl, [])\n",
    "            arr.append(i)\n",
    "            classes[cl] = arr\n",
    "\n",
    "        train, test = [], []\n",
    "        for cl, arr in classes.items():\n",
    "            split_index = int(len(arr) * test_percent)\n",
    "            test = test + arr[:split_index]\n",
    "            train = train + arr[split_index:]\n",
    "\n",
    "        sub = train if self.train else test\n",
    "        self.images, self.labels = self.images[sub], self.labels[sub]\n"
   ]
  },
  {
   "cell_type": "code",
   "execution_count": 21,
   "id": "cf3e7320-e064-4126-b6e6-ca49985c6683",
   "metadata": {},
   "outputs": [
    {
     "name": "stdout",
     "output_type": "stream",
     "text": [
      "4876\n",
      "922\n"
     ]
    }
   ],
   "source": [
    "# Paths to the saved subset tensors\n",
    "image_tensor_path = \"datasets/lisa-batches/subset_images.tensor\"  # Replace with your actual file path\n",
    "label_tensor_path = \"datasets/lisa-batches/subset_labels2.tensor\"  # Replace with your actual file path\n",
    "\n",
    "# Initialize the dataset\n",
    "train_dataset = SubsetLISA(image_tensor_path, label_tensor_path, train=True, transform = lisa_transforms)\n",
    "test_dataset = SubsetLISA(image_tensor_path, label_tensor_path, train=False, transform = lisa_transforms)\n",
    "\n",
    "print(len(train_dataset))\n",
    "print(len(test_dataset))\n",
    "\n"
   ]
  },
  {
   "cell_type": "code",
   "execution_count": 23,
   "id": "4ef10d4f-9b71-4416-b178-6da574499f8f",
   "metadata": {},
   "outputs": [
    {
     "name": "stdout",
     "output_type": "stream",
     "text": [
      "(32, 32, 3)\n"
     ]
    },
    {
     "data": {
      "image/png": "[encoded data removed]",
      "text/plain": [
       "<Figure size 640x480 with 1 Axes>"
      ]
     },
     "metadata": {},
     "output_type": "display_data"
    }
   ],
   "source": [
    "# Get a sample 4796 and label\n",
    "sample_index = 800\n",
    "\n",
    "# Change index to see different samples\n",
    "image, label = train_dataset[sample_index]\n",
    "\n",
    "# Convert the image tensor to a format suitable for display\n",
    "image = image.permute(1, 2, 0).numpy()\n",
    "print(image.shape)# Convert (C, H, W) to (H, W, C)\n",
    "image = (image - image.min()) / (image.max() - image.min())  # Normalize to [0, 1]\n",
    "\n",
    "# Visualize the image\n",
    "plt.imshow(image)\n",
    "plt.title(f\"Label: {label} ({classes[label]})\")  # Display the label\n",
    "plt.axis('off')\n",
    "plt.show()"
   ]
  }
 ],
 "metadata": {
  "kernelspec": {
   "display_name": "Python 3 (ipykernel)",
   "language": "python",
   "name": "python3"
  },
  "language_info": {
   "codemirror_mode": {
    "name": "ipython",
    "version": 3
   },
   "file_extension": ".py",
   "mimetype": "text/x-python",
   "name": "python",
   "nbconvert_exporter": "python",
   "pygments_lexer": "ipython3",
   "version": "3.12.3"
  }
 },
 "nbformat": 4,
 "nbformat_minor": 5
}
