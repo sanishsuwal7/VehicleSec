{
 "cells": [
  {
   "cell_type": "code",
   "execution_count": 32,
   "id": "0b357db0-aec9-419a-b636-02ae6c0a46a5",
   "metadata": {},
   "outputs": [],
   "source": [
    "import torch\n",
    "import torch.nn as nn\n",
    "import torch.nn.functional as F\n",
    "from torch.utils.data import DataLoader\n",
    "import torch.nn.utils.prune as prune\n",
    "\n",
    "import torchvision\n",
    "from torchvision import datasets\n",
    "import torchvision.transforms as transforms\n",
    "from torchvision import models\n",
    "from torchmetrics import Accuracy\n",
    "\n",
    "import quantus\n",
    "import captum\n",
    "from captum.attr import Saliency, IntegratedGradients, NoiseTunnel\n",
    "from cleverhans.torch.attacks.projected_gradient_descent import (projected_gradient_descent)\n",
    "\n",
    "import numpy as np\n",
    "import pandas as pd\n",
    "import matplotlib.pyplot as plt\n",
    "# import seaborn as sns\n",
    "\n",
    "import random\n",
    "import copy\n",
    "import gc\n",
    "import math\n",
    "\n",
    "import warnings\n",
    "warnings.filterwarnings('ignore')\n",
    "\n",
    "# from lisa import LISA\n",
    "from itertools import chain\n",
    "from model import *\n",
    "from pathlib import Path\n",
    "from ranger import Ranger"
   ]
  },
  {
   "cell_type": "code",
   "execution_count": 34,
   "id": "e4dcb616-4aed-49db-aaa3-6da5b3597f9b",
   "metadata": {},
   "outputs": [],
   "source": [
    "from torch.utils.data import Dataset\n",
    "\n",
    "class SubsetLISA(Dataset):\n",
    "    \"\"\"\n",
    "    A custom dataset for the LISA subset, created using filtered image and label tensors.\n",
    "    \"\"\"\n",
    "    def __init__(self, image_tensor_path, label_tensor_path,train:bool, transform=None):\n",
    "        \"\"\"\n",
    "        Args:\n",
    "            image_tensor_path (str): Path to the images tensor file.\n",
    "            label_tensor_path (str): Path to the labels tensor file.\n",
    "            transform (callable, optional): A function/transform to apply to the images.\n",
    "        \"\"\"\n",
    "        self.images = torch.load(image_tensor_path)\n",
    "        self.labels = torch.load(label_tensor_path)\n",
    "        self.transform = transform\n",
    "        self.train = train\n",
    "        self._train_test_split()\n",
    "\n",
    "        assert len(self.images) == len(self.labels), \"Images and labels length mismatch\"\n",
    "\n",
    "    def __len__(self):\n",
    "        \"\"\"\n",
    "        Returns the total number of samples in the dataset.\n",
    "        \"\"\"\n",
    "        return len(self.labels)\n",
    "\n",
    "    def __getitem__(self, index):\n",
    "        \"\"\"\n",
    "        Args:\n",
    "            index (int): Index of the sample.\n",
    "\n",
    "        Returns:\n",
    "            tuple: (image, label) where image is the input tensor and label is the target tensor.\n",
    "        \"\"\"\n",
    "        image = self.images[index]\n",
    "        target = self.labels[index]\n",
    "\n",
    "        if self.transform:\n",
    "            image = self.transform(image)\n",
    "\n",
    "        return image, target\n",
    "\n",
    "    def _train_test_split(self, test_percent: float = 0.16):\n",
    "        classes = {}\n",
    "        for i, cl in enumerate(self.labels.numpy()):\n",
    "            arr = classes.get(cl, [])\n",
    "            arr.append(i)\n",
    "            classes[cl] = arr\n",
    "\n",
    "        train, test = [], []\n",
    "        for cl, arr in classes.items():\n",
    "            split_index = int(len(arr) * test_percent)\n",
    "            test = test + arr[:split_index]\n",
    "            train = train + arr[split_index:]\n",
    "\n",
    "        sub = train if self.train else test\n",
    "        self.images, self.labels = self.images[sub], self.labels[sub]"
   ]
  },
  {
   "cell_type": "code",
   "execution_count": 36,
   "id": "6a4134fd-c089-401c-a653-fd5624625a8b",
   "metadata": {},
   "outputs": [],
   "source": [
    "%run models.ipynb\n",
    "%run utils.ipynb"
   ]
  },
  {
   "cell_type": "code",
   "execution_count": 110,
   "id": "ce4c98f0-eb69-435e-88b7-e5eaecc01029",
   "metadata": {},
   "outputs": [],
   "source": [
    "device = torch.device(\"cuda\" if torch.cuda.is_available() else \"cpu\")\n",
    "epochs = 50\n",
    "batch_size = 8"
   ]
  },
  {
   "cell_type": "code",
   "execution_count": 40,
   "id": "346ebceb-9aa9-47e4-8305-b2d9ecedb129",
   "metadata": {},
   "outputs": [],
   "source": [
    "normalize = transforms.Normalize(mean=[0.4563, 0.4076, 0.3895], std=[0.2298, 0.2144, 0.2259])\n",
    "\n",
    "lisa_transforms = transforms.Compose([ transforms.ToPILImage(), transforms.Resize((224, 224)),transforms.ToTensor(),normalize])\n",
    "\n",
    "# Paths to the saved subset tensors\n",
    "image_tensor_path = \"datasets/lisa-batches/subset_images.tensor\"  # Replace with your actual file path\n",
    "label_tensor_path = \"datasets/lisa-batches/subset_labels2.tensor\"  # Replace with your actual file path\n",
    "\n",
    "# Initialize the dataset\n",
    "train_dataset = SubsetLISA(image_tensor_path, label_tensor_path, train=True, transform = lisa_transforms)\n",
    "test_dataset = SubsetLISA(image_tensor_path, label_tensor_path, train=False, transform = lisa_transforms)\n"
   ]
  },
  {
   "cell_type": "code",
   "execution_count": 42,
   "id": "0ab29fa5-3d03-4542-8f54-3653627730cb",
   "metadata": {},
   "outputs": [],
   "source": [
    "train_dataloader = torch.utils.data.DataLoader(train_dataset, batch_size=batch_size, shuffle=True,) # num_workers=4,\n",
    "test_dataloader = torch.utils.data.DataLoader(test_dataset, batch_size=batch_size, shuffle=False)\n"
   ]
  },
  {
   "cell_type": "code",
   "execution_count": 69,
   "id": "ebb29703-1b77-4f59-accf-706c0cac6ebe",
   "metadata": {},
   "outputs": [
    {
     "name": "stdout",
     "output_type": "stream",
     "text": [
      "Ranger optimizer loaded. \n",
      "Gradient Centralization usage = True\n",
      "GC applied to both conv and fc layers\n"
     ]
    }
   ],
   "source": [
    "model = resnet_18(filter='None', filter_layer=0)\n",
    "learning_rate = 1e-04\n",
    "criterion = nn.CrossEntropyLoss(reduction=\"mean\")\n",
    "optimizer = Ranger(model.parameters(), lr = learning_rate, eps = 1e-06)"
   ]
  },
  {
   "cell_type": "code",
   "execution_count": 71,
   "id": "b2bda35d-794a-4baa-8e74-47bbc37bcf4d",
   "metadata": {},
   "outputs": [],
   "source": [
    "def train_model(model, epochs):\n",
    "    model.train()\n",
    "    for epoch in range(epochs):\n",
    "        for x_batch, y_batch in train_dataloader:\n",
    "            x_batch, y_batch = x_batch.to(device), y_batch.to(device)\n",
    "            optimizer.zero_grad()\n",
    "            output = model(x_batch)\n",
    "            loss = criterion(output, y_batch)\n",
    "            loss.backward()\n",
    "            optimizer.step()\n",
    "\n",
    "        # Evaluate model!\n",
    "        if epochs%10==0:\n",
    "            predictions, labels = evaluate_model(model, test_dataloader, device)\n",
    "            test_acc = np.mean(np.argmax(predictions.cpu().numpy(), axis=1) == labels.cpu().numpy())\n",
    "            print(f\"Epoch {epoch+1}/{epochs} - test accuracy: {(100 * test_acc):.2f}% and CE loss {loss.item():.2f}\")\n",
    "    return model"
   ]
  },
  {
   "cell_type": "code",
   "execution_count": 73,
   "id": "41379604-bb81-4183-8a2a-281dc0fe3788",
   "metadata": {},
   "outputs": [
    {
     "name": "stdout",
     "output_type": "stream",
     "text": [
      "Epoch 1/100 - test accuracy: 48.05% and CE loss 1.48\n",
      "Epoch 2/100 - test accuracy: 74.95% and CE loss 0.02\n",
      "Epoch 3/100 - test accuracy: 77.87% and CE loss 0.04\n",
      "Epoch 4/100 - test accuracy: 78.09% and CE loss 0.13\n",
      "Epoch 5/100 - test accuracy: 88.61% and CE loss 0.24\n",
      "Epoch 6/100 - test accuracy: 86.55% and CE loss 0.00\n",
      "Epoch 7/100 - test accuracy: 85.14% and CE loss 0.01\n",
      "Epoch 8/100 - test accuracy: 89.26% and CE loss 0.00\n",
      "Epoch 9/100 - test accuracy: 92.62% and CE loss 0.00\n",
      "Epoch 10/100 - test accuracy: 88.61% and CE loss 0.00\n",
      "Epoch 11/100 - test accuracy: 92.62% and CE loss 0.00\n",
      "Epoch 12/100 - test accuracy: 95.44% and CE loss 0.00\n",
      "Epoch 13/100 - test accuracy: 86.66% and CE loss 0.00\n",
      "Epoch 14/100 - test accuracy: 91.32% and CE loss 0.00\n",
      "Epoch 15/100 - test accuracy: 96.64% and CE loss 0.00\n",
      "Epoch 16/100 - test accuracy: 97.61% and CE loss 0.00\n",
      "Epoch 17/100 - test accuracy: 97.83% and CE loss 0.00\n",
      "Epoch 18/100 - test accuracy: 97.72% and CE loss 0.00\n",
      "Epoch 19/100 - test accuracy: 97.72% and CE loss 0.00\n",
      "Epoch 20/100 - test accuracy: 97.83% and CE loss 0.00\n",
      "Epoch 21/100 - test accuracy: 97.94% and CE loss 0.00\n",
      "Epoch 22/100 - test accuracy: 97.94% and CE loss 0.00\n",
      "Epoch 23/100 - test accuracy: 98.05% and CE loss 0.00\n",
      "Epoch 24/100 - test accuracy: 98.05% and CE loss 0.00\n",
      "Epoch 25/100 - test accuracy: 98.05% and CE loss 0.00\n",
      "Epoch 26/100 - test accuracy: 98.05% and CE loss 0.00\n",
      "Epoch 27/100 - test accuracy: 98.05% and CE loss 0.00\n",
      "Epoch 28/100 - test accuracy: 98.16% and CE loss 0.00\n",
      "Epoch 29/100 - test accuracy: 98.05% and CE loss 0.00\n",
      "Epoch 30/100 - test accuracy: 98.05% and CE loss 0.00\n",
      "Epoch 31/100 - test accuracy: 98.05% and CE loss 0.00\n",
      "Epoch 32/100 - test accuracy: 98.05% and CE loss 0.00\n",
      "Epoch 33/100 - test accuracy: 98.05% and CE loss 0.00\n",
      "Epoch 34/100 - test accuracy: 98.16% and CE loss 0.00\n",
      "Epoch 35/100 - test accuracy: 98.16% and CE loss 0.00\n",
      "Epoch 36/100 - test accuracy: 98.16% and CE loss 0.00\n",
      "Epoch 37/100 - test accuracy: 98.16% and CE loss 0.00\n",
      "Epoch 38/100 - test accuracy: 98.16% and CE loss 0.00\n",
      "Epoch 39/100 - test accuracy: 98.26% and CE loss 0.00\n",
      "Epoch 40/100 - test accuracy: 98.26% and CE loss 0.00\n",
      "Epoch 41/100 - test accuracy: 98.26% and CE loss 0.00\n",
      "Epoch 42/100 - test accuracy: 98.37% and CE loss 0.00\n",
      "Epoch 43/100 - test accuracy: 98.37% and CE loss 0.00\n",
      "Epoch 44/100 - test accuracy: 98.37% and CE loss 0.00\n",
      "Epoch 45/100 - test accuracy: 98.37% and CE loss 0.00\n",
      "Epoch 46/100 - test accuracy: 98.37% and CE loss 0.00\n",
      "Epoch 47/100 - test accuracy: 98.37% and CE loss 0.00\n",
      "Epoch 48/100 - test accuracy: 98.48% and CE loss 0.00\n",
      "Epoch 49/100 - test accuracy: 98.37% and CE loss 0.00\n",
      "Epoch 50/100 - test accuracy: 98.37% and CE loss 0.00\n",
      "Epoch 51/100 - test accuracy: 98.37% and CE loss 0.00\n",
      "Epoch 52/100 - test accuracy: 98.37% and CE loss 0.00\n",
      "Epoch 53/100 - test accuracy: 98.48% and CE loss 0.00\n",
      "Epoch 54/100 - test accuracy: 98.37% and CE loss 0.00\n",
      "Epoch 55/100 - test accuracy: 98.37% and CE loss 0.00\n",
      "Epoch 56/100 - test accuracy: 98.48% and CE loss 0.00\n",
      "Epoch 57/100 - test accuracy: 98.37% and CE loss 0.00\n",
      "Epoch 58/100 - test accuracy: 98.37% and CE loss 0.00\n",
      "Epoch 59/100 - test accuracy: 98.37% and CE loss 0.00\n",
      "Epoch 60/100 - test accuracy: 98.37% and CE loss 0.00\n",
      "Epoch 61/100 - test accuracy: 98.37% and CE loss 0.00\n",
      "Epoch 62/100 - test accuracy: 98.37% and CE loss 0.00\n",
      "Epoch 63/100 - test accuracy: 98.37% and CE loss 0.00\n",
      "Epoch 64/100 - test accuracy: 98.37% and CE loss 0.00\n",
      "Epoch 65/100 - test accuracy: 98.37% and CE loss 0.00\n",
      "Epoch 66/100 - test accuracy: 98.37% and CE loss 0.00\n",
      "Epoch 67/100 - test accuracy: 98.37% and CE loss 0.00\n",
      "Epoch 68/100 - test accuracy: 98.37% and CE loss 0.00\n",
      "Epoch 69/100 - test accuracy: 98.37% and CE loss 0.00\n",
      "Epoch 70/100 - test accuracy: 98.37% and CE loss 0.00\n",
      "Epoch 71/100 - test accuracy: 98.37% and CE loss 0.00\n",
      "Epoch 72/100 - test accuracy: 98.37% and CE loss 0.00\n",
      "Epoch 73/100 - test accuracy: 98.37% and CE loss 0.00\n",
      "Epoch 74/100 - test accuracy: 98.26% and CE loss 0.00\n",
      "Epoch 75/100 - test accuracy: 98.26% and CE loss 0.00\n",
      "Epoch 76/100 - test accuracy: 98.26% and CE loss 0.00\n",
      "Epoch 77/100 - test accuracy: 98.26% and CE loss 0.00\n",
      "Epoch 78/100 - test accuracy: 98.26% and CE loss 0.00\n",
      "Epoch 79/100 - test accuracy: 98.26% and CE loss 0.00\n",
      "Epoch 80/100 - test accuracy: 98.26% and CE loss 0.00\n",
      "Epoch 81/100 - test accuracy: 98.26% and CE loss 0.00\n",
      "Epoch 82/100 - test accuracy: 98.26% and CE loss 0.00\n",
      "Epoch 83/100 - test accuracy: 98.26% and CE loss 0.00\n",
      "Epoch 84/100 - test accuracy: 98.26% and CE loss 0.00\n",
      "Epoch 85/100 - test accuracy: 98.26% and CE loss 0.00\n",
      "Epoch 86/100 - test accuracy: 98.26% and CE loss 0.00\n",
      "Epoch 87/100 - test accuracy: 98.26% and CE loss 0.00\n",
      "Epoch 88/100 - test accuracy: 98.26% and CE loss 0.00\n",
      "Epoch 89/100 - test accuracy: 98.26% and CE loss 0.00\n",
      "Epoch 90/100 - test accuracy: 98.26% and CE loss 0.00\n",
      "Epoch 91/100 - test accuracy: 98.26% and CE loss 0.00\n",
      "Epoch 92/100 - test accuracy: 98.26% and CE loss 0.00\n",
      "Epoch 93/100 - test accuracy: 98.26% and CE loss 0.00\n",
      "Epoch 94/100 - test accuracy: 98.26% and CE loss 0.00\n",
      "Epoch 95/100 - test accuracy: 98.26% and CE loss 0.00\n",
      "Epoch 96/100 - test accuracy: 98.26% and CE loss 0.00\n",
      "Epoch 97/100 - test accuracy: 98.26% and CE loss 0.00\n",
      "Epoch 98/100 - test accuracy: 98.26% and CE loss 0.00\n",
      "Epoch 99/100 - test accuracy: 98.26% and CE loss 0.00\n",
      "Epoch 100/100 - test accuracy: 98.26% and CE loss 0.00\n"
     ]
    }
   ],
   "source": [
    "model_normal = train_model(model=model.to(device),epochs=epochs)"
   ]
  },
  {
   "cell_type": "code",
   "execution_count": 74,
   "id": "e21d427c-15f0-42dd-8b3f-b046eb88eb70",
   "metadata": {},
   "outputs": [
    {
     "name": "stdout",
     "output_type": "stream",
     "text": [
      "Test accuracy for RESNET LISA Normal is: 98.26%\n"
     ]
    }
   ],
   "source": [
    "# Check test set performance.\n",
    "predictions, labels = evaluate_model(model_normal, test_dataloader, device)\n",
    "test_acc = np.mean(np.argmax(predictions.cpu().numpy(), axis=1) == labels.cpu().numpy())        \n",
    "print(f\"Test accuracy for RESNET LISA Normal is: {(100 * test_acc):.2f}%\")"
   ]
  },
  {
   "cell_type": "code",
   "execution_count": 79,
   "id": "a1e1715e-f3c1-4800-a2a5-839df36f0f86",
   "metadata": {},
   "outputs": [
    {
     "name": "stdout",
     "output_type": "stream",
     "text": [
      "Saving the model: models\\resnet_lisa_normal.pth\n"
     ]
    }
   ],
   "source": [
    "model_path = Path(\"models\")\n",
    "model_path.mkdir(parents=True, exist_ok=True)\n",
    "\n",
    "model_name = \"resnet_lisa_normal.pth\"\n",
    "model_save_path = model_path / model_name\n",
    "\n",
    "print(f\"Saving the model: {model_save_path}\")\n",
    "torch.save(obj=model_normal.state_dict(), f=model_save_path)"
   ]
  },
  {
   "cell_type": "markdown",
   "id": "3cb2d397-72ec-49f5-a458-9d2515d8b390",
   "metadata": {},
   "source": [
    "# L1 pre "
   ]
  },
  {
   "cell_type": "code",
   "execution_count": 82,
   "id": "6e3a26a8-7622-40f0-ab5d-64bfa0f6f17d",
   "metadata": {},
   "outputs": [
    {
     "name": "stdout",
     "output_type": "stream",
     "text": [
      "Ranger optimizer loaded. \n",
      "Gradient Centralization usage = True\n",
      "GC applied to both conv and fc layers\n",
      "RESNET global sparsity = 0.00%\n"
     ]
    }
   ],
   "source": [
    "model = resnet_18(filter='None', filter_layer=0)\n",
    "learning_rate = 1e-04\n",
    "criterion = nn.CrossEntropyLoss(reduction=\"mean\")\n",
    "optimizer = Ranger(model.parameters(), lr = learning_rate, eps = 1e-06)\n",
    "\n",
    "print(f\"RESNET global sparsity = {compute_sparsity_resnet(model):.2f}%\")"
   ]
  },
  {
   "cell_type": "code",
   "execution_count": 84,
   "id": "ef34f822-e438-464e-b809-d69d14c97b84",
   "metadata": {},
   "outputs": [
    {
     "name": "stdout",
     "output_type": "stream",
     "text": [
      "RESNET global sparsity = 19.99%\n"
     ]
    }
   ],
   "source": [
    "for name, module in model.named_modules():\n",
    "    # prune 20% of weights/connections in for all hidden layaers-\n",
    "    if isinstance(module, torch.nn.Conv2d):\n",
    "        prune.l1_unstructured(module = module, name = 'weight', amount = 0.2)\n",
    "    \n",
    "    # prune 10% of weights/connections for output layer-\n",
    "    elif isinstance(module, torch.nn.Linear):\n",
    "        prune.l1_unstructured(module = module, name = 'weight', amount = 0.1)\n",
    "\n",
    "print(f\"RESNET global sparsity = {compute_sparsity_resnet(model):.2f}%\")"
   ]
  },
  {
   "cell_type": "code",
   "execution_count": 86,
   "id": "def32fe7-a829-451f-a926-1706910c63bd",
   "metadata": {},
   "outputs": [
    {
     "name": "stdout",
     "output_type": "stream",
     "text": [
      "Epoch 1/100 - test accuracy: 51.19% and CE loss 1.63\n",
      "Epoch 2/100 - test accuracy: 69.63% and CE loss 0.04\n",
      "Epoch 3/100 - test accuracy: 80.69% and CE loss 0.00\n",
      "Epoch 4/100 - test accuracy: 77.11% and CE loss 0.00\n",
      "Epoch 5/100 - test accuracy: 82.32% and CE loss 0.00\n",
      "Epoch 6/100 - test accuracy: 85.25% and CE loss 0.00\n",
      "Epoch 7/100 - test accuracy: 84.60% and CE loss 0.00\n",
      "Epoch 8/100 - test accuracy: 85.03% and CE loss 0.02\n",
      "Epoch 9/100 - test accuracy: 90.13% and CE loss 0.00\n",
      "Epoch 10/100 - test accuracy: 92.30% and CE loss 0.00\n",
      "Epoch 11/100 - test accuracy: 84.38% and CE loss 0.00\n",
      "Epoch 12/100 - test accuracy: 88.83% and CE loss 0.00\n",
      "Epoch 13/100 - test accuracy: 92.95% and CE loss 0.00\n",
      "Epoch 14/100 - test accuracy: 96.53% and CE loss 0.00\n",
      "Epoch 15/100 - test accuracy: 96.31% and CE loss 0.00\n",
      "Epoch 16/100 - test accuracy: 95.23% and CE loss 0.00\n",
      "Epoch 17/100 - test accuracy: 94.36% and CE loss 0.00\n",
      "Epoch 18/100 - test accuracy: 93.06% and CE loss 0.00\n",
      "Epoch 19/100 - test accuracy: 94.58% and CE loss 0.00\n",
      "Epoch 20/100 - test accuracy: 94.90% and CE loss 0.00\n",
      "Epoch 21/100 - test accuracy: 95.01% and CE loss 0.00\n",
      "Epoch 22/100 - test accuracy: 95.01% and CE loss 0.00\n",
      "Epoch 23/100 - test accuracy: 95.23% and CE loss 0.00\n",
      "Epoch 24/100 - test accuracy: 95.23% and CE loss 0.00\n",
      "Epoch 25/100 - test accuracy: 95.44% and CE loss 0.00\n",
      "Epoch 26/100 - test accuracy: 95.55% and CE loss 0.00\n",
      "Epoch 27/100 - test accuracy: 95.77% and CE loss 0.00\n",
      "Epoch 28/100 - test accuracy: 95.77% and CE loss 0.00\n",
      "Epoch 29/100 - test accuracy: 95.77% and CE loss 0.00\n",
      "Epoch 30/100 - test accuracy: 95.99% and CE loss 0.00\n",
      "Epoch 31/100 - test accuracy: 96.10% and CE loss 0.00\n",
      "Epoch 32/100 - test accuracy: 96.10% and CE loss 0.00\n",
      "Epoch 33/100 - test accuracy: 96.20% and CE loss 0.00\n",
      "Epoch 34/100 - test accuracy: 96.20% and CE loss 0.00\n",
      "Epoch 35/100 - test accuracy: 96.20% and CE loss 0.00\n",
      "Epoch 36/100 - test accuracy: 96.10% and CE loss 0.00\n",
      "Epoch 37/100 - test accuracy: 96.20% and CE loss 0.00\n",
      "Epoch 38/100 - test accuracy: 96.20% and CE loss 0.00\n",
      "Epoch 39/100 - test accuracy: 96.42% and CE loss 0.00\n",
      "Epoch 40/100 - test accuracy: 96.53% and CE loss 0.00\n",
      "Epoch 41/100 - test accuracy: 96.64% and CE loss 0.00\n",
      "Epoch 42/100 - test accuracy: 96.75% and CE loss 0.00\n",
      "Epoch 43/100 - test accuracy: 96.75% and CE loss 0.00\n",
      "Epoch 44/100 - test accuracy: 96.75% and CE loss 0.00\n",
      "Epoch 45/100 - test accuracy: 96.85% and CE loss 0.00\n",
      "Epoch 46/100 - test accuracy: 96.96% and CE loss 0.00\n",
      "Epoch 47/100 - test accuracy: 96.96% and CE loss 0.00\n",
      "Epoch 48/100 - test accuracy: 96.96% and CE loss 0.00\n",
      "Epoch 49/100 - test accuracy: 97.07% and CE loss 0.00\n",
      "Epoch 50/100 - test accuracy: 97.07% and CE loss 0.00\n",
      "Epoch 51/100 - test accuracy: 97.07% and CE loss 0.00\n",
      "Epoch 52/100 - test accuracy: 97.18% and CE loss 0.00\n",
      "Epoch 53/100 - test accuracy: 97.18% and CE loss 0.00\n",
      "Epoch 54/100 - test accuracy: 97.18% and CE loss 0.00\n",
      "Epoch 55/100 - test accuracy: 97.18% and CE loss 0.00\n",
      "Epoch 56/100 - test accuracy: 97.07% and CE loss 0.00\n",
      "Epoch 57/100 - test accuracy: 97.07% and CE loss 0.00\n",
      "Epoch 58/100 - test accuracy: 97.07% and CE loss 0.00\n",
      "Epoch 59/100 - test accuracy: 97.07% and CE loss 0.00\n",
      "Epoch 60/100 - test accuracy: 97.07% and CE loss 0.00\n",
      "Epoch 61/100 - test accuracy: 97.07% and CE loss 0.00\n",
      "Epoch 62/100 - test accuracy: 97.07% and CE loss 0.00\n",
      "Epoch 63/100 - test accuracy: 97.07% and CE loss 0.00\n",
      "Epoch 64/100 - test accuracy: 97.07% and CE loss 0.00\n",
      "Epoch 65/100 - test accuracy: 97.07% and CE loss 0.00\n",
      "Epoch 66/100 - test accuracy: 97.18% and CE loss 0.00\n",
      "Epoch 67/100 - test accuracy: 97.18% and CE loss 0.00\n",
      "Epoch 68/100 - test accuracy: 97.07% and CE loss 0.00\n",
      "Epoch 69/100 - test accuracy: 97.18% and CE loss 0.00\n",
      "Epoch 70/100 - test accuracy: 97.18% and CE loss 0.00\n",
      "Epoch 71/100 - test accuracy: 97.07% and CE loss 0.00\n",
      "Epoch 72/100 - test accuracy: 97.07% and CE loss 0.00\n",
      "Epoch 73/100 - test accuracy: 97.18% and CE loss 0.00\n",
      "Epoch 74/100 - test accuracy: 97.07% and CE loss 0.00\n",
      "Epoch 75/100 - test accuracy: 97.18% and CE loss 0.00\n",
      "Epoch 76/100 - test accuracy: 97.07% and CE loss 0.00\n",
      "Epoch 77/100 - test accuracy: 97.07% and CE loss 0.00\n",
      "Epoch 78/100 - test accuracy: 97.07% and CE loss 0.00\n",
      "Epoch 79/100 - test accuracy: 97.07% and CE loss 0.00\n",
      "Epoch 80/100 - test accuracy: 97.07% and CE loss 0.00\n",
      "Epoch 81/100 - test accuracy: 97.07% and CE loss 0.00\n",
      "Epoch 82/100 - test accuracy: 97.07% and CE loss 0.00\n",
      "Epoch 83/100 - test accuracy: 97.07% and CE loss 0.00\n",
      "Epoch 84/100 - test accuracy: 97.07% and CE loss 0.00\n",
      "Epoch 85/100 - test accuracy: 97.07% and CE loss 0.00\n",
      "Epoch 86/100 - test accuracy: 97.07% and CE loss 0.00\n",
      "Epoch 87/100 - test accuracy: 97.07% and CE loss 0.00\n",
      "Epoch 88/100 - test accuracy: 97.07% and CE loss 0.00\n",
      "Epoch 89/100 - test accuracy: 97.07% and CE loss 0.00\n",
      "Epoch 90/100 - test accuracy: 97.07% and CE loss 0.00\n",
      "Epoch 91/100 - test accuracy: 97.07% and CE loss 0.00\n",
      "Epoch 92/100 - test accuracy: 97.07% and CE loss 0.00\n",
      "Epoch 93/100 - test accuracy: 97.07% and CE loss 0.00\n",
      "Epoch 94/100 - test accuracy: 97.07% and CE loss 0.00\n",
      "Epoch 95/100 - test accuracy: 97.07% and CE loss 0.00\n",
      "Epoch 96/100 - test accuracy: 96.96% and CE loss 0.00\n",
      "Epoch 97/100 - test accuracy: 96.96% and CE loss 0.00\n",
      "Epoch 98/100 - test accuracy: 96.96% and CE loss 0.00\n",
      "Epoch 99/100 - test accuracy: 96.96% and CE loss 0.00\n",
      "Epoch 100/100 - test accuracy: 97.07% and CE loss 0.00\n"
     ]
    }
   ],
   "source": [
    "model_l1_unstructured = train_model(model = model.to(device), epochs = epochs)"
   ]
  },
  {
   "cell_type": "code",
   "execution_count": 87,
   "id": "9fb817b2-1d60-4093-9eac-19b5ea8bf1d5",
   "metadata": {},
   "outputs": [
    {
     "name": "stdout",
     "output_type": "stream",
     "text": [
      "Test accuracy for RESNET LISA L1 pre is: 97.07%\n"
     ]
    }
   ],
   "source": [
    "# Check test set performance.\n",
    "predictions, labels = evaluate_model(model_l1_unstructured, test_dataloader, device)\n",
    "test_acc = np.mean(np.argmax(predictions.cpu().numpy(), axis=1) == labels.cpu().numpy())        \n",
    "print(f\"Test accuracy for RESNET LISA L1 pre is: {(100 * test_acc):.2f}%\")"
   ]
  },
  {
   "cell_type": "code",
   "execution_count": 93,
   "id": "267ce53e-c59a-4fa1-8663-9182d06f0695",
   "metadata": {},
   "outputs": [
    {
     "name": "stdout",
     "output_type": "stream",
     "text": [
      "Saving the model: models\\resnet_lisa_l1_pre.pth\n"
     ]
    }
   ],
   "source": [
    "model_path = Path(\"models\")\n",
    "model_path.mkdir(parents=True, exist_ok=True)\n",
    "\n",
    "model_name = \"resnet_lisa_l1_pre.pth\"\n",
    "model_save_path = model_path / model_name\n",
    "\n",
    "print(f\"Saving the model: {model_save_path}\")\n",
    "torch.save(obj=model_l1_unstructured.state_dict(), f=model_save_path)"
   ]
  },
  {
   "cell_type": "markdown",
   "id": "dfefa513-f7ae-4cf1-ba0a-9351682a2616",
   "metadata": {},
   "source": [
    "# Global Pre"
   ]
  },
  {
   "cell_type": "code",
   "execution_count": 112,
   "id": "05ddc06b-5051-4d1c-a5dd-6f08d6de7f33",
   "metadata": {},
   "outputs": [
    {
     "name": "stdout",
     "output_type": "stream",
     "text": [
      "Ranger optimizer loaded. \n",
      "Gradient Centralization usage = True\n",
      "GC applied to both conv and fc layers\n",
      "RESNET-18 global sparsity = 0.00%\n"
     ]
    }
   ],
   "source": [
    "model = resnet_18(filter='None', filter_layer=0)\n",
    "learning_rate = 1e-04\n",
    "criterion = nn.CrossEntropyLoss(reduction=\"mean\").cuda()\n",
    "optimizer = Ranger(model.parameters(), lr = learning_rate, eps = 1e-06)\n",
    "print(f\"RESNET-18 global sparsity = {compute_sparsity_resnet(model):.2f}%\")"
   ]
  },
  {
   "cell_type": "code",
   "execution_count": 114,
   "id": "7b8531e9-6254-4c3f-b473-33f6578caacc",
   "metadata": {},
   "outputs": [],
   "source": [
    "parameters_to_prune = (\n",
    "    (model.conv1, 'weight'),\n",
    "    (model.bn1, 'weight'),\n",
    "    (model.layer1[0].conv1, 'weight'),\n",
    "    (model.layer1[0].bn1, 'weight'),\n",
    "    (model.layer1[0].conv2, 'weight'),\n",
    "    (model.layer1[0].bn2, 'weight'),\n",
    "    (model.layer1[1].conv1, 'weight'),\n",
    "    (model.layer1[1].bn1, 'weight'),\n",
    "    (model.layer1[1].conv2, 'weight'),\n",
    "    (model.layer1[1].bn2, 'weight'),\n",
    "    (model.layer2[0].conv1, 'weight'),\n",
    "    (model.layer2[0].bn1, 'weight'),\n",
    "    (model.layer2[0].conv2, 'weight'),\n",
    "    (model.layer2[0].bn2, 'weight'),\n",
    "    (model.layer2[1].conv1, 'weight'),\n",
    "    (model.layer2[1].bn1, 'weight'),\n",
    "    (model.layer2[1].conv2, 'weight'),\n",
    "    (model.layer2[1].bn2, 'weight'),\n",
    "    (model.layer3[0].conv1, 'weight'),\n",
    "    (model.layer3[0].bn1, 'weight'),\n",
    "    (model.layer3[0].conv2, 'weight'),\n",
    "    (model.layer3[0].bn2, 'weight'),\n",
    "    (model.layer3[1].conv1, 'weight'),\n",
    "    (model.layer3[1].bn1, 'weight'),\n",
    "    (model.layer3[1].conv2, 'weight'),\n",
    "    (model.layer3[1].bn2, 'weight'),\n",
    "    (model.layer4[0].conv1, 'weight'),\n",
    "    (model.layer4[0].bn1, 'weight'),\n",
    "    (model.layer4[0].conv2, 'weight'),\n",
    "    (model.layer4[0].bn2, 'weight'),\n",
    "    (model.layer4[1].conv1, 'weight'),\n",
    "    (model.layer4[1].bn1, 'weight'),\n",
    "    (model.layer4[1].conv2, 'weight'),\n",
    "    (model.layer4[1].bn2, 'weight'),\n",
    "    (model.fc, 'weight')\n",
    ")\n",
    "\n",
    "prune_rates_global = [0.2, 0.3, 0.4, 0.5, 0.6]\n",
    "\n",
    "def train_global_pruned(model, epochs):\n",
    "    for iter_prune_round in range(1):\n",
    "        print(f\"\\n\\nIterative Global pruning round = {iter_prune_round + 1}\")\n",
    "        \n",
    "        # Prune layer-wise in a structured manner-\n",
    "        prune.global_unstructured(\n",
    "            parameters_to_prune,\n",
    "            pruning_method = prune.L1Unstructured,\n",
    "            amount = prune_rates_global[iter_prune_round]\n",
    "            \n",
    "        )\n",
    "    \n",
    "        # Print current global sparsity level-\n",
    "        print(f\"RESNET-18 global sparsity = {compute_sparsity_resnet(model):.2f}%\")\n",
    "        \n",
    "        \n",
    "        # Fine-training loop-\n",
    "        print(\"\\nFine-tuning pruned model to recover model's performance\\n\")\n",
    "        model.train()\n",
    "        for epoch in range(epochs):\n",
    "            for x_batch, y_batch in train_dataloader:\n",
    "                x_batch, y_batch = x_batch.to(device), y_batch.to(device)\n",
    "                optimizer.zero_grad()\n",
    "                output = model(x_batch)\n",
    "                loss = criterion(output, y_batch)\n",
    "                loss.backward()\n",
    "                optimizer.step()\n",
    "    \n",
    "            # Evaluate model!\n",
    "            if epochs%10==0:\n",
    "                predictions, labels = evaluate_model(model, test_dataloader, device)\n",
    "                test_acc = np.mean(np.argmax(predictions.cpu().numpy(), axis=1) == labels.cpu().numpy())\n",
    "                print(f\"Epoch {epoch+1}/{epochs} - test accuracy: {(100 * test_acc):.2f}% and CE loss {loss.item():.2f}\")\n",
    "    return model"
   ]
  },
  {
   "cell_type": "code",
   "execution_count": 116,
   "id": "d1704ed0-788b-4906-8c89-ef930471206d",
   "metadata": {},
   "outputs": [
    {
     "name": "stdout",
     "output_type": "stream",
     "text": [
      "\n",
      "\n",
      "Iterative Global pruning round = 1\n",
      "RESNET-18 global sparsity = 20.00%\n",
      "\n",
      "Fine-tuning pruned model to recover model's performance\n",
      "\n",
      "Epoch 1/50 - test accuracy: 49.78% and CE loss 1.86\n",
      "Epoch 2/50 - test accuracy: 74.95% and CE loss 0.40\n",
      "Epoch 3/50 - test accuracy: 78.31% and CE loss 0.00\n",
      "Epoch 4/50 - test accuracy: 81.24% and CE loss 0.01\n",
      "Epoch 5/50 - test accuracy: 77.22% and CE loss 0.00\n",
      "Epoch 6/50 - test accuracy: 74.30% and CE loss 0.00\n",
      "Epoch 7/50 - test accuracy: 82.97% and CE loss 0.00\n",
      "Epoch 8/50 - test accuracy: 85.25% and CE loss 0.00\n",
      "Epoch 9/50 - test accuracy: 87.31% and CE loss 0.00\n",
      "Epoch 10/50 - test accuracy: 88.29% and CE loss 0.00\n",
      "Epoch 11/50 - test accuracy: 91.97% and CE loss 0.00\n",
      "Epoch 12/50 - test accuracy: 96.10% and CE loss 0.00\n",
      "Epoch 13/50 - test accuracy: 96.64% and CE loss 0.00\n",
      "Epoch 14/50 - test accuracy: 96.96% and CE loss 0.00\n",
      "Epoch 15/50 - test accuracy: 96.96% and CE loss 0.00\n",
      "Epoch 16/50 - test accuracy: 96.96% and CE loss 0.00\n",
      "Epoch 17/50 - test accuracy: 97.07% and CE loss 0.00\n",
      "Epoch 18/50 - test accuracy: 97.07% and CE loss 0.00\n",
      "Epoch 19/50 - test accuracy: 97.07% and CE loss 0.00\n",
      "Epoch 20/50 - test accuracy: 97.18% and CE loss 0.00\n",
      "Epoch 21/50 - test accuracy: 97.18% and CE loss 0.00\n",
      "Epoch 22/50 - test accuracy: 97.18% and CE loss 0.00\n",
      "Epoch 23/50 - test accuracy: 97.18% and CE loss 0.00\n",
      "Epoch 24/50 - test accuracy: 97.07% and CE loss 0.00\n",
      "Epoch 25/50 - test accuracy: 97.07% and CE loss 0.00\n",
      "Epoch 26/50 - test accuracy: 97.07% and CE loss 0.00\n",
      "Epoch 27/50 - test accuracy: 96.96% and CE loss 0.00\n",
      "Epoch 28/50 - test accuracy: 96.85% and CE loss 0.00\n",
      "Epoch 29/50 - test accuracy: 96.85% and CE loss 0.00\n",
      "Epoch 30/50 - test accuracy: 96.85% and CE loss 0.00\n",
      "Epoch 31/50 - test accuracy: 96.75% and CE loss 0.00\n",
      "Epoch 32/50 - test accuracy: 96.75% and CE loss 0.00\n",
      "Epoch 33/50 - test accuracy: 96.75% and CE loss 0.00\n",
      "Epoch 34/50 - test accuracy: 96.85% and CE loss 0.00\n",
      "Epoch 35/50 - test accuracy: 96.75% and CE loss 0.00\n",
      "Epoch 36/50 - test accuracy: 96.75% and CE loss 0.00\n",
      "Epoch 37/50 - test accuracy: 96.64% and CE loss 0.00\n",
      "Epoch 38/50 - test accuracy: 96.64% and CE loss 0.00\n",
      "Epoch 39/50 - test accuracy: 96.64% and CE loss 0.00\n",
      "Epoch 40/50 - test accuracy: 96.53% and CE loss 0.00\n",
      "Epoch 41/50 - test accuracy: 96.64% and CE loss 0.00\n",
      "Epoch 42/50 - test accuracy: 96.20% and CE loss 0.00\n",
      "Epoch 43/50 - test accuracy: 96.20% and CE loss 0.00\n",
      "Epoch 44/50 - test accuracy: 95.99% and CE loss 0.00\n",
      "Epoch 45/50 - test accuracy: 96.10% and CE loss 0.00\n",
      "Epoch 46/50 - test accuracy: 96.20% and CE loss 0.00\n",
      "Epoch 47/50 - test accuracy: 96.20% and CE loss 0.00\n",
      "Epoch 48/50 - test accuracy: 96.10% and CE loss 0.00\n",
      "Epoch 49/50 - test accuracy: 95.99% and CE loss 0.00\n",
      "Epoch 50/50 - test accuracy: 96.10% and CE loss 0.00\n"
     ]
    }
   ],
   "source": [
    "model_global = train_global_pruned(model = model.to(device), epochs = epochs)"
   ]
  },
  {
   "cell_type": "code",
   "execution_count": 117,
   "id": "ee7d470f-92c7-4780-9b7f-3d6f4e4c3260",
   "metadata": {},
   "outputs": [
    {
     "name": "stdout",
     "output_type": "stream",
     "text": [
      "Test accuracy for RESNET LISA Global pre is: 96.10%\n"
     ]
    }
   ],
   "source": [
    "# Check test set performance.\n",
    "predictions, labels = evaluate_model(model_global, test_dataloader, device)\n",
    "test_acc = np.mean(np.argmax(predictions.cpu().numpy(), axis=1) == labels.cpu().numpy())        \n",
    "print(f\"Test accuracy for RESNET LISA Global pre is: {(100 * test_acc):.2f}%\")\n",
    "\n"
   ]
  },
  {
   "cell_type": "code",
   "execution_count": 118,
   "id": "d66acf54-1e27-4869-969f-87d79a09a39c",
   "metadata": {},
   "outputs": [
    {
     "name": "stdout",
     "output_type": "stream",
     "text": [
      "Saving the model: models\\resnet_lisa_global_pre.pth\n"
     ]
    }
   ],
   "source": [
    "model_path = Path(\"models\")\n",
    "model_path.mkdir(parents=True, exist_ok=True)\n",
    "\n",
    "model_name = \"resnet_lisa_global_pre.pth\"\n",
    "model_save_path = model_path / model_name\n",
    "\n",
    "print(f\"Saving the model: {model_save_path}\")\n",
    "torch.save(obj=model_global.state_dict(), f=model_save_path)"
   ]
  },
  {
   "cell_type": "markdown",
   "id": "6277153a-41ca-421b-9e0b-eda476f2ed07",
   "metadata": {},
   "source": [
    "# Layered Pre"
   ]
  },
  {
   "cell_type": "code",
   "execution_count": 124,
   "id": "d80749fa-c8da-4e18-b10f-1bc012bc7eb0",
   "metadata": {},
   "outputs": [
    {
     "name": "stdout",
     "output_type": "stream",
     "text": [
      "Ranger optimizer loaded. \n",
      "Gradient Centralization usage = True\n",
      "GC applied to both conv and fc layers\n"
     ]
    }
   ],
   "source": [
    "model = resnet_18(filter='None', filter_layer=0)\n",
    "learning_rate = 1e-04\n",
    "criterion = nn.CrossEntropyLoss(reduction=\"mean\").cuda()\n",
    "optimizer = Ranger(model.parameters(), lr = learning_rate, eps = 1e-06)"
   ]
  },
  {
   "cell_type": "code",
   "execution_count": 126,
   "id": "0fb61473-70bc-4dc2-8225-db7d959ade6f",
   "metadata": {},
   "outputs": [],
   "source": [
    "def train_layered_pruned(model, epochs):\n",
    "    for iter_prune_round in range(1):\n",
    "        print(f\"\\n\\nIterative Global pruning round = {iter_prune_round + 1}\")\n",
    "        \n",
    "        # Prune layer-wise in a structured manner-\n",
    "        prune.ln_structured(model.conv1, name = \"weight\", amount = 0.1, n = 2, dim = 0)\n",
    "        # prune.ln_structured(model.bn1, name = \"weight\", amount = 0.1, n = 2, dim = 0)\n",
    "        prune.ln_structured(model.layer1[0].conv1, name = \"weight\", amount = 0.1, n = 2, dim = 0)\n",
    "        # prune.ln_structured(model.layer1[0].bn1, name = \"weight\", amount = 0.1, n = 2, dim = 0)\n",
    "        prune.ln_structured(model.layer1[0].conv2, name = \"weight\", amount = 0.1, n = 2, dim = 0)\n",
    "        # prune.ln_structured(model.layer1[0].bn2, name = \"weight\", amount = 0.1, n = 2, dim = 0)\n",
    "        prune.ln_structured(model.layer1[1].conv1, name = \"weight\", amount = 0.1, n = 2, dim = 0)\n",
    "        # prune.ln_structured(model.layer1[1].bn1, name = \"weight\", amount = 0.1, n = 2, dim = 0)\n",
    "        prune.ln_structured(model.layer1[1].conv2, name = \"weight\", amount = 0.1, n = 2, dim = 0)\n",
    "        # prune.ln_structured(model.layer1[1].bn2, name = \"weight\", amount = 0.1, n = 2, dim = 0)\n",
    "        prune.ln_structured(model.layer2[0].conv1, name = \"weight\", amount = 0.1, n = 2, dim = 0)\n",
    "        # prune.ln_structured(model.layer2[0].bn1, name = \"weight\", amount = 0.1, n = 2, dim = 0)\n",
    "        prune.ln_structured(model.layer2[0].conv2, name = \"weight\", amount = 0.1, n = 2, dim = 0)\n",
    "        # prune.ln_structured(model.layer2[0].bn2, name = \"weight\", amount = 0.1, n = 2, dim = 0)\n",
    "        prune.ln_structured(model.layer2[1].conv1, name = \"weight\", amount = 0.1, n = 2, dim = 0)\n",
    "        # prune.ln_structured(model.layer2[1].bn1, name = \"weight\", amount = 0.1, n = 2, dim = 0)\n",
    "        prune.ln_structured(model.layer2[1].conv2, name = \"weight\", amount = 0.1, n = 2, dim = 0)\n",
    "        # prune.ln_structured(model.layer2[1].bn2, name = \"weight\", amount = 0.1, n = 2, dim = 0)\n",
    "        prune.ln_structured(model.layer3[0].conv1, name = \"weight\", amount = 0.1, n = 2, dim = 0)\n",
    "        # prune.ln_structured(model.layer3[0].bn1, name = \"weight\", amount = 0.1, n = 2, dim = 0)\n",
    "        prune.ln_structured(model.layer3[0].conv2, name = \"weight\", amount = 0.1, n = 2, dim = 0)\n",
    "        # prune.ln_structured(model.layer3[0].bn2, name = \"weight\", amount = 0.1, n = 2, dim = 0)\n",
    "        prune.ln_structured(model.layer3[1].conv1, name = \"weight\", amount = 0.1, n = 2, dim = 0)\n",
    "        # prune.ln_structured(model.layer3[1].bn1, name = \"weight\", amount = 0.1, n = 2, dim = 0)\n",
    "        prune.ln_structured(model.layer3[1].conv2, name = \"weight\", amount = 0.1, n = 2, dim = 0)\n",
    "        # prune.ln_structured(model.layer3[1].bn2, name = \"weight\", amount = 0.1, n = 2, dim = 0)\n",
    "        prune.ln_structured(model.layer4[0].conv1, name = \"weight\", amount = 0.1, n = 2, dim = 0)\n",
    "        # prune.ln_structured(model.layer4[0].bn1, name = \"weight\", amount = 0.1, n = 2, dim = 0)\n",
    "        prune.ln_structured(model.layer4[0].conv2, name = \"weight\", amount = 0.1, n = 2, dim = 0)\n",
    "        # prune.ln_structured(model.layer4[0].bn2, name = \"weight\", amount = 0.1, n = 2, dim = 0)\n",
    "        prune.ln_structured(model.layer4[1].conv1, name = \"weight\", amount = 0.1, n = 2, dim = 0)\n",
    "        # prune.ln_structured(model.layer4[1].bn1, name = \"weight\", amount = 0.1, n = 2, dim = 0)\n",
    "        prune.ln_structured(model.layer4[1].conv2, name = \"weight\", amount = 0.1, n = 2, dim = 0)\n",
    "        # prune.ln_structured(model.layer4[1].bn2, name = \"weight\", amount = 0.1, n = 2, dim = 0)\n",
    "\n",
    "        prune.ln_structured(model.fc, name = \"weight\", amount = 0.1, n = 2, dim = 0)\n",
    "        \n",
    "        # Print current global sparsity level-\n",
    "        print(f\" RESNET-18 global sparsity = {compute_sparsity_resnet(model):.2f}%\")\n",
    "        \n",
    "        \n",
    "        # Fine-training loop-\n",
    "        print(\"\\nFine-tuning pruned model to recover model's performance\\n\")\n",
    "        model.train()\n",
    "        for epoch in range(epochs):\n",
    "            for x_batch, y_batch in train_dataloader:\n",
    "                x_batch, y_batch = x_batch.to(device), y_batch.to(device)\n",
    "                optimizer.zero_grad()\n",
    "                output = model(x_batch)\n",
    "                loss = criterion(output, y_batch)\n",
    "                loss.backward()\n",
    "                optimizer.step()\n",
    "    \n",
    "            # Evaluate model!\n",
    "            if epochs%10==0:\n",
    "                predictions, labels = evaluate_model(model, test_dataloader, device)\n",
    "                test_acc = np.mean(np.argmax(predictions.cpu().numpy(), axis=1) == labels.cpu().numpy())\n",
    "                print(f\"Epoch {epoch+1}/{epochs} - test accuracy: {(100 * test_acc):.2f}% and CE loss {loss.item():.2f}\")\n",
    "    return model"
   ]
  },
  {
   "cell_type": "code",
   "execution_count": 128,
   "id": "46e1973c-1776-43c6-9fc8-c1c089857417",
   "metadata": {},
   "outputs": [
    {
     "name": "stdout",
     "output_type": "stream",
     "text": [
      "\n",
      "\n",
      "Iterative Global pruning round = 1\n",
      " RESNET-18 global sparsity = 9.99%\n",
      "\n",
      "Fine-tuning pruned model to recover model's performance\n",
      "\n",
      "Epoch 1/50 - test accuracy: 62.26% and CE loss 0.84\n",
      "Epoch 2/50 - test accuracy: 75.49% and CE loss 0.02\n",
      "Epoch 3/50 - test accuracy: 79.28% and CE loss 0.08\n",
      "Epoch 4/50 - test accuracy: 84.38% and CE loss 0.28\n",
      "Epoch 5/50 - test accuracy: 91.97% and CE loss 0.00\n",
      "Epoch 6/50 - test accuracy: 85.47% and CE loss 0.00\n",
      "Epoch 7/50 - test accuracy: 91.32% and CE loss 0.00\n",
      "Epoch 8/50 - test accuracy: 95.34% and CE loss 0.00\n",
      "Epoch 9/50 - test accuracy: 94.14% and CE loss 0.00\n",
      "Epoch 10/50 - test accuracy: 94.69% and CE loss 0.00\n",
      "Epoch 11/50 - test accuracy: 94.90% and CE loss 0.00\n",
      "Epoch 12/50 - test accuracy: 94.90% and CE loss 0.00\n",
      "Epoch 13/50 - test accuracy: 94.79% and CE loss 0.00\n",
      "Epoch 14/50 - test accuracy: 95.01% and CE loss 0.00\n",
      "Epoch 15/50 - test accuracy: 94.90% and CE loss 0.00\n",
      "Epoch 16/50 - test accuracy: 94.90% and CE loss 0.00\n",
      "Epoch 17/50 - test accuracy: 94.90% and CE loss 0.00\n",
      "Epoch 18/50 - test accuracy: 94.90% and CE loss 0.00\n",
      "Epoch 19/50 - test accuracy: 94.90% and CE loss 0.00\n",
      "Epoch 20/50 - test accuracy: 94.90% and CE loss 0.00\n",
      "Epoch 21/50 - test accuracy: 94.79% and CE loss 0.00\n",
      "Epoch 22/50 - test accuracy: 94.90% and CE loss 0.00\n",
      "Epoch 23/50 - test accuracy: 94.79% and CE loss 0.00\n",
      "Epoch 24/50 - test accuracy: 94.79% and CE loss 0.00\n",
      "Epoch 25/50 - test accuracy: 94.79% and CE loss 0.00\n",
      "Epoch 26/50 - test accuracy: 94.79% and CE loss 0.00\n",
      "Epoch 27/50 - test accuracy: 94.79% and CE loss 0.00\n",
      "Epoch 28/50 - test accuracy: 94.79% and CE loss 0.00\n",
      "Epoch 29/50 - test accuracy: 94.79% and CE loss 0.00\n",
      "Epoch 30/50 - test accuracy: 94.79% and CE loss 0.00\n",
      "Epoch 31/50 - test accuracy: 94.79% and CE loss 0.00\n",
      "Epoch 32/50 - test accuracy: 94.79% and CE loss 0.00\n",
      "Epoch 33/50 - test accuracy: 94.79% and CE loss 0.00\n",
      "Epoch 34/50 - test accuracy: 94.79% and CE loss 0.00\n",
      "Epoch 35/50 - test accuracy: 94.79% and CE loss 0.00\n",
      "Epoch 36/50 - test accuracy: 94.90% and CE loss 0.00\n",
      "Epoch 37/50 - test accuracy: 95.01% and CE loss 0.00\n",
      "Epoch 38/50 - test accuracy: 95.01% and CE loss 0.00\n",
      "Epoch 39/50 - test accuracy: 94.90% and CE loss 0.00\n",
      "Epoch 40/50 - test accuracy: 94.90% and CE loss 0.00\n",
      "Epoch 41/50 - test accuracy: 94.90% and CE loss 0.00\n",
      "Epoch 42/50 - test accuracy: 94.79% and CE loss 0.00\n",
      "Epoch 43/50 - test accuracy: 94.79% and CE loss 0.00\n",
      "Epoch 44/50 - test accuracy: 94.79% and CE loss 0.00\n",
      "Epoch 45/50 - test accuracy: 95.12% and CE loss 0.00\n",
      "Epoch 46/50 - test accuracy: 95.01% and CE loss 0.00\n",
      "Epoch 47/50 - test accuracy: 95.01% and CE loss 0.00\n",
      "Epoch 48/50 - test accuracy: 95.01% and CE loss 0.00\n",
      "Epoch 49/50 - test accuracy: 95.01% and CE loss 0.00\n",
      "Epoch 50/50 - test accuracy: 95.01% and CE loss 0.00\n"
     ]
    }
   ],
   "source": [
    "model_layered_structured = train_layered_pruned(model = model.to(device), epochs = epochs)"
   ]
  },
  {
   "cell_type": "code",
   "execution_count": 129,
   "id": "7f716b44-23d2-4d2a-ae0b-2fa17d8fefb8",
   "metadata": {},
   "outputs": [
    {
     "name": "stdout",
     "output_type": "stream",
     "text": [
      "Test accuracy for RESNET LISA Layered pre is: 95.01%\n"
     ]
    }
   ],
   "source": [
    "# Check test set performance.\n",
    "predictions, labels = evaluate_model(model_layered_structured, test_dataloader, device)\n",
    "test_acc = np.mean(np.argmax(predictions.cpu().numpy(), axis=1) == labels.cpu().numpy())        \n",
    "print(f\"Test accuracy for RESNET LISA Layered pre is: {(100 * test_acc):.2f}%\")"
   ]
  },
  {
   "cell_type": "code",
   "execution_count": 130,
   "id": "d22463a8-a0ca-4073-b9d7-4b1e76403114",
   "metadata": {},
   "outputs": [
    {
     "name": "stdout",
     "output_type": "stream",
     "text": [
      "Saving the model: models\\resnet_lisa_layered_pre.pth\n"
     ]
    }
   ],
   "source": [
    "model_path = Path(\"models\")\n",
    "model_path.mkdir(parents=True, exist_ok=True)\n",
    "\n",
    "model_name = \"resnet_lisa_layered_pre.pth\"\n",
    "model_save_path = model_path / model_name\n",
    "\n",
    "print(f\"Saving the model: {model_save_path}\")\n",
    "torch.save(obj=model_layered_structured.state_dict(), f=model_save_path)"
   ]
  },
  {
   "cell_type": "markdown",
   "id": "aae326e5-98c9-4bf4-971e-8dc9415c3197",
   "metadata": {},
   "source": [
    "# L1 POST"
   ]
  },
  {
   "cell_type": "code",
   "execution_count": 142,
   "id": "207faea9-175b-4c33-ab88-fb3e65b76cb8",
   "metadata": {},
   "outputs": [
    {
     "name": "stdout",
     "output_type": "stream",
     "text": [
      "RESNET-18 global sparsity = 0.00%\n"
     ]
    }
   ],
   "source": [
    "model_path = Path(\"models\")\n",
    "model_path.mkdir(parents=True, exist_ok=True)\n",
    "\n",
    "model_name = \"resnet_lisa_normal.pth\"\n",
    "model_save_path = model_path / model_name\n",
    "model_notune = resnet_18(filter='None', filter_layer=0)\n",
    "model_notune.load_state_dict(torch.load(model_save_path))\n",
    "print(f\"RESNET-18 global sparsity = {compute_sparsity_resnet(model_notune):.2f}%\")"
   ]
  },
  {
   "cell_type": "code",
   "execution_count": 144,
   "id": "ed4d3e71-ffdd-4c37-a851-e97aa0452a9e",
   "metadata": {},
   "outputs": [
    {
     "name": "stdout",
     "output_type": "stream",
     "text": [
      "RESNET-18 global sparsity = 19.99%\n"
     ]
    }
   ],
   "source": [
    "for name, module in model_notune.named_modules():\n",
    "    # prune 20% of weights/connections in for all hidden layaers-\n",
    "    if isinstance(module, torch.nn.Conv2d):\n",
    "        prune.l1_unstructured(module = module, name = 'weight', amount = 0.2)\n",
    "    \n",
    "    # prune 10% of weights/connections for output layer-\n",
    "    elif isinstance(module, torch.nn.Linear):\n",
    "        prune.l1_unstructured(module = module, name = 'weight', amount = 0.1)\n",
    "\n",
    "print(f\"RESNET-18 global sparsity = {compute_sparsity_resnet(model_notune):.2f}%\")"
   ]
  },
  {
   "cell_type": "code",
   "execution_count": 146,
   "id": "82e23b3c-8a78-4a51-b674-f2ea9431b7a6",
   "metadata": {},
   "outputs": [
    {
     "name": "stdout",
     "output_type": "stream",
     "text": [
      "Test accuracy for Resnet 18 pretrained no tuning Normal is: 97.40%\n"
     ]
    }
   ],
   "source": [
    "model_notune.to(device)\n",
    "model_notune.eval()\n",
    "\n",
    "# Check test set performance.\n",
    "predictions, labels = evaluate_model(model_notune, test_dataloader, device)\n",
    "test_acc = np.mean(np.argmax(predictions.cpu().numpy(), axis=1) == labels.cpu().numpy())        \n",
    "print(f\"Test accuracy for Resnet 18 pretrained no tuning Normal is: {(100 * test_acc):.2f}%\")"
   ]
  },
  {
   "cell_type": "code",
   "execution_count": 148,
   "id": "3b8578d6-618b-4c46-bae3-f98ecc81b80a",
   "metadata": {},
   "outputs": [
    {
     "name": "stdout",
     "output_type": "stream",
     "text": [
      "Saving the model: models\\resnet_lisa_l1_post_notune.pth\n"
     ]
    }
   ],
   "source": [
    "model_path = Path(\"models\")\n",
    "model_path.mkdir(parents=True, exist_ok=True)\n",
    "\n",
    "model_name = \"resnet_lisa_l1_post_notune.pth\"\n",
    "model_save_path = model_path / model_name\n",
    "\n",
    "print(f\"Saving the model: {model_save_path}\")\n",
    "torch.save(obj=model_notune.state_dict(), f=model_save_path)"
   ]
  },
  {
   "cell_type": "code",
   "execution_count": 150,
   "id": "f762f055-a97d-477d-8fc3-98be749fa00c",
   "metadata": {},
   "outputs": [
    {
     "name": "stdout",
     "output_type": "stream",
     "text": [
      "Ranger optimizer loaded. \n",
      "Gradient Centralization usage = True\n",
      "GC applied to both conv and fc layers\n"
     ]
    }
   ],
   "source": [
    "model = model_notune.to(device)\n",
    "learning_rate = 1e-04\n",
    "criterion = nn.CrossEntropyLoss(reduction=\"mean\").cuda()\n",
    "optimizer = Ranger(model.parameters(), lr = learning_rate, eps = 1e-06)"
   ]
  },
  {
   "cell_type": "code",
   "execution_count": 152,
   "id": "67994d5a-8d98-43f9-9641-a9a36c3a05fd",
   "metadata": {},
   "outputs": [
    {
     "name": "stdout",
     "output_type": "stream",
     "text": [
      "Epoch 1/50 - test accuracy: 96.53% and CE loss 0.15\n",
      "Epoch 2/50 - test accuracy: 95.44% and CE loss 0.00\n",
      "Epoch 3/50 - test accuracy: 97.29% and CE loss 0.00\n",
      "Epoch 4/50 - test accuracy: 97.29% and CE loss 0.00\n",
      "Epoch 5/50 - test accuracy: 97.29% and CE loss 0.00\n",
      "Epoch 6/50 - test accuracy: 97.18% and CE loss 0.00\n",
      "Epoch 7/50 - test accuracy: 97.29% and CE loss 0.00\n",
      "Epoch 8/50 - test accuracy: 97.07% and CE loss 0.00\n",
      "Epoch 9/50 - test accuracy: 97.18% and CE loss 0.00\n",
      "Epoch 10/50 - test accuracy: 97.07% and CE loss 0.00\n",
      "Epoch 11/50 - test accuracy: 96.85% and CE loss 0.00\n",
      "Epoch 12/50 - test accuracy: 97.07% and CE loss 0.00\n",
      "Epoch 13/50 - test accuracy: 97.07% and CE loss 0.00\n",
      "Epoch 14/50 - test accuracy: 97.07% and CE loss 0.00\n",
      "Epoch 15/50 - test accuracy: 97.18% and CE loss 0.00\n",
      "Epoch 16/50 - test accuracy: 96.96% and CE loss 0.00\n",
      "Epoch 17/50 - test accuracy: 96.96% and CE loss 0.00\n",
      "Epoch 18/50 - test accuracy: 96.96% and CE loss 0.00\n",
      "Epoch 19/50 - test accuracy: 96.85% and CE loss 0.00\n",
      "Epoch 20/50 - test accuracy: 96.85% and CE loss 0.00\n",
      "Epoch 21/50 - test accuracy: 96.85% and CE loss 0.00\n",
      "Epoch 22/50 - test accuracy: 96.96% and CE loss 0.00\n",
      "Epoch 23/50 - test accuracy: 96.85% and CE loss 0.00\n",
      "Epoch 24/50 - test accuracy: 96.85% and CE loss 0.00\n",
      "Epoch 25/50 - test accuracy: 96.85% and CE loss 0.00\n",
      "Epoch 26/50 - test accuracy: 96.85% and CE loss 0.00\n",
      "Epoch 27/50 - test accuracy: 96.85% and CE loss 0.00\n",
      "Epoch 28/50 - test accuracy: 96.85% and CE loss 0.00\n",
      "Epoch 29/50 - test accuracy: 96.85% and CE loss 0.00\n",
      "Epoch 30/50 - test accuracy: 96.75% and CE loss 0.00\n",
      "Epoch 31/50 - test accuracy: 96.64% and CE loss 0.00\n",
      "Epoch 32/50 - test accuracy: 96.53% and CE loss 0.00\n",
      "Epoch 33/50 - test accuracy: 96.75% and CE loss 0.00\n",
      "Epoch 34/50 - test accuracy: 96.53% and CE loss 0.00\n",
      "Epoch 35/50 - test accuracy: 96.42% and CE loss 0.00\n",
      "Epoch 36/50 - test accuracy: 96.53% and CE loss 0.00\n",
      "Epoch 37/50 - test accuracy: 96.64% and CE loss 0.00\n",
      "Epoch 38/50 - test accuracy: 96.53% and CE loss 0.00\n",
      "Epoch 39/50 - test accuracy: 96.53% and CE loss 0.00\n",
      "Epoch 40/50 - test accuracy: 96.53% and CE loss 0.00\n",
      "Epoch 41/50 - test accuracy: 96.64% and CE loss 0.00\n",
      "Epoch 42/50 - test accuracy: 96.42% and CE loss 0.00\n",
      "Epoch 43/50 - test accuracy: 96.53% and CE loss 0.00\n",
      "Epoch 44/50 - test accuracy: 96.75% and CE loss 0.00\n",
      "Epoch 45/50 - test accuracy: 96.75% and CE loss 0.00\n",
      "Epoch 46/50 - test accuracy: 96.64% and CE loss 0.00\n",
      "Epoch 47/50 - test accuracy: 96.64% and CE loss 0.00\n",
      "Epoch 48/50 - test accuracy: 96.64% and CE loss 0.00\n",
      "Epoch 49/50 - test accuracy: 96.64% and CE loss 0.00\n",
      "Epoch 50/50 - test accuracy: 96.75% and CE loss 0.00\n"
     ]
    }
   ],
   "source": [
    "def train_model(model, epochs):\n",
    "    model.train()\n",
    "    for epoch in range(epochs):\n",
    "        for x_batch, y_batch in train_dataloader:\n",
    "            x_batch, y_batch = x_batch.to(device), y_batch.to(device)\n",
    "            optimizer.zero_grad()\n",
    "            output = model(x_batch)\n",
    "            loss = criterion(output, y_batch)\n",
    "            loss.backward()\n",
    "            optimizer.step()\n",
    "\n",
    "        # Evaluate model!\n",
    "        if epochs%10==0:\n",
    "            predictions, labels = evaluate_model(model, test_dataloader, device)\n",
    "            test_acc = np.mean(np.argmax(predictions.cpu().numpy(), axis=1) == labels.cpu().numpy())\n",
    "            print(f\"Epoch {epoch+1}/{epochs} - test accuracy: {(100 * test_acc):.2f}% and CE loss {loss.item():.2f}\")\n",
    "    return model\n",
    "\n",
    "model_tuned = train_model(model = model.to(device), epochs = epochs)"
   ]
  },
  {
   "cell_type": "code",
   "execution_count": 153,
   "id": "cce5ada5-7efa-42d6-9943-bb6cfca27acc",
   "metadata": {},
   "outputs": [
    {
     "name": "stdout",
     "output_type": "stream",
     "text": [
      "Model test accuracy: 96.75%\n"
     ]
    }
   ],
   "source": [
    "# Check test set performance.\n",
    "predictions, labels = evaluate_model(model_tuned, test_dataloader, device)\n",
    "test_acc = np.mean(np.argmax(predictions.cpu().numpy(), axis=1) == labels.cpu().numpy())        \n",
    "print(f\"Model test accuracy: {(100 * test_acc):.2f}%\")"
   ]
  },
  {
   "cell_type": "code",
   "execution_count": 154,
   "id": "4f7d60ff-81df-4350-99b2-fefe950aaf4c",
   "metadata": {},
   "outputs": [
    {
     "name": "stdout",
     "output_type": "stream",
     "text": [
      "Saving the model: models\\resnet_lisa_l1_post_tuned.pth\n"
     ]
    }
   ],
   "source": [
    "model_path = Path(\"models\")\n",
    "model_path.mkdir(parents=True, exist_ok=True)\n",
    "\n",
    "model_name = \"resnet_lisa_l1_post_tuned.pth\"\n",
    "model_save_path = model_path / model_name\n",
    "\n",
    "print(f\"Saving the model: {model_save_path}\")\n",
    "torch.save(obj=model_tuned.state_dict(), f=model_save_path)"
   ]
  },
  {
   "cell_type": "markdown",
   "id": "c87511b2-2507-40a2-a0cb-7cf1bb01a103",
   "metadata": {},
   "source": [
    "# Global Post"
   ]
  },
  {
   "cell_type": "code",
   "execution_count": 156,
   "id": "2062ae62-0f0e-4402-81c3-17508729c1e8",
   "metadata": {},
   "outputs": [
    {
     "name": "stdout",
     "output_type": "stream",
     "text": [
      "RESNET-18 global sparsity = 0.00%\n"
     ]
    }
   ],
   "source": [
    "model_path = Path(\"models\")\n",
    "model_path.mkdir(parents=True, exist_ok=True)\n",
    "\n",
    "model_name = \"resnet_lisa_normal.pth\"\n",
    "model_save_path = model_path / model_name\n",
    "model_notune = resnet_18(filter='None', filter_layer=0)\n",
    "model_notune.load_state_dict(torch.load(model_save_path))\n",
    "\n",
    "print(f\"RESNET-18 global sparsity = {compute_sparsity_resnet(model_notune):.2f}%\")"
   ]
  },
  {
   "cell_type": "code",
   "execution_count": 157,
   "id": "b73603ae-a607-436b-a4bf-d9cd75214de1",
   "metadata": {},
   "outputs": [
    {
     "name": "stdout",
     "output_type": "stream",
     "text": [
      "\n",
      "\n",
      "Iterative Global pruning round = 1\n",
      "RESNET-18 global sparsity = 20.00%\n"
     ]
    }
   ],
   "source": [
    "parameters_to_prune = (\n",
    "    (model_notune.conv1, 'weight'),\n",
    "    (model_notune.bn1, 'weight'),\n",
    "    (model_notune.layer1[0].conv1, 'weight'),\n",
    "    (model_notune.layer1[0].bn1, 'weight'),\n",
    "    (model_notune.layer1[0].conv2, 'weight'),\n",
    "    (model_notune.layer1[0].bn2, 'weight'),\n",
    "    (model_notune.layer1[1].conv1, 'weight'),\n",
    "    (model_notune.layer1[1].bn1, 'weight'),\n",
    "    (model_notune.layer1[1].conv2, 'weight'),\n",
    "    (model_notune.layer1[1].bn2, 'weight'),\n",
    "    (model_notune.layer2[0].conv1, 'weight'),\n",
    "    (model_notune.layer2[0].bn1, 'weight'),\n",
    "    (model_notune.layer2[0].conv2, 'weight'),\n",
    "    (model_notune.layer2[0].bn2, 'weight'),\n",
    "    (model_notune.layer2[1].conv1, 'weight'),\n",
    "    (model_notune.layer2[1].bn1, 'weight'),\n",
    "    (model_notune.layer2[1].conv2, 'weight'),\n",
    "    (model_notune.layer2[1].bn2, 'weight'),\n",
    "    (model_notune.layer3[0].conv1, 'weight'),\n",
    "    (model_notune.layer3[0].bn1, 'weight'),\n",
    "    (model_notune.layer3[0].conv2, 'weight'),\n",
    "    (model_notune.layer3[0].bn2, 'weight'),\n",
    "    (model_notune.layer3[1].conv1, 'weight'),\n",
    "    (model_notune.layer3[1].bn1, 'weight'),\n",
    "    (model_notune.layer3[1].conv2, 'weight'),\n",
    "    (model_notune.layer3[1].bn2, 'weight'),\n",
    "    (model_notune.layer4[0].conv1, 'weight'),\n",
    "    (model_notune.layer4[0].bn1, 'weight'),\n",
    "    (model_notune.layer4[0].conv2, 'weight'),\n",
    "    (model_notune.layer4[0].bn2, 'weight'),\n",
    "    (model_notune.layer4[1].conv1, 'weight'),\n",
    "    (model_notune.layer4[1].bn1, 'weight'),\n",
    "    (model_notune.layer4[1].conv2, 'weight'),\n",
    "    (model_notune.layer4[1].bn2, 'weight'),\n",
    "    (model_notune.fc, 'weight')\n",
    ")\n",
    "\n",
    "prune_rates_global = [0.2, 0.3, 0.4, 0.5, 0.6]\n",
    "\n",
    "for iter_prune_round in range(1):\n",
    "    print(f\"\\n\\nIterative Global pruning round = {iter_prune_round + 1}\")\n",
    "    \n",
    "    # Prune layer-wise in a structured manner-\n",
    "    prune.global_unstructured(\n",
    "        parameters_to_prune,\n",
    "        pruning_method = prune.L1Unstructured,\n",
    "        amount = prune_rates_global[iter_prune_round]\n",
    "        \n",
    "    )\n",
    "\n",
    "    # Print current global sparsity level-\n",
    "    print(f\"RESNET-18 global sparsity = {compute_sparsity_resnet(model_notune):.2f}%\")"
   ]
  },
  {
   "cell_type": "code",
   "execution_count": 158,
   "id": "bfa39e39-0477-4ec5-9be0-455e8d863cb7",
   "metadata": {},
   "outputs": [
    {
     "name": "stdout",
     "output_type": "stream",
     "text": [
      "Test accuracy for Resnet 18 pretrained no tuning Normal is: 97.94%\n"
     ]
    }
   ],
   "source": [
    "model_notune.to(device)\n",
    "model_notune.eval()\n",
    "\n",
    "# Check test set performance.\n",
    "predictions, labels = evaluate_model(model_notune, test_dataloader, device)\n",
    "test_acc = np.mean(np.argmax(predictions.cpu().numpy(), axis=1) == labels.cpu().numpy())        \n",
    "print(f\"Test accuracy for Resnet 18 pretrained no tuning Normal is: {(100 * test_acc):.2f}%\")"
   ]
  },
  {
   "cell_type": "code",
   "execution_count": 159,
   "id": "f344712a-123b-4eb6-a2f4-3414c5a36e3d",
   "metadata": {},
   "outputs": [
    {
     "name": "stdout",
     "output_type": "stream",
     "text": [
      "Saving the model: models\\resnet_lisa_global_post_notune.pth\n"
     ]
    }
   ],
   "source": [
    "model_path = Path(\"models\")\n",
    "model_path.mkdir(parents=True, exist_ok=True)\n",
    "\n",
    "model_name = \"resnet_lisa_global_post_notune.pth\"\n",
    "model_save_path = model_path / model_name\n",
    "\n",
    "print(f\"Saving the model: {model_save_path}\")\n",
    "torch.save(obj=model_notune.state_dict(), f=model_save_path)"
   ]
  },
  {
   "cell_type": "code",
   "execution_count": 160,
   "id": "64ab4393-cc94-4509-a7bd-2c635dd93b3d",
   "metadata": {},
   "outputs": [
    {
     "name": "stdout",
     "output_type": "stream",
     "text": [
      "Ranger optimizer loaded. \n",
      "Gradient Centralization usage = True\n",
      "GC applied to both conv and fc layers\n"
     ]
    }
   ],
   "source": [
    "model = model_notune.to(device)\n",
    "learning_rate = 1e-04\n",
    "criterion = nn.CrossEntropyLoss(reduction=\"mean\").cuda()\n",
    "optimizer = Ranger(model.parameters(), lr = learning_rate, eps = 1e-06)"
   ]
  },
  {
   "cell_type": "code",
   "execution_count": 161,
   "id": "60429469-a390-47e1-ba6c-572140728050",
   "metadata": {},
   "outputs": [
    {
     "name": "stdout",
     "output_type": "stream",
     "text": [
      "Epoch 1/50 - test accuracy: 96.64% and CE loss 0.04\n",
      "Epoch 2/50 - test accuracy: 93.71% and CE loss 0.00\n",
      "Epoch 3/50 - test accuracy: 97.61% and CE loss 0.00\n",
      "Epoch 4/50 - test accuracy: 93.71% and CE loss 0.00\n",
      "Epoch 5/50 - test accuracy: 92.73% and CE loss 0.01\n",
      "Epoch 6/50 - test accuracy: 96.53% and CE loss 0.00\n",
      "Epoch 7/50 - test accuracy: 98.81% and CE loss 0.00\n",
      "Epoch 8/50 - test accuracy: 98.81% and CE loss 0.00\n",
      "Epoch 9/50 - test accuracy: 98.70% and CE loss 0.00\n",
      "Epoch 10/50 - test accuracy: 98.81% and CE loss 0.00\n",
      "Epoch 11/50 - test accuracy: 98.70% and CE loss 0.00\n",
      "Epoch 12/50 - test accuracy: 98.59% and CE loss 0.00\n",
      "Epoch 13/50 - test accuracy: 98.59% and CE loss 0.00\n",
      "Epoch 14/50 - test accuracy: 98.59% and CE loss 0.00\n",
      "Epoch 15/50 - test accuracy: 98.59% and CE loss 0.00\n",
      "Epoch 16/50 - test accuracy: 98.70% and CE loss 0.00\n",
      "Epoch 17/50 - test accuracy: 98.70% and CE loss 0.00\n",
      "Epoch 18/50 - test accuracy: 98.70% and CE loss 0.00\n",
      "Epoch 19/50 - test accuracy: 98.70% and CE loss 0.00\n",
      "Epoch 20/50 - test accuracy: 98.70% and CE loss 0.00\n",
      "Epoch 21/50 - test accuracy: 98.70% and CE loss 0.00\n",
      "Epoch 22/50 - test accuracy: 98.81% and CE loss 0.00\n",
      "Epoch 23/50 - test accuracy: 98.81% and CE loss 0.00\n",
      "Epoch 24/50 - test accuracy: 98.81% and CE loss 0.00\n",
      "Epoch 25/50 - test accuracy: 98.81% and CE loss 0.00\n",
      "Epoch 26/50 - test accuracy: 98.81% and CE loss 0.00\n",
      "Epoch 27/50 - test accuracy: 98.81% and CE loss 0.00\n",
      "Epoch 28/50 - test accuracy: 98.81% and CE loss 0.00\n",
      "Epoch 29/50 - test accuracy: 98.81% and CE loss 0.00\n",
      "Epoch 30/50 - test accuracy: 98.81% and CE loss 0.00\n",
      "Epoch 31/50 - test accuracy: 98.81% and CE loss 0.00\n",
      "Epoch 32/50 - test accuracy: 98.81% and CE loss 0.00\n",
      "Epoch 33/50 - test accuracy: 98.81% and CE loss 0.00\n",
      "Epoch 34/50 - test accuracy: 98.81% and CE loss 0.00\n",
      "Epoch 35/50 - test accuracy: 98.81% and CE loss 0.00\n",
      "Epoch 36/50 - test accuracy: 98.81% and CE loss 0.00\n",
      "Epoch 37/50 - test accuracy: 98.81% and CE loss 0.00\n",
      "Epoch 38/50 - test accuracy: 98.81% and CE loss 0.00\n",
      "Epoch 39/50 - test accuracy: 98.81% and CE loss 0.00\n",
      "Epoch 40/50 - test accuracy: 98.81% and CE loss 0.00\n",
      "Epoch 41/50 - test accuracy: 98.81% and CE loss 0.00\n",
      "Epoch 42/50 - test accuracy: 98.81% and CE loss 0.00\n",
      "Epoch 43/50 - test accuracy: 98.81% and CE loss 0.00\n",
      "Epoch 44/50 - test accuracy: 98.81% and CE loss 0.00\n",
      "Epoch 45/50 - test accuracy: 98.81% and CE loss 0.00\n",
      "Epoch 46/50 - test accuracy: 98.81% and CE loss 0.00\n",
      "Epoch 47/50 - test accuracy: 98.70% and CE loss 0.00\n",
      "Epoch 48/50 - test accuracy: 98.81% and CE loss 0.00\n",
      "Epoch 49/50 - test accuracy: 98.81% and CE loss 0.00\n",
      "Epoch 50/50 - test accuracy: 98.81% and CE loss 0.00\n"
     ]
    }
   ],
   "source": [
    "model_tuned = train_model(model = model.to(device), epochs = epochs)"
   ]
  },
  {
   "cell_type": "code",
   "execution_count": 162,
   "id": "8c78537e-044e-49f7-9265-40b2a00cbd78",
   "metadata": {},
   "outputs": [
    {
     "name": "stdout",
     "output_type": "stream",
     "text": [
      "Model test accuracy: 98.81%\n"
     ]
    }
   ],
   "source": [
    "# Check test set performance.\n",
    "predictions, labels = evaluate_model(model_tuned, test_dataloader, device)\n",
    "test_acc = np.mean(np.argmax(predictions.cpu().numpy(), axis=1) == labels.cpu().numpy())        \n",
    "print(f\"Model test accuracy: {(100 * test_acc):.2f}%\")"
   ]
  },
  {
   "cell_type": "code",
   "execution_count": 163,
   "id": "691bc72b-322e-4de8-b4bd-6b7f6ec20cf0",
   "metadata": {},
   "outputs": [
    {
     "name": "stdout",
     "output_type": "stream",
     "text": [
      "Saving the model: models\\resnet_lisa_global_post_tuned.pth\n"
     ]
    }
   ],
   "source": [
    "model_path = Path(\"models\")\n",
    "model_path.mkdir(parents=True, exist_ok=True)\n",
    "\n",
    "model_name = \"resnet_lisa_global_post_tuned.pth\"\n",
    "model_save_path = model_path / model_name\n",
    "\n",
    "print(f\"Saving the model: {model_save_path}\")\n",
    "torch.save(obj=model_tuned.state_dict(), f=model_save_path)"
   ]
  },
  {
   "cell_type": "markdown",
   "id": "e29b1c9f-cfda-42af-81fa-7e4ff01de584",
   "metadata": {},
   "source": [
    "# layered Post"
   ]
  },
  {
   "cell_type": "code",
   "execution_count": 165,
   "id": "12b99c04-b92f-4c95-a0d2-f45b3f653b5b",
   "metadata": {},
   "outputs": [
    {
     "data": {
      "text/plain": [
       "<All keys matched successfully>"
      ]
     },
     "execution_count": 165,
     "metadata": {},
     "output_type": "execute_result"
    }
   ],
   "source": [
    "model_path = Path(\"models\")\n",
    "model_path.mkdir(parents=True, exist_ok=True)\n",
    "\n",
    "model_name = \"resnet_lisa_normal.pth\"\n",
    "model_save_path = model_path / model_name\n",
    "model_notune = resnet_18(filter='None', filter_layer=0)\n",
    "model_notune.load_state_dict(torch.load(model_save_path))"
   ]
  },
  {
   "cell_type": "code",
   "execution_count": 166,
   "id": "545f476c-1336-4c22-892d-a85ab505ad85",
   "metadata": {},
   "outputs": [
    {
     "name": "stdout",
     "output_type": "stream",
     "text": [
      "RESNET-18 global sparsity = 0.00%\n",
      "Resnet structrured sparsity = 9.99%\n"
     ]
    }
   ],
   "source": [
    "print(f\"RESNET-18 global sparsity = {compute_sparsity_resnet(model_notune):.2f}%\")\n",
    "\n",
    " # Prune layer-wise in a structured manner-\n",
    "prune.ln_structured(model_notune.conv1, name = \"weight\", amount = 0.1, n = 2, dim = 0)\n",
    "# prune.ln_structured(model.bn1, name = \"weight\", amount = 0.1, n = 2, dim = 0)\n",
    "prune.ln_structured(model_notune.layer1[0].conv1, name = \"weight\", amount = 0.1, n = 2, dim = 0)\n",
    "# prune.ln_structured(model.layer1[0].bn1, name = \"weight\", amount = 0.1, n = 2, dim = 0)\n",
    "prune.ln_structured(model_notune.layer1[0].conv2, name = \"weight\", amount = 0.1, n = 2, dim = 0)\n",
    "# prune.ln_structured(model.layer1[0].bn2, name = \"weight\", amount = 0.1, n = 2, dim = 0)\n",
    "prune.ln_structured(model_notune.layer1[1].conv1, name = \"weight\", amount = 0.1, n = 2, dim = 0)\n",
    "# prune.ln_structured(model.layer1[1].bn1, name = \"weight\", amount = 0.1, n = 2, dim = 0)\n",
    "prune.ln_structured(model_notune.layer1[1].conv2, name = \"weight\", amount = 0.1, n = 2, dim = 0)\n",
    "# prune.ln_structured(model.layer1[1].bn2, name = \"weight\", amount = 0.1, n = 2, dim = 0)\n",
    "prune.ln_structured(model_notune.layer2[0].conv1, name = \"weight\", amount = 0.1, n = 2, dim = 0)\n",
    "# prune.ln_structured(model.layer2[0].bn1, name = \"weight\", amount = 0.1, n = 2, dim = 0)\n",
    "prune.ln_structured(model_notune.layer2[0].conv2, name = \"weight\", amount = 0.1, n = 2, dim = 0)\n",
    "# prune.ln_structured(model.layer2[0].bn2, name = \"weight\", amount = 0.1, n = 2, dim = 0)\n",
    "prune.ln_structured(model_notune.layer2[1].conv1, name = \"weight\", amount = 0.1, n = 2, dim = 0)\n",
    "# prune.ln_structured(model.layer2[1].bn1, name = \"weight\", amount = 0.1, n = 2, dim = 0)\n",
    "prune.ln_structured(model_notune.layer2[1].conv2, name = \"weight\", amount = 0.1, n = 2, dim = 0)\n",
    "# prune.ln_structured(model.layer2[1].bn2, name = \"weight\", amount = 0.1, n = 2, dim = 0)\n",
    "prune.ln_structured(model_notune.layer3[0].conv1, name = \"weight\", amount = 0.1, n = 2, dim = 0)\n",
    "# prune.ln_structured(model.layer3[0].bn1, name = \"weight\", amount = 0.1, n = 2, dim = 0)\n",
    "prune.ln_structured(model_notune.layer3[0].conv2, name = \"weight\", amount = 0.1, n = 2, dim = 0)\n",
    "# prune.ln_structured(model.layer3[0].bn2, name = \"weight\", amount = 0.1, n = 2, dim = 0)\n",
    "prune.ln_structured(model_notune.layer3[1].conv1, name = \"weight\", amount = 0.1, n = 2, dim = 0)\n",
    "# prune.ln_structured(model.layer3[1].bn1, name = \"weight\", amount = 0.1, n = 2, dim = 0)\n",
    "prune.ln_structured(model_notune.layer3[1].conv2, name = \"weight\", amount = 0.1, n = 2, dim = 0)\n",
    "# prune.ln_structured(model.layer3[1].bn2, name = \"weight\", amount = 0.1, n = 2, dim = 0)\n",
    "prune.ln_structured(model_notune.layer4[0].conv1, name = \"weight\", amount = 0.1, n = 2, dim = 0)\n",
    "# prune.ln_structured(model.layer4[0].bn1, name = \"weight\", amount = 0.1, n = 2, dim = 0)\n",
    "prune.ln_structured(model_notune.layer4[0].conv2, name = \"weight\", amount = 0.1, n = 2, dim = 0)\n",
    "# prune.ln_structured(model.layer4[0].bn2, name = \"weight\", amount = 0.1, n = 2, dim = 0)\n",
    "prune.ln_structured(model_notune.layer4[1].conv1, name = \"weight\", amount = 0.1, n = 2, dim = 0)\n",
    "# prune.ln_structured(model.layer4[1].bn1, name = \"weight\", amount = 0.1, n = 2, dim = 0)\n",
    "prune.ln_structured(model_notune.layer4[1].conv2, name = \"weight\", amount = 0.1, n = 2, dim = 0)\n",
    "# prune.ln_structured(model.layer4[1].bn2, name = \"weight\", amount = 0.1, n = 2, dim = 0)\n",
    "\n",
    "prune.ln_structured(model_notune.fc, name = \"weight\", amount = 0.1, n = 2, dim = 0)\n",
    "\n",
    "# Print current global sparsity level-\n",
    "print(f\"Resnet structrured sparsity = {compute_sparsity_resnet(model_notune):.2f}%\")"
   ]
  },
  {
   "cell_type": "code",
   "execution_count": 167,
   "id": "df7a1216-2039-4fcc-8444-a8ebd24513f0",
   "metadata": {},
   "outputs": [
    {
     "name": "stdout",
     "output_type": "stream",
     "text": [
      "Test accuracy for Resnet 18 pretrained no tuning Normal is: 89.05%\n"
     ]
    }
   ],
   "source": [
    "model_notune.to(device)\n",
    "model_notune.eval()\n",
    "\n",
    "\n",
    "# Check test set performance.\n",
    "predictions, labels = evaluate_model(model_notune, test_dataloader, device)\n",
    "test_acc = np.mean(np.argmax(predictions.cpu().numpy(), axis=1) == labels.cpu().numpy())        \n",
    "print(f\"Test accuracy for Resnet 18 pretrained no tuning Normal is: {(100 * test_acc):.2f}%\")"
   ]
  },
  {
   "cell_type": "code",
   "execution_count": 168,
   "id": "bf276faa-bc12-425f-948a-ee757289bd91",
   "metadata": {},
   "outputs": [
    {
     "name": "stdout",
     "output_type": "stream",
     "text": [
      "Saving the model: models\\resnet_lisa_layered_post_notune.pth\n"
     ]
    }
   ],
   "source": [
    "model_path = Path(\"models\")\n",
    "model_path.mkdir(parents=True, exist_ok=True)\n",
    "\n",
    "model_name = \"resnet_lisa_layered_post_notune.pth\"\n",
    "model_save_path = model_path / model_name\n",
    "\n",
    "print(f\"Saving the model: {model_save_path}\")\n",
    "torch.save(obj=model_notune.state_dict(), f=model_save_path)"
   ]
  },
  {
   "cell_type": "code",
   "execution_count": 169,
   "id": "866e3981-cb2d-47b3-8154-c9bf1fbce3c5",
   "metadata": {},
   "outputs": [
    {
     "name": "stdout",
     "output_type": "stream",
     "text": [
      "Ranger optimizer loaded. \n",
      "Gradient Centralization usage = True\n",
      "GC applied to both conv and fc layers\n"
     ]
    }
   ],
   "source": [
    "model = model_notune.to(device)\n",
    "learning_rate = 1e-04\n",
    "criterion = nn.CrossEntropyLoss(reduction=\"mean\").cuda()\n",
    "optimizer = Ranger(model.parameters(), lr = learning_rate, eps = 1e-06)"
   ]
  },
  {
   "cell_type": "code",
   "execution_count": 170,
   "id": "20b49837-8efe-4d24-9129-4a04dab9503e",
   "metadata": {},
   "outputs": [
    {
     "name": "stdout",
     "output_type": "stream",
     "text": [
      "Epoch 1/50 - test accuracy: 92.95% and CE loss 0.40\n",
      "Epoch 2/50 - test accuracy: 94.79% and CE loss 0.00\n",
      "Epoch 3/50 - test accuracy: 91.21% and CE loss 0.01\n",
      "Epoch 4/50 - test accuracy: 94.03% and CE loss 0.00\n",
      "Epoch 5/50 - test accuracy: 96.96% and CE loss 0.00\n",
      "Epoch 6/50 - test accuracy: 87.74% and CE loss 0.00\n",
      "Epoch 7/50 - test accuracy: 96.53% and CE loss 0.00\n",
      "Epoch 8/50 - test accuracy: 99.02% and CE loss 0.00\n",
      "Epoch 9/50 - test accuracy: 98.92% and CE loss 0.00\n",
      "Epoch 10/50 - test accuracy: 98.81% and CE loss 0.00\n",
      "Epoch 11/50 - test accuracy: 99.02% and CE loss 0.00\n",
      "Epoch 12/50 - test accuracy: 99.02% and CE loss 0.00\n",
      "Epoch 13/50 - test accuracy: 99.13% and CE loss 0.00\n",
      "Epoch 14/50 - test accuracy: 99.13% and CE loss 0.00\n",
      "Epoch 15/50 - test accuracy: 99.13% and CE loss 0.00\n",
      "Epoch 16/50 - test accuracy: 99.13% and CE loss 0.00\n",
      "Epoch 17/50 - test accuracy: 99.13% and CE loss 0.00\n",
      "Epoch 18/50 - test accuracy: 99.24% and CE loss 0.00\n",
      "Epoch 19/50 - test accuracy: 99.24% and CE loss 0.00\n",
      "Epoch 20/50 - test accuracy: 99.24% and CE loss 0.00\n",
      "Epoch 21/50 - test accuracy: 99.24% and CE loss 0.00\n",
      "Epoch 22/50 - test accuracy: 99.24% and CE loss 0.00\n",
      "Epoch 23/50 - test accuracy: 99.24% and CE loss 0.00\n",
      "Epoch 24/50 - test accuracy: 99.24% and CE loss 0.00\n",
      "Epoch 25/50 - test accuracy: 99.24% and CE loss 0.00\n",
      "Epoch 26/50 - test accuracy: 99.24% and CE loss 0.00\n",
      "Epoch 27/50 - test accuracy: 99.24% and CE loss 0.00\n",
      "Epoch 28/50 - test accuracy: 99.35% and CE loss 0.00\n",
      "Epoch 29/50 - test accuracy: 99.35% and CE loss 0.00\n",
      "Epoch 30/50 - test accuracy: 99.35% and CE loss 0.00\n",
      "Epoch 31/50 - test accuracy: 99.35% and CE loss 0.00\n",
      "Epoch 32/50 - test accuracy: 99.35% and CE loss 0.00\n",
      "Epoch 33/50 - test accuracy: 99.35% and CE loss 0.00\n",
      "Epoch 34/50 - test accuracy: 99.35% and CE loss 0.00\n",
      "Epoch 35/50 - test accuracy: 99.35% and CE loss 0.00\n",
      "Epoch 36/50 - test accuracy: 99.35% and CE loss 0.00\n",
      "Epoch 37/50 - test accuracy: 99.35% and CE loss 0.00\n",
      "Epoch 38/50 - test accuracy: 99.35% and CE loss 0.00\n",
      "Epoch 39/50 - test accuracy: 99.35% and CE loss 0.00\n",
      "Epoch 40/50 - test accuracy: 99.35% and CE loss 0.00\n",
      "Epoch 41/50 - test accuracy: 99.35% and CE loss 0.00\n",
      "Epoch 42/50 - test accuracy: 99.35% and CE loss 0.00\n",
      "Epoch 43/50 - test accuracy: 99.35% and CE loss 0.00\n",
      "Epoch 44/50 - test accuracy: 99.35% and CE loss 0.00\n",
      "Epoch 45/50 - test accuracy: 99.35% and CE loss 0.00\n",
      "Epoch 46/50 - test accuracy: 99.35% and CE loss 0.00\n",
      "Epoch 47/50 - test accuracy: 99.35% and CE loss 0.00\n",
      "Epoch 48/50 - test accuracy: 99.35% and CE loss 0.00\n",
      "Epoch 49/50 - test accuracy: 99.35% and CE loss 0.00\n",
      "Epoch 50/50 - test accuracy: 99.35% and CE loss 0.00\n"
     ]
    }
   ],
   "source": [
    "model_tuned = train_model(model = model.to(device), epochs = epochs)"
   ]
  },
  {
   "cell_type": "code",
   "execution_count": 171,
   "id": "eeae636c-e1ed-4418-8106-036d88f3e5c3",
   "metadata": {},
   "outputs": [
    {
     "name": "stdout",
     "output_type": "stream",
     "text": [
      "Model test accuracy: 99.35%\n"
     ]
    }
   ],
   "source": [
    "# Check test set performance.\n",
    "predictions, labels = evaluate_model(model_tuned, test_dataloader, device)\n",
    "test_acc = np.mean(np.argmax(predictions.cpu().numpy(), axis=1) == labels.cpu().numpy())        \n",
    "print(f\"Model test accuracy: {(100 * test_acc):.2f}%\")"
   ]
  },
  {
   "cell_type": "code",
   "execution_count": 172,
   "id": "7b41f838-7414-4222-b4dd-e6a7b99665fa",
   "metadata": {},
   "outputs": [
    {
     "name": "stdout",
     "output_type": "stream",
     "text": [
      "Saving the model: models\\resnet_lisa_layered_post_tuned.pth\n"
     ]
    }
   ],
   "source": [
    "model_path = Path(\"models\")\n",
    "model_path.mkdir(parents=True, exist_ok=True)\n",
    "\n",
    "model_name = \"resnet_lisa_layered_post_tuned.pth\"\n",
    "model_save_path = model_path / model_name\n",
    "\n",
    "print(f\"Saving the model: {model_save_path}\")\n",
    "torch.save(obj=model_tuned.state_dict(), f=model_save_path)"
   ]
  },
  {
   "cell_type": "code",
   "execution_count": null,
   "id": "1bff0de7-9a21-46d0-95e9-0ac8e7a3e4d5",
   "metadata": {},
   "outputs": [],
   "source": []
  }
 ],
 "metadata": {
  "kernelspec": {
   "display_name": "Python 3 (ipykernel)",
   "language": "python",
   "name": "python3"
  },
  "language_info": {
   "codemirror_mode": {
    "name": "ipython",
    "version": 3
   },
   "file_extension": ".py",
   "mimetype": "text/x-python",
   "name": "python",
   "nbconvert_exporter": "python",
   "pygments_lexer": "ipython3",
   "version": "3.12.3"
  }
 },
 "nbformat": 4,
 "nbformat_minor": 5
}
