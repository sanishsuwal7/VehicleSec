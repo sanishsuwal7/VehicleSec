{
 "cells": [
  {
   "cell_type": "code",
   "execution_count": 74,
   "id": "d65e40c8-ffbb-4916-b79a-e2dad0262dd9",
   "metadata": {},
   "outputs": [],
   "source": [
    "import os\n",
    "from ranger import Ranger\n",
    "\n",
    "import torch\n",
    "from torch import nn\n",
    "import torch.nn as nn\n",
    "import torch.nn.functional as F\n",
    "from torch.utils.data import DataLoader\n",
    "import torch.nn.utils.prune as prune\n",
    "\n",
    "import torchvision\n",
    "from torchvision import datasets\n",
    "from torchvision import transforms\n",
    "from torchvision.transforms import Normalize\n",
    "from torchmetrics import Accuracy\n",
    "\n",
    "import torch.optim as optim\n",
    "from cleverhans.torch.attacks.projected_gradient_descent import (projected_gradient_descent)\n",
    "\n",
    "import quantus\n",
    "import captum\n",
    "from captum.attr import Saliency, IntegratedGradients, NoiseTunnel\n",
    "\n",
    "import pandas as pd\n",
    "import numpy as np\n",
    "import matplotlib.pyplot as plt\n",
    "\n",
    "import random\n",
    "import copy\n",
    "import gc\n",
    "\n",
    "import warnings\n",
    "warnings.filterwarnings('ignore')"
   ]
  },
  {
   "cell_type": "code",
   "execution_count": 76,
   "id": "b11f885a-b390-4a25-a708-e8bcf2e665cc",
   "metadata": {},
   "outputs": [],
   "source": [
    "device = torch.device(\"cuda\" if torch.cuda.is_available() else \"cpu\")"
   ]
  },
  {
   "cell_type": "code",
   "execution_count": 80,
   "id": "7198da7a-2559-4ef9-91b1-c9c0f63b416a",
   "metadata": {},
   "outputs": [],
   "source": [
    "batch_size = 64\n",
    "epochs = 50\n",
    "train_path = 'datasets/imagenette2/train'\n",
    "val_path =  'datasets/imagenette2/val'\n",
    "train_dataloader = torch.utils.data.DataLoader(datasets.ImageFolder(train_path, \n",
    "                                                                   transform = transforms.Compose([\n",
    "                                                                        transforms.RandomResizedCrop(224),\n",
    "                                                                        transforms.RandomHorizontalFlip(),\n",
    "                                                                        transforms.ToTensor(),\n",
    "                                                                        transforms.Normalize(mean=[0.485, 0.456, 0.406],\n",
    "                                                                                             std=[0.229, 0.224, 0.225])\n",
    "                                                                   ])), batch_size = batch_size, shuffle=True)\n",
    "\n",
    "test_dataloader = torch.utils.data.DataLoader(datasets.ImageFolder(val_path,\n",
    "                                                               transform=transforms.Compose([\n",
    "                                                                   transforms.ToTensor(),\n",
    "                                                                   transforms.Resize([224, 224]),\n",
    "                                                                   transforms.Normalize(mean=[0.485, 0.456, 0.406],\n",
    "                                                                                        std=[0.229, 0.224, 0.225])\n",
    "                                                               ])),batch_size=batch_size, shuffle=True)"
   ]
  },
  {
   "cell_type": "code",
   "execution_count": 82,
   "id": "e8917a02-6b71-4b11-85c4-317b17ddcdd2",
   "metadata": {},
   "outputs": [],
   "source": [
    "classes = ('tench', 'springer', 'casette_player', 'chain_saw','church', 'French_horn', 'garbage_truck', 'gas_pump', 'golf_ball', 'parachute')"
   ]
  },
  {
   "cell_type": "code",
   "execution_count": 84,
   "id": "1744ebf8-b8ae-4d45-8ab8-b1dda8222bc1",
   "metadata": {},
   "outputs": [],
   "source": [
    "%run models.ipynb\n",
    "%run utils.ipynb\n",
    "%run metrics.ipynb"
   ]
  },
  {
   "cell_type": "code",
   "execution_count": 86,
   "id": "0e15ff7f-c200-41f1-8435-bd33ec19268d",
   "metadata": {},
   "outputs": [
    {
     "data": {
      "text/plain": [
       "<All keys matched successfully>"
      ]
     },
     "execution_count": 86,
     "metadata": {},
     "output_type": "execute_result"
    }
   ],
   "source": [
    "from pathlib import Path\n",
    "\n",
    "model_path = Path(\"models\")\n",
    "model_path.mkdir(parents=True, exist_ok=True)\n",
    "\n",
    "model_name = \"resnet_imagenette.pth\"\n",
    "model_save_path = model_path / model_name\n",
    "model_normal = resnet_18(filter='None', filter_layer=0)\n",
    "model_normal.load_state_dict(torch.load(model_save_path))"
   ]
  },
  {
   "cell_type": "code",
   "execution_count": 88,
   "id": "b8b24295-f42c-46c2-b775-eb208a238c08",
   "metadata": {},
   "outputs": [
    {
     "name": "stdout",
     "output_type": "stream",
     "text": [
      "Test accuracy for Resnet 18 Normal is: 81.43%\n"
     ]
    }
   ],
   "source": [
    "# Model to GPU and eval mode.\n",
    "model_normal.to(device)\n",
    "model_normal.eval()\n",
    "\n",
    "# Check test set performance.\n",
    "predictions, labels = evaluate_model(model_normal, test_dataloader, device)\n",
    "test_acc = np.mean(np.argmax(predictions.cpu().numpy(), axis=1) == labels.cpu().numpy())        \n",
    "print(f\"Test accuracy for Resnet 18 Normal is: {(100 * test_acc):.2f}%\")"
   ]
  },
  {
   "cell_type": "markdown",
   "id": "7c8ebc4b-6746-4922-b267-730b9345e02b",
   "metadata": {},
   "source": [
    "# Unstructured Post Pruning"
   ]
  },
  {
   "cell_type": "code",
   "execution_count": 90,
   "id": "220b35fb-f736-4aaf-8bb5-51084db000be",
   "metadata": {},
   "outputs": [
    {
     "data": {
      "text/plain": [
       "<All keys matched successfully>"
      ]
     },
     "execution_count": 90,
     "metadata": {},
     "output_type": "execute_result"
    }
   ],
   "source": [
    "from pathlib import Path\n",
    "\n",
    "model_path = Path(\"models\")\n",
    "model_path.mkdir(parents=True, exist_ok=True)\n",
    "\n",
    "model_name = \"resnet_imagenette.pth\"\n",
    "model_save_path = model_path / model_name\n",
    "model_notune = resnet_18(filter='None', filter_layer=0)\n",
    "model_notune.load_state_dict(torch.load(model_save_path))"
   ]
  },
  {
   "cell_type": "code",
   "execution_count": 92,
   "id": "7566678f-b495-4ae5-b588-0ae07adc2ec0",
   "metadata": {},
   "outputs": [
    {
     "name": "stdout",
     "output_type": "stream",
     "text": [
      "RESNET-18 global sparsity = 0.00%\n"
     ]
    }
   ],
   "source": [
    "print(f\"RESNET-18 global sparsity = {compute_sparsity_resnet(model_notune):.2f}%\")"
   ]
  },
  {
   "cell_type": "code",
   "execution_count": 93,
   "id": "9ac67c08-4750-4a0d-9b2a-83af5f4d3afa",
   "metadata": {},
   "outputs": [],
   "source": [
    "import torch.nn.utils.prune as prune\n",
    "for name, module in model_notune.named_modules():\n",
    "    # prune 20% of weights/connections in for all hidden layaers-\n",
    "    if isinstance(module, torch.nn.Conv2d):\n",
    "        prune.l1_unstructured(module = module, name = 'weight', amount = 0.2)\n",
    "    \n",
    "    # prune 10% of weights/connections for output layer-\n",
    "    elif isinstance(module, torch.nn.Linear):\n",
    "        prune.l1_unstructured(module = module, name = 'weight', amount = 0.1)"
   ]
  },
  {
   "cell_type": "code",
   "execution_count": 98,
   "id": "d9c7e0de-172c-4f55-9deb-5de3c726f758",
   "metadata": {},
   "outputs": [
    {
     "name": "stdout",
     "output_type": "stream",
     "text": [
      "RESNET-18 global sparsity = 19.99%\n"
     ]
    }
   ],
   "source": [
    "print(f\"RESNET-18 global sparsity = {compute_sparsity_resnet(model_notune):.2f}%\")"
   ]
  },
  {
   "cell_type": "code",
   "execution_count": 100,
   "id": "8f1864fa-ff95-493d-900d-63afc829a0fb",
   "metadata": {},
   "outputs": [
    {
     "name": "stdout",
     "output_type": "stream",
     "text": [
      "Test accuracy for Resnet 18 pretrained no tuning Normal is: 77.91%\n"
     ]
    }
   ],
   "source": [
    "# Model to GPU and eval mode.\n",
    "model_notune.to(device)\n",
    "model_notune.eval()\n",
    "\n",
    "# Check test set performance.\n",
    "predictions, labels = evaluate_model(model_notune, test_dataloader, device)\n",
    "test_acc = np.mean(np.argmax(predictions.cpu().numpy(), axis=1) == labels.cpu().numpy())        \n",
    "print(f\"Test accuracy for Resnet 18 pretrained no tuning Normal is: {(100 * test_acc):.2f}%\")"
   ]
  },
  {
   "cell_type": "code",
   "execution_count": 102,
   "id": "1294a774-36ba-446f-8be4-3fbf77ff5359",
   "metadata": {},
   "outputs": [
    {
     "name": "stdout",
     "output_type": "stream",
     "text": [
      "Saving the model: models\\resnet_imagenette_no_tuned_l1.pth\n"
     ]
    }
   ],
   "source": [
    "from pathlib import Path\n",
    "\n",
    "model_path = Path(\"models\")\n",
    "model_path.mkdir(parents=True, exist_ok=True)\n",
    "\n",
    "model_name = \"resnet_imagenette_no_tuned_l1.pth\"\n",
    "model_save_path = model_path / model_name\n",
    "\n",
    "print(f\"Saving the model: {model_save_path}\")\n",
    "torch.save(obj=model_notune.state_dict(), f=model_save_path)"
   ]
  },
  {
   "cell_type": "code",
   "execution_count": 104,
   "id": "ef0fd72c-a5e6-4c37-9519-c7cccdaa4be5",
   "metadata": {},
   "outputs": [
    {
     "name": "stdout",
     "output_type": "stream",
     "text": [
      "Ranger optimizer loaded. \n",
      "Gradient Centralization usage = True\n",
      "GC applied to both conv and fc layers\n"
     ]
    }
   ],
   "source": [
    "model = model_notune\n",
    "learning_rate = 1e-04\n",
    "criterion = nn.CrossEntropyLoss(reduction=\"mean\").cuda()\n",
    "optimizer = Ranger(model.parameters(), lr = learning_rate, eps = 1e-06)"
   ]
  },
  {
   "cell_type": "code",
   "execution_count": 106,
   "id": "43a3e716-a424-436b-ad6b-0a626910c4bb",
   "metadata": {},
   "outputs": [],
   "source": [
    "def train_model(model, epochs):\n",
    "    model.train()\n",
    "    for epoch in range(epochs):\n",
    "        for x_batch, y_batch in train_dataloader:\n",
    "            x_batch, y_batch = x_batch.to(device), y_batch.to(device)\n",
    "            optimizer.zero_grad()\n",
    "            output = model(x_batch)\n",
    "            loss = criterion(output, y_batch)\n",
    "            loss.backward()\n",
    "            optimizer.step()\n",
    "\n",
    "        # Evaluate model!\n",
    "        if epochs%10==0:\n",
    "            predictions, labels = evaluate_model(model, test_dataloader, device)\n",
    "            test_acc = np.mean(np.argmax(predictions.cpu().numpy(), axis=1) == labels.cpu().numpy())\n",
    "            print(f\"Epoch {epoch+1}/{epochs} - test accuracy: {(100 * test_acc):.2f}% and CE loss {loss.item():.2f}\")\n",
    "    return model"
   ]
  },
  {
   "cell_type": "code",
   "execution_count": 108,
   "id": "65ac5d27-a0b1-4b32-8dc6-852902665840",
   "metadata": {},
   "outputs": [
    {
     "name": "stdout",
     "output_type": "stream",
     "text": [
      "Epoch 1/50 - test accuracy: 80.36% and CE loss 0.64\n",
      "Epoch 2/50 - test accuracy: 82.55% and CE loss 0.50\n",
      "Epoch 3/50 - test accuracy: 82.80% and CE loss 0.25\n",
      "Epoch 4/50 - test accuracy: 82.24% and CE loss 0.37\n",
      "Epoch 5/50 - test accuracy: 83.11% and CE loss 0.29\n",
      "Epoch 6/50 - test accuracy: 82.70% and CE loss 0.26\n",
      "Epoch 7/50 - test accuracy: 82.73% and CE loss 0.18\n",
      "Epoch 8/50 - test accuracy: 82.75% and CE loss 0.26\n",
      "Epoch 9/50 - test accuracy: 82.98% and CE loss 0.39\n",
      "Epoch 10/50 - test accuracy: 82.29% and CE loss 0.16\n",
      "Epoch 11/50 - test accuracy: 83.29% and CE loss 0.26\n",
      "Epoch 12/50 - test accuracy: 83.08% and CE loss 0.37\n",
      "Epoch 13/50 - test accuracy: 81.63% and CE loss 0.20\n",
      "Epoch 14/50 - test accuracy: 82.19% and CE loss 0.24\n",
      "Epoch 15/50 - test accuracy: 82.93% and CE loss 0.21\n",
      "Epoch 16/50 - test accuracy: 83.26% and CE loss 0.25\n",
      "Epoch 17/50 - test accuracy: 82.42% and CE loss 0.19\n",
      "Epoch 18/50 - test accuracy: 83.85% and CE loss 0.20\n",
      "Epoch 19/50 - test accuracy: 82.17% and CE loss 0.11\n",
      "Epoch 20/50 - test accuracy: 81.91% and CE loss 0.29\n",
      "Epoch 21/50 - test accuracy: 82.60% and CE loss 0.30\n",
      "Epoch 22/50 - test accuracy: 81.81% and CE loss 0.19\n",
      "Epoch 23/50 - test accuracy: 82.19% and CE loss 0.12\n",
      "Epoch 24/50 - test accuracy: 82.62% and CE loss 0.27\n",
      "Epoch 25/50 - test accuracy: 81.30% and CE loss 0.23\n",
      "Epoch 26/50 - test accuracy: 83.62% and CE loss 0.22\n",
      "Epoch 27/50 - test accuracy: 82.65% and CE loss 0.22\n",
      "Epoch 28/50 - test accuracy: 81.22% and CE loss 0.27\n",
      "Epoch 29/50 - test accuracy: 83.64% and CE loss 0.54\n",
      "Epoch 30/50 - test accuracy: 82.96% and CE loss 0.16\n",
      "Epoch 31/50 - test accuracy: 82.78% and CE loss 0.23\n",
      "Epoch 32/50 - test accuracy: 82.14% and CE loss 0.13\n",
      "Epoch 33/50 - test accuracy: 83.82% and CE loss 0.29\n",
      "Epoch 34/50 - test accuracy: 83.36% and CE loss 0.22\n",
      "Epoch 35/50 - test accuracy: 83.77% and CE loss 0.25\n",
      "Epoch 36/50 - test accuracy: 83.95% and CE loss 0.22\n",
      "Epoch 37/50 - test accuracy: 82.17% and CE loss 0.28\n",
      "Epoch 38/50 - test accuracy: 81.58% and CE loss 0.13\n",
      "Epoch 39/50 - test accuracy: 83.49% and CE loss 0.21\n",
      "Epoch 40/50 - test accuracy: 80.94% and CE loss 0.14\n",
      "Epoch 41/50 - test accuracy: 82.22% and CE loss 0.28\n",
      "Epoch 42/50 - test accuracy: 82.19% and CE loss 0.19\n",
      "Epoch 43/50 - test accuracy: 81.20% and CE loss 0.18\n",
      "Epoch 44/50 - test accuracy: 82.85% and CE loss 0.22\n",
      "Epoch 45/50 - test accuracy: 83.08% and CE loss 0.25\n",
      "Epoch 46/50 - test accuracy: 83.21% and CE loss 0.21\n",
      "Epoch 47/50 - test accuracy: 83.13% and CE loss 0.25\n",
      "Epoch 48/50 - test accuracy: 83.64% and CE loss 0.16\n",
      "Epoch 49/50 - test accuracy: 80.84% and CE loss 0.22\n",
      "Epoch 50/50 - test accuracy: 83.08% and CE loss 0.47\n"
     ]
    }
   ],
   "source": [
    "model_tuned = train_model(model = model.to(device), epochs = epochs)"
   ]
  },
  {
   "cell_type": "code",
   "execution_count": 109,
   "id": "646fe782-e4ab-4c30-8c17-81cbf3d9ace7",
   "metadata": {},
   "outputs": [
    {
     "name": "stdout",
     "output_type": "stream",
     "text": [
      "Model test accuracy: 83.08%\n"
     ]
    }
   ],
   "source": [
    "# Model to GPU and eval mode.\n",
    "model_tuned.to(device)\n",
    "model_tuned.eval()\n",
    "\n",
    "# Check test set performance.\n",
    "predictions, labels = evaluate_model(model_tuned, test_dataloader, device)\n",
    "test_acc = np.mean(np.argmax(predictions.cpu().numpy(), axis=1) == labels.cpu().numpy())        \n",
    "print(f\"Model test accuracy: {(100 * test_acc):.2f}%\")"
   ]
  },
  {
   "cell_type": "code",
   "execution_count": 110,
   "id": "0f7375ab-392c-401f-b64a-6249b152d338",
   "metadata": {},
   "outputs": [
    {
     "name": "stdout",
     "output_type": "stream",
     "text": [
      "Saving the model: models\\resnet_imagenette_post_tuned_l1.pth\n"
     ]
    }
   ],
   "source": [
    "from pathlib import Path\n",
    "\n",
    "model_path = Path(\"models\")\n",
    "model_path.mkdir(parents=True, exist_ok=True)\n",
    "\n",
    "model_name = \"resnet_imagenette_post_tuned_l1.pth\"\n",
    "model_save_path = model_path / model_name\n",
    "\n",
    "print(f\"Saving the model: {model_save_path}\")\n",
    "torch.save(obj=model_tuned.state_dict(), f=model_save_path)"
   ]
  },
  {
   "cell_type": "markdown",
   "id": "d4a7c2fd-44b2-4122-91bb-4ba29671b2df",
   "metadata": {},
   "source": [
    "# Global Post Train Prune"
   ]
  },
  {
   "cell_type": "code",
   "execution_count": 131,
   "id": "dfbfbba1-ad36-4790-a31c-c2aaf1e33dc8",
   "metadata": {},
   "outputs": [
    {
     "data": {
      "text/plain": [
       "<All keys matched successfully>"
      ]
     },
     "execution_count": 131,
     "metadata": {},
     "output_type": "execute_result"
    }
   ],
   "source": [
    "from pathlib import Path\n",
    "\n",
    "model_path = Path(\"models\")\n",
    "model_path.mkdir(parents=True, exist_ok=True)\n",
    "\n",
    "model_name = \"resnet_imagenette.pth\"\n",
    "model_save_path = model_path / model_name\n",
    "model_notune = resnet_18(filter='None', filter_layer=0)\n",
    "model_notune.load_state_dict(torch.load(model_save_path))"
   ]
  },
  {
   "cell_type": "code",
   "execution_count": 133,
   "id": "aba5fcf8-5dcf-4b0d-a12d-75a165a4c220",
   "metadata": {},
   "outputs": [
    {
     "name": "stdout",
     "output_type": "stream",
     "text": [
      "RESNET-18 global sparsity = 0.00%\n"
     ]
    }
   ],
   "source": [
    "print(f\"RESNET-18 global sparsity = {compute_sparsity_resnet(model_notune):.2f}%\")"
   ]
  },
  {
   "cell_type": "code",
   "execution_count": 135,
   "id": "6fbc20a8-2df1-4efa-9f5a-23633aecfc56",
   "metadata": {},
   "outputs": [],
   "source": [
    "parameters_to_prune = (\n",
    "    (model_notune.conv1, 'weight'),\n",
    "    (model_notune.bn1, 'weight'),\n",
    "    (model_notune.layer1[0].conv1, 'weight'),\n",
    "    (model_notune.layer1[0].bn1, 'weight'),\n",
    "    (model_notune.layer1[0].conv2, 'weight'),\n",
    "    (model_notune.layer1[0].bn2, 'weight'),\n",
    "    (model_notune.layer1[1].conv1, 'weight'),\n",
    "    (model_notune.layer1[1].bn1, 'weight'),\n",
    "    (model_notune.layer1[1].conv2, 'weight'),\n",
    "    (model_notune.layer1[1].bn2, 'weight'),\n",
    "    (model_notune.layer2[0].conv1, 'weight'),\n",
    "    (model_notune.layer2[0].bn1, 'weight'),\n",
    "    (model_notune.layer2[0].conv2, 'weight'),\n",
    "    (model_notune.layer2[0].bn2, 'weight'),\n",
    "    (model_notune.layer2[1].conv1, 'weight'),\n",
    "    (model_notune.layer2[1].bn1, 'weight'),\n",
    "    (model_notune.layer2[1].conv2, 'weight'),\n",
    "    (model_notune.layer2[1].bn2, 'weight'),\n",
    "    (model_notune.layer3[0].conv1, 'weight'),\n",
    "    (model_notune.layer3[0].bn1, 'weight'),\n",
    "    (model_notune.layer3[0].conv2, 'weight'),\n",
    "    (model_notune.layer3[0].bn2, 'weight'),\n",
    "    (model_notune.layer3[1].conv1, 'weight'),\n",
    "    (model_notune.layer3[1].bn1, 'weight'),\n",
    "    (model_notune.layer3[1].conv2, 'weight'),\n",
    "    (model_notune.layer3[1].bn2, 'weight'),\n",
    "    (model_notune.layer4[0].conv1, 'weight'),\n",
    "    (model_notune.layer4[0].bn1, 'weight'),\n",
    "    (model_notune.layer4[0].conv2, 'weight'),\n",
    "    (model_notune.layer4[0].bn2, 'weight'),\n",
    "    (model_notune.layer4[1].conv1, 'weight'),\n",
    "    (model_notune.layer4[1].bn1, 'weight'),\n",
    "    (model_notune.layer4[1].conv2, 'weight'),\n",
    "    (model_notune.layer4[1].bn2, 'weight'),\n",
    "    (model_notune.fc, 'weight')\n",
    ")\n",
    "\n",
    "prune_rates_global = [0.2, 0.3, 0.4, 0.5, 0.6]"
   ]
  },
  {
   "cell_type": "code",
   "execution_count": 137,
   "id": "e118a18a-dc8b-48b8-9f8d-d4525c6d256a",
   "metadata": {},
   "outputs": [
    {
     "name": "stdout",
     "output_type": "stream",
     "text": [
      "\n",
      "\n",
      "Iterative Global pruning round = 1\n",
      "RESNET-18 global sparsity = 20.00%\n"
     ]
    }
   ],
   "source": [
    "for iter_prune_round in range(1):\n",
    "    print(f\"\\n\\nIterative Global pruning round = {iter_prune_round + 1}\")\n",
    "    \n",
    "    # Prune layer-wise in a structured manner-\n",
    "    prune.global_unstructured(\n",
    "        parameters_to_prune,\n",
    "        pruning_method = prune.L1Unstructured,\n",
    "        amount = prune_rates_global[iter_prune_round]\n",
    "        \n",
    "    )\n",
    "\n",
    "    # Print current global sparsity level-\n",
    "    print(f\"RESNET-18 global sparsity = {compute_sparsity_resnet(model_notune):.2f}%\")"
   ]
  },
  {
   "cell_type": "code",
   "execution_count": 139,
   "id": "c7034c2f-5a9b-4da8-832e-af3a1a2dd150",
   "metadata": {},
   "outputs": [
    {
     "name": "stdout",
     "output_type": "stream",
     "text": [
      "Test accuracy for Resnet 18 pretrained no tuning Normal is: 81.07%\n"
     ]
    }
   ],
   "source": [
    "# Model to GPU and eval mode.\n",
    "model_notune.to(device)\n",
    "model_notune.eval()\n",
    "\n",
    "# Check test set performance.\n",
    "predictions, labels = evaluate_model(model_notune, test_dataloader, device)\n",
    "test_acc = np.mean(np.argmax(predictions.cpu().numpy(), axis=1) == labels.cpu().numpy())        \n",
    "print(f\"Test accuracy for Resnet 18 pretrained no tuning Normal is: {(100 * test_acc):.2f}%\")"
   ]
  },
  {
   "cell_type": "code",
   "execution_count": 141,
   "id": "8a255dee-7879-4845-98de-e52db9284931",
   "metadata": {},
   "outputs": [
    {
     "name": "stdout",
     "output_type": "stream",
     "text": [
      "Saving the model: models\\resnet_imagenette_no_tuned_global.pth\n"
     ]
    }
   ],
   "source": [
    "from pathlib import Path\n",
    "\n",
    "model_path = Path(\"models\")\n",
    "model_path.mkdir(parents=True, exist_ok=True)\n",
    "\n",
    "model_name = \"resnet_imagenette_no_tuned_global.pth\"\n",
    "model_save_path = model_path / model_name\n",
    "\n",
    "print(f\"Saving the model: {model_save_path}\")\n",
    "torch.save(obj=model_notune.state_dict(), f=model_save_path)"
   ]
  },
  {
   "cell_type": "code",
   "execution_count": 143,
   "id": "a82a83af-2fe1-4286-924d-0bcf1533816f",
   "metadata": {},
   "outputs": [
    {
     "name": "stdout",
     "output_type": "stream",
     "text": [
      "Ranger optimizer loaded. \n",
      "Gradient Centralization usage = True\n",
      "GC applied to both conv and fc layers\n"
     ]
    }
   ],
   "source": [
    "model = model_notune\n",
    "learning_rate = 1e-03\n",
    "criterion = nn.CrossEntropyLoss(reduction=\"mean\").cuda()\n",
    "optimizer = Ranger(model.parameters(), lr = learning_rate, eps = 1e-06)"
   ]
  },
  {
   "cell_type": "code",
   "execution_count": 145,
   "id": "328b477d-e1fd-482f-9bb9-b958de163734",
   "metadata": {},
   "outputs": [
    {
     "name": "stdout",
     "output_type": "stream",
     "text": [
      "Epoch 1/50 - test accuracy: 79.08% and CE loss 0.72\n",
      "Epoch 2/50 - test accuracy: 78.27% and CE loss 0.53\n",
      "Epoch 3/50 - test accuracy: 80.31% and CE loss 0.39\n",
      "Epoch 4/50 - test accuracy: 76.61% and CE loss 0.74\n",
      "Epoch 5/50 - test accuracy: 78.24% and CE loss 0.55\n",
      "Epoch 6/50 - test accuracy: 81.53% and CE loss 0.58\n",
      "Epoch 7/50 - test accuracy: 78.24% and CE loss 0.48\n",
      "Epoch 8/50 - test accuracy: 79.85% and CE loss 0.59\n",
      "Epoch 9/50 - test accuracy: 82.75% and CE loss 0.46\n",
      "Epoch 10/50 - test accuracy: 79.36% and CE loss 0.71\n",
      "Epoch 11/50 - test accuracy: 79.39% and CE loss 0.63\n",
      "Epoch 12/50 - test accuracy: 82.32% and CE loss 0.65\n",
      "Epoch 13/50 - test accuracy: 81.73% and CE loss 0.79\n",
      "Epoch 14/50 - test accuracy: 83.62% and CE loss 0.39\n",
      "Epoch 15/50 - test accuracy: 83.36% and CE loss 0.52\n",
      "Epoch 16/50 - test accuracy: 82.68% and CE loss 0.44\n",
      "Epoch 17/50 - test accuracy: 82.57% and CE loss 0.55\n",
      "Epoch 18/50 - test accuracy: 84.03% and CE loss 0.69\n",
      "Epoch 19/50 - test accuracy: 81.20% and CE loss 0.43\n",
      "Epoch 20/50 - test accuracy: 83.21% and CE loss 0.43\n",
      "Epoch 21/50 - test accuracy: 83.49% and CE loss 0.62\n",
      "Epoch 22/50 - test accuracy: 81.45% and CE loss 0.59\n",
      "Epoch 23/50 - test accuracy: 84.48% and CE loss 0.55\n",
      "Epoch 24/50 - test accuracy: 85.35% and CE loss 0.29\n",
      "Epoch 25/50 - test accuracy: 82.78% and CE loss 0.48\n",
      "Epoch 26/50 - test accuracy: 82.96% and CE loss 0.50\n",
      "Epoch 27/50 - test accuracy: 85.35% and CE loss 0.62\n",
      "Epoch 28/50 - test accuracy: 83.80% and CE loss 0.34\n",
      "Epoch 29/50 - test accuracy: 85.15% and CE loss 0.26\n",
      "Epoch 30/50 - test accuracy: 85.45% and CE loss 0.39\n",
      "Epoch 31/50 - test accuracy: 83.52% and CE loss 0.36\n",
      "Epoch 32/50 - test accuracy: 85.07% and CE loss 0.19\n",
      "Epoch 33/50 - test accuracy: 85.07% and CE loss 0.28\n",
      "Epoch 34/50 - test accuracy: 85.22% and CE loss 0.54\n",
      "Epoch 35/50 - test accuracy: 83.64% and CE loss 0.30\n",
      "Epoch 36/50 - test accuracy: 85.45% and CE loss 0.48\n",
      "Epoch 37/50 - test accuracy: 83.95% and CE loss 0.58\n",
      "Epoch 38/50 - test accuracy: 84.87% and CE loss 0.35\n",
      "Epoch 39/50 - test accuracy: 84.43% and CE loss 0.23\n",
      "Epoch 40/50 - test accuracy: 84.89% and CE loss 0.43\n",
      "Epoch 41/50 - test accuracy: 84.74% and CE loss 0.24\n",
      "Epoch 42/50 - test accuracy: 86.22% and CE loss 0.42\n",
      "Epoch 43/50 - test accuracy: 83.54% and CE loss 0.34\n",
      "Epoch 44/50 - test accuracy: 86.04% and CE loss 0.27\n",
      "Epoch 45/50 - test accuracy: 86.29% and CE loss 0.38\n",
      "Epoch 46/50 - test accuracy: 83.11% and CE loss 0.34\n",
      "Epoch 47/50 - test accuracy: 86.17% and CE loss 0.38\n",
      "Epoch 48/50 - test accuracy: 86.50% and CE loss 0.23\n",
      "Epoch 49/50 - test accuracy: 85.27% and CE loss 0.42\n",
      "Epoch 50/50 - test accuracy: 86.80% and CE loss 0.14\n"
     ]
    }
   ],
   "source": [
    "model_tuned = train_model(model = model.to(device), epochs = epochs)"
   ]
  },
  {
   "cell_type": "code",
   "execution_count": 146,
   "id": "93a92c3f-30f3-43a7-812b-2281d534231e",
   "metadata": {},
   "outputs": [
    {
     "name": "stdout",
     "output_type": "stream",
     "text": [
      "Model test accuracy: 86.80%\n"
     ]
    }
   ],
   "source": [
    "# Model to GPU and eval mode.\n",
    "model_tuned.to(device)\n",
    "model_tuned.eval()\n",
    "\n",
    "# Check test set performance.\n",
    "predictions, labels = evaluate_model(model_tuned, test_dataloader, device)\n",
    "test_acc = np.mean(np.argmax(predictions.cpu().numpy(), axis=1) == labels.cpu().numpy())        \n",
    "print(f\"Model test accuracy: {(100 * test_acc):.2f}%\")"
   ]
  },
  {
   "cell_type": "code",
   "execution_count": 147,
   "id": "eaea33a0-5048-48fe-8be9-790bc70f9df5",
   "metadata": {},
   "outputs": [
    {
     "name": "stdout",
     "output_type": "stream",
     "text": [
      "Saving the model: models\\resnet_imagenette_post_tuned_global.pth\n"
     ]
    }
   ],
   "source": [
    "from pathlib import Path\n",
    "\n",
    "model_path = Path(\"models\")\n",
    "model_path.mkdir(parents=True, exist_ok=True)\n",
    "\n",
    "model_name = \"resnet_imagenette_post_tuned_global.pth\"\n",
    "model_save_path = model_path / model_name\n",
    "\n",
    "print(f\"Saving the model: {model_save_path}\")\n",
    "torch.save(obj=model_tuned.state_dict(), f=model_save_path)"
   ]
  },
  {
   "cell_type": "markdown",
   "id": "e9c1717d-c8fb-4faa-b561-3d3b1cf54d43",
   "metadata": {},
   "source": [
    "# Layered post Train Pruning"
   ]
  },
  {
   "cell_type": "code",
   "execution_count": 148,
   "id": "38907057-6679-4e5c-a503-32cfc2ce7862",
   "metadata": {},
   "outputs": [
    {
     "data": {
      "text/plain": [
       "<All keys matched successfully>"
      ]
     },
     "execution_count": 148,
     "metadata": {},
     "output_type": "execute_result"
    }
   ],
   "source": [
    "from pathlib import Path\n",
    "\n",
    "model_path = Path(\"models\")\n",
    "model_path.mkdir(parents=True, exist_ok=True)\n",
    "\n",
    "model_name = \"resnet_imagenette.pth\"\n",
    "model_save_path = model_path / model_name\n",
    "model_notune = resnet_18(filter='None', filter_layer=0)\n",
    "model_notune.load_state_dict(torch.load(model_save_path))"
   ]
  },
  {
   "cell_type": "code",
   "execution_count": 149,
   "id": "91675468-caa9-4c11-92bb-c7c863b3767d",
   "metadata": {},
   "outputs": [
    {
     "name": "stdout",
     "output_type": "stream",
     "text": [
      "RESNET-18 global sparsity = 0.00%\n"
     ]
    }
   ],
   "source": [
    "print(f\"RESNET-18 global sparsity = {compute_sparsity_resnet(model_notune):.2f}%\")"
   ]
  },
  {
   "cell_type": "code",
   "execution_count": 150,
   "id": "169629f1-a295-4019-bafc-abe3952a9d3e",
   "metadata": {},
   "outputs": [
    {
     "name": "stdout",
     "output_type": "stream",
     "text": [
      "Resnet structrured sparsity = 9.99%\n"
     ]
    }
   ],
   "source": [
    " # Prune layer-wise in a structured manner-\n",
    "prune.ln_structured(model_notune.conv1, name = \"weight\", amount = 0.1, n = 2, dim = 0)\n",
    "# prune.ln_structured(model.bn1, name = \"weight\", amount = 0.1, n = 2, dim = 0)\n",
    "prune.ln_structured(model_notune.layer1[0].conv1, name = \"weight\", amount = 0.1, n = 2, dim = 0)\n",
    "# prune.ln_structured(model.layer1[0].bn1, name = \"weight\", amount = 0.1, n = 2, dim = 0)\n",
    "prune.ln_structured(model_notune.layer1[0].conv2, name = \"weight\", amount = 0.1, n = 2, dim = 0)\n",
    "# prune.ln_structured(model.layer1[0].bn2, name = \"weight\", amount = 0.1, n = 2, dim = 0)\n",
    "prune.ln_structured(model_notune.layer1[1].conv1, name = \"weight\", amount = 0.1, n = 2, dim = 0)\n",
    "# prune.ln_structured(model.layer1[1].bn1, name = \"weight\", amount = 0.1, n = 2, dim = 0)\n",
    "prune.ln_structured(model_notune.layer1[1].conv2, name = \"weight\", amount = 0.1, n = 2, dim = 0)\n",
    "# prune.ln_structured(model.layer1[1].bn2, name = \"weight\", amount = 0.1, n = 2, dim = 0)\n",
    "prune.ln_structured(model_notune.layer2[0].conv1, name = \"weight\", amount = 0.1, n = 2, dim = 0)\n",
    "# prune.ln_structured(model.layer2[0].bn1, name = \"weight\", amount = 0.1, n = 2, dim = 0)\n",
    "prune.ln_structured(model_notune.layer2[0].conv2, name = \"weight\", amount = 0.1, n = 2, dim = 0)\n",
    "# prune.ln_structured(model.layer2[0].bn2, name = \"weight\", amount = 0.1, n = 2, dim = 0)\n",
    "prune.ln_structured(model_notune.layer2[1].conv1, name = \"weight\", amount = 0.1, n = 2, dim = 0)\n",
    "# prune.ln_structured(model.layer2[1].bn1, name = \"weight\", amount = 0.1, n = 2, dim = 0)\n",
    "prune.ln_structured(model_notune.layer2[1].conv2, name = \"weight\", amount = 0.1, n = 2, dim = 0)\n",
    "# prune.ln_structured(model.layer2[1].bn2, name = \"weight\", amount = 0.1, n = 2, dim = 0)\n",
    "prune.ln_structured(model_notune.layer3[0].conv1, name = \"weight\", amount = 0.1, n = 2, dim = 0)\n",
    "# prune.ln_structured(model.layer3[0].bn1, name = \"weight\", amount = 0.1, n = 2, dim = 0)\n",
    "prune.ln_structured(model_notune.layer3[0].conv2, name = \"weight\", amount = 0.1, n = 2, dim = 0)\n",
    "# prune.ln_structured(model.layer3[0].bn2, name = \"weight\", amount = 0.1, n = 2, dim = 0)\n",
    "prune.ln_structured(model_notune.layer3[1].conv1, name = \"weight\", amount = 0.1, n = 2, dim = 0)\n",
    "# prune.ln_structured(model.layer3[1].bn1, name = \"weight\", amount = 0.1, n = 2, dim = 0)\n",
    "prune.ln_structured(model_notune.layer3[1].conv2, name = \"weight\", amount = 0.1, n = 2, dim = 0)\n",
    "# prune.ln_structured(model.layer3[1].bn2, name = \"weight\", amount = 0.1, n = 2, dim = 0)\n",
    "prune.ln_structured(model_notune.layer4[0].conv1, name = \"weight\", amount = 0.1, n = 2, dim = 0)\n",
    "# prune.ln_structured(model.layer4[0].bn1, name = \"weight\", amount = 0.1, n = 2, dim = 0)\n",
    "prune.ln_structured(model_notune.layer4[0].conv2, name = \"weight\", amount = 0.1, n = 2, dim = 0)\n",
    "# prune.ln_structured(model.layer4[0].bn2, name = \"weight\", amount = 0.1, n = 2, dim = 0)\n",
    "prune.ln_structured(model_notune.layer4[1].conv1, name = \"weight\", amount = 0.1, n = 2, dim = 0)\n",
    "# prune.ln_structured(model.layer4[1].bn1, name = \"weight\", amount = 0.1, n = 2, dim = 0)\n",
    "prune.ln_structured(model_notune.layer4[1].conv2, name = \"weight\", amount = 0.1, n = 2, dim = 0)\n",
    "# prune.ln_structured(model.layer4[1].bn2, name = \"weight\", amount = 0.1, n = 2, dim = 0)\n",
    "\n",
    "prune.ln_structured(model_notune.fc, name = \"weight\", amount = 0.1, n = 2, dim = 0)\n",
    "\n",
    "# Print current global sparsity level-\n",
    "print(f\"Resnet structrured sparsity = {compute_sparsity_resnet(model_notune):.2f}%\")"
   ]
  },
  {
   "cell_type": "code",
   "execution_count": 151,
   "id": "9ba0f66b-cecd-4116-a63c-fbcebc76bceb",
   "metadata": {},
   "outputs": [
    {
     "name": "stdout",
     "output_type": "stream",
     "text": [
      "Test accuracy for Resnet 18 pretrained no tuning Normal is: 20.00%\n"
     ]
    }
   ],
   "source": [
    "# Model to GPU and eval mode.\n",
    "model_notune.to(device)\n",
    "model_notune.eval()\n",
    "\n",
    "# Check test set performance.\n",
    "predictions, labels = evaluate_model(model_notune, test_dataloader, device)\n",
    "test_acc = np.mean(np.argmax(predictions.cpu().numpy(), axis=1) == labels.cpu().numpy())        \n",
    "print(f\"Test accuracy for Resnet 18 pretrained no tuning Normal is: {(100 * test_acc):.2f}%\")"
   ]
  },
  {
   "cell_type": "code",
   "execution_count": 152,
   "id": "d477ec24-d606-4770-8e7f-7047d407ebe0",
   "metadata": {},
   "outputs": [
    {
     "name": "stdout",
     "output_type": "stream",
     "text": [
      "Saving the model: models\\resnet_imagenette_no_tuned_layered.pth\n"
     ]
    }
   ],
   "source": [
    "from pathlib import Path\n",
    "\n",
    "model_path = Path(\"models\")\n",
    "model_path.mkdir(parents=True, exist_ok=True)\n",
    "\n",
    "model_name = \"resnet_imagenette_no_tuned_layered.pth\"\n",
    "model_save_path = model_path / model_name\n",
    "\n",
    "print(f\"Saving the model: {model_save_path}\")\n",
    "torch.save(obj=model_notune.state_dict(), f=model_save_path)"
   ]
  },
  {
   "cell_type": "code",
   "execution_count": 153,
   "id": "088b8b0b-5096-46d5-a9eb-d8c1a43825d0",
   "metadata": {},
   "outputs": [
    {
     "name": "stdout",
     "output_type": "stream",
     "text": [
      "Ranger optimizer loaded. \n",
      "Gradient Centralization usage = True\n",
      "GC applied to both conv and fc layers\n"
     ]
    }
   ],
   "source": [
    "model = model_notune\n",
    "learning_rate = 1e-04\n",
    "criterion = nn.CrossEntropyLoss(reduction=\"mean\").cuda()\n",
    "optimizer = Ranger(model.parameters(), lr = learning_rate, eps = 1e-06)"
   ]
  },
  {
   "cell_type": "code",
   "execution_count": 154,
   "id": "cf6a63ca-3bc0-468d-9374-c9eddffbb957",
   "metadata": {},
   "outputs": [
    {
     "name": "stdout",
     "output_type": "stream",
     "text": [
      "Epoch 1/50 - test accuracy: 69.99% and CE loss 1.12\n",
      "Epoch 2/50 - test accuracy: 78.65% and CE loss 1.05\n",
      "Epoch 3/50 - test accuracy: 81.25% and CE loss 0.77\n",
      "Epoch 4/50 - test accuracy: 80.94% and CE loss 0.33\n",
      "Epoch 5/50 - test accuracy: 81.68% and CE loss 0.43\n",
      "Epoch 6/50 - test accuracy: 81.86% and CE loss 0.42\n",
      "Epoch 7/50 - test accuracy: 81.10% and CE loss 0.44\n",
      "Epoch 8/50 - test accuracy: 81.66% and CE loss 0.31\n",
      "Epoch 9/50 - test accuracy: 82.55% and CE loss 0.28\n",
      "Epoch 10/50 - test accuracy: 82.17% and CE loss 0.24\n",
      "Epoch 11/50 - test accuracy: 82.80% and CE loss 0.33\n",
      "Epoch 12/50 - test accuracy: 81.99% and CE loss 0.40\n",
      "Epoch 13/50 - test accuracy: 82.75% and CE loss 0.27\n",
      "Epoch 14/50 - test accuracy: 81.55% and CE loss 0.39\n",
      "Epoch 15/50 - test accuracy: 82.45% and CE loss 0.39\n",
      "Epoch 16/50 - test accuracy: 79.95% and CE loss 0.36\n",
      "Epoch 17/50 - test accuracy: 82.39% and CE loss 0.33\n",
      "Epoch 18/50 - test accuracy: 81.89% and CE loss 0.40\n",
      "Epoch 19/50 - test accuracy: 82.34% and CE loss 0.39\n",
      "Epoch 20/50 - test accuracy: 83.06% and CE loss 0.20\n",
      "Epoch 21/50 - test accuracy: 84.00% and CE loss 0.35\n",
      "Epoch 22/50 - test accuracy: 82.14% and CE loss 0.43\n",
      "Epoch 23/50 - test accuracy: 81.89% and CE loss 0.22\n",
      "Epoch 24/50 - test accuracy: 82.22% and CE loss 0.21\n",
      "Epoch 25/50 - test accuracy: 81.71% and CE loss 0.44\n",
      "Epoch 26/50 - test accuracy: 82.93% and CE loss 0.11\n",
      "Epoch 27/50 - test accuracy: 82.50% and CE loss 0.29\n",
      "Epoch 28/50 - test accuracy: 82.11% and CE loss 0.35\n",
      "Epoch 29/50 - test accuracy: 83.08% and CE loss 0.29\n",
      "Epoch 30/50 - test accuracy: 81.61% and CE loss 0.21\n",
      "Epoch 31/50 - test accuracy: 82.83% and CE loss 0.33\n",
      "Epoch 32/50 - test accuracy: 82.75% and CE loss 0.20\n",
      "Epoch 33/50 - test accuracy: 83.03% and CE loss 0.09\n",
      "Epoch 34/50 - test accuracy: 82.42% and CE loss 0.21\n",
      "Epoch 35/50 - test accuracy: 82.93% and CE loss 0.28\n",
      "Epoch 36/50 - test accuracy: 83.31% and CE loss 0.42\n",
      "Epoch 37/50 - test accuracy: 82.83% and CE loss 0.28\n",
      "Epoch 38/50 - test accuracy: 81.89% and CE loss 0.16\n",
      "Epoch 39/50 - test accuracy: 82.78% and CE loss 0.31\n",
      "Epoch 40/50 - test accuracy: 82.09% and CE loss 0.24\n",
      "Epoch 41/50 - test accuracy: 82.73% and CE loss 0.28\n",
      "Epoch 42/50 - test accuracy: 82.78% and CE loss 0.23\n",
      "Epoch 43/50 - test accuracy: 81.83% and CE loss 0.29\n",
      "Epoch 44/50 - test accuracy: 82.78% and CE loss 0.15\n",
      "Epoch 45/50 - test accuracy: 83.72% and CE loss 0.16\n",
      "Epoch 46/50 - test accuracy: 82.88% and CE loss 0.19\n",
      "Epoch 47/50 - test accuracy: 82.85% and CE loss 0.20\n",
      "Epoch 48/50 - test accuracy: 83.08% and CE loss 0.34\n",
      "Epoch 49/50 - test accuracy: 83.31% and CE loss 0.27\n",
      "Epoch 50/50 - test accuracy: 83.72% and CE loss 0.21\n"
     ]
    }
   ],
   "source": [
    "model_tuned = train_model(model = model.to(device), epochs = epochs)"
   ]
  },
  {
   "cell_type": "code",
   "execution_count": 155,
   "id": "1c035146-c457-4d78-8862-4279e59c1a49",
   "metadata": {},
   "outputs": [
    {
     "name": "stdout",
     "output_type": "stream",
     "text": [
      "Model test accuracy: 83.72%\n"
     ]
    }
   ],
   "source": [
    "# Model to GPU and eval mode.\n",
    "model_tuned.to(device)\n",
    "model_tuned.eval()\n",
    "\n",
    "# Check test set performance.\n",
    "predictions, labels = evaluate_model(model_tuned, test_dataloader, device)\n",
    "test_acc = np.mean(np.argmax(predictions.cpu().numpy(), axis=1) == labels.cpu().numpy())        \n",
    "print(f\"Model test accuracy: {(100 * test_acc):.2f}%\")"
   ]
  },
  {
   "cell_type": "code",
   "execution_count": 156,
   "id": "de66a709-e2bc-4ee9-9b4c-77009ad1bd3a",
   "metadata": {},
   "outputs": [
    {
     "name": "stdout",
     "output_type": "stream",
     "text": [
      "Saving the model: models\\resnet_imagenette_post_tuned_layered.pth\n"
     ]
    }
   ],
   "source": [
    "from pathlib import Path\n",
    "\n",
    "model_path = Path(\"models\")\n",
    "model_path.mkdir(parents=True, exist_ok=True)\n",
    "\n",
    "model_name = \"resnet_imagenette_post_tuned_layered.pth\"\n",
    "model_save_path = model_path / model_name\n",
    "\n",
    "print(f\"Saving the model: {model_save_path}\")\n",
    "torch.save(obj=model_tuned.state_dict(), f=model_save_path)"
   ]
  },
  {
   "cell_type": "code",
   "execution_count": null,
   "id": "2c4c4422-d8c2-4c4f-bbae-afe54d2d1c62",
   "metadata": {},
   "outputs": [],
   "source": []
  },
  {
   "cell_type": "code",
   "execution_count": null,
   "id": "7bb5ff5a-599e-42f7-ad77-b23cb020b24c",
   "metadata": {},
   "outputs": [],
   "source": []
  },
  {
   "cell_type": "code",
   "execution_count": null,
   "id": "818cf794-1673-43e1-aa6b-d8e5230961f3",
   "metadata": {},
   "outputs": [],
   "source": []
  },
  {
   "cell_type": "code",
   "execution_count": null,
   "id": "579a9d65-c645-44e1-a0ea-7e0665be6fd2",
   "metadata": {},
   "outputs": [],
   "source": []
  },
  {
   "cell_type": "code",
   "execution_count": null,
   "id": "931cd488-7801-4460-858b-abd913933a4d",
   "metadata": {},
   "outputs": [],
   "source": []
  }
 ],
 "metadata": {
  "kernelspec": {
   "display_name": "Python 3 (ipykernel)",
   "language": "python",
   "name": "python3"
  },
  "language_info": {
   "codemirror_mode": {
    "name": "ipython",
    "version": 3
   },
   "file_extension": ".py",
   "mimetype": "text/x-python",
   "name": "python",
   "nbconvert_exporter": "python",
   "pygments_lexer": "ipython3",
   "version": "3.12.3"
  }
 },
 "nbformat": 4,
 "nbformat_minor": 5
}
