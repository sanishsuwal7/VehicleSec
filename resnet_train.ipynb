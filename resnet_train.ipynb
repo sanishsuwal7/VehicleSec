{
 "cells": [
  {
   "cell_type": "code",
   "execution_count": 2,
   "id": "190d7068-3845-4785-858e-f9cb7d3f96af",
   "metadata": {},
   "outputs": [],
   "source": [
    "import os\n",
    "from ranger import Ranger\n",
    "\n",
    "import torch\n",
    "from torch import nn\n",
    "import torch.nn as nn\n",
    "import torch.nn.functional as F\n",
    "from torch.utils.data import DataLoader\n",
    "import torch.nn.utils.prune as prune\n",
    "\n",
    "import torchvision\n",
    "from torchvision import datasets\n",
    "from torchvision import transforms\n",
    "from torchvision.transforms import Normalize\n",
    "from torchmetrics import Accuracy\n",
    "\n",
    "import torch.optim as optim\n",
    "from cleverhans.torch.attacks.projected_gradient_descent import (projected_gradient_descent)\n",
    "\n",
    "import quantus\n",
    "import captum\n",
    "from captum.attr import Saliency, IntegratedGradients, NoiseTunnel\n",
    "\n",
    "import pandas as pd\n",
    "import numpy as np\n",
    "import matplotlib.pyplot as plt\n",
    "\n",
    "import random\n",
    "import copy\n",
    "import gc\n",
    "\n",
    "import warnings\n",
    "warnings.filterwarnings('ignore')"
   ]
  },
  {
   "cell_type": "code",
   "execution_count": 3,
   "id": "eaebe740-bbc8-4a75-9964-bfa48b4b826b",
   "metadata": {},
   "outputs": [],
   "source": [
    "device = torch.device(\"cuda\" if torch.cuda.is_available() else \"cpu\")"
   ]
  },
  {
   "cell_type": "code",
   "execution_count": 4,
   "id": "6d31c189-46fe-4af8-92c7-ae6f11fa528e",
   "metadata": {},
   "outputs": [],
   "source": [
    "batch_size = 8\n",
    "epochs = 100\n",
    "train_path = 'datasets/imagenette2/train'\n",
    "val_path =  'datasets/imagenette2/val'\n",
    "train_dataloader = torch.utils.data.DataLoader(datasets.ImageFolder(train_path, \n",
    "                                                                   transform = transforms.Compose([\n",
    "                                                                        transforms.RandomResizedCrop(224),\n",
    "                                                                        transforms.RandomHorizontalFlip(),\n",
    "                                                                        transforms.ToTensor(),\n",
    "                                                                        transforms.Normalize(mean=[0.485, 0.456, 0.406],\n",
    "                                                                                             std=[0.229, 0.224, 0.225])\n",
    "                                                                   ])), batch_size = batch_size, shuffle=True)\n",
    "\n",
    "test_dataloader = torch.utils.data.DataLoader(datasets.ImageFolder(val_path,\n",
    "                                                               transform=transforms.Compose([\n",
    "                                                                   transforms.ToTensor(),\n",
    "                                                                   transforms.Resize([224, 224]),\n",
    "                                                                   transforms.Normalize(mean=[0.485, 0.456, 0.406],\n",
    "                                                                                        std=[0.229, 0.224, 0.225])\n",
    "                                                               ])),batch_size=batch_size, shuffle=True)"
   ]
  },
  {
   "cell_type": "code",
   "execution_count": 5,
   "id": "0cec1059-6a54-46f5-aa5f-fb0af4239db0",
   "metadata": {},
   "outputs": [],
   "source": [
    "classes = ('tench', 'springer', 'casette_player', 'chain_saw','church', 'French_horn', 'garbage_truck', 'gas_pump', 'golf_ball', 'parachute')"
   ]
  },
  {
   "cell_type": "code",
   "execution_count": 33,
   "id": "f9155890-3118-4bf3-8ed5-0f211e749036",
   "metadata": {},
   "outputs": [],
   "source": [
    "%run models.ipynb\n",
    "%run utils.ipynb\n",
    "%run metrics.ipynb"
   ]
  },
  {
   "cell_type": "code",
   "execution_count": 35,
   "id": "b440d8d2-f0e5-4fe1-b66d-b285142fba1a",
   "metadata": {},
   "outputs": [
    {
     "name": "stdout",
     "output_type": "stream",
     "text": [
      "Ranger optimizer loaded. \n",
      "Gradient Centralization usage = True\n",
      "GC applied to both conv and fc layers\n"
     ]
    }
   ],
   "source": [
    "model_normal = resnet_18(filter='None', filter_layer=0)\n",
    "learning_rate = 1e-04\n",
    "criterion = nn.CrossEntropyLoss(reduction=\"mean\").cuda()\n",
    "optimizer = Ranger(model_normal.parameters(), lr = learning_rate, eps = 1e-06)\n",
    "# lr_scheduler = optim.lr_scheduler.ReduceLROnPlateau(optimizer, patience = 5, verbose=True)"
   ]
  },
  {
   "cell_type": "code",
   "execution_count": 16,
   "id": "507abe16-c344-4459-9a4b-7c7379dc3132",
   "metadata": {},
   "outputs": [],
   "source": [
    "def train_model(model, epochs):\n",
    "    model.train()\n",
    "    for epoch in range(epochs):\n",
    "        for x_batch, y_batch in train_dataloader:\n",
    "            x_batch, y_batch = x_batch.to(device), y_batch.to(device)\n",
    "            optimizer.zero_grad()\n",
    "            output = model(x_batch)\n",
    "            loss = criterion(output, y_batch)\n",
    "            loss.backward()\n",
    "            optimizer.step()\n",
    "\n",
    "        # Evaluate model!\n",
    "        if epochs%10==0:\n",
    "            predictions, labels = evaluate_model(model, test_dataloader, device)\n",
    "            test_acc = np.mean(np.argmax(predictions.cpu().numpy(), axis=1) == labels.cpu().numpy())\n",
    "            print(f\"Epoch {epoch+1}/{epochs} - test accuracy: {(100 * test_acc):.2f}% and CE loss {loss.item():.2f}\")\n",
    "    return model"
   ]
  },
  {
   "cell_type": "code",
   "execution_count": 50,
   "id": "59fe186c-77f3-4f88-8833-c55498bed3fa",
   "metadata": {
    "scrolled": true
   },
   "outputs": [
    {
     "name": "stdout",
     "output_type": "stream",
     "text": [
      "Epoch 1/100 - test accuracy: 35.08% and CE loss 2.12\n",
      "Epoch 2/100 - test accuracy: 48.41% and CE loss 1.66\n",
      "Epoch 3/100 - test accuracy: 56.51% and CE loss 1.58\n",
      "Epoch 4/100 - test accuracy: 60.05% and CE loss 1.13\n",
      "Epoch 5/100 - test accuracy: 64.59% and CE loss 1.18\n",
      "Epoch 6/100 - test accuracy: 66.06% and CE loss 1.12\n",
      "Epoch 7/100 - test accuracy: 66.55% and CE loss 1.08\n",
      "Epoch 8/100 - test accuracy: 67.75% and CE loss 0.92\n",
      "Epoch 9/100 - test accuracy: 70.11% and CE loss 1.24\n",
      "Epoch 10/100 - test accuracy: 68.94% and CE loss 0.77\n",
      "Epoch 11/100 - test accuracy: 70.50% and CE loss 1.15\n",
      "Epoch 12/100 - test accuracy: 71.85% and CE loss 1.05\n",
      "Epoch 13/100 - test accuracy: 73.02% and CE loss 1.05\n",
      "Epoch 14/100 - test accuracy: 73.50% and CE loss 0.77\n",
      "Epoch 15/100 - test accuracy: 73.81% and CE loss 0.76\n",
      "Epoch 16/100 - test accuracy: 73.10% and CE loss 0.59\n",
      "Epoch 17/100 - test accuracy: 74.55% and CE loss 0.69\n",
      "Epoch 18/100 - test accuracy: 74.57% and CE loss 0.72\n",
      "Epoch 19/100 - test accuracy: 74.70% and CE loss 1.23\n",
      "Epoch 20/100 - test accuracy: 75.46% and CE loss 0.78\n",
      "Epoch 21/100 - test accuracy: 75.77% and CE loss 0.52\n",
      "Epoch 22/100 - test accuracy: 75.75% and CE loss 0.50\n",
      "Epoch 23/100 - test accuracy: 75.49% and CE loss 0.78\n",
      "Epoch 24/100 - test accuracy: 76.69% and CE loss 0.70\n",
      "Epoch 25/100 - test accuracy: 76.74% and CE loss 0.62\n",
      "Epoch 26/100 - test accuracy: 77.81% and CE loss 0.55\n",
      "Epoch 27/100 - test accuracy: 77.50% and CE loss 0.81\n",
      "Epoch 28/100 - test accuracy: 76.92% and CE loss 0.36\n",
      "Epoch 29/100 - test accuracy: 76.61% and CE loss 0.62\n",
      "Epoch 30/100 - test accuracy: 78.60% and CE loss 0.70\n",
      "Epoch 31/100 - test accuracy: 77.55% and CE loss 0.58\n",
      "Epoch 32/100 - test accuracy: 78.85% and CE loss 0.63\n",
      "Epoch 33/100 - test accuracy: 79.11% and CE loss 0.49\n",
      "Epoch 34/100 - test accuracy: 78.11% and CE loss 0.63\n",
      "Epoch 35/100 - test accuracy: 79.26% and CE loss 0.41\n",
      "Epoch 36/100 - test accuracy: 79.49% and CE loss 0.50\n",
      "Epoch 37/100 - test accuracy: 77.91% and CE loss 0.72\n",
      "Epoch 38/100 - test accuracy: 79.64% and CE loss 0.43\n",
      "Epoch 39/100 - test accuracy: 79.97% and CE loss 0.60\n",
      "Epoch 40/100 - test accuracy: 77.94% and CE loss 0.39\n",
      "Epoch 41/100 - test accuracy: 80.25% and CE loss 0.46\n",
      "Epoch 42/100 - test accuracy: 80.66% and CE loss 0.53\n",
      "Epoch 43/100 - test accuracy: 79.52% and CE loss 0.41\n",
      "Epoch 44/100 - test accuracy: 79.26% and CE loss 0.53\n",
      "Epoch 45/100 - test accuracy: 80.43% and CE loss 0.47\n",
      "Epoch 46/100 - test accuracy: 79.75% and CE loss 0.64\n",
      "Epoch 47/100 - test accuracy: 79.95% and CE loss 0.26\n",
      "Epoch 48/100 - test accuracy: 80.28% and CE loss 0.63\n",
      "Epoch 49/100 - test accuracy: 79.44% and CE loss 0.35\n",
      "Epoch 50/100 - test accuracy: 81.15% and CE loss 0.63\n",
      "Epoch 51/100 - test accuracy: 81.20% and CE loss 0.55\n",
      "Epoch 52/100 - test accuracy: 80.71% and CE loss 0.42\n",
      "Epoch 53/100 - test accuracy: 80.25% and CE loss 0.41\n",
      "Epoch 54/100 - test accuracy: 80.79% and CE loss 0.46\n",
      "Epoch 55/100 - test accuracy: 80.00% and CE loss 0.29\n",
      "Epoch 56/100 - test accuracy: 81.40% and CE loss 0.50\n",
      "Epoch 57/100 - test accuracy: 80.46% and CE loss 0.30\n",
      "Epoch 58/100 - test accuracy: 80.89% and CE loss 0.40\n",
      "Epoch 59/100 - test accuracy: 79.03% and CE loss 0.50\n",
      "Epoch 60/100 - test accuracy: 80.56% and CE loss 0.25\n",
      "Epoch 61/100 - test accuracy: 80.89% and CE loss 0.34\n",
      "Epoch 62/100 - test accuracy: 81.50% and CE loss 0.43\n",
      "Epoch 63/100 - test accuracy: 81.20% and CE loss 0.31\n",
      "Epoch 64/100 - test accuracy: 79.06% and CE loss 0.43\n",
      "Epoch 65/100 - test accuracy: 81.43% and CE loss 0.47\n",
      "Epoch 66/100 - test accuracy: 81.15% and CE loss 0.46\n",
      "Epoch 67/100 - test accuracy: 80.20% and CE loss 0.57\n",
      "Epoch 68/100 - test accuracy: 80.66% and CE loss 0.25\n",
      "Epoch 69/100 - test accuracy: 81.43% and CE loss 0.48\n",
      "Epoch 70/100 - test accuracy: 81.78% and CE loss 0.25\n",
      "Epoch 71/100 - test accuracy: 81.10% and CE loss 0.46\n",
      "Epoch 72/100 - test accuracy: 81.25% and CE loss 0.27\n",
      "Epoch 73/100 - test accuracy: 80.76% and CE loss 0.37\n",
      "Epoch 74/100 - test accuracy: 81.30% and CE loss 0.46\n",
      "Epoch 75/100 - test accuracy: 82.09% and CE loss 0.33\n",
      "Epoch 76/100 - test accuracy: 80.61% and CE loss 0.52\n",
      "Epoch 77/100 - test accuracy: 81.73% and CE loss 0.19\n",
      "Epoch 78/100 - test accuracy: 81.76% and CE loss 0.37\n",
      "Epoch 79/100 - test accuracy: 82.01% and CE loss 0.42\n",
      "Epoch 80/100 - test accuracy: 81.48% and CE loss 0.24\n",
      "Epoch 81/100 - test accuracy: 82.34% and CE loss 0.19\n",
      "Epoch 82/100 - test accuracy: 81.35% and CE loss 0.39\n",
      "Epoch 83/100 - test accuracy: 82.27% and CE loss 0.26\n",
      "Epoch 84/100 - test accuracy: 82.09% and CE loss 0.37\n",
      "Epoch 85/100 - test accuracy: 81.30% and CE loss 0.31\n",
      "Epoch 86/100 - test accuracy: 82.73% and CE loss 0.18\n",
      "Epoch 87/100 - test accuracy: 82.80% and CE loss 0.30\n",
      "Epoch 88/100 - test accuracy: 82.60% and CE loss 0.32\n",
      "Epoch 89/100 - test accuracy: 81.45% and CE loss 0.13\n",
      "Epoch 90/100 - test accuracy: 83.01% and CE loss 0.36\n",
      "Epoch 91/100 - test accuracy: 81.50% and CE loss 0.21\n",
      "Epoch 92/100 - test accuracy: 82.55% and CE loss 0.20\n",
      "Epoch 93/100 - test accuracy: 81.55% and CE loss 0.28\n",
      "Epoch 94/100 - test accuracy: 82.22% and CE loss 0.25\n",
      "Epoch 95/100 - test accuracy: 81.61% and CE loss 0.38\n",
      "Epoch 96/100 - test accuracy: 82.45% and CE loss 0.34\n",
      "Epoch 97/100 - test accuracy: 82.27% and CE loss 0.25\n",
      "Epoch 98/100 - test accuracy: 82.24% and CE loss 0.18\n",
      "Epoch 99/100 - test accuracy: 82.32% and CE loss 0.35\n",
      "Epoch 100/100 - test accuracy: 81.43% and CE loss 0.41\n"
     ]
    }
   ],
   "source": [
    "model_normal = train_model(model = model_normal.to(device), epochs = epochs)"
   ]
  },
  {
   "cell_type": "code",
   "execution_count": 51,
   "id": "f617f6bf-c78b-4740-9b6a-4502bbb0ecbc",
   "metadata": {},
   "outputs": [
    {
     "name": "stdout",
     "output_type": "stream",
     "text": [
      "Model test accuracy: 81.43%\n"
     ]
    }
   ],
   "source": [
    "# Model to GPU and eval mode.\n",
    "model_normal.to(device)\n",
    "model_normal.eval()\n",
    "\n",
    "# Check test set performance.\n",
    "predictions, labels = evaluate_model(model_normal, test_dataloader, device)\n",
    "test_acc = np.mean(np.argmax(predictions.cpu().numpy(), axis=1) == labels.cpu().numpy())        \n",
    "print(f\"Model test accuracy: {(100 * test_acc):.2f}%\")"
   ]
  },
  {
   "cell_type": "code",
   "execution_count": 52,
   "id": "d1d718e5-8134-43a1-9220-dabd7a3adf7b",
   "metadata": {},
   "outputs": [
    {
     "name": "stdout",
     "output_type": "stream",
     "text": [
      "Saving the model: models\\resnet_imagenette.pth\n"
     ]
    }
   ],
   "source": [
    "from pathlib import Path\n",
    "\n",
    "model_path = Path(\"models\")\n",
    "model_path.mkdir(parents=True, exist_ok=True)\n",
    "\n",
    "model_name = \"resnet_imagenette.pth\"\n",
    "model_save_path = model_path / model_name\n",
    "\n",
    "print(f\"Saving the model: {model_save_path}\")\n",
    "torch.save(obj=model_normal.state_dict(), f=model_save_path)"
   ]
  },
  {
   "cell_type": "markdown",
   "id": "a7104303-560e-4394-bd24-131daa20818a",
   "metadata": {},
   "source": [
    "# Adversarial Train"
   ]
  },
  {
   "cell_type": "code",
   "execution_count": 37,
   "id": "855888da-4ac4-4c84-a27b-e6c3423a53b5",
   "metadata": {},
   "outputs": [
    {
     "name": "stdout",
     "output_type": "stream",
     "text": [
      "Ranger optimizer loaded. \n",
      "Gradient Centralization usage = True\n",
      "GC applied to both conv and fc layers\n"
     ]
    }
   ],
   "source": [
    "model = resnet_18(filter='None', filter_layer=0)\n",
    "adversary = PGDAttack(model)\n",
    "learning_rate = 1e-04\n",
    "criterion = nn.CrossEntropyLoss(reduction=\"mean\").cuda()\n",
    "optimizer = Ranger(model.parameters(), lr = learning_rate, eps = 1e-06)"
   ]
  },
  {
   "cell_type": "code",
   "execution_count": 44,
   "id": "f9049ca1-fd7a-4584-b918-adda2d6a02bd",
   "metadata": {},
   "outputs": [],
   "source": [
    "def train_adv(model, epochs):\n",
    "    model.train()\n",
    "    for epoch in range(epochs):\n",
    "        for x_batch, y_batch in train_dataloader:\n",
    "            x_batch, y_batch = x_batch.to(device), y_batch.to(device)\n",
    "            r =random.uniform(0, 1)\n",
    "            if r >= 0.5:\n",
    "                adv = adversary.perturb(x_batch, y_batch)\n",
    "                output = model(adv)\n",
    "            else:\n",
    "                output = model(x_batch)\n",
    "            # x_batch = projected_gradient_descent(model, x_batch, eps, eps/10, 40, np.inf)\n",
    "            # logits = model(x_batch)\n",
    "            loss = criterion(output, y_batch)\n",
    "            optimizer.zero_grad()\n",
    "            loss.backward()\n",
    "            optimizer.step()\n",
    "\n",
    "        # Evaluate model!\n",
    "        if epochs%10==0:\n",
    "            predictions, labels = evaluate_model(model, test_dataloader, device)\n",
    "            test_acc = np.mean(np.argmax(predictions.cpu().numpy(), axis=1) == labels.cpu().numpy())\n",
    "            print(f\"Epoch {epoch+1}/{epochs} - test accuracy: {(100 * test_acc):.2f}% and CE loss {loss.item():.2f}\")\n",
    "    return model"
   ]
  },
  {
   "cell_type": "code",
   "execution_count": 33,
   "id": "f0c53a91-51a8-48eb-8b9c-97e57a33da81",
   "metadata": {},
   "outputs": [
    {
     "name": "stdout",
     "output_type": "stream",
     "text": [
      "Epoch 1/100 - test accuracy: 19.13% and CE loss 2.05\n",
      "Epoch 2/100 - test accuracy: 55.67% and CE loss 0.95\n",
      "Epoch 3/100 - test accuracy: 63.24% and CE loss 1.18\n",
      "Epoch 4/100 - test accuracy: 64.25% and CE loss 2.86\n",
      "Epoch 5/100 - test accuracy: 66.98% and CE loss 1.43\n",
      "Epoch 6/100 - test accuracy: 68.64% and CE loss 1.34\n",
      "Epoch 7/100 - test accuracy: 72.43% and CE loss 0.82\n",
      "Epoch 8/100 - test accuracy: 72.38% and CE loss 1.49\n",
      "Epoch 9/100 - test accuracy: 71.46% and CE loss 1.68\n",
      "Epoch 10/100 - test accuracy: 74.37% and CE loss 0.11\n",
      "Epoch 11/100 - test accuracy: 73.94% and CE loss 1.14\n",
      "Epoch 12/100 - test accuracy: 74.34% and CE loss 0.20\n",
      "Epoch 13/100 - test accuracy: 74.57% and CE loss 0.56\n",
      "Epoch 14/100 - test accuracy: 75.49% and CE loss 0.28\n",
      "Epoch 15/100 - test accuracy: 77.12% and CE loss 0.98\n",
      "Epoch 16/100 - test accuracy: 77.66% and CE loss 0.85\n",
      "Epoch 17/100 - test accuracy: 77.83% and CE loss 1.08\n",
      "Epoch 18/100 - test accuracy: 76.54% and CE loss 0.14\n",
      "Epoch 19/100 - test accuracy: 74.93% and CE loss 1.31\n",
      "Epoch 20/100 - test accuracy: 78.39% and CE loss 0.10\n",
      "Epoch 21/100 - test accuracy: 78.32% and CE loss 1.48\n",
      "Epoch 22/100 - test accuracy: 79.67% and CE loss 0.59\n",
      "Epoch 23/100 - test accuracy: 80.36% and CE loss 0.70\n",
      "Epoch 24/100 - test accuracy: 80.71% and CE loss 0.47\n",
      "Epoch 25/100 - test accuracy: 79.06% and CE loss 0.36\n",
      "Epoch 26/100 - test accuracy: 80.54% and CE loss 0.04\n",
      "Epoch 27/100 - test accuracy: 80.69% and CE loss 1.32\n",
      "Epoch 28/100 - test accuracy: 82.14% and CE loss 0.57\n",
      "Epoch 29/100 - test accuracy: 80.79% and CE loss 0.67\n",
      "Epoch 30/100 - test accuracy: 33.15% and CE loss 1.90\n",
      "Epoch 31/100 - test accuracy: 41.45% and CE loss 2.01\n",
      "Epoch 32/100 - test accuracy: 38.98% and CE loss 2.54\n",
      "Epoch 33/100 - test accuracy: 43.39% and CE loss 2.18\n",
      "Epoch 34/100 - test accuracy: 48.99% and CE loss 2.26\n",
      "Epoch 35/100 - test accuracy: 17.89% and CE loss 2.69\n",
      "Epoch 36/100 - test accuracy: 16.56% and CE loss 2.13\n",
      "Epoch 37/100 - test accuracy: 21.27% and CE loss 2.49\n",
      "Epoch 38/100 - test accuracy: 22.29% and CE loss 2.31\n",
      "Epoch 39/100 - test accuracy: 20.41% and CE loss 2.42\n",
      "Epoch 40/100 - test accuracy: 20.25% and CE loss 2.23\n",
      "Epoch 41/100 - test accuracy: 22.42% and CE loss 1.74\n",
      "Epoch 42/100 - test accuracy: 22.85% and CE loss 2.14\n",
      "Epoch 43/100 - test accuracy: 23.08% and CE loss 2.53\n",
      "Epoch 44/100 - test accuracy: 24.82% and CE loss 2.05\n",
      "Epoch 45/100 - test accuracy: 22.75% and CE loss 2.37\n",
      "Epoch 46/100 - test accuracy: 11.41% and CE loss 11.27\n",
      "Epoch 47/100 - test accuracy: 15.54% and CE loss 2.22\n",
      "Epoch 48/100 - test accuracy: 18.88% and CE loss 1.97\n",
      "Epoch 49/100 - test accuracy: 16.43% and CE loss 2.38\n",
      "Epoch 50/100 - test accuracy: 20.13% and CE loss 2.35\n"
     ]
    },
    {
     "ename": "KeyboardInterrupt",
     "evalue": "",
     "output_type": "error",
     "traceback": [
      "\u001b[1;31m---------------------------------------------------------------------------\u001b[0m",
      "\u001b[1;31mKeyboardInterrupt\u001b[0m                         Traceback (most recent call last)",
      "Cell \u001b[1;32mIn[33], line 1\u001b[0m\n\u001b[1;32m----> 1\u001b[0m model_adversarial \u001b[38;5;241m=\u001b[39m train_adv(model\u001b[38;5;241m=\u001b[39mmodel\u001b[38;5;241m.\u001b[39mto(device),\n\u001b[0;32m      2\u001b[0m                     epochs\u001b[38;5;241m=\u001b[39mepochs)\n",
      "Cell \u001b[1;32mIn[31], line 8\u001b[0m, in \u001b[0;36mtrain_adv\u001b[1;34m(model, epochs)\u001b[0m\n\u001b[0;32m      6\u001b[0m r \u001b[38;5;241m=\u001b[39mrandom\u001b[38;5;241m.\u001b[39muniform(\u001b[38;5;241m0\u001b[39m, \u001b[38;5;241m1\u001b[39m)\n\u001b[0;32m      7\u001b[0m \u001b[38;5;28;01mif\u001b[39;00m r \u001b[38;5;241m>\u001b[39m\u001b[38;5;241m=\u001b[39m \u001b[38;5;241m0.5\u001b[39m:\n\u001b[1;32m----> 8\u001b[0m     adv \u001b[38;5;241m=\u001b[39m adversary\u001b[38;5;241m.\u001b[39mperturb(x_batch, y_batch)\n\u001b[0;32m      9\u001b[0m     logits \u001b[38;5;241m=\u001b[39m model(adv)\n\u001b[0;32m     10\u001b[0m \u001b[38;5;28;01melse\u001b[39;00m:\n",
      "Cell \u001b[1;32mIn[27], line 17\u001b[0m, in \u001b[0;36mLinfPGDAttack.perturb\u001b[1;34m(self, x_natural, y)\u001b[0m\n\u001b[0;32m     15\u001b[0m     logits \u001b[38;5;241m=\u001b[39m \u001b[38;5;28mself\u001b[39m\u001b[38;5;241m.\u001b[39mmodel(x)\n\u001b[0;32m     16\u001b[0m     loss \u001b[38;5;241m=\u001b[39m F\u001b[38;5;241m.\u001b[39mcross_entropy(logits, y)\n\u001b[1;32m---> 17\u001b[0m grad \u001b[38;5;241m=\u001b[39m torch\u001b[38;5;241m.\u001b[39mautograd\u001b[38;5;241m.\u001b[39mgrad(loss, [x])[\u001b[38;5;241m0\u001b[39m]\n\u001b[0;32m     18\u001b[0m x \u001b[38;5;241m=\u001b[39m x\u001b[38;5;241m.\u001b[39mdetach() \u001b[38;5;241m+\u001b[39m alpha \u001b[38;5;241m*\u001b[39m torch\u001b[38;5;241m.\u001b[39msign(grad\u001b[38;5;241m.\u001b[39mdetach())\n\u001b[0;32m     19\u001b[0m x \u001b[38;5;241m=\u001b[39m torch\u001b[38;5;241m.\u001b[39mmin(torch\u001b[38;5;241m.\u001b[39mmax(x, x_natural \u001b[38;5;241m-\u001b[39m epsilon), x_natural \u001b[38;5;241m+\u001b[39m epsilon)\n",
      "File \u001b[1;32m~\\anaconda3\\Lib\\site-packages\\torch\\autograd\\__init__.py:436\u001b[0m, in \u001b[0;36mgrad\u001b[1;34m(outputs, inputs, grad_outputs, retain_graph, create_graph, only_inputs, allow_unused, is_grads_batched, materialize_grads)\u001b[0m\n\u001b[0;32m    432\u001b[0m     result \u001b[38;5;241m=\u001b[39m _vmap_internals\u001b[38;5;241m.\u001b[39m_vmap(vjp, \u001b[38;5;241m0\u001b[39m, \u001b[38;5;241m0\u001b[39m, allow_none_pass_through\u001b[38;5;241m=\u001b[39m\u001b[38;5;28;01mTrue\u001b[39;00m)(\n\u001b[0;32m    433\u001b[0m         grad_outputs_\n\u001b[0;32m    434\u001b[0m     )\n\u001b[0;32m    435\u001b[0m \u001b[38;5;28;01melse\u001b[39;00m:\n\u001b[1;32m--> 436\u001b[0m     result \u001b[38;5;241m=\u001b[39m _engine_run_backward(\n\u001b[0;32m    437\u001b[0m         t_outputs,\n\u001b[0;32m    438\u001b[0m         grad_outputs_,\n\u001b[0;32m    439\u001b[0m         retain_graph,\n\u001b[0;32m    440\u001b[0m         create_graph,\n\u001b[0;32m    441\u001b[0m         inputs,\n\u001b[0;32m    442\u001b[0m         allow_unused,\n\u001b[0;32m    443\u001b[0m         accumulate_grad\u001b[38;5;241m=\u001b[39m\u001b[38;5;28;01mFalse\u001b[39;00m,\n\u001b[0;32m    444\u001b[0m     )\n\u001b[0;32m    445\u001b[0m \u001b[38;5;28;01mif\u001b[39;00m materialize_grads:\n\u001b[0;32m    446\u001b[0m     \u001b[38;5;28;01mif\u001b[39;00m \u001b[38;5;28many\u001b[39m(\n\u001b[0;32m    447\u001b[0m         result[i] \u001b[38;5;129;01mis\u001b[39;00m \u001b[38;5;28;01mNone\u001b[39;00m \u001b[38;5;129;01mand\u001b[39;00m \u001b[38;5;129;01mnot\u001b[39;00m is_tensor_like(inputs[i])\n\u001b[0;32m    448\u001b[0m         \u001b[38;5;28;01mfor\u001b[39;00m i \u001b[38;5;129;01min\u001b[39;00m \u001b[38;5;28mrange\u001b[39m(\u001b[38;5;28mlen\u001b[39m(inputs))\n\u001b[0;32m    449\u001b[0m     ):\n",
      "File \u001b[1;32m~\\anaconda3\\Lib\\site-packages\\torch\\autograd\\graph.py:769\u001b[0m, in \u001b[0;36m_engine_run_backward\u001b[1;34m(t_outputs, *args, **kwargs)\u001b[0m\n\u001b[0;32m    767\u001b[0m     unregister_hooks \u001b[38;5;241m=\u001b[39m _register_logging_hooks_on_whole_graph(t_outputs)\n\u001b[0;32m    768\u001b[0m \u001b[38;5;28;01mtry\u001b[39;00m:\n\u001b[1;32m--> 769\u001b[0m     \u001b[38;5;28;01mreturn\u001b[39;00m Variable\u001b[38;5;241m.\u001b[39m_execution_engine\u001b[38;5;241m.\u001b[39mrun_backward(  \u001b[38;5;66;03m# Calls into the C++ engine to run the backward pass\u001b[39;00m\n\u001b[0;32m    770\u001b[0m         t_outputs, \u001b[38;5;241m*\u001b[39margs, \u001b[38;5;241m*\u001b[39m\u001b[38;5;241m*\u001b[39mkwargs\n\u001b[0;32m    771\u001b[0m     )  \u001b[38;5;66;03m# Calls into the C++ engine to run the backward pass\u001b[39;00m\n\u001b[0;32m    772\u001b[0m \u001b[38;5;28;01mfinally\u001b[39;00m:\n\u001b[0;32m    773\u001b[0m     \u001b[38;5;28;01mif\u001b[39;00m attach_logging_hooks:\n",
      "\u001b[1;31mKeyboardInterrupt\u001b[0m: "
     ]
    }
   ],
   "source": [
    "model_adversarial = train_adv(model=model.to(device),\n",
    "                    epochs=epochs)"
   ]
  },
  {
   "cell_type": "code",
   "execution_count": null,
   "id": "6fd149a5-b399-42b9-a184-dd519627db42",
   "metadata": {},
   "outputs": [],
   "source": [
    "# Model to GPU and eval mode.\n",
    "model_adversarial.to(device)\n",
    "model_adversarial.eval()\n",
    "\n",
    "# Check test set performance.\n",
    "predictions, labels = evaluate_model(model_adversarial, test_dataloader, device)\n",
    "test_acc = np.mean(np.argmax(predictions.cpu().numpy(), axis=1) == labels.cpu().numpy())        \n",
    "print(f\"Model test accuracy: {(100 * test_acc):.2f}%\")"
   ]
  },
  {
   "cell_type": "code",
   "execution_count": null,
   "id": "666465ad-e8dd-46c5-92ae-32d75d7c1cc5",
   "metadata": {},
   "outputs": [],
   "source": [
    "from pathlib import Path\n",
    "\n",
    "model_path = Path(\"models\")\n",
    "model_path.mkdir(parents=True, exist_ok=True)\n",
    "\n",
    "model_name = \"resnet_imagenette_adv.pth\"\n",
    "model_save_path = model_path / model_name\n",
    "\n",
    "print(f\"Saving the model: {model_save_path}\")\n",
    "torch.save(obj=model_adversarial.state_dict(), f=model_save_path)"
   ]
  },
  {
   "cell_type": "code",
   "execution_count": null,
   "id": "7f78812c-77b0-4a0b-a048-215f468ccb3f",
   "metadata": {},
   "outputs": [],
   "source": []
  },
  {
   "cell_type": "code",
   "execution_count": null,
   "id": "af98682c-7840-4059-9862-e54048f09036",
   "metadata": {},
   "outputs": [],
   "source": []
  },
  {
   "cell_type": "markdown",
   "id": "06349a79-add0-4fab-8ae4-8a1c8ec2db6d",
   "metadata": {},
   "source": [
    "# L1 Unstructured"
   ]
  },
  {
   "cell_type": "code",
   "execution_count": 39,
   "id": "5084a422-ec5f-4e60-8945-4c7e935661fc",
   "metadata": {},
   "outputs": [
    {
     "name": "stdout",
     "output_type": "stream",
     "text": [
      "Ranger optimizer loaded. \n",
      "Gradient Centralization usage = True\n",
      "GC applied to both conv and fc layers\n"
     ]
    }
   ],
   "source": [
    "model = resnet_18(filter='None', filter_layer=0)\n",
    "learning_rate = 1e-03\n",
    "criterion = nn.CrossEntropyLoss(reduction=\"mean\").cuda()\n",
    "optimizer = Ranger(model.parameters(), lr = learning_rate, eps = 1e-06)"
   ]
  },
  {
   "cell_type": "code",
   "execution_count": 33,
   "id": "4fdc8f87-2cba-42fb-97c0-39602d9dbd58",
   "metadata": {},
   "outputs": [
    {
     "name": "stdout",
     "output_type": "stream",
     "text": [
      "Unpruned RESNET-18 model has 11176842 trainable parameters\n"
     ]
    }
   ],
   "source": [
    "orig_params = count_params(model)\n",
    "print(f\"Unpruned RESNET-18 model has {orig_params} trainable parameters\")"
   ]
  },
  {
   "cell_type": "code",
   "execution_count": 35,
   "id": "2181affd-5400-4917-84c4-b6c67b31bfd9",
   "metadata": {},
   "outputs": [
    {
     "name": "stdout",
     "output_type": "stream",
     "text": [
      "layer.name: conv1.weight & param.shape = torch.Size([64, 3, 7, 7])\n",
      "layer.name: bn1.weight & param.shape = torch.Size([64])\n",
      "layer.name: bn1.bias & param.shape = torch.Size([64])\n",
      "layer.name: layer1.0.conv1.weight & param.shape = torch.Size([64, 64, 3, 3])\n",
      "layer.name: layer1.0.bn1.weight & param.shape = torch.Size([64])\n",
      "layer.name: layer1.0.bn1.bias & param.shape = torch.Size([64])\n",
      "layer.name: layer1.0.conv2.weight & param.shape = torch.Size([64, 64, 3, 3])\n",
      "layer.name: layer1.0.bn2.weight & param.shape = torch.Size([64])\n",
      "layer.name: layer1.0.bn2.bias & param.shape = torch.Size([64])\n",
      "layer.name: layer1.1.conv1.weight & param.shape = torch.Size([64, 64, 3, 3])\n",
      "layer.name: layer1.1.bn1.weight & param.shape = torch.Size([64])\n",
      "layer.name: layer1.1.bn1.bias & param.shape = torch.Size([64])\n",
      "layer.name: layer1.1.conv2.weight & param.shape = torch.Size([64, 64, 3, 3])\n",
      "layer.name: layer1.1.bn2.weight & param.shape = torch.Size([64])\n",
      "layer.name: layer1.1.bn2.bias & param.shape = torch.Size([64])\n",
      "layer.name: layer2.0.conv1.weight & param.shape = torch.Size([128, 64, 3, 3])\n",
      "layer.name: layer2.0.bn1.weight & param.shape = torch.Size([128])\n",
      "layer.name: layer2.0.bn1.bias & param.shape = torch.Size([128])\n",
      "layer.name: layer2.0.conv2.weight & param.shape = torch.Size([128, 128, 3, 3])\n",
      "layer.name: layer2.0.bn2.weight & param.shape = torch.Size([128])\n",
      "layer.name: layer2.0.bn2.bias & param.shape = torch.Size([128])\n",
      "layer.name: layer2.0.downsample.0.weight & param.shape = torch.Size([128, 64, 1, 1])\n",
      "layer.name: layer2.0.downsample.1.weight & param.shape = torch.Size([128])\n",
      "layer.name: layer2.0.downsample.1.bias & param.shape = torch.Size([128])\n",
      "layer.name: layer2.1.conv1.weight & param.shape = torch.Size([128, 128, 3, 3])\n",
      "layer.name: layer2.1.bn1.weight & param.shape = torch.Size([128])\n",
      "layer.name: layer2.1.bn1.bias & param.shape = torch.Size([128])\n",
      "layer.name: layer2.1.conv2.weight & param.shape = torch.Size([128, 128, 3, 3])\n",
      "layer.name: layer2.1.bn2.weight & param.shape = torch.Size([128])\n",
      "layer.name: layer2.1.bn2.bias & param.shape = torch.Size([128])\n",
      "layer.name: layer3.0.conv1.weight & param.shape = torch.Size([256, 128, 3, 3])\n",
      "layer.name: layer3.0.bn1.weight & param.shape = torch.Size([256])\n",
      "layer.name: layer3.0.bn1.bias & param.shape = torch.Size([256])\n",
      "layer.name: layer3.0.conv2.weight & param.shape = torch.Size([256, 256, 3, 3])\n",
      "layer.name: layer3.0.bn2.weight & param.shape = torch.Size([256])\n",
      "layer.name: layer3.0.bn2.bias & param.shape = torch.Size([256])\n",
      "layer.name: layer3.0.downsample.0.weight & param.shape = torch.Size([256, 128, 1, 1])\n",
      "layer.name: layer3.0.downsample.1.weight & param.shape = torch.Size([256])\n",
      "layer.name: layer3.0.downsample.1.bias & param.shape = torch.Size([256])\n",
      "layer.name: layer3.1.conv1.weight & param.shape = torch.Size([256, 256, 3, 3])\n",
      "layer.name: layer3.1.bn1.weight & param.shape = torch.Size([256])\n",
      "layer.name: layer3.1.bn1.bias & param.shape = torch.Size([256])\n",
      "layer.name: layer3.1.conv2.weight & param.shape = torch.Size([256, 256, 3, 3])\n",
      "layer.name: layer3.1.bn2.weight & param.shape = torch.Size([256])\n",
      "layer.name: layer3.1.bn2.bias & param.shape = torch.Size([256])\n",
      "layer.name: layer4.0.conv1.weight & param.shape = torch.Size([512, 256, 3, 3])\n",
      "layer.name: layer4.0.bn1.weight & param.shape = torch.Size([512])\n",
      "layer.name: layer4.0.bn1.bias & param.shape = torch.Size([512])\n",
      "layer.name: layer4.0.conv2.weight & param.shape = torch.Size([512, 512, 3, 3])\n",
      "layer.name: layer4.0.bn2.weight & param.shape = torch.Size([512])\n",
      "layer.name: layer4.0.bn2.bias & param.shape = torch.Size([512])\n",
      "layer.name: layer4.0.downsample.0.weight & param.shape = torch.Size([512, 256, 1, 1])\n",
      "layer.name: layer4.0.downsample.1.weight & param.shape = torch.Size([512])\n",
      "layer.name: layer4.0.downsample.1.bias & param.shape = torch.Size([512])\n",
      "layer.name: layer4.1.conv1.weight & param.shape = torch.Size([512, 512, 3, 3])\n",
      "layer.name: layer4.1.bn1.weight & param.shape = torch.Size([512])\n",
      "layer.name: layer4.1.bn1.bias & param.shape = torch.Size([512])\n",
      "layer.name: layer4.1.conv2.weight & param.shape = torch.Size([512, 512, 3, 3])\n",
      "layer.name: layer4.1.bn2.weight & param.shape = torch.Size([512])\n",
      "layer.name: layer4.1.bn2.bias & param.shape = torch.Size([512])\n",
      "layer.name: fc.weight & param.shape = torch.Size([10, 512])\n",
      "layer.name: fc.bias & param.shape = torch.Size([10])\n"
     ]
    }
   ],
   "source": [
    "for layer, param in model.named_parameters():\n",
    "    print(f\"layer.name: {layer} & param.shape = {param.shape}\")"
   ]
  },
  {
   "cell_type": "code",
   "execution_count": 37,
   "id": "64baf07d-bbf2-437d-8549-f575b56c25ac",
   "metadata": {},
   "outputs": [
    {
     "name": "stdout",
     "output_type": "stream",
     "text": [
      "conv1.weight torch.Size([64, 3, 7, 7])\n",
      "bn1.weight torch.Size([64])\n",
      "bn1.bias torch.Size([64])\n",
      "bn1.running_mean torch.Size([64])\n",
      "bn1.running_var torch.Size([64])\n",
      "bn1.num_batches_tracked torch.Size([])\n",
      "layer1.0.conv1.weight torch.Size([64, 64, 3, 3])\n",
      "layer1.0.bn1.weight torch.Size([64])\n",
      "layer1.0.bn1.bias torch.Size([64])\n",
      "layer1.0.bn1.running_mean torch.Size([64])\n",
      "layer1.0.bn1.running_var torch.Size([64])\n",
      "layer1.0.bn1.num_batches_tracked torch.Size([])\n",
      "layer1.0.conv2.weight torch.Size([64, 64, 3, 3])\n",
      "layer1.0.bn2.weight torch.Size([64])\n",
      "layer1.0.bn2.bias torch.Size([64])\n",
      "layer1.0.bn2.running_mean torch.Size([64])\n",
      "layer1.0.bn2.running_var torch.Size([64])\n",
      "layer1.0.bn2.num_batches_tracked torch.Size([])\n",
      "layer1.1.conv1.weight torch.Size([64, 64, 3, 3])\n",
      "layer1.1.bn1.weight torch.Size([64])\n",
      "layer1.1.bn1.bias torch.Size([64])\n",
      "layer1.1.bn1.running_mean torch.Size([64])\n",
      "layer1.1.bn1.running_var torch.Size([64])\n",
      "layer1.1.bn1.num_batches_tracked torch.Size([])\n",
      "layer1.1.conv2.weight torch.Size([64, 64, 3, 3])\n",
      "layer1.1.bn2.weight torch.Size([64])\n",
      "layer1.1.bn2.bias torch.Size([64])\n",
      "layer1.1.bn2.running_mean torch.Size([64])\n",
      "layer1.1.bn2.running_var torch.Size([64])\n",
      "layer1.1.bn2.num_batches_tracked torch.Size([])\n",
      "layer2.0.conv1.weight torch.Size([128, 64, 3, 3])\n",
      "layer2.0.bn1.weight torch.Size([128])\n",
      "layer2.0.bn1.bias torch.Size([128])\n",
      "layer2.0.bn1.running_mean torch.Size([128])\n",
      "layer2.0.bn1.running_var torch.Size([128])\n",
      "layer2.0.bn1.num_batches_tracked torch.Size([])\n",
      "layer2.0.conv2.weight torch.Size([128, 128, 3, 3])\n",
      "layer2.0.bn2.weight torch.Size([128])\n",
      "layer2.0.bn2.bias torch.Size([128])\n",
      "layer2.0.bn2.running_mean torch.Size([128])\n",
      "layer2.0.bn2.running_var torch.Size([128])\n",
      "layer2.0.bn2.num_batches_tracked torch.Size([])\n",
      "layer2.0.downsample.0.weight torch.Size([128, 64, 1, 1])\n",
      "layer2.0.downsample.1.weight torch.Size([128])\n",
      "layer2.0.downsample.1.bias torch.Size([128])\n",
      "layer2.0.downsample.1.running_mean torch.Size([128])\n",
      "layer2.0.downsample.1.running_var torch.Size([128])\n",
      "layer2.0.downsample.1.num_batches_tracked torch.Size([])\n",
      "layer2.1.conv1.weight torch.Size([128, 128, 3, 3])\n",
      "layer2.1.bn1.weight torch.Size([128])\n",
      "layer2.1.bn1.bias torch.Size([128])\n",
      "layer2.1.bn1.running_mean torch.Size([128])\n",
      "layer2.1.bn1.running_var torch.Size([128])\n",
      "layer2.1.bn1.num_batches_tracked torch.Size([])\n",
      "layer2.1.conv2.weight torch.Size([128, 128, 3, 3])\n",
      "layer2.1.bn2.weight torch.Size([128])\n",
      "layer2.1.bn2.bias torch.Size([128])\n",
      "layer2.1.bn2.running_mean torch.Size([128])\n",
      "layer2.1.bn2.running_var torch.Size([128])\n",
      "layer2.1.bn2.num_batches_tracked torch.Size([])\n",
      "layer3.0.conv1.weight torch.Size([256, 128, 3, 3])\n",
      "layer3.0.bn1.weight torch.Size([256])\n",
      "layer3.0.bn1.bias torch.Size([256])\n",
      "layer3.0.bn1.running_mean torch.Size([256])\n",
      "layer3.0.bn1.running_var torch.Size([256])\n",
      "layer3.0.bn1.num_batches_tracked torch.Size([])\n",
      "layer3.0.conv2.weight torch.Size([256, 256, 3, 3])\n",
      "layer3.0.bn2.weight torch.Size([256])\n",
      "layer3.0.bn2.bias torch.Size([256])\n",
      "layer3.0.bn2.running_mean torch.Size([256])\n",
      "layer3.0.bn2.running_var torch.Size([256])\n",
      "layer3.0.bn2.num_batches_tracked torch.Size([])\n",
      "layer3.0.downsample.0.weight torch.Size([256, 128, 1, 1])\n",
      "layer3.0.downsample.1.weight torch.Size([256])\n",
      "layer3.0.downsample.1.bias torch.Size([256])\n",
      "layer3.0.downsample.1.running_mean torch.Size([256])\n",
      "layer3.0.downsample.1.running_var torch.Size([256])\n",
      "layer3.0.downsample.1.num_batches_tracked torch.Size([])\n",
      "layer3.1.conv1.weight torch.Size([256, 256, 3, 3])\n",
      "layer3.1.bn1.weight torch.Size([256])\n",
      "layer3.1.bn1.bias torch.Size([256])\n",
      "layer3.1.bn1.running_mean torch.Size([256])\n",
      "layer3.1.bn1.running_var torch.Size([256])\n",
      "layer3.1.bn1.num_batches_tracked torch.Size([])\n",
      "layer3.1.conv2.weight torch.Size([256, 256, 3, 3])\n",
      "layer3.1.bn2.weight torch.Size([256])\n",
      "layer3.1.bn2.bias torch.Size([256])\n",
      "layer3.1.bn2.running_mean torch.Size([256])\n",
      "layer3.1.bn2.running_var torch.Size([256])\n",
      "layer3.1.bn2.num_batches_tracked torch.Size([])\n",
      "layer4.0.conv1.weight torch.Size([512, 256, 3, 3])\n",
      "layer4.0.bn1.weight torch.Size([512])\n",
      "layer4.0.bn1.bias torch.Size([512])\n",
      "layer4.0.bn1.running_mean torch.Size([512])\n",
      "layer4.0.bn1.running_var torch.Size([512])\n",
      "layer4.0.bn1.num_batches_tracked torch.Size([])\n",
      "layer4.0.conv2.weight torch.Size([512, 512, 3, 3])\n",
      "layer4.0.bn2.weight torch.Size([512])\n",
      "layer4.0.bn2.bias torch.Size([512])\n",
      "layer4.0.bn2.running_mean torch.Size([512])\n",
      "layer4.0.bn2.running_var torch.Size([512])\n",
      "layer4.0.bn2.num_batches_tracked torch.Size([])\n",
      "layer4.0.downsample.0.weight torch.Size([512, 256, 1, 1])\n",
      "layer4.0.downsample.1.weight torch.Size([512])\n",
      "layer4.0.downsample.1.bias torch.Size([512])\n",
      "layer4.0.downsample.1.running_mean torch.Size([512])\n",
      "layer4.0.downsample.1.running_var torch.Size([512])\n",
      "layer4.0.downsample.1.num_batches_tracked torch.Size([])\n",
      "layer4.1.conv1.weight torch.Size([512, 512, 3, 3])\n",
      "layer4.1.bn1.weight torch.Size([512])\n",
      "layer4.1.bn1.bias torch.Size([512])\n",
      "layer4.1.bn1.running_mean torch.Size([512])\n",
      "layer4.1.bn1.running_var torch.Size([512])\n",
      "layer4.1.bn1.num_batches_tracked torch.Size([])\n",
      "layer4.1.conv2.weight torch.Size([512, 512, 3, 3])\n",
      "layer4.1.bn2.weight torch.Size([512])\n",
      "layer4.1.bn2.bias torch.Size([512])\n",
      "layer4.1.bn2.running_mean torch.Size([512])\n",
      "layer4.1.bn2.running_var torch.Size([512])\n",
      "layer4.1.bn2.num_batches_tracked torch.Size([])\n",
      "fc.weight torch.Size([10, 512])\n",
      "fc.bias torch.Size([10])\n"
     ]
    }
   ],
   "source": [
    "for layer_name in model.state_dict().keys():\n",
    "    print(layer_name, model.state_dict()[layer_name].shape)"
   ]
  },
  {
   "cell_type": "code",
   "execution_count": 279,
   "id": "d847e14d-8199-4803-9310-48b418ae8c5e",
   "metadata": {},
   "outputs": [
    {
     "data": {
      "text/plain": [
       "odict_keys(['conv1.weight', 'bn1.weight', 'bn1.bias', 'bn1.running_mean', 'bn1.running_var', 'bn1.num_batches_tracked', 'layer1.0.conv1.weight', 'layer1.0.bn1.weight', 'layer1.0.bn1.bias', 'layer1.0.bn1.running_mean', 'layer1.0.bn1.running_var', 'layer1.0.bn1.num_batches_tracked', 'layer1.0.conv2.weight', 'layer1.0.bn2.weight', 'layer1.0.bn2.bias', 'layer1.0.bn2.running_mean', 'layer1.0.bn2.running_var', 'layer1.0.bn2.num_batches_tracked', 'layer1.1.conv1.weight', 'layer1.1.bn1.weight', 'layer1.1.bn1.bias', 'layer1.1.bn1.running_mean', 'layer1.1.bn1.running_var', 'layer1.1.bn1.num_batches_tracked', 'layer1.1.conv2.weight', 'layer1.1.bn2.weight', 'layer1.1.bn2.bias', 'layer1.1.bn2.running_mean', 'layer1.1.bn2.running_var', 'layer1.1.bn2.num_batches_tracked', 'layer2.0.conv1.weight', 'layer2.0.bn1.weight', 'layer2.0.bn1.bias', 'layer2.0.bn1.running_mean', 'layer2.0.bn1.running_var', 'layer2.0.bn1.num_batches_tracked', 'layer2.0.conv2.weight', 'layer2.0.bn2.weight', 'layer2.0.bn2.bias', 'layer2.0.bn2.running_mean', 'layer2.0.bn2.running_var', 'layer2.0.bn2.num_batches_tracked', 'layer2.0.downsample.0.weight', 'layer2.0.downsample.1.weight', 'layer2.0.downsample.1.bias', 'layer2.0.downsample.1.running_mean', 'layer2.0.downsample.1.running_var', 'layer2.0.downsample.1.num_batches_tracked', 'layer2.1.conv1.weight', 'layer2.1.bn1.weight', 'layer2.1.bn1.bias', 'layer2.1.bn1.running_mean', 'layer2.1.bn1.running_var', 'layer2.1.bn1.num_batches_tracked', 'layer2.1.conv2.weight', 'layer2.1.bn2.weight', 'layer2.1.bn2.bias', 'layer2.1.bn2.running_mean', 'layer2.1.bn2.running_var', 'layer2.1.bn2.num_batches_tracked', 'layer3.0.conv1.weight', 'layer3.0.bn1.weight', 'layer3.0.bn1.bias', 'layer3.0.bn1.running_mean', 'layer3.0.bn1.running_var', 'layer3.0.bn1.num_batches_tracked', 'layer3.0.conv2.weight', 'layer3.0.bn2.weight', 'layer3.0.bn2.bias', 'layer3.0.bn2.running_mean', 'layer3.0.bn2.running_var', 'layer3.0.bn2.num_batches_tracked', 'layer3.0.downsample.0.weight', 'layer3.0.downsample.1.weight', 'layer3.0.downsample.1.bias', 'layer3.0.downsample.1.running_mean', 'layer3.0.downsample.1.running_var', 'layer3.0.downsample.1.num_batches_tracked', 'layer3.1.conv1.weight', 'layer3.1.bn1.weight', 'layer3.1.bn1.bias', 'layer3.1.bn1.running_mean', 'layer3.1.bn1.running_var', 'layer3.1.bn1.num_batches_tracked', 'layer3.1.conv2.weight', 'layer3.1.bn2.weight', 'layer3.1.bn2.bias', 'layer3.1.bn2.running_mean', 'layer3.1.bn2.running_var', 'layer3.1.bn2.num_batches_tracked', 'layer4.0.conv1.weight', 'layer4.0.bn1.weight', 'layer4.0.bn1.bias', 'layer4.0.bn1.running_mean', 'layer4.0.bn1.running_var', 'layer4.0.bn1.num_batches_tracked', 'layer4.0.conv2.weight', 'layer4.0.bn2.weight', 'layer4.0.bn2.bias', 'layer4.0.bn2.running_mean', 'layer4.0.bn2.running_var', 'layer4.0.bn2.num_batches_tracked', 'layer4.0.downsample.0.weight', 'layer4.0.downsample.1.weight', 'layer4.0.downsample.1.bias', 'layer4.0.downsample.1.running_mean', 'layer4.0.downsample.1.running_var', 'layer4.0.downsample.1.num_batches_tracked', 'layer4.1.conv1.weight', 'layer4.1.bn1.weight', 'layer4.1.bn1.bias', 'layer4.1.bn1.running_mean', 'layer4.1.bn1.running_var', 'layer4.1.bn1.num_batches_tracked', 'layer4.1.conv2.weight', 'layer4.1.bn2.weight', 'layer4.1.bn2.bias', 'layer4.1.bn2.running_mean', 'layer4.1.bn2.running_var', 'layer4.1.bn2.num_batches_tracked', 'fc.weight', 'fc.bias'])"
      ]
     },
     "execution_count": 279,
     "metadata": {},
     "output_type": "execute_result"
    }
   ],
   "source": [
    "model.state_dict().keys()"
   ]
  },
  {
   "cell_type": "code",
   "execution_count": 45,
   "id": "be104047-bd94-462e-9fa8-a7cb3cf4a3df",
   "metadata": {},
   "outputs": [
    {
     "name": "stdout",
     "output_type": "stream",
     "text": [
      "RESNET-18 global sparsity = 0.00%\n"
     ]
    }
   ],
   "source": [
    "print(f\"RESNET-18 global sparsity = {compute_sparsity_resnet(model):.2f}%\")"
   ]
  },
  {
   "cell_type": "code",
   "execution_count": 47,
   "id": "fa810cb0-e6c8-4f0d-94a5-8e2d3259941a",
   "metadata": {},
   "outputs": [],
   "source": [
    "import torch.nn.utils.prune as prune\n",
    "for name, module in model.named_modules():\n",
    "    # prune 20% of weights/connections in for all hidden layaers-\n",
    "    if isinstance(module, torch.nn.Conv2d):\n",
    "        prune.l1_unstructured(module = module, name = 'weight', amount = 0.2)\n",
    "    \n",
    "    # prune 10% of weights/connections for output layer-\n",
    "    elif isinstance(module, torch.nn.Linear):\n",
    "        prune.l1_unstructured(module = module, name = 'weight', amount = 0.1)"
   ]
  },
  {
   "cell_type": "code",
   "execution_count": 48,
   "id": "cb0c48e8-e511-4247-a450-889d6d003d15",
   "metadata": {},
   "outputs": [
    {
     "name": "stdout",
     "output_type": "stream",
     "text": [
      "RESNET-18 global sparsity = 19.99%\n"
     ]
    }
   ],
   "source": [
    "print(f\"RESNET-18 global sparsity = {compute_sparsity_resnet(model):.2f}%\")"
   ]
  },
  {
   "cell_type": "code",
   "execution_count": 291,
   "id": "6270e997-37c6-4aa9-b2ef-6950222807cb",
   "metadata": {
    "scrolled": true
   },
   "outputs": [
    {
     "name": "stdout",
     "output_type": "stream",
     "text": [
      "Epoch 1/100 - test accuracy: 46.37% and CE loss 1.50\n",
      "Epoch 2/100 - test accuracy: 52.84% and CE loss 1.52\n",
      "Epoch 3/100 - test accuracy: 66.04% and CE loss 1.23\n",
      "Epoch 4/100 - test accuracy: 62.62% and CE loss 1.20\n",
      "Epoch 5/100 - test accuracy: 67.49% and CE loss 0.92\n",
      "Epoch 6/100 - test accuracy: 74.06% and CE loss 1.06\n",
      "Epoch 7/100 - test accuracy: 71.26% and CE loss 0.67\n",
      "Epoch 8/100 - test accuracy: 71.95% and CE loss 0.56\n",
      "Epoch 9/100 - test accuracy: 76.89% and CE loss 0.83\n",
      "Epoch 10/100 - test accuracy: 74.22% and CE loss 0.86\n",
      "Epoch 11/100 - test accuracy: 75.59% and CE loss 0.81\n",
      "Epoch 12/100 - test accuracy: 78.17% and CE loss 0.93\n",
      "Epoch 13/100 - test accuracy: 75.54% and CE loss 0.78\n",
      "Epoch 14/100 - test accuracy: 76.10% and CE loss 0.80\n",
      "Epoch 15/100 - test accuracy: 80.89% and CE loss 0.60\n",
      "Epoch 16/100 - test accuracy: 79.26% and CE loss 0.63\n",
      "Epoch 17/100 - test accuracy: 77.71% and CE loss 0.62\n",
      "Epoch 18/100 - test accuracy: 80.10% and CE loss 1.06\n",
      "Epoch 19/100 - test accuracy: 79.46% and CE loss 0.85\n",
      "Epoch 20/100 - test accuracy: 79.24% and CE loss 0.47\n",
      "Epoch 21/100 - test accuracy: 80.76% and CE loss 0.92\n",
      "Epoch 22/100 - test accuracy: 78.62% and CE loss 0.39\n",
      "Epoch 23/100 - test accuracy: 80.99% and CE loss 0.60\n",
      "Epoch 24/100 - test accuracy: 83.21% and CE loss 0.49\n",
      "Epoch 25/100 - test accuracy: 81.40% and CE loss 0.54\n",
      "Epoch 26/100 - test accuracy: 80.74% and CE loss 0.38\n",
      "Epoch 27/100 - test accuracy: 83.11% and CE loss 0.48\n",
      "Epoch 28/100 - test accuracy: 80.43% and CE loss 0.36\n",
      "Epoch 29/100 - test accuracy: 83.49% and CE loss 0.56\n",
      "Epoch 30/100 - test accuracy: 83.67% and CE loss 0.60\n",
      "Epoch 31/100 - test accuracy: 84.00% and CE loss 0.40\n",
      "Epoch 32/100 - test accuracy: 81.48% and CE loss 0.47\n",
      "Epoch 33/100 - test accuracy: 84.79% and CE loss 0.49\n",
      "Epoch 34/100 - test accuracy: 84.38% and CE loss 0.63\n",
      "Epoch 35/100 - test accuracy: 83.67% and CE loss 0.67\n",
      "Epoch 36/100 - test accuracy: 84.05% and CE loss 0.64\n",
      "Epoch 37/100 - test accuracy: 83.62% and CE loss 0.37\n",
      "Epoch 38/100 - test accuracy: 82.83% and CE loss 0.40\n",
      "Epoch 39/100 - test accuracy: 85.12% and CE loss 0.50\n",
      "Epoch 40/100 - test accuracy: 83.72% and CE loss 0.33\n",
      "Epoch 41/100 - test accuracy: 84.71% and CE loss 0.52\n",
      "Epoch 42/100 - test accuracy: 84.51% and CE loss 0.61\n",
      "Epoch 43/100 - test accuracy: 83.97% and CE loss 0.58\n",
      "Epoch 44/100 - test accuracy: 83.39% and CE loss 0.25\n",
      "Epoch 45/100 - test accuracy: 85.04% and CE loss 0.66\n",
      "Epoch 46/100 - test accuracy: 84.94% and CE loss 0.38\n",
      "Epoch 47/100 - test accuracy: 85.20% and CE loss 0.42\n",
      "Epoch 48/100 - test accuracy: 85.61% and CE loss 0.34\n",
      "Epoch 49/100 - test accuracy: 81.17% and CE loss 0.39\n",
      "Epoch 50/100 - test accuracy: 85.55% and CE loss 0.34\n",
      "Epoch 51/100 - test accuracy: 86.39% and CE loss 0.58\n",
      "Epoch 52/100 - test accuracy: 85.04% and CE loss 0.22\n",
      "Epoch 53/100 - test accuracy: 85.07% and CE loss 0.37\n",
      "Epoch 54/100 - test accuracy: 84.00% and CE loss 0.39\n",
      "Epoch 55/100 - test accuracy: 85.45% and CE loss 0.15\n",
      "Epoch 56/100 - test accuracy: 86.17% and CE loss 0.38\n",
      "Epoch 57/100 - test accuracy: 85.12% and CE loss 0.32\n",
      "Epoch 58/100 - test accuracy: 84.13% and CE loss 0.31\n",
      "Epoch 59/100 - test accuracy: 84.69% and CE loss 0.39\n",
      "Epoch 60/100 - test accuracy: 86.50% and CE loss 0.54\n",
      "Epoch 61/100 - test accuracy: 85.86% and CE loss 0.27\n",
      "Epoch 62/100 - test accuracy: 86.50% and CE loss 0.43\n",
      "Epoch 63/100 - test accuracy: 86.17% and CE loss 0.29\n",
      "Epoch 64/100 - test accuracy: 86.24% and CE loss 0.49\n",
      "Epoch 65/100 - test accuracy: 86.01% and CE loss 0.34\n",
      "Epoch 66/100 - test accuracy: 86.90% and CE loss 0.27\n",
      "Epoch 67/100 - test accuracy: 85.27% and CE loss 0.24\n",
      "Epoch 68/100 - test accuracy: 86.34% and CE loss 0.20\n",
      "Epoch 69/100 - test accuracy: 86.55% and CE loss 0.29\n",
      "Epoch 70/100 - test accuracy: 85.58% and CE loss 0.45\n",
      "Epoch 71/100 - test accuracy: 85.58% and CE loss 0.37\n",
      "Epoch 72/100 - test accuracy: 86.06% and CE loss 0.51\n",
      "Epoch 73/100 - test accuracy: 84.15% and CE loss 0.65\n",
      "Epoch 74/100 - test accuracy: 86.55% and CE loss 0.48\n",
      "Epoch 75/100 - test accuracy: 86.39% and CE loss 0.39\n",
      "Epoch 76/100 - test accuracy: 86.17% and CE loss 0.25\n",
      "Epoch 77/100 - test accuracy: 87.06% and CE loss 0.35\n",
      "Epoch 78/100 - test accuracy: 86.32% and CE loss 0.62\n",
      "Epoch 79/100 - test accuracy: 85.83% and CE loss 0.16\n",
      "Epoch 80/100 - test accuracy: 86.14% and CE loss 0.16\n",
      "Epoch 81/100 - test accuracy: 86.22% and CE loss 0.16\n",
      "Epoch 82/100 - test accuracy: 84.82% and CE loss 0.15\n",
      "Epoch 83/100 - test accuracy: 85.48% and CE loss 0.20\n",
      "Epoch 84/100 - test accuracy: 85.76% and CE loss 0.31\n",
      "Epoch 85/100 - test accuracy: 86.70% and CE loss 0.12\n",
      "Epoch 86/100 - test accuracy: 85.76% and CE loss 0.32\n",
      "Epoch 87/100 - test accuracy: 86.06% and CE loss 0.30\n",
      "Epoch 88/100 - test accuracy: 84.87% and CE loss 0.23\n",
      "Epoch 89/100 - test accuracy: 86.45% and CE loss 0.18\n",
      "Epoch 90/100 - test accuracy: 87.75% and CE loss 0.25\n",
      "Epoch 91/100 - test accuracy: 86.98% and CE loss 0.47\n",
      "Epoch 92/100 - test accuracy: 86.11% and CE loss 0.23\n",
      "Epoch 93/100 - test accuracy: 87.21% and CE loss 0.23\n",
      "Epoch 94/100 - test accuracy: 85.71% and CE loss 0.44\n",
      "Epoch 95/100 - test accuracy: 86.14% and CE loss 0.19\n",
      "Epoch 96/100 - test accuracy: 86.60% and CE loss 0.21\n",
      "Epoch 97/100 - test accuracy: 86.45% and CE loss 0.10\n",
      "Epoch 98/100 - test accuracy: 87.85% and CE loss 0.16\n",
      "Epoch 99/100 - test accuracy: 86.85% and CE loss 0.36\n",
      "Epoch 100/100 - test accuracy: 85.94% and CE loss 0.29\n"
     ]
    }
   ],
   "source": [
    "model_l1_unstructured = train_model(model = model.to(device), epochs = epochs)"
   ]
  },
  {
   "cell_type": "code",
   "execution_count": 293,
   "id": "ddfff428-87d5-4a7a-a127-beb05652fbdf",
   "metadata": {},
   "outputs": [
    {
     "name": "stdout",
     "output_type": "stream",
     "text": [
      "Model test accuracy: 85.94%\n"
     ]
    }
   ],
   "source": [
    "# Model to GPU and eval mode.\n",
    "model_l1_unstructured.to(device)\n",
    "model_l1_unstructured.eval()\n",
    "\n",
    "# Check test set performance.\n",
    "predictions, labels = evaluate_model(model_l1_unstructured, test_dataloader, device)\n",
    "test_acc = np.mean(np.argmax(predictions.cpu().numpy(), axis=1) == labels.cpu().numpy())        \n",
    "print(f\"Model test accuracy: {(100 * test_acc):.2f}%\")"
   ]
  },
  {
   "cell_type": "code",
   "execution_count": 295,
   "id": "cbb59e36-ebc7-49fa-a9ea-c4f376179761",
   "metadata": {},
   "outputs": [
    {
     "name": "stdout",
     "output_type": "stream",
     "text": [
      "Saving the model: models\\resnet_imagenette_l1_unstructured.pth\n"
     ]
    }
   ],
   "source": [
    "from pathlib import Path\n",
    "\n",
    "model_path = Path(\"models\")\n",
    "model_path.mkdir(parents=True, exist_ok=True)\n",
    "\n",
    "model_name = \"resnet_imagenette_l1_unstructured.pth\"\n",
    "model_save_path = model_path / model_name\n",
    "\n",
    "print(f\"Saving the model: {model_save_path}\")\n",
    "torch.save(obj=model_l1_unstructured.state_dict(), f=model_save_path)"
   ]
  },
  {
   "cell_type": "markdown",
   "id": "c10b88c8-9776-4562-827c-89299727e6ca",
   "metadata": {},
   "source": [
    "# Global Pruning"
   ]
  },
  {
   "cell_type": "code",
   "execution_count": 41,
   "id": "76400dd7-72a0-453a-90d3-ff20f7e90850",
   "metadata": {},
   "outputs": [
    {
     "name": "stdout",
     "output_type": "stream",
     "text": [
      "Ranger optimizer loaded. \n",
      "Gradient Centralization usage = True\n",
      "GC applied to both conv and fc layers\n"
     ]
    }
   ],
   "source": [
    "model = resnet_18(filter='None', filter_layer=0)\n",
    "learning_rate = 1e-03\n",
    "criterion = nn.CrossEntropyLoss(reduction=\"mean\").cuda()\n",
    "optimizer = Ranger(model.parameters(), lr = learning_rate, eps = 1e-06)"
   ]
  },
  {
   "cell_type": "code",
   "execution_count": 56,
   "id": "0d991d47-e9ad-4628-a58f-7aaf22a6838e",
   "metadata": {},
   "outputs": [
    {
     "name": "stdout",
     "output_type": "stream",
     "text": [
      "Unpruned RESNET-18 model has 11176842 trainable parameters\n"
     ]
    }
   ],
   "source": [
    "orig_params = count_params(model)\n",
    "print(f\"Unpruned RESNET-18 model has {orig_params} trainable parameters\")"
   ]
  },
  {
   "cell_type": "code",
   "execution_count": 58,
   "id": "d42bf80b-6e99-423f-9414-ab43b22118e4",
   "metadata": {},
   "outputs": [
    {
     "name": "stdout",
     "output_type": "stream",
     "text": [
      "layer.name: conv1.weight & param.shape = torch.Size([64, 3, 7, 7])\n",
      "layer.name: bn1.weight & param.shape = torch.Size([64])\n",
      "layer.name: bn1.bias & param.shape = torch.Size([64])\n",
      "layer.name: layer1.0.conv1.weight & param.shape = torch.Size([64, 64, 3, 3])\n",
      "layer.name: layer1.0.bn1.weight & param.shape = torch.Size([64])\n",
      "layer.name: layer1.0.bn1.bias & param.shape = torch.Size([64])\n",
      "layer.name: layer1.0.conv2.weight & param.shape = torch.Size([64, 64, 3, 3])\n",
      "layer.name: layer1.0.bn2.weight & param.shape = torch.Size([64])\n",
      "layer.name: layer1.0.bn2.bias & param.shape = torch.Size([64])\n",
      "layer.name: layer1.1.conv1.weight & param.shape = torch.Size([64, 64, 3, 3])\n",
      "layer.name: layer1.1.bn1.weight & param.shape = torch.Size([64])\n",
      "layer.name: layer1.1.bn1.bias & param.shape = torch.Size([64])\n",
      "layer.name: layer1.1.conv2.weight & param.shape = torch.Size([64, 64, 3, 3])\n",
      "layer.name: layer1.1.bn2.weight & param.shape = torch.Size([64])\n",
      "layer.name: layer1.1.bn2.bias & param.shape = torch.Size([64])\n",
      "layer.name: layer2.0.conv1.weight & param.shape = torch.Size([128, 64, 3, 3])\n",
      "layer.name: layer2.0.bn1.weight & param.shape = torch.Size([128])\n",
      "layer.name: layer2.0.bn1.bias & param.shape = torch.Size([128])\n",
      "layer.name: layer2.0.conv2.weight & param.shape = torch.Size([128, 128, 3, 3])\n",
      "layer.name: layer2.0.bn2.weight & param.shape = torch.Size([128])\n",
      "layer.name: layer2.0.bn2.bias & param.shape = torch.Size([128])\n",
      "layer.name: layer2.0.downsample.0.weight & param.shape = torch.Size([128, 64, 1, 1])\n",
      "layer.name: layer2.0.downsample.1.weight & param.shape = torch.Size([128])\n",
      "layer.name: layer2.0.downsample.1.bias & param.shape = torch.Size([128])\n",
      "layer.name: layer2.1.conv1.weight & param.shape = torch.Size([128, 128, 3, 3])\n",
      "layer.name: layer2.1.bn1.weight & param.shape = torch.Size([128])\n",
      "layer.name: layer2.1.bn1.bias & param.shape = torch.Size([128])\n",
      "layer.name: layer2.1.conv2.weight & param.shape = torch.Size([128, 128, 3, 3])\n",
      "layer.name: layer2.1.bn2.weight & param.shape = torch.Size([128])\n",
      "layer.name: layer2.1.bn2.bias & param.shape = torch.Size([128])\n",
      "layer.name: layer3.0.conv1.weight & param.shape = torch.Size([256, 128, 3, 3])\n",
      "layer.name: layer3.0.bn1.weight & param.shape = torch.Size([256])\n",
      "layer.name: layer3.0.bn1.bias & param.shape = torch.Size([256])\n",
      "layer.name: layer3.0.conv2.weight & param.shape = torch.Size([256, 256, 3, 3])\n",
      "layer.name: layer3.0.bn2.weight & param.shape = torch.Size([256])\n",
      "layer.name: layer3.0.bn2.bias & param.shape = torch.Size([256])\n",
      "layer.name: layer3.0.downsample.0.weight & param.shape = torch.Size([256, 128, 1, 1])\n",
      "layer.name: layer3.0.downsample.1.weight & param.shape = torch.Size([256])\n",
      "layer.name: layer3.0.downsample.1.bias & param.shape = torch.Size([256])\n",
      "layer.name: layer3.1.conv1.weight & param.shape = torch.Size([256, 256, 3, 3])\n",
      "layer.name: layer3.1.bn1.weight & param.shape = torch.Size([256])\n",
      "layer.name: layer3.1.bn1.bias & param.shape = torch.Size([256])\n",
      "layer.name: layer3.1.conv2.weight & param.shape = torch.Size([256, 256, 3, 3])\n",
      "layer.name: layer3.1.bn2.weight & param.shape = torch.Size([256])\n",
      "layer.name: layer3.1.bn2.bias & param.shape = torch.Size([256])\n",
      "layer.name: layer4.0.conv1.weight & param.shape = torch.Size([512, 256, 3, 3])\n",
      "layer.name: layer4.0.bn1.weight & param.shape = torch.Size([512])\n",
      "layer.name: layer4.0.bn1.bias & param.shape = torch.Size([512])\n",
      "layer.name: layer4.0.conv2.weight & param.shape = torch.Size([512, 512, 3, 3])\n",
      "layer.name: layer4.0.bn2.weight & param.shape = torch.Size([512])\n",
      "layer.name: layer4.0.bn2.bias & param.shape = torch.Size([512])\n",
      "layer.name: layer4.0.downsample.0.weight & param.shape = torch.Size([512, 256, 1, 1])\n",
      "layer.name: layer4.0.downsample.1.weight & param.shape = torch.Size([512])\n",
      "layer.name: layer4.0.downsample.1.bias & param.shape = torch.Size([512])\n",
      "layer.name: layer4.1.conv1.weight & param.shape = torch.Size([512, 512, 3, 3])\n",
      "layer.name: layer4.1.bn1.weight & param.shape = torch.Size([512])\n",
      "layer.name: layer4.1.bn1.bias & param.shape = torch.Size([512])\n",
      "layer.name: layer4.1.conv2.weight & param.shape = torch.Size([512, 512, 3, 3])\n",
      "layer.name: layer4.1.bn2.weight & param.shape = torch.Size([512])\n",
      "layer.name: layer4.1.bn2.bias & param.shape = torch.Size([512])\n",
      "layer.name: fc.weight & param.shape = torch.Size([10, 512])\n",
      "layer.name: fc.bias & param.shape = torch.Size([10])\n"
     ]
    }
   ],
   "source": [
    "for layer, param in model.named_parameters():\n",
    "    print(f\"layer.name: {layer} & param.shape = {param.shape}\")"
   ]
  },
  {
   "cell_type": "code",
   "execution_count": 60,
   "id": "72b56c2c-e3a2-4498-8545-c8be6b10d27d",
   "metadata": {},
   "outputs": [
    {
     "name": "stdout",
     "output_type": "stream",
     "text": [
      "RESNET-18 global sparsity = 0.00%\n"
     ]
    }
   ],
   "source": [
    "print(f\"RESNET-18 global sparsity = {compute_sparsity_resnet(model):.2f}%\")"
   ]
  },
  {
   "cell_type": "code",
   "execution_count": 62,
   "id": "df0d529b-ad90-46c8-99c8-0f63de64cf1c",
   "metadata": {},
   "outputs": [
    {
     "data": {
      "text/plain": [
       "odict_keys(['conv1.weight', 'bn1.weight', 'bn1.bias', 'bn1.running_mean', 'bn1.running_var', 'bn1.num_batches_tracked', 'layer1.0.conv1.weight', 'layer1.0.bn1.weight', 'layer1.0.bn1.bias', 'layer1.0.bn1.running_mean', 'layer1.0.bn1.running_var', 'layer1.0.bn1.num_batches_tracked', 'layer1.0.conv2.weight', 'layer1.0.bn2.weight', 'layer1.0.bn2.bias', 'layer1.0.bn2.running_mean', 'layer1.0.bn2.running_var', 'layer1.0.bn2.num_batches_tracked', 'layer1.1.conv1.weight', 'layer1.1.bn1.weight', 'layer1.1.bn1.bias', 'layer1.1.bn1.running_mean', 'layer1.1.bn1.running_var', 'layer1.1.bn1.num_batches_tracked', 'layer1.1.conv2.weight', 'layer1.1.bn2.weight', 'layer1.1.bn2.bias', 'layer1.1.bn2.running_mean', 'layer1.1.bn2.running_var', 'layer1.1.bn2.num_batches_tracked', 'layer2.0.conv1.weight', 'layer2.0.bn1.weight', 'layer2.0.bn1.bias', 'layer2.0.bn1.running_mean', 'layer2.0.bn1.running_var', 'layer2.0.bn1.num_batches_tracked', 'layer2.0.conv2.weight', 'layer2.0.bn2.weight', 'layer2.0.bn2.bias', 'layer2.0.bn2.running_mean', 'layer2.0.bn2.running_var', 'layer2.0.bn2.num_batches_tracked', 'layer2.0.downsample.0.weight', 'layer2.0.downsample.1.weight', 'layer2.0.downsample.1.bias', 'layer2.0.downsample.1.running_mean', 'layer2.0.downsample.1.running_var', 'layer2.0.downsample.1.num_batches_tracked', 'layer2.1.conv1.weight', 'layer2.1.bn1.weight', 'layer2.1.bn1.bias', 'layer2.1.bn1.running_mean', 'layer2.1.bn1.running_var', 'layer2.1.bn1.num_batches_tracked', 'layer2.1.conv2.weight', 'layer2.1.bn2.weight', 'layer2.1.bn2.bias', 'layer2.1.bn2.running_mean', 'layer2.1.bn2.running_var', 'layer2.1.bn2.num_batches_tracked', 'layer3.0.conv1.weight', 'layer3.0.bn1.weight', 'layer3.0.bn1.bias', 'layer3.0.bn1.running_mean', 'layer3.0.bn1.running_var', 'layer3.0.bn1.num_batches_tracked', 'layer3.0.conv2.weight', 'layer3.0.bn2.weight', 'layer3.0.bn2.bias', 'layer3.0.bn2.running_mean', 'layer3.0.bn2.running_var', 'layer3.0.bn2.num_batches_tracked', 'layer3.0.downsample.0.weight', 'layer3.0.downsample.1.weight', 'layer3.0.downsample.1.bias', 'layer3.0.downsample.1.running_mean', 'layer3.0.downsample.1.running_var', 'layer3.0.downsample.1.num_batches_tracked', 'layer3.1.conv1.weight', 'layer3.1.bn1.weight', 'layer3.1.bn1.bias', 'layer3.1.bn1.running_mean', 'layer3.1.bn1.running_var', 'layer3.1.bn1.num_batches_tracked', 'layer3.1.conv2.weight', 'layer3.1.bn2.weight', 'layer3.1.bn2.bias', 'layer3.1.bn2.running_mean', 'layer3.1.bn2.running_var', 'layer3.1.bn2.num_batches_tracked', 'layer4.0.conv1.weight', 'layer4.0.bn1.weight', 'layer4.0.bn1.bias', 'layer4.0.bn1.running_mean', 'layer4.0.bn1.running_var', 'layer4.0.bn1.num_batches_tracked', 'layer4.0.conv2.weight', 'layer4.0.bn2.weight', 'layer4.0.bn2.bias', 'layer4.0.bn2.running_mean', 'layer4.0.bn2.running_var', 'layer4.0.bn2.num_batches_tracked', 'layer4.0.downsample.0.weight', 'layer4.0.downsample.1.weight', 'layer4.0.downsample.1.bias', 'layer4.0.downsample.1.running_mean', 'layer4.0.downsample.1.running_var', 'layer4.0.downsample.1.num_batches_tracked', 'layer4.1.conv1.weight', 'layer4.1.bn1.weight', 'layer4.1.bn1.bias', 'layer4.1.bn1.running_mean', 'layer4.1.bn1.running_var', 'layer4.1.bn1.num_batches_tracked', 'layer4.1.conv2.weight', 'layer4.1.bn2.weight', 'layer4.1.bn2.bias', 'layer4.1.bn2.running_mean', 'layer4.1.bn2.running_var', 'layer4.1.bn2.num_batches_tracked', 'fc.weight', 'fc.bias'])"
      ]
     },
     "execution_count": 62,
     "metadata": {},
     "output_type": "execute_result"
    }
   ],
   "source": [
    "model.state_dict().keys()"
   ]
  },
  {
   "cell_type": "code",
   "execution_count": 64,
   "id": "e732530c-51d4-479a-bc2e-7912af3fec90",
   "metadata": {},
   "outputs": [],
   "source": [
    "parameters_to_prune = (\n",
    "    (model.conv1, 'weight'),\n",
    "    (model.bn1, 'weight'),\n",
    "    (model.layer1[0].conv1, 'weight'),\n",
    "    (model.layer1[0].bn1, 'weight'),\n",
    "    (model.layer1[0].conv2, 'weight'),\n",
    "    (model.layer1[0].bn2, 'weight'),\n",
    "    (model.layer1[1].conv1, 'weight'),\n",
    "    (model.layer1[1].bn1, 'weight'),\n",
    "    (model.layer1[1].conv2, 'weight'),\n",
    "    (model.layer1[1].bn2, 'weight'),\n",
    "    (model.layer2[0].conv1, 'weight'),\n",
    "    (model.layer2[0].bn1, 'weight'),\n",
    "    (model.layer2[0].conv2, 'weight'),\n",
    "    (model.layer2[0].bn2, 'weight'),\n",
    "    (model.layer2[1].conv1, 'weight'),\n",
    "    (model.layer2[1].bn1, 'weight'),\n",
    "    (model.layer2[1].conv2, 'weight'),\n",
    "    (model.layer2[1].bn2, 'weight'),\n",
    "    (model.layer3[0].conv1, 'weight'),\n",
    "    (model.layer3[0].bn1, 'weight'),\n",
    "    (model.layer3[0].conv2, 'weight'),\n",
    "    (model.layer3[0].bn2, 'weight'),\n",
    "    (model.layer3[1].conv1, 'weight'),\n",
    "    (model.layer3[1].bn1, 'weight'),\n",
    "    (model.layer3[1].conv2, 'weight'),\n",
    "    (model.layer3[1].bn2, 'weight'),\n",
    "    (model.layer4[0].conv1, 'weight'),\n",
    "    (model.layer4[0].bn1, 'weight'),\n",
    "    (model.layer4[0].conv2, 'weight'),\n",
    "    (model.layer4[0].bn2, 'weight'),\n",
    "    (model.layer4[1].conv1, 'weight'),\n",
    "    (model.layer4[1].bn1, 'weight'),\n",
    "    (model.layer4[1].conv2, 'weight'),\n",
    "    (model.layer4[1].bn2, 'weight'),\n",
    "    (model.fc, 'weight')\n",
    ")\n",
    "\n",
    "prune_rates_global = [0.2, 0.3, 0.4, 0.5, 0.6]"
   ]
  },
  {
   "cell_type": "code",
   "execution_count": 48,
   "id": "a95ef648-562e-4a8a-a7e8-7da1175e0764",
   "metadata": {},
   "outputs": [],
   "source": [
    "def train_global_pruned(model, epochs):\n",
    "    for iter_prune_round in range(1):\n",
    "        print(f\"\\n\\nIterative Global pruning round = {iter_prune_round + 1}\")\n",
    "        \n",
    "        # Prune layer-wise in a structured manner-\n",
    "        prune.global_unstructured(\n",
    "            parameters_to_prune,\n",
    "            pruning_method = prune.L1Unstructured,\n",
    "            amount = prune_rates_global[iter_prune_round]\n",
    "            \n",
    "        )\n",
    "    \n",
    "        # Print current global sparsity level-\n",
    "        print(f\" RESNET-18 global sparsity = {compute_sparsity_resnet(model):.2f}%\")\n",
    "        \n",
    "        \n",
    "        # Fine-training loop-\n",
    "        print(\"\\nFine-tuning pruned model to recover model's performance\\n\")\n",
    "        model.train()\n",
    "        for epoch in range(epochs):\n",
    "            for x_batch, y_batch in train_dataloader:\n",
    "                x_batch, y_batch = x_batch.to(device), y_batch.to(device)\n",
    "                optimizer.zero_grad()\n",
    "                output = model(x_batch)\n",
    "                loss = criterion(output, y_batch)\n",
    "                loss.backward()\n",
    "                optimizer.step()\n",
    "    \n",
    "            # Evaluate model!\n",
    "            if epochs%10==0:\n",
    "                predictions, labels = evaluate_model(model, test_dataloader, device)\n",
    "                test_acc = np.mean(np.argmax(predictions.cpu().numpy(), axis=1) == labels.cpu().numpy())\n",
    "                print(f\"Epoch {epoch+1}/{epochs} - test accuracy: {(100 * test_acc):.2f}% and CE loss {loss.item():.2f}\")\n",
    "    return model"
   ]
  },
  {
   "cell_type": "code",
   "execution_count": 312,
   "id": "acc89f38-ab39-4cd4-9a33-416d5917d524",
   "metadata": {
    "scrolled": true
   },
   "outputs": [
    {
     "name": "stdout",
     "output_type": "stream",
     "text": [
      "\n",
      "\n",
      "Iterative Global pruning round = 1\n",
      " RESNET-18 global sparsity = 20.00%\n",
      "\n",
      "Fine-tuning pruned model to recover model's performance\n",
      "\n",
      "Epoch 1/100 - test accuracy: 53.38% and CE loss 1.48\n",
      "Epoch 2/100 - test accuracy: 60.41% and CE loss 1.33\n",
      "Epoch 3/100 - test accuracy: 65.78% and CE loss 1.31\n",
      "Epoch 4/100 - test accuracy: 66.14% and CE loss 1.33\n",
      "Epoch 5/100 - test accuracy: 68.99% and CE loss 0.92\n",
      "Epoch 6/100 - test accuracy: 73.40% and CE loss 0.68\n",
      "Epoch 7/100 - test accuracy: 71.67% and CE loss 1.02\n",
      "Epoch 8/100 - test accuracy: 72.51% and CE loss 1.00\n",
      "Epoch 9/100 - test accuracy: 77.15% and CE loss 0.98\n",
      "Epoch 10/100 - test accuracy: 68.00% and CE loss 0.85\n",
      "Epoch 11/100 - test accuracy: 76.54% and CE loss 0.66\n",
      "Epoch 12/100 - test accuracy: 79.52% and CE loss 0.57\n",
      "Epoch 13/100 - test accuracy: 73.12% and CE loss 0.70\n",
      "Epoch 14/100 - test accuracy: 78.83% and CE loss 0.63\n",
      "Epoch 15/100 - test accuracy: 81.32% and CE loss 0.80\n",
      "Epoch 16/100 - test accuracy: 79.31% and CE loss 0.59\n",
      "Epoch 17/100 - test accuracy: 78.73% and CE loss 0.47\n",
      "Epoch 18/100 - test accuracy: 81.81% and CE loss 0.77\n",
      "Epoch 19/100 - test accuracy: 77.45% and CE loss 0.67\n",
      "Epoch 20/100 - test accuracy: 81.71% and CE loss 0.35\n",
      "Epoch 21/100 - test accuracy: 82.62% and CE loss 0.73\n",
      "Epoch 22/100 - test accuracy: 80.31% and CE loss 0.45\n",
      "Epoch 23/100 - test accuracy: 83.06% and CE loss 0.60\n",
      "Epoch 24/100 - test accuracy: 82.73% and CE loss 0.43\n",
      "Epoch 25/100 - test accuracy: 81.55% and CE loss 0.58\n",
      "Epoch 26/100 - test accuracy: 83.24% and CE loss 0.40\n",
      "Epoch 27/100 - test accuracy: 83.72% and CE loss 0.37\n",
      "Epoch 28/100 - test accuracy: 80.71% and CE loss 0.52\n",
      "Epoch 29/100 - test accuracy: 82.04% and CE loss 0.38\n",
      "Epoch 30/100 - test accuracy: 84.56% and CE loss 0.50\n",
      "Epoch 31/100 - test accuracy: 83.72% and CE loss 0.43\n",
      "Epoch 32/100 - test accuracy: 84.69% and CE loss 0.49\n",
      "Epoch 33/100 - test accuracy: 84.15% and CE loss 0.58\n",
      "Epoch 34/100 - test accuracy: 83.29% and CE loss 0.42\n",
      "Epoch 35/100 - test accuracy: 85.61% and CE loss 0.20\n",
      "Epoch 36/100 - test accuracy: 84.89% and CE loss 0.45\n",
      "Epoch 37/100 - test accuracy: 84.13% and CE loss 0.74\n",
      "Epoch 38/100 - test accuracy: 84.41% and CE loss 0.33\n",
      "Epoch 39/100 - test accuracy: 85.78% and CE loss 0.37\n",
      "Epoch 40/100 - test accuracy: 84.59% and CE loss 0.41\n",
      "Epoch 41/100 - test accuracy: 85.27% and CE loss 0.32\n",
      "Epoch 42/100 - test accuracy: 85.96% and CE loss 0.44\n",
      "Epoch 43/100 - test accuracy: 84.54% and CE loss 0.47\n",
      "Epoch 44/100 - test accuracy: 84.89% and CE loss 0.43\n",
      "Epoch 45/100 - test accuracy: 85.30% and CE loss 0.35\n",
      "Epoch 46/100 - test accuracy: 84.38% and CE loss 0.37\n",
      "Epoch 47/100 - test accuracy: 85.22% and CE loss 0.25\n",
      "Epoch 48/100 - test accuracy: 84.66% and CE loss 0.52\n",
      "Epoch 49/100 - test accuracy: 85.10% and CE loss 0.43\n",
      "Epoch 50/100 - test accuracy: 85.68% and CE loss 0.30\n",
      "Epoch 51/100 - test accuracy: 86.65% and CE loss 0.22\n",
      "Epoch 52/100 - test accuracy: 84.23% and CE loss 0.27\n",
      "Epoch 53/100 - test accuracy: 84.94% and CE loss 0.32\n",
      "Epoch 54/100 - test accuracy: 85.58% and CE loss 0.28\n",
      "Epoch 55/100 - test accuracy: 84.82% and CE loss 0.23\n",
      "Epoch 56/100 - test accuracy: 85.89% and CE loss 0.25\n",
      "Epoch 57/100 - test accuracy: 85.53% and CE loss 0.24\n",
      "Epoch 58/100 - test accuracy: 85.10% and CE loss 0.22\n",
      "Epoch 59/100 - test accuracy: 86.14% and CE loss 0.41\n",
      "Epoch 60/100 - test accuracy: 85.99% and CE loss 0.43\n",
      "Epoch 61/100 - test accuracy: 86.09% and CE loss 0.26\n",
      "Epoch 62/100 - test accuracy: 86.09% and CE loss 0.24\n",
      "Epoch 63/100 - test accuracy: 86.78% and CE loss 0.40\n",
      "Epoch 64/100 - test accuracy: 85.58% and CE loss 0.15\n",
      "Epoch 65/100 - test accuracy: 85.76% and CE loss 0.30\n",
      "Epoch 66/100 - test accuracy: 87.18% and CE loss 0.37\n",
      "Epoch 67/100 - test accuracy: 87.24% and CE loss 0.17\n",
      "Epoch 68/100 - test accuracy: 85.63% and CE loss 0.32\n",
      "Epoch 69/100 - test accuracy: 86.04% and CE loss 0.32\n",
      "Epoch 70/100 - test accuracy: 85.20% and CE loss 0.10\n",
      "Epoch 71/100 - test accuracy: 85.58% and CE loss 0.48\n",
      "Epoch 72/100 - test accuracy: 87.03% and CE loss 0.27\n",
      "Epoch 73/100 - test accuracy: 86.98% and CE loss 0.29\n",
      "Epoch 74/100 - test accuracy: 86.70% and CE loss 0.14\n",
      "Epoch 75/100 - test accuracy: 86.93% and CE loss 0.47\n",
      "Epoch 76/100 - test accuracy: 87.26% and CE loss 0.34\n",
      "Epoch 77/100 - test accuracy: 86.93% and CE loss 0.26\n",
      "Epoch 78/100 - test accuracy: 87.57% and CE loss 0.15\n",
      "Epoch 79/100 - test accuracy: 85.78% and CE loss 0.30\n",
      "Epoch 80/100 - test accuracy: 85.94% and CE loss 0.22\n",
      "Epoch 81/100 - test accuracy: 86.96% and CE loss 0.31\n",
      "Epoch 82/100 - test accuracy: 86.96% and CE loss 0.16\n",
      "Epoch 83/100 - test accuracy: 86.83% and CE loss 0.10\n",
      "Epoch 84/100 - test accuracy: 86.88% and CE loss 0.34\n",
      "Epoch 85/100 - test accuracy: 87.16% and CE loss 0.20\n",
      "Epoch 86/100 - test accuracy: 86.93% and CE loss 0.45\n",
      "Epoch 87/100 - test accuracy: 87.08% and CE loss 0.31\n",
      "Epoch 88/100 - test accuracy: 85.96% and CE loss 0.33\n",
      "Epoch 89/100 - test accuracy: 86.27% and CE loss 0.15\n",
      "Epoch 90/100 - test accuracy: 85.91% and CE loss 0.34\n",
      "Epoch 91/100 - test accuracy: 86.96% and CE loss 0.17\n",
      "Epoch 92/100 - test accuracy: 87.24% and CE loss 0.23\n",
      "Epoch 93/100 - test accuracy: 86.78% and CE loss 0.31\n",
      "Epoch 94/100 - test accuracy: 85.63% and CE loss 0.30\n",
      "Epoch 95/100 - test accuracy: 86.93% and CE loss 0.31\n",
      "Epoch 96/100 - test accuracy: 87.39% and CE loss 0.17\n",
      "Epoch 97/100 - test accuracy: 85.86% and CE loss 0.17\n",
      "Epoch 98/100 - test accuracy: 87.18% and CE loss 0.22\n",
      "Epoch 99/100 - test accuracy: 87.72% and CE loss 0.23\n",
      "Epoch 100/100 - test accuracy: 85.76% and CE loss 0.11\n"
     ]
    }
   ],
   "source": [
    "model_global = train_global_pruned(model = model.to(device), epochs = epochs)"
   ]
  },
  {
   "cell_type": "code",
   "execution_count": 313,
   "id": "11c69e52-292b-4623-b608-4a80a76bcfc9",
   "metadata": {},
   "outputs": [
    {
     "name": "stdout",
     "output_type": "stream",
     "text": [
      "Model test accuracy: 85.76%\n"
     ]
    }
   ],
   "source": [
    "# Model to GPU and eval mode.\n",
    "model_global.to(device)\n",
    "model_global.eval()\n",
    "\n",
    "# Check test set performance.\n",
    "predictions, labels = evaluate_model(model_global, test_dataloader, device)\n",
    "test_acc = np.mean(np.argmax(predictions.cpu().numpy(), axis=1) == labels.cpu().numpy())        \n",
    "print(f\"Model test accuracy: {(100 * test_acc):.2f}%\")"
   ]
  },
  {
   "cell_type": "code",
   "execution_count": 314,
   "id": "3b840659-d734-4970-b9ea-d63cbd12bab8",
   "metadata": {},
   "outputs": [
    {
     "name": "stdout",
     "output_type": "stream",
     "text": [
      "Saving the model: models\\resnet_imagenette_global.pth\n"
     ]
    }
   ],
   "source": [
    "from pathlib import Path\n",
    "\n",
    "model_path = Path(\"models\")\n",
    "model_path.mkdir(parents=True, exist_ok=True)\n",
    "\n",
    "model_name = \"resnet_imagenette_global.pth\"\n",
    "model_save_path = model_path / model_name\n",
    "\n",
    "print(f\"Saving the model: {model_save_path}\")\n",
    "torch.save(obj=model_global.state_dict(), f=model_save_path)"
   ]
  },
  {
   "cell_type": "markdown",
   "id": "2a80e8c7-7d28-41b3-930a-01e7ec9b4dda",
   "metadata": {},
   "source": [
    "# Layered Structured"
   ]
  },
  {
   "cell_type": "code",
   "execution_count": 43,
   "id": "d6449d31-c3fc-49de-ad38-2d8ade7901e0",
   "metadata": {},
   "outputs": [
    {
     "name": "stdout",
     "output_type": "stream",
     "text": [
      "Ranger optimizer loaded. \n",
      "Gradient Centralization usage = True\n",
      "GC applied to both conv and fc layers\n"
     ]
    }
   ],
   "source": [
    "model = resnet_18(filter='None', filter_layer=0)\n",
    "learning_rate = 1e-04\n",
    "criterion = nn.CrossEntropyLoss(reduction=\"mean\").cuda()\n",
    "optimizer = Ranger(model.parameters(), lr = learning_rate, eps = 1e-06)"
   ]
  },
  {
   "cell_type": "code",
   "execution_count": 70,
   "id": "0635f11d-091c-4967-9b1e-e3af8d4c01d6",
   "metadata": {},
   "outputs": [
    {
     "name": "stdout",
     "output_type": "stream",
     "text": [
      "Unpruned  RESNET-18 model has 11176841 trainable parameters\n"
     ]
    }
   ],
   "source": [
    "orig_params = count_params(model)\n",
    "print(f\"Unpruned  RESNET-18 model has {orig_params} trainable parameters\")"
   ]
  },
  {
   "cell_type": "code",
   "execution_count": 72,
   "id": "eff41578-1b5d-4816-815b-9a353425dd04",
   "metadata": {},
   "outputs": [
    {
     "name": "stdout",
     "output_type": "stream",
     "text": [
      "layer.name: conv1.weight & param.shape = torch.Size([64, 3, 7, 7])\n",
      "layer.name: bn1.weight & param.shape = torch.Size([64])\n",
      "layer.name: bn1.bias & param.shape = torch.Size([64])\n",
      "layer.name: layer1.0.conv1.weight & param.shape = torch.Size([64, 64, 3, 3])\n",
      "layer.name: layer1.0.bn1.weight & param.shape = torch.Size([64])\n",
      "layer.name: layer1.0.bn1.bias & param.shape = torch.Size([64])\n",
      "layer.name: layer1.0.conv2.weight & param.shape = torch.Size([64, 64, 3, 3])\n",
      "layer.name: layer1.0.bn2.weight & param.shape = torch.Size([64])\n",
      "layer.name: layer1.0.bn2.bias & param.shape = torch.Size([64])\n",
      "layer.name: layer1.1.conv1.weight & param.shape = torch.Size([64, 64, 3, 3])\n",
      "layer.name: layer1.1.bn1.weight & param.shape = torch.Size([64])\n",
      "layer.name: layer1.1.bn1.bias & param.shape = torch.Size([64])\n",
      "layer.name: layer1.1.conv2.weight & param.shape = torch.Size([64, 64, 3, 3])\n",
      "layer.name: layer1.1.bn2.weight & param.shape = torch.Size([64])\n",
      "layer.name: layer1.1.bn2.bias & param.shape = torch.Size([64])\n",
      "layer.name: layer2.0.conv1.weight & param.shape = torch.Size([128, 64, 3, 3])\n",
      "layer.name: layer2.0.bn1.weight & param.shape = torch.Size([128])\n",
      "layer.name: layer2.0.bn1.bias & param.shape = torch.Size([128])\n",
      "layer.name: layer2.0.conv2.weight & param.shape = torch.Size([128, 128, 3, 3])\n",
      "layer.name: layer2.0.bn2.weight & param.shape = torch.Size([128])\n",
      "layer.name: layer2.0.bn2.bias & param.shape = torch.Size([128])\n",
      "layer.name: layer2.0.downsample.0.weight & param.shape = torch.Size([128, 64, 1, 1])\n",
      "layer.name: layer2.0.downsample.1.weight & param.shape = torch.Size([128])\n",
      "layer.name: layer2.0.downsample.1.bias & param.shape = torch.Size([128])\n",
      "layer.name: layer2.1.conv1.weight & param.shape = torch.Size([128, 128, 3, 3])\n",
      "layer.name: layer2.1.bn1.weight & param.shape = torch.Size([128])\n",
      "layer.name: layer2.1.bn1.bias & param.shape = torch.Size([128])\n",
      "layer.name: layer2.1.conv2.weight & param.shape = torch.Size([128, 128, 3, 3])\n",
      "layer.name: layer2.1.bn2.weight & param.shape = torch.Size([128])\n",
      "layer.name: layer2.1.bn2.bias & param.shape = torch.Size([128])\n",
      "layer.name: layer3.0.conv1.weight & param.shape = torch.Size([256, 128, 3, 3])\n",
      "layer.name: layer3.0.bn1.weight & param.shape = torch.Size([256])\n",
      "layer.name: layer3.0.bn1.bias & param.shape = torch.Size([256])\n",
      "layer.name: layer3.0.conv2.weight & param.shape = torch.Size([256, 256, 3, 3])\n",
      "layer.name: layer3.0.bn2.weight & param.shape = torch.Size([256])\n",
      "layer.name: layer3.0.bn2.bias & param.shape = torch.Size([256])\n",
      "layer.name: layer3.0.downsample.0.weight & param.shape = torch.Size([256, 128, 1, 1])\n",
      "layer.name: layer3.0.downsample.1.weight & param.shape = torch.Size([256])\n",
      "layer.name: layer3.0.downsample.1.bias & param.shape = torch.Size([256])\n",
      "layer.name: layer3.1.conv1.weight & param.shape = torch.Size([256, 256, 3, 3])\n",
      "layer.name: layer3.1.bn1.weight & param.shape = torch.Size([256])\n",
      "layer.name: layer3.1.bn1.bias & param.shape = torch.Size([256])\n",
      "layer.name: layer3.1.conv2.weight & param.shape = torch.Size([256, 256, 3, 3])\n",
      "layer.name: layer3.1.bn2.weight & param.shape = torch.Size([256])\n",
      "layer.name: layer3.1.bn2.bias & param.shape = torch.Size([256])\n",
      "layer.name: layer4.0.conv1.weight & param.shape = torch.Size([512, 256, 3, 3])\n",
      "layer.name: layer4.0.bn1.weight & param.shape = torch.Size([512])\n",
      "layer.name: layer4.0.bn1.bias & param.shape = torch.Size([512])\n",
      "layer.name: layer4.0.conv2.weight & param.shape = torch.Size([512, 512, 3, 3])\n",
      "layer.name: layer4.0.bn2.weight & param.shape = torch.Size([512])\n",
      "layer.name: layer4.0.bn2.bias & param.shape = torch.Size([512])\n",
      "layer.name: layer4.0.downsample.0.weight & param.shape = torch.Size([512, 256, 1, 1])\n",
      "layer.name: layer4.0.downsample.1.weight & param.shape = torch.Size([512])\n",
      "layer.name: layer4.0.downsample.1.bias & param.shape = torch.Size([512])\n",
      "layer.name: layer4.1.conv1.weight & param.shape = torch.Size([512, 512, 3, 3])\n",
      "layer.name: layer4.1.bn1.weight & param.shape = torch.Size([512])\n",
      "layer.name: layer4.1.bn1.bias & param.shape = torch.Size([512])\n",
      "layer.name: layer4.1.conv2.weight & param.shape = torch.Size([512, 512, 3, 3])\n",
      "layer.name: layer4.1.bn2.weight & param.shape = torch.Size([512])\n",
      "layer.name: layer4.1.bn2.bias & param.shape = torch.Size([512])\n",
      "layer.name: fc.weight & param.shape = torch.Size([10, 512])\n",
      "layer.name: fc.bias & param.shape = torch.Size([10])\n"
     ]
    }
   ],
   "source": [
    "for layer, param in model.named_parameters():\n",
    "    print(f\"layer.name: {layer} & param.shape = {param.shape}\")"
   ]
  },
  {
   "cell_type": "code",
   "execution_count": 74,
   "id": "a7186bd6-acff-4a1c-b093-f213a2383864",
   "metadata": {},
   "outputs": [
    {
     "name": "stdout",
     "output_type": "stream",
     "text": [
      " RESNET-18 global sparsity = 0.00%\n"
     ]
    }
   ],
   "source": [
    "print(f\" RESNET-18 global sparsity = {compute_sparsity_resnet(model):.2f}%\")"
   ]
  },
  {
   "cell_type": "code",
   "execution_count": 50,
   "id": "dec49690-3b20-4730-a38d-2481bddedfd7",
   "metadata": {},
   "outputs": [],
   "source": [
    "def train_layered_pruned(model, epochs):\n",
    "    for iter_prune_round in range(1):\n",
    "        print(f\"\\n\\nIterative Global pruning round = {iter_prune_round + 1}\")\n",
    "        \n",
    "        # Prune layer-wise in a structured manner-\n",
    "        prune.ln_structured(model.conv1, name = \"weight\", amount = 0.1, n = 2, dim = 0)\n",
    "        # prune.ln_structured(model.bn1, name = \"weight\", amount = 0.1, n = 2, dim = 0)\n",
    "        prune.ln_structured(model.layer1[0].conv1, name = \"weight\", amount = 0.1, n = 2, dim = 0)\n",
    "        # prune.ln_structured(model.layer1[0].bn1, name = \"weight\", amount = 0.1, n = 2, dim = 0)\n",
    "        prune.ln_structured(model.layer1[0].conv2, name = \"weight\", amount = 0.1, n = 2, dim = 0)\n",
    "        # prune.ln_structured(model.layer1[0].bn2, name = \"weight\", amount = 0.1, n = 2, dim = 0)\n",
    "        prune.ln_structured(model.layer1[1].conv1, name = \"weight\", amount = 0.1, n = 2, dim = 0)\n",
    "        # prune.ln_structured(model.layer1[1].bn1, name = \"weight\", amount = 0.1, n = 2, dim = 0)\n",
    "        prune.ln_structured(model.layer1[1].conv2, name = \"weight\", amount = 0.1, n = 2, dim = 0)\n",
    "        # prune.ln_structured(model.layer1[1].bn2, name = \"weight\", amount = 0.1, n = 2, dim = 0)\n",
    "        prune.ln_structured(model.layer2[0].conv1, name = \"weight\", amount = 0.1, n = 2, dim = 0)\n",
    "        # prune.ln_structured(model.layer2[0].bn1, name = \"weight\", amount = 0.1, n = 2, dim = 0)\n",
    "        prune.ln_structured(model.layer2[0].conv2, name = \"weight\", amount = 0.1, n = 2, dim = 0)\n",
    "        # prune.ln_structured(model.layer2[0].bn2, name = \"weight\", amount = 0.1, n = 2, dim = 0)\n",
    "        prune.ln_structured(model.layer2[1].conv1, name = \"weight\", amount = 0.1, n = 2, dim = 0)\n",
    "        # prune.ln_structured(model.layer2[1].bn1, name = \"weight\", amount = 0.1, n = 2, dim = 0)\n",
    "        prune.ln_structured(model.layer2[1].conv2, name = \"weight\", amount = 0.1, n = 2, dim = 0)\n",
    "        # prune.ln_structured(model.layer2[1].bn2, name = \"weight\", amount = 0.1, n = 2, dim = 0)\n",
    "        prune.ln_structured(model.layer3[0].conv1, name = \"weight\", amount = 0.1, n = 2, dim = 0)\n",
    "        # prune.ln_structured(model.layer3[0].bn1, name = \"weight\", amount = 0.1, n = 2, dim = 0)\n",
    "        prune.ln_structured(model.layer3[0].conv2, name = \"weight\", amount = 0.1, n = 2, dim = 0)\n",
    "        # prune.ln_structured(model.layer3[0].bn2, name = \"weight\", amount = 0.1, n = 2, dim = 0)\n",
    "        prune.ln_structured(model.layer3[1].conv1, name = \"weight\", amount = 0.1, n = 2, dim = 0)\n",
    "        # prune.ln_structured(model.layer3[1].bn1, name = \"weight\", amount = 0.1, n = 2, dim = 0)\n",
    "        prune.ln_structured(model.layer3[1].conv2, name = \"weight\", amount = 0.1, n = 2, dim = 0)\n",
    "        # prune.ln_structured(model.layer3[1].bn2, name = \"weight\", amount = 0.1, n = 2, dim = 0)\n",
    "        prune.ln_structured(model.layer4[0].conv1, name = \"weight\", amount = 0.1, n = 2, dim = 0)\n",
    "        # prune.ln_structured(model.layer4[0].bn1, name = \"weight\", amount = 0.1, n = 2, dim = 0)\n",
    "        prune.ln_structured(model.layer4[0].conv2, name = \"weight\", amount = 0.1, n = 2, dim = 0)\n",
    "        # prune.ln_structured(model.layer4[0].bn2, name = \"weight\", amount = 0.1, n = 2, dim = 0)\n",
    "        prune.ln_structured(model.layer4[1].conv1, name = \"weight\", amount = 0.1, n = 2, dim = 0)\n",
    "        # prune.ln_structured(model.layer4[1].bn1, name = \"weight\", amount = 0.1, n = 2, dim = 0)\n",
    "        prune.ln_structured(model.layer4[1].conv2, name = \"weight\", amount = 0.1, n = 2, dim = 0)\n",
    "        # prune.ln_structured(model.layer4[1].bn2, name = \"weight\", amount = 0.1, n = 2, dim = 0)\n",
    "\n",
    "        prune.ln_structured(model.fc, name = \"weight\", amount = 0.1, n = 2, dim = 0)\n",
    "        \n",
    "        # Print current global sparsity level-\n",
    "        print(f\" RESNET-18 global sparsity = {compute_sparsity_resnet(model):.2f}%\")\n",
    "        \n",
    "        \n",
    "        # Fine-training loop-\n",
    "        print(\"\\nFine-tuning pruned model to recover model's performance\\n\")\n",
    "        model.train()\n",
    "        for epoch in range(epochs):\n",
    "            for x_batch, y_batch in train_dataloader:\n",
    "                x_batch, y_batch = x_batch.to(device), y_batch.to(device)\n",
    "                optimizer.zero_grad()\n",
    "                output = model(x_batch)\n",
    "                loss = criterion(output, y_batch)\n",
    "                loss.backward()\n",
    "                optimizer.step()\n",
    "    \n",
    "            # Evaluate model!\n",
    "            if epochs%10==0:\n",
    "                predictions, labels = evaluate_model(model, test_dataloader, device)\n",
    "                test_acc = np.mean(np.argmax(predictions.cpu().numpy(), axis=1) == labels.cpu().numpy())\n",
    "                print(f\"Epoch {epoch+1}/{epochs} - test accuracy: {(100 * test_acc):.2f}% and CE loss {loss.item():.2f}\")\n",
    "    return model"
   ]
  },
  {
   "cell_type": "code",
   "execution_count": 377,
   "id": "5ae15b2d-4fa5-4b34-8147-5a8c7c368e5d",
   "metadata": {
    "scrolled": true
   },
   "outputs": [
    {
     "name": "stdout",
     "output_type": "stream",
     "text": [
      "\n",
      "\n",
      "Iterative Global pruning round = 1\n",
      " RESNET-18 global sparsity = 9.99%\n",
      "\n",
      "Fine-tuning pruned model to recover model's performance\n",
      "\n",
      "Epoch 1/100 - test accuracy: 27.92% and CE loss 2.22\n",
      "Epoch 2/100 - test accuracy: 46.96% and CE loss 1.55\n",
      "Epoch 3/100 - test accuracy: 54.90% and CE loss 1.63\n",
      "Epoch 4/100 - test accuracy: 57.99% and CE loss 1.32\n",
      "Epoch 5/100 - test accuracy: 61.32% and CE loss 1.21\n",
      "Epoch 6/100 - test accuracy: 61.35% and CE loss 1.34\n",
      "Epoch 7/100 - test accuracy: 63.92% and CE loss 1.27\n",
      "Epoch 8/100 - test accuracy: 65.78% and CE loss 1.12\n",
      "Epoch 9/100 - test accuracy: 67.24% and CE loss 1.24\n",
      "Epoch 10/100 - test accuracy: 67.26% and CE loss 1.09\n",
      "Epoch 11/100 - test accuracy: 68.66% and CE loss 1.07\n",
      "Epoch 12/100 - test accuracy: 69.68% and CE loss 1.02\n",
      "Epoch 13/100 - test accuracy: 70.90% and CE loss 1.04\n",
      "Epoch 14/100 - test accuracy: 70.85% and CE loss 1.07\n",
      "Epoch 15/100 - test accuracy: 71.18% and CE loss 0.58\n",
      "Epoch 16/100 - test accuracy: 71.75% and CE loss 0.98\n",
      "Epoch 17/100 - test accuracy: 73.63% and CE loss 0.87\n",
      "Epoch 18/100 - test accuracy: 73.04% and CE loss 0.69\n",
      "Epoch 19/100 - test accuracy: 72.79% and CE loss 1.12\n",
      "Epoch 20/100 - test accuracy: 74.24% and CE loss 0.62\n",
      "Epoch 21/100 - test accuracy: 75.82% and CE loss 0.60\n",
      "Epoch 22/100 - test accuracy: 73.91% and CE loss 0.86\n",
      "Epoch 23/100 - test accuracy: 75.59% and CE loss 0.63\n",
      "Epoch 24/100 - test accuracy: 75.59% and CE loss 0.79\n",
      "Epoch 25/100 - test accuracy: 74.47% and CE loss 0.96\n",
      "Epoch 26/100 - test accuracy: 75.54% and CE loss 0.81\n",
      "Epoch 27/100 - test accuracy: 77.25% and CE loss 0.56\n",
      "Epoch 28/100 - test accuracy: 75.62% and CE loss 0.69\n",
      "Epoch 29/100 - test accuracy: 76.41% and CE loss 0.53\n",
      "Epoch 30/100 - test accuracy: 77.25% and CE loss 0.54\n",
      "Epoch 31/100 - test accuracy: 75.90% and CE loss 0.60\n",
      "Epoch 32/100 - test accuracy: 77.45% and CE loss 0.54\n",
      "Epoch 33/100 - test accuracy: 78.68% and CE loss 0.49\n",
      "Epoch 34/100 - test accuracy: 77.35% and CE loss 0.73\n",
      "Epoch 35/100 - test accuracy: 78.47% and CE loss 0.67\n",
      "Epoch 36/100 - test accuracy: 79.44% and CE loss 0.61\n",
      "Epoch 37/100 - test accuracy: 78.93% and CE loss 0.64\n",
      "Epoch 38/100 - test accuracy: 76.92% and CE loss 0.49\n",
      "Epoch 39/100 - test accuracy: 77.55% and CE loss 0.61\n",
      "Epoch 40/100 - test accuracy: 78.68% and CE loss 0.61\n",
      "Epoch 41/100 - test accuracy: 78.50% and CE loss 0.76\n",
      "Epoch 42/100 - test accuracy: 79.54% and CE loss 0.51\n",
      "Epoch 43/100 - test accuracy: 77.91% and CE loss 0.51\n",
      "Epoch 44/100 - test accuracy: 80.15% and CE loss 0.45\n",
      "Epoch 45/100 - test accuracy: 80.10% and CE loss 0.41\n",
      "Epoch 46/100 - test accuracy: 79.82% and CE loss 0.61\n",
      "Epoch 47/100 - test accuracy: 79.87% and CE loss 0.45\n",
      "Epoch 48/100 - test accuracy: 79.49% and CE loss 0.62\n",
      "Epoch 49/100 - test accuracy: 79.26% and CE loss 0.26\n",
      "Epoch 50/100 - test accuracy: 79.11% and CE loss 0.48\n",
      "Epoch 51/100 - test accuracy: 80.54% and CE loss 0.24\n",
      "Epoch 52/100 - test accuracy: 78.47% and CE loss 0.30\n",
      "Epoch 53/100 - test accuracy: 79.75% and CE loss 0.13\n",
      "Epoch 54/100 - test accuracy: 80.41% and CE loss 0.52\n",
      "Epoch 55/100 - test accuracy: 79.85% and CE loss 0.36\n",
      "Epoch 56/100 - test accuracy: 80.13% and CE loss 0.52\n",
      "Epoch 57/100 - test accuracy: 79.90% and CE loss 0.41\n",
      "Epoch 58/100 - test accuracy: 79.16% and CE loss 0.45\n",
      "Epoch 59/100 - test accuracy: 80.46% and CE loss 0.32\n",
      "Epoch 60/100 - test accuracy: 80.82% and CE loss 0.42\n",
      "Epoch 61/100 - test accuracy: 79.26% and CE loss 0.48\n",
      "Epoch 62/100 - test accuracy: 79.82% and CE loss 0.54\n",
      "Epoch 63/100 - test accuracy: 81.35% and CE loss 0.39\n",
      "Epoch 64/100 - test accuracy: 80.43% and CE loss 0.59\n",
      "Epoch 65/100 - test accuracy: 80.97% and CE loss 0.27\n",
      "Epoch 66/100 - test accuracy: 81.71% and CE loss 0.35\n",
      "Epoch 67/100 - test accuracy: 79.49% and CE loss 0.28\n",
      "Epoch 68/100 - test accuracy: 79.67% and CE loss 0.31\n",
      "Epoch 69/100 - test accuracy: 81.81% and CE loss 0.49\n",
      "Epoch 70/100 - test accuracy: 80.08% and CE loss 0.42\n",
      "Epoch 71/100 - test accuracy: 81.02% and CE loss 0.23\n",
      "Epoch 72/100 - test accuracy: 81.66% and CE loss 0.28\n",
      "Epoch 73/100 - test accuracy: 79.16% and CE loss 0.54\n",
      "Epoch 74/100 - test accuracy: 81.66% and CE loss 0.25\n",
      "Epoch 75/100 - test accuracy: 80.76% and CE loss 0.22\n",
      "Epoch 76/100 - test accuracy: 80.28% and CE loss 0.22\n",
      "Epoch 77/100 - test accuracy: 80.71% and CE loss 0.55\n",
      "Epoch 78/100 - test accuracy: 80.84% and CE loss 0.28\n",
      "Epoch 79/100 - test accuracy: 79.59% and CE loss 0.26\n",
      "Epoch 80/100 - test accuracy: 81.27% and CE loss 0.23\n",
      "Epoch 81/100 - test accuracy: 81.76% and CE loss 0.20\n",
      "Epoch 82/100 - test accuracy: 80.59% and CE loss 0.15\n",
      "Epoch 83/100 - test accuracy: 82.37% and CE loss 0.25\n",
      "Epoch 84/100 - test accuracy: 82.29% and CE loss 0.40\n",
      "Epoch 85/100 - test accuracy: 80.61% and CE loss 0.33\n",
      "Epoch 86/100 - test accuracy: 81.27% and CE loss 0.17\n",
      "Epoch 87/100 - test accuracy: 80.89% and CE loss 0.46\n",
      "Epoch 88/100 - test accuracy: 80.41% and CE loss 0.19\n",
      "Epoch 89/100 - test accuracy: 81.07% and CE loss 0.33\n",
      "Epoch 90/100 - test accuracy: 82.14% and CE loss 0.24\n",
      "Epoch 91/100 - test accuracy: 80.43% and CE loss 0.26\n",
      "Epoch 92/100 - test accuracy: 81.83% and CE loss 0.20\n",
      "Epoch 93/100 - test accuracy: 81.78% and CE loss 0.27\n",
      "Epoch 94/100 - test accuracy: 81.35% and CE loss 0.42\n",
      "Epoch 95/100 - test accuracy: 80.89% and CE loss 0.26\n",
      "Epoch 96/100 - test accuracy: 81.17% and CE loss 0.34\n",
      "Epoch 97/100 - test accuracy: 81.68% and CE loss 0.47\n",
      "Epoch 98/100 - test accuracy: 82.24% and CE loss 0.11\n",
      "Epoch 99/100 - test accuracy: 81.73% and CE loss 0.22\n",
      "Epoch 100/100 - test accuracy: 80.64% and CE loss 0.26\n"
     ]
    }
   ],
   "source": [
    "model_layered_structured = train_layered_pruned(model = model.to(device), epochs = epochs)"
   ]
  },
  {
   "cell_type": "code",
   "execution_count": 379,
   "id": "70fa8af2-e65a-4c1f-b967-fc9bf24e65cd",
   "metadata": {},
   "outputs": [
    {
     "name": "stdout",
     "output_type": "stream",
     "text": [
      "Model test accuracy: 80.64%\n"
     ]
    }
   ],
   "source": [
    "# Model to GPU and eval mode.\n",
    "model_layered_structured.to(device)\n",
    "model_layered_structured.eval()\n",
    "\n",
    "# Check test set performance.\n",
    "predictions, labels = evaluate_model(model_layered_structured, test_dataloader, device)\n",
    "test_acc = np.mean(np.argmax(predictions.cpu().numpy(), axis=1) == labels.cpu().numpy())        \n",
    "print(f\"Model test accuracy: {(100 * test_acc):.2f}%\")"
   ]
  },
  {
   "cell_type": "code",
   "execution_count": 380,
   "id": "92f17f76-3bff-4b66-8898-b59ec760fcd5",
   "metadata": {},
   "outputs": [
    {
     "name": "stdout",
     "output_type": "stream",
     "text": [
      "Saving the model: models\\resnet_imagenette_structured.pth\n"
     ]
    }
   ],
   "source": [
    "from pathlib import Path\n",
    "\n",
    "model_path = Path(\"models\")\n",
    "model_path.mkdir(parents=True, exist_ok=True)\n",
    "\n",
    "model_name = \"resnet_imagenette_structured.pth\"\n",
    "model_save_path = model_path / model_name\n",
    "\n",
    "print(f\"Saving the model: {model_save_path}\")\n",
    "torch.save(obj=model_layered_structured.state_dict(), f=model_save_path)"
   ]
  },
  {
   "cell_type": "code",
   "execution_count": null,
   "id": "fc0a21cf-fed1-4a30-a24c-7fe07a6983dc",
   "metadata": {},
   "outputs": [],
   "source": []
  }
 ],
 "metadata": {
  "kernelspec": {
   "display_name": "Python 3 (ipykernel)",
   "language": "python",
   "name": "python3"
  },
  "language_info": {
   "codemirror_mode": {
    "name": "ipython",
    "version": 3
   },
   "file_extension": ".py",
   "mimetype": "text/x-python",
   "name": "python",
   "nbconvert_exporter": "python",
   "pygments_lexer": "ipython3",
   "version": "3.12.3"
  }
 },
 "nbformat": 4,
 "nbformat_minor": 5
}
