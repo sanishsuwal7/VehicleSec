{
 "cells": [
  {
   "cell_type": "code",
   "execution_count": 417,
   "id": "fb41a50f-97cb-421f-ba9e-17fadefcfd41",
   "metadata": {},
   "outputs": [],
   "source": [
    "import torch\n",
    "from torch import nn\n",
    "import torch.nn as nn\n",
    "import torch.nn.functional as F\n",
    "from torch.utils.data import DataLoader\n",
    "import torch.nn.utils.prune as prune\n",
    "\n",
    "import torchvision\n",
    "from torchvision import datasets\n",
    "from torchvision import transforms\n",
    "from torchmetrics import Accuracy\n",
    "\n",
    "import torch.optim as optim\n",
    "from cleverhans.torch.attacks.projected_gradient_descent import (projected_gradient_descent)\n",
    "\n",
    "import quantus\n",
    "import captum\n",
    "from captum.attr import Saliency, IntegratedGradients, NoiseTunnel\n",
    "\n",
    "import pandas as pd\n",
    "import numpy as np\n",
    "import matplotlib.pyplot as plt\n",
    "\n",
    "import random\n",
    "import copy\n",
    "import gc\n",
    "import math\n",
    "\n",
    "import warnings\n",
    "warnings.filterwarnings('ignore')"
   ]
  },
  {
   "cell_type": "code",
   "execution_count": 419,
   "id": "ad980ddf-403a-402f-800a-117976cdd401",
   "metadata": {},
   "outputs": [],
   "source": [
    "device = torch.device(\"cuda\" if torch.cuda.is_available() else \"cpu\")"
   ]
  },
  {
   "cell_type": "code",
   "execution_count": 421,
   "id": "97a6fbbe-99ff-4428-86d6-96be7fda3808",
   "metadata": {},
   "outputs": [],
   "source": [
    "normalize = transforms.Normalize(mean=[0.485, 0.456, 0.406],\n",
    "                                     std=[0.229, 0.224, 0.225])\n",
    "cifar_transforms = transforms.Compose([transforms.RandomHorizontalFlip(),\n",
    "            transforms.RandomCrop(32, 4),\n",
    "            transforms.ToTensor(),\n",
    "            normalize,])\n",
    "\n",
    "# cifar_transforms = transforms.Compose([transforms.ToTensor()])"
   ]
  },
  {
   "cell_type": "code",
   "execution_count": 423,
   "id": "7b9ff383-29af-4cb8-b8a4-697e5b18b2a7",
   "metadata": {},
   "outputs": [
    {
     "name": "stdout",
     "output_type": "stream",
     "text": [
      "Files already downloaded and verified\n"
     ]
    }
   ],
   "source": [
    "test_dataset =  torchvision.datasets.CIFAR10(root= './datasets', train = False, download=True, transform = cifar_transforms)\n",
    "test_dataloader = torch.utils.data.DataLoader(test_dataset, batch_size=128, pin_memory=True)"
   ]
  },
  {
   "cell_type": "code",
   "execution_count": 424,
   "id": "e620913d-82d0-4244-8ea8-4bd475587b70",
   "metadata": {},
   "outputs": [
    {
     "data": {
      "text/plain": [
       "['airplane',\n",
       " 'automobile',\n",
       " 'bird',\n",
       " 'cat',\n",
       " 'deer',\n",
       " 'dog',\n",
       " 'frog',\n",
       " 'horse',\n",
       " 'ship',\n",
       " 'truck']"
      ]
     },
     "execution_count": 424,
     "metadata": {},
     "output_type": "execute_result"
    }
   ],
   "source": [
    "class_names = test_dataset.classes\n",
    "class_names"
   ]
  },
  {
   "cell_type": "code",
   "execution_count": 425,
   "id": "9f0e88e5-6a1c-4393-8bfe-fca62c888050",
   "metadata": {},
   "outputs": [],
   "source": [
    "%run models.ipynb\n",
    "%run utils.ipynb\n",
    "%run metrics.ipynb"
   ]
  },
  {
   "cell_type": "code",
   "execution_count": 429,
   "id": "0d9cd152-a5a9-43ac-851f-bd76bef5fb1e",
   "metadata": {},
   "outputs": [],
   "source": [
    "device = 'cuda' if torch.cuda.is_available() else 'cpu'"
   ]
  },
  {
   "cell_type": "markdown",
   "id": "51967f95-15f6-4779-a8d6-eac0a5391f61",
   "metadata": {},
   "source": [
    "# Normal Training VGG"
   ]
  },
  {
   "cell_type": "code",
   "execution_count": 432,
   "id": "063a503a-43ed-4dfd-8d5d-d7f0dae364d0",
   "metadata": {},
   "outputs": [
    {
     "data": {
      "text/plain": [
       "<All keys matched successfully>"
      ]
     },
     "execution_count": 432,
     "metadata": {},
     "output_type": "execute_result"
    }
   ],
   "source": [
    "from pathlib import Path\n",
    "\n",
    "model_path = Path(\"models\")\n",
    "model_path.mkdir(parents=True, exist_ok=True)\n",
    "\n",
    "model_name = \"vgg_cifar.pth\"\n",
    "model_save_path = model_path / model_name\n",
    "model = vgg16().to(device)\n",
    "model.load_state_dict(torch.load(model_save_path))"
   ]
  },
  {
   "cell_type": "code",
   "execution_count": 434,
   "id": "fc78fa3f-86c4-4958-8401-f6c1ee3e56bc",
   "metadata": {},
   "outputs": [
    {
     "name": "stdout",
     "output_type": "stream",
     "text": [
      "Test accuracy for VGG Normal is: 87.23%\n"
     ]
    }
   ],
   "source": [
    "# Model to GPU and eval mode.\n",
    "model.to(device)\n",
    "model.eval()\n",
    "\n",
    "# Check test set performance.\n",
    "predictions, labels = evaluate_model(model, test_dataloader, device)\n",
    "test_acc = np.mean(np.argmax(predictions.cpu().numpy(), axis=1) == labels.cpu().numpy())        \n",
    "print(f\"Test accuracy for VGG Normal is: {(100 * test_acc):.2f}%\")"
   ]
  },
  {
   "cell_type": "code",
   "execution_count": 366,
   "id": "94f5860e-180e-499c-95bb-78059b1945cf",
   "metadata": {},
   "outputs": [],
   "source": [
    "gc.collect()\n",
    "torch.cuda.empty_cache()\n",
    "\n",
    "x_batch, y_batch = next(iter(test_dataloader))\n",
    "x_batch, y_batch = x_batch.to(device), y_batch.to(device)"
   ]
  },
  {
   "cell_type": "code",
   "execution_count": 374,
   "id": "e3ddde47-56ec-42ee-bca5-f0098d57ff9d",
   "metadata": {},
   "outputs": [
    {
     "name": "stderr",
     "output_type": "stream",
     "text": [
      "WARNING:matplotlib.image:Clipping input data to the valid range for imshow with RGB data ([0..1] for floats or [0..255] for integers). Got range [-2.117904..2.64].\n",
      "WARNING:matplotlib.image:Clipping input data to the valid range for imshow with RGB data ([0..1] for floats or [0..255] for integers). Got range [-2.117904..2.1632845].\n",
      "WARNING:matplotlib.image:Clipping input data to the valid range for imshow with RGB data ([0..1] for floats or [0..255] for integers). Got range [-2.117904..1.4097953].\n",
      "WARNING:matplotlib.image:Clipping input data to the valid range for imshow with RGB data ([0..1] for floats or [0..255] for integers). Got range [-2.117904..2.535425].\n",
      "WARNING:matplotlib.image:Clipping input data to the valid range for imshow with RGB data ([0..1] for floats or [0..255] for integers). Got range [-2.117904..1.3412963].\n",
      "WARNING:matplotlib.image:Clipping input data to the valid range for imshow with RGB data ([0..1] for floats or [0..255] for integers). Got range [-2.117904..2.0084033].\n",
      "WARNING:matplotlib.image:Clipping input data to the valid range for imshow with RGB data ([0..1] for floats or [0..255] for integers). Got range [-2.117904..2.622571].\n",
      "WARNING:matplotlib.image:Clipping input data to the valid range for imshow with RGB data ([0..1] for floats or [0..255] for integers). Got range [-2.117904..2.535425].\n",
      "WARNING:matplotlib.image:Clipping input data to the valid range for imshow with RGB data ([0..1] for floats or [0..255] for integers). Got range [-2.117904..2.3060222].\n",
      "WARNING:matplotlib.image:Clipping input data to the valid range for imshow with RGB data ([0..1] for floats or [0..255] for integers). Got range [-2.117904..1.9920369].\n",
      "WARNING:matplotlib.image:Clipping input data to the valid range for imshow with RGB data ([0..1] for floats or [0..255] for integers). Got range [-2.117904..2.6051416].\n",
      "WARNING:matplotlib.image:Clipping input data to the valid range for imshow with RGB data ([0..1] for floats or [0..255] for integers). Got range [-2.117904..2.2914162].\n"
     ]
    },
    {
     "data": {
      "image/png": "[encoded data removed]",
      "text/plain": [
       "<Figure size 1200x400 with 12 Axes>"
      ]
     },
     "metadata": {},
     "output_type": "display_data"
    }
   ],
   "source": [
    "# See random images with their labels\n",
    "# torch.manual_seed(42)  # setting random seed\n",
    "import matplotlib.pyplot as plt\n",
    "%matplotlib inline\n",
    "fig = plt.figure(figsize=(12, 4))\n",
    "indexes=[]\n",
    "rows, cols = 2, 6\n",
    "for i in range(1, (rows * cols) + 1):\n",
    "    random_idx = torch.randint(0, len(x_batch), size=[1]).item()\n",
    "    img, label_gt = x_batch[random_idx], y_batch[random_idx]\n",
    "    indexes.append(random_idx)\n",
    "    img_temp = img.unsqueeze(dim=0).to(device)\n",
    "    # print(img.shape)\n",
    "    label_pred = torch.argmax(model(img_temp))\n",
    "    fig.add_subplot(rows, cols, i)\n",
    "    img = img.permute(1, 2, 0)    # CWH --> WHC\n",
    "    plt.imshow(img.cpu().numpy(), cmap='gray')\n",
    "    if label_pred == label_gt:\n",
    "        plt.title(class_names[label_pred], color='g') # for correct prediction\n",
    "    else:\n",
    "        plt.title(class_names[label_pred], color='r') # for incorrect prediction\n",
    "    plt.axis(False)\n",
    "    plt.tight_layout();\n",
    "plt.show()"
   ]
  },
  {
   "cell_type": "code",
   "execution_count": 376,
   "id": "1d2367d3-0f79-40ca-9085-7cae3f5ffc9a",
   "metadata": {},
   "outputs": [],
   "source": [
    "gc.collect()\n",
    "torch.cuda.empty_cache()\n",
    "\n",
    "x_batch, y_batch = x_batch.to(device), y_batch.to(device)"
   ]
  },
  {
   "cell_type": "code",
   "execution_count": 378,
   "id": "a5ea19f0-b947-4e2e-b66a-c6056470f426",
   "metadata": {},
   "outputs": [],
   "source": [
    "# Applying explanation methods on the model outputs\n",
    "a_batch_integrad = IntegratedGradients(model).attribute(inputs=x_batch, target=y_batch, baselines=torch.zeros_like(x_batch)).sum(axis=1).cpu().numpy()\n",
    "a_batch_integrad[a_batch_integrad<0] = 0\n",
    "a_batch_saliency = Saliency(model).attribute(inputs=x_batch, target=y_batch, abs=True).sum(axis=1).cpu().numpy()\n",
    "saliency = Saliency(model)\n",
    "a_batch_smoothgrad = NoiseTunnel(saliency).attribute(inputs = x_batch, target = y_batch, nt_type ='smoothgrad', nt_samples = 50, stdevs=0.15).sum(axis=1).cpu().numpy()\n",
    "x_batch, y_batch = x_batch.cpu().numpy(), y_batch.cpu().numpy()"
   ]
  },
  {
   "cell_type": "code",
   "execution_count": 379,
   "id": "a9df611c-b665-474a-ae61-672d027fdd31",
   "metadata": {},
   "outputs": [
    {
     "name": "stderr",
     "output_type": "stream",
     "text": [
      "WARNING:matplotlib.image:Clipping input data to the valid range for imshow with RGB data ([0..1] for floats or [0..255] for integers). Got range [-2.117904..2.3060222].\n"
     ]
    },
    {
     "data": {
      "image/png": "[encoded data removed]",
      "text/plain": [
       "<Figure size 800x200 with 4 Axes>"
      ]
     },
     "metadata": {},
     "output_type": "display_data"
    }
   ],
   "source": [
    "index = indexes[8]\n",
    "image_explanation(index, x_batch, y_batch, a_batch_saliency, a_batch_integrad, a_batch_smoothgrad, 'vgg_normal')"
   ]
  },
  {
   "cell_type": "markdown",
   "id": "0186b2c6-54b7-4a47-ab47-097420d3285d",
   "metadata": {},
   "source": [
    "# Adversarial Training VGG"
   ]
  },
  {
   "cell_type": "code",
   "execution_count": 435,
   "id": "3190b494-59e0-4c63-9178-5a0bfad67c69",
   "metadata": {},
   "outputs": [
    {
     "data": {
      "text/plain": [
       "<All keys matched successfully>"
      ]
     },
     "execution_count": 435,
     "metadata": {},
     "output_type": "execute_result"
    }
   ],
   "source": [
    "from pathlib import Path\n",
    "\n",
    "model_path = Path(\"models\")\n",
    "model_path.mkdir(parents=True, exist_ok=True)\n",
    "\n",
    "model_name = \"vgg_cifar_adv.pth\"\n",
    "model_save_path = model_path / model_name\n",
    "model_adv = vgg16().to(device)\n",
    "model_adv.load_state_dict(torch.load(model_save_path))"
   ]
  },
  {
   "cell_type": "code",
   "execution_count": 436,
   "id": "de507908-4a8e-435c-a25f-d76da5fedf3c",
   "metadata": {},
   "outputs": [
    {
     "name": "stdout",
     "output_type": "stream",
     "text": [
      "Test accuracy for VGG Adversarial is: 86.66%\n"
     ]
    }
   ],
   "source": [
    "# Model to GPU and eval mode.\n",
    "model_adv.to(device)\n",
    "model_adv.eval()\n",
    "\n",
    "# Check test set performance.\n",
    "predictions, labels = evaluate_model(model_adv, test_dataloader, device)\n",
    "test_acc = np.mean(np.argmax(predictions.cpu().numpy(), axis=1) == labels.cpu().numpy())        \n",
    "print(f\"Test accuracy for VGG Adversarial is: {(100 * test_acc):.2f}%\")"
   ]
  },
  {
   "cell_type": "code",
   "execution_count": 115,
   "id": "5c343dd2-8af5-4b9e-98f6-d749500d2f5d",
   "metadata": {},
   "outputs": [],
   "source": [
    "gc.collect()\n",
    "torch.cuda.empty_cache()\n",
    "\n",
    "x_batch, y_batch = torch.from_numpy(x_batch), torch.from_numpy(y_batch)\n",
    "x_batch, y_batch = x_batch.to(device), y_batch.to(device)"
   ]
  },
  {
   "cell_type": "code",
   "execution_count": 118,
   "id": "49cc5585-1801-4635-875b-64ead2a045c8",
   "metadata": {},
   "outputs": [],
   "source": [
    "# Applying explanation methods on the model outputs\n",
    "a_batch_integrad_adv = quantus.normalise_func.normalise_by_negative(IntegratedGradients(model_adv).attribute(inputs=x_batch, target=y_batch, baselines=torch.zeros_like(x_batch)).sum(axis=1).cpu().numpy())\n",
    "a_batch_integrad_adv[a_batch_integrad_adv<0] = 0\n",
    "a_batch_saliency_adv = quantus.normalise_func.normalise_by_negative(Saliency(model_adv).attribute(inputs=x_batch, target=y_batch, abs=True).sum(axis=1).cpu().numpy())\n",
    "saliency = Saliency(model_adv)\n",
    "a_batch_smoothgrad_adv = quantus.normalise_func.normalise_by_negative(NoiseTunnel(saliency).attribute(inputs = x_batch, target = y_batch, nt_type ='smoothgrad', nt_samples = 50, stdevs=0.15).sum(axis=1).cpu().numpy())\n",
    "x_batch, y_batch = x_batch.cpu().numpy(), y_batch.cpu().numpy()"
   ]
  },
  {
   "cell_type": "code",
   "execution_count": 123,
   "id": "52667fea-41c1-483e-a81c-77bf2770e2ab",
   "metadata": {},
   "outputs": [
    {
     "name": "stderr",
     "output_type": "stream",
     "text": [
      "Clipping input data to the valid range for imshow with RGB data ([0..1] for floats or [0..255] for integers). Got range [-2.117904..2.3060222].\n"
     ]
    },
    {
     "data": {
      "image/png": "[encoded data removed]",
      "text/plain": [
       "<Figure size 800x200 with 4 Axes>"
      ]
     },
     "metadata": {},
     "output_type": "display_data"
    }
   ],
   "source": [
    "image_explanation(index, x_batch, y_batch, a_batch_saliency_adv, a_batch_integrad_adv, a_batch_smoothgrad_adv, 'vgg_adversarial')"
   ]
  },
  {
   "cell_type": "markdown",
   "id": "42f5acaa-1248-4472-97b4-18d71317c69c",
   "metadata": {},
   "source": [
    "# Pruning L1 Unstructured VGG"
   ]
  },
  {
   "cell_type": "code",
   "execution_count": 437,
   "id": "ccbbdc3e-8401-4c4e-854a-fa37f43aa52b",
   "metadata": {},
   "outputs": [
    {
     "name": "stdout",
     "output_type": "stream",
     "text": [
      "VGG global sparsity = 19.65%\n"
     ]
    },
    {
     "data": {
      "text/plain": [
       "<All keys matched successfully>"
      ]
     },
     "execution_count": 437,
     "metadata": {},
     "output_type": "execute_result"
    }
   ],
   "source": [
    "from pathlib import Path\n",
    "\n",
    "model_path = Path(\"models\")\n",
    "model_path.mkdir(parents=True, exist_ok=True)\n",
    "\n",
    "model_name = \"vgg_cifar_l1_unstructured.pth\"\n",
    "model_save_path = model_path / model_name\n",
    "model_l1_unstructured = vgg16().to(device)\n",
    "\n",
    "for name, module in model_l1_unstructured.named_modules():\n",
    "    # prune 20% of weights/connections in for all hidden layaers-\n",
    "    if isinstance(module, torch.nn.Conv2d):\n",
    "        prune.l1_unstructured(module = module, name = 'weight', amount = 0.2)\n",
    "    \n",
    "    # prune 10% of weights/connections for output layer-\n",
    "    elif isinstance(module, torch.nn.Linear):\n",
    "        prune.l1_unstructured(module = module, name = 'weight', amount = 0.1)\n",
    "\n",
    "print(f\"VGG global sparsity = {compute_sparsity_vgg(model_l1_unstructured):.2f}%\")\n",
    "model_l1_unstructured.load_state_dict(torch.load(model_save_path))"
   ]
  },
  {
   "cell_type": "code",
   "execution_count": 438,
   "id": "3dc2bfc8-ffbf-4433-bfcc-2047b5e9c345",
   "metadata": {},
   "outputs": [
    {
     "name": "stdout",
     "output_type": "stream",
     "text": [
      "Test accuracy for VGG Pruned L1 UnStructure is: 86.57%\n"
     ]
    }
   ],
   "source": [
    "# Model to GPU and eval mode.\n",
    "model_l1_unstructured.to(device)\n",
    "model_l1_unstructured.eval()\n",
    "\n",
    "# Check test set performance.\n",
    "predictions, labels = evaluate_model(model_l1_unstructured, test_dataloader, device)\n",
    "test_acc = np.mean(np.argmax(predictions.cpu().numpy(), axis=1) == labels.cpu().numpy())        \n",
    "print(f\"Test accuracy for VGG Pruned L1 UnStructure is: {(100 * test_acc):.2f}%\")"
   ]
  },
  {
   "cell_type": "code",
   "execution_count": 133,
   "id": "9d660913-be7f-4099-9491-555b3194a62d",
   "metadata": {},
   "outputs": [],
   "source": [
    "gc.collect()\n",
    "torch.cuda.empty_cache()\n",
    "# x_batch, y_batch = next(iter(test_dataloader))\n",
    "x_batch, y_batch = torch.from_numpy(x_batch), torch.from_numpy(y_batch)\n",
    "x_batch, y_batch = x_batch.to(device), y_batch.to(device)"
   ]
  },
  {
   "cell_type": "code",
   "execution_count": 134,
   "id": "2338c2d7-3e1e-4067-9476-cad9c0785e3a",
   "metadata": {},
   "outputs": [],
   "source": [
    "# Applying explanation methods on the model outputs\n",
    "a_batch_integrad_l1 = IntegratedGradients(model_l1_unstructured).attribute(inputs=x_batch, target=y_batch, baselines=torch.zeros_like(x_batch)).sum(axis=1).cpu().numpy()\n",
    "a_batch_integrad_l1[a_batch_integrad_l1<0] = 0\n",
    "a_batch_saliency_l1 = Saliency(model_l1_unstructured).attribute(inputs=x_batch, target=y_batch, abs=True).sum(axis=1).cpu().numpy()\n",
    "saliency = Saliency(model_l1_unstructured)\n",
    "a_batch_smoothgrad_l1 = NoiseTunnel(saliency).attribute(inputs = x_batch, target = y_batch, nt_type ='smoothgrad', nt_samples = 50, stdevs=0.15).sum(axis=1).cpu().numpy()\n",
    "x_batch, y_batch = x_batch.cpu().numpy(), y_batch.cpu().numpy()"
   ]
  },
  {
   "cell_type": "code",
   "execution_count": 137,
   "id": "37db08ec-1534-4223-992d-4f778b7e8da8",
   "metadata": {},
   "outputs": [
    {
     "name": "stderr",
     "output_type": "stream",
     "text": [
      "Clipping input data to the valid range for imshow with RGB data ([0..1] for floats or [0..255] for integers). Got range [-2.117904..2.3060222].\n"
     ]
    },
    {
     "data": {
      "image/png": "[encoded data removed]",
      "text/plain": [
       "<Figure size 800x200 with 4 Axes>"
      ]
     },
     "metadata": {},
     "output_type": "display_data"
    }
   ],
   "source": [
    "image_explanation(index, x_batch, y_batch, a_batch_saliency_l1, a_batch_integrad_l1, a_batch_smoothgrad_l1, 'vgg_l1_unstructured')"
   ]
  },
  {
   "cell_type": "markdown",
   "id": "1e4f5526-2667-4efd-9b3e-5a932b663929",
   "metadata": {},
   "source": [
    "# Global Pruned VGG"
   ]
  },
  {
   "cell_type": "code",
   "execution_count": 439,
   "id": "ef47eebd-4fef-4b44-847b-a4f434b645d0",
   "metadata": {},
   "outputs": [
    {
     "name": "stdout",
     "output_type": "stream",
     "text": [
      "\n",
      "\n",
      "Iterative Global pruning round = 1\n",
      "VGG global sparsity = 20.00%\n"
     ]
    },
    {
     "data": {
      "text/plain": [
       "<All keys matched successfully>"
      ]
     },
     "execution_count": 439,
     "metadata": {},
     "output_type": "execute_result"
    }
   ],
   "source": [
    "from pathlib import Path\n",
    "\n",
    "prune_rates_global = [0.2, 0.3, 0.4, 0.5, 0.6]\n",
    "\n",
    "model_path = Path(\"models\")\n",
    "model_path.mkdir(parents=True, exist_ok=True)\n",
    "\n",
    "model_name = \"vgg_cifar_global.pth\"\n",
    "model_save_path = model_path / model_name\n",
    "model_global = vgg16().to(device)\n",
    "\n",
    "parameters_to_prune = (\n",
    "    (model_global.features[0], 'weight'),\n",
    "    (model_global.features[2], 'weight'),\n",
    "    (model_global.features[5], 'weight'),\n",
    "    (model_global.features[7], 'weight'),\n",
    "    (model_global.features[10], 'weight'),\n",
    "    (model_global.features[12], 'weight'),\n",
    "    (model_global.features[14], 'weight'),\n",
    "    (model_global.features[17], 'weight'),\n",
    "    (model_global.features[19], 'weight'),\n",
    "    (model_global.features[21], 'weight'),\n",
    "    (model_global.features[24], 'weight'),\n",
    "    (model_global.features[26], 'weight'),\n",
    "    (model_global.features[28], 'weight'),\n",
    "    (model_global.classifier[1], 'weight'),\n",
    "    (model_global.classifier[4], 'weight'),\n",
    "    (model_global.classifier[6], 'weight')\n",
    ")\n",
    "\n",
    "for iter_prune_round in range(1):\n",
    "    print(f\"\\n\\nIterative Global pruning round = {iter_prune_round + 1}\")\n",
    "    \n",
    "    # Prune layer-wise in a structured manner-\n",
    "    prune.global_unstructured(\n",
    "        parameters_to_prune,\n",
    "        pruning_method = prune.L1Unstructured,\n",
    "        amount = prune_rates_global[iter_prune_round]\n",
    "        \n",
    "    )\n",
    "\n",
    "    # Print current global sparsity level-\n",
    "    print(f\"VGG global sparsity = {compute_sparsity_vgg(model_global):.2f}%\")\n",
    "\n",
    "        \n",
    "model_global.load_state_dict(torch.load(model_save_path))"
   ]
  },
  {
   "cell_type": "code",
   "execution_count": 440,
   "id": "499d5aab-9000-4824-a01d-51eb1cb829c3",
   "metadata": {},
   "outputs": [
    {
     "name": "stdout",
     "output_type": "stream",
     "text": [
      "Test accuracy for VGG Pruned Global is: 83.46%\n"
     ]
    }
   ],
   "source": [
    "# Model to GPU and eval mode.\n",
    "model_global.to(device)\n",
    "model_global.eval()\n",
    "\n",
    "# Check test set performance.\n",
    "predictions, labels = evaluate_model(model_global, test_dataloader, device)\n",
    "test_acc = np.mean(np.argmax(predictions.cpu().numpy(), axis=1) == labels.cpu().numpy())        \n",
    "print(f\"Test accuracy for VGG Pruned Global is: {(100 * test_acc):.2f}%\")"
   ]
  },
  {
   "cell_type": "code",
   "execution_count": 142,
   "id": "9e44b841-8ccb-439e-b8ae-d01e9dc97614",
   "metadata": {},
   "outputs": [],
   "source": [
    "gc.collect()\n",
    "torch.cuda.empty_cache()\n",
    "# x_batch, y_batch = next(iter(test_dataloader))\n",
    "x_batch, y_batch = torch.from_numpy(x_batch), torch.from_numpy(y_batch)\n",
    "x_batch, y_batch = x_batch.to(device), y_batch.to(device)"
   ]
  },
  {
   "cell_type": "code",
   "execution_count": 144,
   "id": "f41c8b07-486c-46f7-aab6-30ede2616f53",
   "metadata": {},
   "outputs": [],
   "source": [
    "# Applying explanation methods on the model outputs\n",
    "a_batch_integrad_global = IntegratedGradients(model_global).attribute(inputs=x_batch, target=y_batch, baselines=torch.zeros_like(x_batch)).sum(axis=1).cpu().numpy()\n",
    "a_batch_integrad_global[a_batch_integrad_global<0] = 0\n",
    "a_batch_saliency_global =Saliency(model_global).attribute(inputs=x_batch, target=y_batch, abs=True).sum(axis=1).cpu().numpy()\n",
    "saliency = Saliency(model_global)\n",
    "a_batch_smoothgrad_global = NoiseTunnel(saliency).attribute(inputs = x_batch, target = y_batch, nt_type ='smoothgrad', nt_samples = 50, stdevs=0.15).sum(axis=1).cpu().numpy()\n",
    "\n",
    "x_batch, y_batch = x_batch.cpu().numpy(), y_batch.cpu().numpy()"
   ]
  },
  {
   "cell_type": "code",
   "execution_count": 145,
   "id": "b220b127-c5f7-451b-8e87-fcacf208dd69",
   "metadata": {},
   "outputs": [
    {
     "name": "stderr",
     "output_type": "stream",
     "text": [
      "Clipping input data to the valid range for imshow with RGB data ([0..1] for floats or [0..255] for integers). Got range [-2.117904..2.3060222].\n"
     ]
    },
    {
     "data": {
      "image/png": "[encoded data removed]",
      "text/plain": [
       "<Figure size 800x200 with 4 Axes>"
      ]
     },
     "metadata": {},
     "output_type": "display_data"
    }
   ],
   "source": [
    "image_explanation(index, x_batch, y_batch, a_batch_saliency_global, a_batch_integrad_global, a_batch_smoothgrad_global, 'vgg_global')"
   ]
  },
  {
   "cell_type": "markdown",
   "id": "8fa97d6c-e30a-4399-b2d8-d20e6ee264fc",
   "metadata": {},
   "source": [
    "# Pruning Layered Structured VGG"
   ]
  },
  {
   "cell_type": "code",
   "execution_count": 441,
   "id": "7b8c2c1d-4ef1-4fac-be9c-e0b47c6f35f3",
   "metadata": {},
   "outputs": [
    {
     "name": "stdout",
     "output_type": "stream",
     "text": [
      "VGG global sparsity = 9.98%\n"
     ]
    },
    {
     "data": {
      "text/plain": [
       "<All keys matched successfully>"
      ]
     },
     "execution_count": 441,
     "metadata": {},
     "output_type": "execute_result"
    }
   ],
   "source": [
    "from pathlib import Path\n",
    "\n",
    "model_path = Path(\"models\")\n",
    "model_path.mkdir(parents=True, exist_ok=True)\n",
    "\n",
    "model_name = \"vgg_cifar_structured.pth\"\n",
    "model_save_path = model_path / model_name\n",
    "model_structured = vgg16().to(device)\n",
    "\n",
    "# # Prune layer-wise in a structured manner-\n",
    "prune.ln_structured(model_structured.features[0], name = \"weight\", amount = 0.1, n = 2, dim = 0)\n",
    "prune.ln_structured(model_structured.features[2], name = \"weight\", amount = 0.1, n = 2, dim = 0)\n",
    "prune.ln_structured(model_structured.features[5], name = \"weight\", amount = 0.1, n = 2, dim = 0)\n",
    "prune.ln_structured(model_structured.features[7], name = \"weight\", amount = 0.1, n = 2, dim = 0)\n",
    "prune.ln_structured(model_structured.features[10], name = \"weight\", amount = 0.1, n = 2, dim = 0)\n",
    "prune.ln_structured(model_structured.features[12], name = \"weight\", amount = 0.1, n = 2, dim = 0)\n",
    "prune.ln_structured(model_structured.features[14], name = \"weight\", amount = 0.1, n = 2, dim = 0)\n",
    "prune.ln_structured(model_structured.features[17], name = \"weight\", amount = 0.1, n = 2, dim = 0)\n",
    "prune.ln_structured(model_structured.features[19], name = \"weight\", amount = 0.1, n = 2, dim = 0)\n",
    "prune.ln_structured(model_structured.features[21], name = \"weight\", amount = 0.1, n = 2, dim = 0)\n",
    "prune.ln_structured(model_structured.features[24], name = \"weight\", amount = 0.1, n = 2, dim = 0)\n",
    "prune.ln_structured(model_structured.features[26], name = \"weight\", amount = 0.1, n = 2, dim = 0)\n",
    "prune.ln_structured(model_structured.features[28], name = \"weight\", amount = 0.1, n = 2, dim = 0)\n",
    "prune.ln_structured(model_structured.classifier[1], name = \"weight\", amount = 0.1, n = 2, dim = 0)\n",
    "prune.ln_structured(model_structured.classifier[4], name = \"weight\", amount = 0.1, n = 2, dim = 0)\n",
    "prune.ln_structured(model_structured.classifier[6], name = \"weight\", amount = 0.1, n = 2, dim = 0)\n",
    "\n",
    "# Print current global sparsity level-\n",
    "print(f\"VGG global sparsity = {compute_sparsity_vgg(model_structured):.2f}%\")\n",
    "\n",
    "model_structured.load_state_dict(torch.load(model_save_path))\n"
   ]
  },
  {
   "cell_type": "code",
   "execution_count": 442,
   "id": "5157f271-27bf-41f6-8b3b-35e62d9d73df",
   "metadata": {},
   "outputs": [
    {
     "name": "stdout",
     "output_type": "stream",
     "text": [
      "Pruned VGG model has 15244708 trainable parameters\n"
     ]
    }
   ],
   "source": [
    "new_params = count_params(model_structured)\n",
    "print(f\"Pruned VGG model has {new_params} trainable parameters\")"
   ]
  },
  {
   "cell_type": "code",
   "execution_count": 443,
   "id": "a2a5c303-9d73-4174-ba57-97dad27aee2d",
   "metadata": {},
   "outputs": [
    {
     "name": "stdout",
     "output_type": "stream",
     "text": [
      "Test accuracy for VGG Pruned Layered Structure is: 86.17%\n"
     ]
    }
   ],
   "source": [
    "# Model to GPU and eval mode.\n",
    "model_structured.to(device)\n",
    "model_structured.eval()\n",
    "\n",
    "# Check test set performance.\n",
    "predictions, labels = evaluate_model(model_structured, test_dataloader, device)\n",
    "test_acc = np.mean(np.argmax(predictions.cpu().numpy(), axis=1) == labels.cpu().numpy())        \n",
    "print(f\"Test accuracy for VGG Pruned Layered Structure is: {(100 * test_acc):.2f}%\")"
   ]
  },
  {
   "cell_type": "code",
   "execution_count": 148,
   "id": "d1657268-3497-4e30-a32d-1d7d5c0e0bb5",
   "metadata": {},
   "outputs": [],
   "source": [
    "gc.collect()\n",
    "torch.cuda.empty_cache()\n",
    "# x_batch, y_batch = next(iter(test_dataloader))\n",
    "x_batch, y_batch = torch.from_numpy(x_batch), torch.from_numpy(y_batch)\n",
    "x_batch, y_batch = x_batch.to(device), y_batch.to(device)"
   ]
  },
  {
   "cell_type": "code",
   "execution_count": 149,
   "id": "408671ab-8f5a-48d6-a024-9a34b8482192",
   "metadata": {},
   "outputs": [],
   "source": [
    "# Applying explanation methods on the model outputs\n",
    "a_batch_integrad_structured = IntegratedGradients(model_structured).attribute(inputs=x_batch, target=y_batch, baselines=torch.zeros_like(x_batch)).sum(axis=1).cpu().numpy()\n",
    "a_batch_integrad_structured[a_batch_integrad_structured<0] = 0\n",
    "a_batch_saliency_structured = Saliency(model_structured).attribute(inputs=x_batch, target=y_batch, abs=True).sum(axis=1).cpu().numpy()\n",
    "saliency = Saliency(model_structured)\n",
    "a_batch_smoothgrad_structured = NoiseTunnel(saliency).attribute(inputs = x_batch, target = y_batch, nt_type ='smoothgrad', nt_samples = 50, stdevs=0.15).sum(axis=1).cpu().numpy()\n",
    "\n",
    "x_batch, y_batch = x_batch.cpu().numpy(), y_batch.cpu().numpy()"
   ]
  },
  {
   "cell_type": "code",
   "execution_count": 155,
   "id": "2d6e44a1-de3c-4ed8-8afa-81b1454721a1",
   "metadata": {},
   "outputs": [
    {
     "name": "stderr",
     "output_type": "stream",
     "text": [
      "Clipping input data to the valid range for imshow with RGB data ([0..1] for floats or [0..255] for integers). Got range [-2.117904..2.3060222].\n"
     ]
    },
    {
     "data": {
      "image/png": "[encoded data removed]",
      "text/plain": [
       "<Figure size 800x200 with 4 Axes>"
      ]
     },
     "metadata": {},
     "output_type": "display_data"
    }
   ],
   "source": [
    "image_explanation(index, x_batch, y_batch, a_batch_saliency_structured, a_batch_integrad_structured, a_batch_smoothgrad_structured, 'vgg_layered_structure')"
   ]
  },
  {
   "cell_type": "markdown",
   "id": "6c7216d0-cf06-466f-9b0c-66f13cffb8ab",
   "metadata": {},
   "source": [
    "# Quantitative Metrics Explanation"
   ]
  },
  {
   "cell_type": "code",
   "execution_count": 466,
   "id": "4239b6d3-b8b1-41a5-9de6-e2ed1dd1a391",
   "metadata": {},
   "outputs": [],
   "source": [
    "def explainer_wrapper(**kwargs):\n",
    "    \"\"\"\n",
    "    A wrapper function to call the appropriate explanation method.\n",
    "\n",
    "    \"\"\"\n",
    "    if kwargs[\"method\"] == \"SmoothGrad\":\n",
    "        return smoothgrad_explainer(**kwargs)\n",
    "    else:\n",
    "        return ValueError(\"Explanation function doesnt exist\")\n",
    "\n",
    "\n",
    "\n",
    "def smoothgrad_explainer(model, inputs, targets, abs=True, normalise=True, stdevs=0.15, nt_samples=10, *args, **kwargs):\n",
    "    \"\"\"\n",
    "    Generate explanations for a model's predictions using the SmoothGrad method.\n",
    "\n",
    "    Args:\n",
    "        model: The model to explain.\n",
    "        inputs : Input samples.\n",
    "        targets: Target labels corresponding to the inputs.\n",
    "        abs : Whether to use the absolute value of gradients.\n",
    "        normalise: Whether to normalize the explanation\n",
    "        stdevs: Standard deviation of the noise added to inputs\n",
    "        nt_samples: Number of noisy samples to generate for SmoothGrad.\n",
    "\n",
    "    Returns:\n",
    "        numpy.ndarray: Explanation maps for the input samples.\n",
    "    \"\"\"\n",
    "    std = kwargs.get(\"std\", 0.15)  # Standard deviation for input noise\n",
    "    n = kwargs.get(\"n\", 10)  # Number of noisy samples\n",
    "    clip = kwargs.get(\"clip\", False)\n",
    "\n",
    "    model.to(kwargs.get(\"device\", None))\n",
    "    model.eval()\n",
    "\n",
    "    if not isinstance(inputs, torch.Tensor):\n",
    "        inputs = (\n",
    "            torch.Tensor(inputs).reshape(-1,kwargs.get(\"nr_channels\", 3),kwargs.get(\"img_size\", 32),kwargs.get(\"img_size\", 32),).to(kwargs.get(\"device\", None))\n",
    "        )\n",
    "    \n",
    "    if not isinstance(targets, torch.Tensor):\n",
    "        targets = torch.as_tensor(targets).long().to(kwargs.get(\"device\", None))\n",
    "\n",
    "    assert (len(np.shape(inputs)) == 4), \"Inputs should be shaped (nr_samples, nr_channels, img_size, img_size\"\n",
    "\n",
    "    if inputs.shape[0] > 1:\n",
    "        explanation = torch.zeros(\n",
    "            (\n",
    "                n,\n",
    "                inputs.shape[0],\n",
    "                kwargs.get(\"img_size\", 32),\n",
    "                kwargs.get(\"img_size\", 32),\n",
    "            )\n",
    "        )\n",
    "    else:\n",
    "        explanation = torch.zeros(\n",
    "            (n, kwargs.get(\"img_size\", 32), kwargs.get(\"img_size\", 32))\n",
    "        )\n",
    "    saliency = Saliency(model)\n",
    "    \n",
    "    explanation = (\n",
    "        NoiseTunnel(saliency)\n",
    "        .attribute(inputs=inputs, target=targets, nt_type=\"smoothgrad\", stdevs = stdevs, nt_samples= 10)\n",
    "        .sum(axis=1)\n",
    "        .reshape(-1, kwargs.get(\"img_size\", 32), kwargs.get(\"img_size\", 32))\n",
    "        .cpu()\n",
    "        .data\n",
    "    )\n",
    "\n",
    "    # explanation = explanation.mean(axis=0)\n",
    "    gc.collect()\n",
    "    torch.cuda.empty_cache()\n",
    "\n",
    "    explanation = explanation.numpy()\n",
    "    # Normalization (if required)\n",
    "    if normalise:\n",
    "        explanation = quantus.normalise_func.normalise_by_negative(explanation)\n",
    "\n",
    "    # Convert the result to NumPy if it is still a PyTorch tensor\n",
    "    if isinstance(explanation, torch.Tensor):\n",
    "        if explanation.requires_grad:\n",
    "            return explanation.cpu().detach().numpy()\n",
    "        return explanation.cpu().numpy()\n",
    "\n",
    "    return explanation"
   ]
  },
  {
   "cell_type": "code",
   "execution_count": 160,
   "id": "d6dcf904-de1c-48dd-b435-1883e72d7de9",
   "metadata": {},
   "outputs": [],
   "source": [
    "xai_method=[\"SmoothGrad\"]"
   ]
  },
  {
   "cell_type": "code",
   "execution_count": 162,
   "id": "0f4c28eb-ab15-490f-a40f-ca84ec650503",
   "metadata": {},
   "outputs": [],
   "source": [
    "gc.collect()\n",
    "torch.cuda.empty_cache()"
   ]
  },
  {
   "cell_type": "markdown",
   "id": "52cad8e5-3cec-4892-b3ac-1124d6b2dc14",
   "metadata": {},
   "source": [
    "# ROAD VANILLA GRADIENT"
   ]
  },
  {
   "cell_type": "code",
   "execution_count": 99,
   "id": "9acbe7cd-769b-4521-a920-d6b16503180f",
   "metadata": {},
   "outputs": [],
   "source": [
    "result_normal = filter_and_compute_road(model, test_dataloader, \"Saliency\", device, resnet = False)"
   ]
  },
  {
   "cell_type": "code",
   "execution_count": 100,
   "id": "44401add-c4cc-4838-b748-cc1706da41eb",
   "metadata": {},
   "outputs": [],
   "source": [
    "result_adv = filter_and_compute_road(model_adv, test_dataloader,\"Saliency\", device, resnet = False)"
   ]
  },
  {
   "cell_type": "code",
   "execution_count": 101,
   "id": "fd656483-a020-4efa-8d9d-002dd42b14d8",
   "metadata": {},
   "outputs": [],
   "source": [
    "result_l1 = filter_and_compute_road(model_l1_unstructured, test_dataloader,\"Saliency\", device, resnet = False)"
   ]
  },
  {
   "cell_type": "code",
   "execution_count": 102,
   "id": "18ee5eaa-3d6c-47bf-8e10-f34020f8bc02",
   "metadata": {},
   "outputs": [],
   "source": [
    "result_global = filter_and_compute_road(model_global, test_dataloader,\"Saliency\", device, resnet = False)"
   ]
  },
  {
   "cell_type": "code",
   "execution_count": 103,
   "id": "efa92cc7-bf05-4ef8-abf7-3aca35a02a3d",
   "metadata": {},
   "outputs": [],
   "source": [
    "result_structured = filter_and_compute_road(model_structured, test_dataloader,\"Saliency\", device, resnet = False)"
   ]
  },
  {
   "cell_type": "code",
   "execution_count": null,
   "id": "077c7d82-bd00-4707-a916-d931b369c017",
   "metadata": {},
   "outputs": [],
   "source": [
    "import matplotlib.pyplot as plt\n",
    "import pandas as pd\n",
    "\n",
    "# Plot setup\n",
    "fig, ax = plt.subplots(figsize=(4, 3))\n",
    "\n",
    "ax.plot(list(result_normal.keys()),list(result_normal.values()), label='Natural', linestyle='-', marker='o', linewidth=2)\n",
    "ax.plot(list(result_normal.keys()), list(result_adv.values()), label='Adversarial', linestyle='--', marker='s', linewidth=2)\n",
    "ax.plot(list(result_normal.keys()), list(result_l1.values()), label='L1 Unstructured', linestyle='--', marker='^', linewidth=2)\n",
    "ax.plot(list(result_normal.keys()), list(result_global.values()), label='Global Pruned', linestyle='--', marker='v', linewidth=2)\n",
    "ax.plot(list(result_normal.keys()), list(result_structured.values()), label='Layered Structured', linestyle='--', marker='D', linewidth=2)\n",
    "\n",
    "# Customize the plot\n",
    "ax.set_xlabel('% of Features Removed', fontsize=10)\n",
    "ax.set_ylabel('Accuracy', fontsize=10)\n",
    "ax.legend(fontsize=10)\n",
    "\n",
    "# Grid and ticks\n",
    "ax.grid(True, which='both', linestyle='--', linewidth=0.5)\n",
    "ax.tick_params(axis='both', which='major', labelsize=10)\n",
    "\n",
    "plt.savefig(\"roadplots/VGG_CIFAR_SALIENCY_ROAD.pdf\", format=\"pdf\", dpi=300, bbox_inches=\"tight\")\n",
    "plt.show()"
   ]
  },
  {
   "cell_type": "code",
   "execution_count": 102,
   "id": "a67f61cf-44dd-41df-b103-1cb6bb3a1d71",
   "metadata": {},
   "outputs": [],
   "source": [
    "gc.collect()\n",
    "torch.cuda.empty_cache()"
   ]
  },
  {
   "cell_type": "markdown",
   "id": "f01291cd-f7db-4c6f-86ff-d39443e59b60",
   "metadata": {},
   "source": [
    "# ROAD INTEGRATED GRADIENTS"
   ]
  },
  {
   "cell_type": "code",
   "execution_count": 104,
   "id": "17b47571-827d-48d5-b9db-ac68e75324d0",
   "metadata": {},
   "outputs": [],
   "source": [
    "result_normal_ig = filter_and_compute_road(model, test_dataloader,\"IntegratedGradients\", device, resnet = False)"
   ]
  },
  {
   "cell_type": "code",
   "execution_count": 105,
   "id": "7bca70c6-553f-4446-943f-8b31c56c8b05",
   "metadata": {},
   "outputs": [],
   "source": [
    "result_adv_ig = filter_and_compute_road(model_adv, test_dataloader,\"IntegratedGradients\", device, resnet = False)"
   ]
  },
  {
   "cell_type": "code",
   "execution_count": 119,
   "id": "414fa14a-d2a6-46c3-9cc3-07349c827ea5",
   "metadata": {},
   "outputs": [],
   "source": [
    "result_l1_ig = filter_and_compute_road(model_l1_unstructured, test_dataloader,\"IntegratedGradients\", device, resnet = False)"
   ]
  },
  {
   "cell_type": "code",
   "execution_count": 106,
   "id": "f8c7ffc6-bda8-4eac-80b1-de644f169568",
   "metadata": {},
   "outputs": [],
   "source": [
    "result_global_ig = filter_and_compute_road(model_global, test_dataloader,\"IntegratedGradients\", device, resnet = False)"
   ]
  },
  {
   "cell_type": "code",
   "execution_count": 121,
   "id": "525e254c-2790-4ee2-b0a0-ca0442f85659",
   "metadata": {},
   "outputs": [],
   "source": [
    "result_structured_ig = filter_and_compute_road(model_structured, test_dataloader,\"IntegratedGradients\", device, resnet = False)"
   ]
  },
  {
   "cell_type": "code",
   "execution_count": 112,
   "id": "d43218db-00d6-4312-baa8-c2e9b2e6464e",
   "metadata": {},
   "outputs": [
    {
     "data": {
      "image/png": "[encoded data removed]",
      "text/plain": [
       "<Figure size 400x300 with 1 Axes>"
      ]
     },
     "metadata": {},
     "output_type": "display_data"
    }
   ],
   "source": [
    "import matplotlib.pyplot as plt\n",
    "import pandas as pd\n",
    "\n",
    "# Plot setup\n",
    "fig, ax = plt.subplots(figsize=(4, 3))\n",
    "\n",
    "ax.plot(list(result_normal_ig.keys()),list(result_normal_ig.values()), label='Natural', linestyle='-', marker='o', linewidth=2)\n",
    "ax.plot(list(result_normal_ig.keys()), list(result_adv_ig.values()), label='Adversarial', linestyle='--', marker='s', linewidth=2)\n",
    "ax.plot(list(result_normal_ig.keys()), list(result_l1_ig.values()), label='L1 Unstructured', linestyle='--', marker='^', linewidth=2)\n",
    "ax.plot(list(result_normal_ig.keys()), list(result_global_ig.values()), label='Global Pruned', linestyle='--', marker='v', linewidth=2)\n",
    "ax.plot(list(result_normal_ig.keys()), list(result_structured_ig.values()), label='Layered Structured', linestyle='--', marker='D', linewidth=2)\n",
    "\n",
    "# Customize the plot\n",
    "ax.set_xlabel('% of Features Removed', fontsize=10)\n",
    "ax.set_ylabel('Accuracy', fontsize=10)\n",
    "ax.legend(fontsize=10)\n",
    "\n",
    "# Grid and ticks\n",
    "ax.grid(True, which='both', linestyle='--', linewidth=0.5)\n",
    "ax.tick_params(axis='both', which='major', labelsize=10)\n",
    "\n",
    "plt.savefig(\"roadplots/VGG_CIFAR_IG_ROAD.pdf\", format=\"pdf\", dpi=300, bbox_inches=\"tight\")\n",
    "plt.show()"
   ]
  },
  {
   "cell_type": "markdown",
   "id": "3c006342-6535-46a8-93fe-ed58c31367a3",
   "metadata": {},
   "source": [
    "# ROAD SMOOTHGRAD"
   ]
  },
  {
   "cell_type": "code",
   "execution_count": 131,
   "id": "b39e0935-2c19-4671-a8e4-168d6ed5fa35",
   "metadata": {},
   "outputs": [],
   "source": [
    "gc.collect()\n",
    "torch.cuda.empty_cache()"
   ]
  },
  {
   "cell_type": "code",
   "execution_count": 133,
   "id": "2219d234-c85b-41ba-a1ae-67ed283acde8",
   "metadata": {},
   "outputs": [],
   "source": [
    "result_normal_smooth = filter_and_compute_road(model, test_dataloader, \"SmoothGrad\", device, resnet = False)"
   ]
  },
  {
   "cell_type": "code",
   "execution_count": 134,
   "id": "89ed5a14-3ed5-400c-a7e2-37d26d377618",
   "metadata": {},
   "outputs": [],
   "source": [
    "result_adv_smooth = filter_and_compute_road(model_adv, test_dataloader,\"SmoothGrad\",  device, resnet = False)"
   ]
  },
  {
   "cell_type": "code",
   "execution_count": 135,
   "id": "c0648727-ca1c-404e-af54-f96d968fc683",
   "metadata": {},
   "outputs": [],
   "source": [
    "result_l1_smooth = filter_and_compute_road(model_l1_unstructured, test_dataloader,\"SmoothGrad\",  device, resnet = False)"
   ]
  },
  {
   "cell_type": "code",
   "execution_count": 136,
   "id": "64717533-bc03-4792-8c44-73df7d6980b0",
   "metadata": {},
   "outputs": [],
   "source": [
    "result_global_smooth = filter_and_compute_road(model_global, test_dataloader,\"SmoothGrad\",  device, resnet = False)"
   ]
  },
  {
   "cell_type": "code",
   "execution_count": 137,
   "id": "200de55f-46c7-49b1-b856-bbd5ac9a708f",
   "metadata": {},
   "outputs": [],
   "source": [
    "result_structured_smooth = filter_and_compute_road(model_structured, test_dataloader,\"SmoothGrad\",  device, resnet = False)"
   ]
  },
  {
   "cell_type": "code",
   "execution_count": 138,
   "id": "6f71819c-df31-432c-9524-3083c7f44881",
   "metadata": {},
   "outputs": [
    {
     "data": {
      "image/png": "[encoded data removed]",
      "text/plain": [
       "<Figure size 400x300 with 1 Axes>"
      ]
     },
     "metadata": {},
     "output_type": "display_data"
    }
   ],
   "source": [
    "import matplotlib.pyplot as plt\n",
    "import pandas as pd\n",
    "\n",
    "# Plot setup\n",
    "fig, ax = plt.subplots(figsize=(4, 3))\n",
    "\n",
    "ax.plot(list(result_normal_smooth.keys()),list(result_normal_smooth.values()), label='Natural', linestyle='-', marker='o', linewidth=2)\n",
    "ax.plot(list(result_normal_smooth.keys()), list(result_adv_smooth.values()), label='Adversarial', linestyle='--', marker='s', linewidth=2)\n",
    "ax.plot(list(result_normal_smooth.keys()), list(result_l1_smooth.values()), label='L1 Unstructured', linestyle='--', marker='^', linewidth=2)\n",
    "ax.plot(list(result_normal_smooth.keys()), list(result_global_smooth.values()), label='Global', linestyle='--', marker='v', linewidth=2)\n",
    "ax.plot(list(result_normal_smooth.keys()), list(result_structured_smooth.values()), label='Layered Structured', linestyle='--', marker='D', linewidth=2)\n",
    "\n",
    "# Customize the plot\n",
    "ax.set_xlabel('% of Features Removed', fontsize=10)\n",
    "ax.set_ylabel('Accuracy', fontsize=10)\n",
    "ax.legend(fontsize=10)\n",
    "\n",
    "# Grid and ticks\n",
    "ax.grid(True, which='both', linestyle='--', linewidth=0.5)\n",
    "ax.tick_params(axis='both', which='major', labelsize=10)\n",
    "\n",
    "plt.savefig(\"roadplots/VGG_CIFAR_SMOOTH_ROAD.pdf\", format=\"pdf\", dpi=300, bbox_inches=\"tight\")\n",
    "plt.show()"
   ]
  },
  {
   "cell_type": "markdown",
   "id": "4dc31e5c-7fb3-4559-b103-d10a97159786",
   "metadata": {},
   "source": [
    "# INPUT STABILITY VANILLA GRADIENT"
   ]
  },
  {
   "cell_type": "code",
   "execution_count": 147,
   "id": "eec2f331-7313-47f1-b322-1e1148d4430f",
   "metadata": {},
   "outputs": [],
   "source": [
    "gc.collect()\n",
    "torch.cuda.empty_cache()"
   ]
  },
  {
   "cell_type": "code",
   "execution_count": 149,
   "id": "70ca9653-6b92-42e1-9a1c-034274235d91",
   "metadata": {},
   "outputs": [
    {
     "name": "stdout",
     "output_type": "stream",
     "text": [
      "The relative input stability score is:  0.006020467109046703\n"
     ]
    }
   ],
   "source": [
    "normal_input_saliency = filter_and_compute_input_stability(model, test_dataloader,\"Saliency\", device, resnet = False)\n",
    "print(\"The relative input stability score is: \", normal_input_saliency)"
   ]
  },
  {
   "cell_type": "code",
   "execution_count": 150,
   "id": "86b1ca86-f885-4a7b-93eb-275520ae3c03",
   "metadata": {},
   "outputs": [
    {
     "name": "stdout",
     "output_type": "stream",
     "text": [
      "The relative input stability score is:  -0.19088814335252208\n"
     ]
    }
   ],
   "source": [
    "adversarial_input_saliency = filter_and_compute_input_stability(model_adv, test_dataloader,\"Saliency\", device, resnet = False)\n",
    "print(\"The relative input stability score is: \", adversarial_input_saliency)"
   ]
  },
  {
   "cell_type": "code",
   "execution_count": 151,
   "id": "c6f11181-9b31-4645-9db8-fe65d6f4a058",
   "metadata": {},
   "outputs": [
    {
     "name": "stdout",
     "output_type": "stream",
     "text": [
      "The relative input stability score is:  0.017227563205190668\n"
     ]
    }
   ],
   "source": [
    "l1_input_saliency =  filter_and_compute_input_stability(model_l1_unstructured, test_dataloader,\"Saliency\", device, resnet = False)\n",
    "print(\"The relative input stability score is: \", l1_input_saliency)"
   ]
  },
  {
   "cell_type": "code",
   "execution_count": 152,
   "id": "7f200618-63ae-4b0c-85bf-f09afe3a6124",
   "metadata": {},
   "outputs": [
    {
     "name": "stdout",
     "output_type": "stream",
     "text": [
      "The relative input stability score is:  -0.056781665336414204\n"
     ]
    }
   ],
   "source": [
    "global_input_saliency = filter_and_compute_input_stability(model_global, test_dataloader,\"Saliency\", device, resnet = False)\n",
    "print(\"The relative input stability score is: \", global_input_saliency)"
   ]
  },
  {
   "cell_type": "code",
   "execution_count": 153,
   "id": "b0da7ad0-b24f-419f-a3d2-07fe3e0859b0",
   "metadata": {},
   "outputs": [
    {
     "name": "stdout",
     "output_type": "stream",
     "text": [
      "The relative input stability score is:  -0.09984659905272394\n"
     ]
    }
   ],
   "source": [
    "layered_input_saliency = filter_and_compute_input_stability(model_structured, test_dataloader,\"Saliency\", device, resnet = False)\n",
    "print(\"The relative input stability score is: \", layered_input_saliency)"
   ]
  },
  {
   "cell_type": "markdown",
   "id": "e1c56bf5-4e3d-4707-aece-464cf584759b",
   "metadata": {},
   "source": [
    "# INPUT STABILITY INTEGRATED GRADIENTS"
   ]
  },
  {
   "cell_type": "code",
   "execution_count": 154,
   "id": "70592afe-050f-4c2e-aedf-987ca0531bdc",
   "metadata": {},
   "outputs": [],
   "source": [
    "gc.collect()\n",
    "torch.cuda.empty_cache()"
   ]
  },
  {
   "cell_type": "code",
   "execution_count": 155,
   "id": "355bb45b-bd33-451e-9266-a8664fd48f4e",
   "metadata": {},
   "outputs": [
    {
     "name": "stdout",
     "output_type": "stream",
     "text": [
      "The relative input stability score is:  2.08685847840643\n"
     ]
    }
   ],
   "source": [
    "normal_input_ig  = filter_and_compute_input_stability(model, test_dataloader,\"IntegratedGradients\", device, resnet = False)\n",
    "print(\"The relative input stability score is: \", normal_input_ig)"
   ]
  },
  {
   "cell_type": "code",
   "execution_count": 156,
   "id": "23df9932-32a2-439a-96aa-58092273e76d",
   "metadata": {},
   "outputs": [
    {
     "name": "stdout",
     "output_type": "stream",
     "text": [
      "The relative input stability score is:  1.8853065110077558\n"
     ]
    }
   ],
   "source": [
    "adversarial_input_ig = filter_and_compute_input_stability(model_adv, test_dataloader,\"IntegratedGradients\", device, resnet = False)\n",
    "print(\"The relative input stability score is: \", adversarial_input_ig)"
   ]
  },
  {
   "cell_type": "code",
   "execution_count": 157,
   "id": "a05ccb0a-4fe7-4369-9ae1-7961022a3106",
   "metadata": {},
   "outputs": [
    {
     "name": "stdout",
     "output_type": "stream",
     "text": [
      "The relative input stability score is:  2.0145407055629363\n"
     ]
    }
   ],
   "source": [
    "l1_input_ig = filter_and_compute_input_stability(model_l1_unstructured, test_dataloader,\"IntegratedGradients\", device, resnet = False)\n",
    "print(\"The relative input stability score is: \",l1_input_ig)"
   ]
  },
  {
   "cell_type": "code",
   "execution_count": 158,
   "id": "dc69fe71-68a7-4ae0-9e1b-b34e9aa592a7",
   "metadata": {},
   "outputs": [
    {
     "name": "stdout",
     "output_type": "stream",
     "text": [
      "The relative input stability score is:  1.961932222014994\n"
     ]
    }
   ],
   "source": [
    "global_input_ig = filter_and_compute_input_stability(model_global, test_dataloader,\"IntegratedGradients\", device, resnet = False)\n",
    "print(\"The relative input stability score is: \", global_input_ig)"
   ]
  },
  {
   "cell_type": "code",
   "execution_count": 159,
   "id": "c2a8bc49-c8ce-4f4a-ba4a-3f9493566ab4",
   "metadata": {},
   "outputs": [
    {
     "name": "stdout",
     "output_type": "stream",
     "text": [
      "The relative input stability score is:  1.9071354460887682\n"
     ]
    }
   ],
   "source": [
    "layered_input_ig = filter_and_compute_input_stability(model_structured, test_dataloader,\"IntegratedGradients\", device, resnet = False)\n",
    "print(\"The relative input stability score is: \", layered_input_ig)"
   ]
  },
  {
   "cell_type": "markdown",
   "id": "041f883a-527e-4877-bb9f-15da19556e1f",
   "metadata": {},
   "source": [
    "# INPUT STABILITY SMOOTHGRAD"
   ]
  },
  {
   "cell_type": "code",
   "execution_count": 161,
   "id": "e4faf5e4-49a7-4867-a47c-b5654f30f387",
   "metadata": {},
   "outputs": [],
   "source": [
    "gc.collect()\n",
    "torch.cuda.empty_cache()"
   ]
  },
  {
   "cell_type": "code",
   "execution_count": 162,
   "id": "2e5cece6-7120-4d88-a4f8-cae39c2bdc08",
   "metadata": {},
   "outputs": [
    {
     "name": "stdout",
     "output_type": "stream",
     "text": [
      "The relative input stability score is:  -0.7508587902741357\n"
     ]
    }
   ],
   "source": [
    "normal_input_smooth  =  filter_and_compute_input_stability(model, test_dataloader, \"SmoothGrad\", device, resnet = False)\n",
    "print(\"The relative input stability score is: \",normal_input_smooth)"
   ]
  },
  {
   "cell_type": "code",
   "execution_count": 163,
   "id": "d27765a5-d81a-4b28-ac10-f39e9c870576",
   "metadata": {},
   "outputs": [
    {
     "name": "stdout",
     "output_type": "stream",
     "text": [
      "The relative input stability score is:  -0.7955984504536504\n"
     ]
    }
   ],
   "source": [
    "adversarial_input_smooth =  filter_and_compute_input_stability(model_adv, test_dataloader,\"SmoothGrad\", device, resnet = False)\n",
    "print(\"The relative input stability score is: \",adversarial_input_smooth)"
   ]
  },
  {
   "cell_type": "code",
   "execution_count": 164,
   "id": "1ef5aa2d-2872-4a57-9628-7b14d0688f5a",
   "metadata": {},
   "outputs": [
    {
     "name": "stdout",
     "output_type": "stream",
     "text": [
      "The relative input stability score is:  -0.7299970622654672\n"
     ]
    }
   ],
   "source": [
    "l1_input_smooth = filter_and_compute_input_stability(model_l1_unstructured, test_dataloader,\"SmoothGrad\", device, resnet = False)\n",
    "print(\"The relative input stability score is: \", l1_input_smooth)"
   ]
  },
  {
   "cell_type": "code",
   "execution_count": 165,
   "id": "5a0f9e35-4b94-4779-9b27-e94c8548ecee",
   "metadata": {},
   "outputs": [
    {
     "name": "stdout",
     "output_type": "stream",
     "text": [
      "The relative input stability score is:  -0.7369637482492642\n"
     ]
    }
   ],
   "source": [
    "global_input_smooth = filter_and_compute_input_stability(model_global, test_dataloader,\"SmoothGrad\", device, resnet = False)\n",
    "print(\"The relative input stability score is: \", global_input_smooth)"
   ]
  },
  {
   "cell_type": "code",
   "execution_count": 166,
   "id": "7750926f-77f2-4a89-a9a9-40fa30381c90",
   "metadata": {},
   "outputs": [
    {
     "name": "stdout",
     "output_type": "stream",
     "text": [
      "The relative input stability score is:  -0.7939018952691962\n"
     ]
    }
   ],
   "source": [
    "layered_input_smooth = filter_and_compute_input_stability(model_structured, test_dataloader,\"SmoothGrad\", device, resnet = False)\n",
    "print(\"The relative input stability score is: \", layered_input_smooth)"
   ]
  },
  {
   "cell_type": "code",
   "execution_count": 167,
   "id": "53268429-3ad4-4ba2-9987-d360e46a7d59",
   "metadata": {},
   "outputs": [
    {
     "data": {
      "text/html": [
       "<style type=\"text/css\">\n",
       "#T_d7644 th {\n",
       "  border: 1px solid black;\n",
       "}\n",
       "#T_d7644  td {\n",
       "  border: 1px solid black;\n",
       "}\n",
       "</style>\n",
       "<table id=\"T_d7644\">\n",
       "  <thead>\n",
       "    <tr>\n",
       "      <th class=\"blank level0\" >&nbsp;</th>\n",
       "      <th id=\"T_d7644_level0_col0\" class=\"col_heading level0 col0\" >Vanilla Gradient</th>\n",
       "      <th id=\"T_d7644_level0_col1\" class=\"col_heading level0 col1\" >Integrated Gradients</th>\n",
       "      <th id=\"T_d7644_level0_col2\" class=\"col_heading level0 col2\" >SmoothGrad</th>\n",
       "    </tr>\n",
       "  </thead>\n",
       "  <tbody>\n",
       "    <tr>\n",
       "      <th id=\"T_d7644_level0_row0\" class=\"row_heading level0 row0\" >Normal Model</th>\n",
       "      <td id=\"T_d7644_row0_col0\" class=\"data row0 col0\" >0.006020</td>\n",
       "      <td id=\"T_d7644_row0_col1\" class=\"data row0 col1\" >2.086858</td>\n",
       "      <td id=\"T_d7644_row0_col2\" class=\"data row0 col2\" >-0.750859</td>\n",
       "    </tr>\n",
       "    <tr>\n",
       "      <th id=\"T_d7644_level0_row1\" class=\"row_heading level0 row1\" >Adversarial Model</th>\n",
       "      <td id=\"T_d7644_row1_col0\" class=\"data row1 col0\" >-0.190888</td>\n",
       "      <td id=\"T_d7644_row1_col1\" class=\"data row1 col1\" >1.885307</td>\n",
       "      <td id=\"T_d7644_row1_col2\" class=\"data row1 col2\" >-0.795598</td>\n",
       "    </tr>\n",
       "    <tr>\n",
       "      <th id=\"T_d7644_level0_row2\" class=\"row_heading level0 row2\" >L1 Unstructured Pruned</th>\n",
       "      <td id=\"T_d7644_row2_col0\" class=\"data row2 col0\" >0.017228</td>\n",
       "      <td id=\"T_d7644_row2_col1\" class=\"data row2 col1\" >2.014541</td>\n",
       "      <td id=\"T_d7644_row2_col2\" class=\"data row2 col2\" >-0.729997</td>\n",
       "    </tr>\n",
       "    <tr>\n",
       "      <th id=\"T_d7644_level0_row3\" class=\"row_heading level0 row3\" >Global Pruned</th>\n",
       "      <td id=\"T_d7644_row3_col0\" class=\"data row3 col0\" >-0.056782</td>\n",
       "      <td id=\"T_d7644_row3_col1\" class=\"data row3 col1\" >1.961932</td>\n",
       "      <td id=\"T_d7644_row3_col2\" class=\"data row3 col2\" >-0.736964</td>\n",
       "    </tr>\n",
       "    <tr>\n",
       "      <th id=\"T_d7644_level0_row4\" class=\"row_heading level0 row4\" >Layered Structured Pruned</th>\n",
       "      <td id=\"T_d7644_row4_col0\" class=\"data row4 col0\" >-0.099847</td>\n",
       "      <td id=\"T_d7644_row4_col1\" class=\"data row4 col1\" >1.907135</td>\n",
       "      <td id=\"T_d7644_row4_col2\" class=\"data row4 col2\" >-0.793902</td>\n",
       "    </tr>\n",
       "  </tbody>\n",
       "</table>\n"
      ],
      "text/plain": [
       "<pandas.io.formats.style.Styler at 0x1ef273d1580>"
      ]
     },
     "execution_count": 167,
     "metadata": {},
     "output_type": "execute_result"
    }
   ],
   "source": [
    "vanilla_gradient = [normal_input_saliency, adversarial_input_saliency, l1_input_saliency, global_input_saliency, layered_input_saliency]\n",
    "integrated_gradients = [normal_input_ig, adversarial_input_ig, l1_input_ig, global_input_ig, layered_input_ig]\n",
    "smoothgrad = [normal_input_smooth, adversarial_input_smooth, l1_input_smooth, global_input_smooth, layered_input_smooth]\n",
    "\n",
    "row_labels = [\"Normal Model\", \"Adversarial Model\", \"L1 Unstructured Pruned\", \"Global Pruned\", \"Layered Structured Pruned\"]\n",
    "\n",
    "data = {\n",
    "    \"Vanilla Gradient\": vanilla_gradient,\n",
    "    \"Integrated Gradients\": integrated_gradients,\n",
    "    \"SmoothGrad\": smoothgrad\n",
    "}\n",
    "\n",
    "df = pd.DataFrame(data, index = row_labels)\n",
    "\n",
    "df.style.set_table_styles(\n",
    "    [{'selector': 'th, td', 'props': [('border', '1px solid black')]}]\n",
    ")"
   ]
  },
  {
   "cell_type": "markdown",
   "id": "6adb631e-55c4-40a3-9ac0-bb8da5e90889",
   "metadata": {},
   "source": [
    "# OUTPUT STABILITY VANILLA GRADIENT"
   ]
  },
  {
   "cell_type": "code",
   "execution_count": 185,
   "id": "5b6e3b7b-47f9-4be6-bfe9-d1991197e4b0",
   "metadata": {},
   "outputs": [],
   "source": [
    "gc.collect()\n",
    "torch.cuda.empty_cache()"
   ]
  },
  {
   "cell_type": "code",
   "execution_count": 186,
   "id": "39b263e0-80c3-4a97-975a-59bd2261c931",
   "metadata": {},
   "outputs": [
    {
     "name": "stdout",
     "output_type": "stream",
     "text": [
      "The relative output stability score is:  2.62351541595986\n"
     ]
    }
   ],
   "source": [
    "normal_output_saliency = filter_and_compute_output_stability(model, test_dataloader,\"Saliency\", device, resnet = False)\n",
    "print(\"The relative output stability score is: \", normal_output_saliency)"
   ]
  },
  {
   "cell_type": "code",
   "execution_count": 187,
   "id": "2301e052-4154-45a0-8f69-837d7a79b340",
   "metadata": {},
   "outputs": [
    {
     "name": "stdout",
     "output_type": "stream",
     "text": [
      "The relative output stability score is:  2.8192255128034915\n"
     ]
    }
   ],
   "source": [
    "adversarial_output_saliency = filter_and_compute_output_stability(model_adv, test_dataloader,\"Saliency\", device, resnet = False)\n",
    "print(\"The relative output stability score is: \", adversarial_output_saliency)"
   ]
  },
  {
   "cell_type": "code",
   "execution_count": 188,
   "id": "efa0b034-8718-4fb8-a9ea-98eb5fbfb291",
   "metadata": {},
   "outputs": [
    {
     "name": "stdout",
     "output_type": "stream",
     "text": [
      "The relative output stability score is:  2.662823571449896\n"
     ]
    }
   ],
   "source": [
    "l1_output_saliency = filter_and_compute_output_stability(model_l1_unstructured, test_dataloader,\"Saliency\", device, resnet = False)\n",
    "print(\"The relative output stability score is: \", l1_output_saliency)"
   ]
  },
  {
   "cell_type": "code",
   "execution_count": 189,
   "id": "b09e138b-ad65-4b27-bd93-71f0905e1ce9",
   "metadata": {},
   "outputs": [
    {
     "name": "stdout",
     "output_type": "stream",
     "text": [
      "The relative output stability score is:  2.600214317912361\n"
     ]
    }
   ],
   "source": [
    "global_output_saliency = filter_and_compute_output_stability(model_global, test_dataloader,\"Saliency\", device, resnet = False)\n",
    "print(\"The relative output stability score is: \", global_output_saliency)"
   ]
  },
  {
   "cell_type": "code",
   "execution_count": 190,
   "id": "84382dd7-6712-4284-9436-c499cdfae3a8",
   "metadata": {},
   "outputs": [
    {
     "name": "stdout",
     "output_type": "stream",
     "text": [
      "The relative output stability score is:  2.5083992023445467\n"
     ]
    }
   ],
   "source": [
    "layered_output_saliency = filter_and_compute_output_stability(model_structured, test_dataloader,\"Saliency\", device, resnet = False)\n",
    "print(\"The relative output stability score is: \",layered_output_saliency )"
   ]
  },
  {
   "cell_type": "markdown",
   "id": "f4e5cafa-d99e-4a44-be39-aa376d67b0ef",
   "metadata": {},
   "source": [
    "# OUTPUT STABILITY INTEGRATED GRADIENTS"
   ]
  },
  {
   "cell_type": "code",
   "execution_count": 191,
   "id": "15a023aa-9347-4f54-9981-6450c92ca988",
   "metadata": {},
   "outputs": [],
   "source": [
    "gc.collect()\n",
    "torch.cuda.empty_cache()"
   ]
  },
  {
   "cell_type": "code",
   "execution_count": 192,
   "id": "469639ae-3569-43c1-ac42-0257422134e4",
   "metadata": {},
   "outputs": [
    {
     "name": "stdout",
     "output_type": "stream",
     "text": [
      "The relative output stability score is:  4.682335632052278\n"
     ]
    }
   ],
   "source": [
    "normal_output_ig = filter_and_compute_output_stability(model, test_dataloader,\"IntegratedGradients\", device, resnet = False)\n",
    "print(\"The relative output stability score is: \", normal_output_ig)"
   ]
  },
  {
   "cell_type": "code",
   "execution_count": 193,
   "id": "c8f32e1c-6144-43e1-a2b3-655fab76f731",
   "metadata": {},
   "outputs": [
    {
     "name": "stdout",
     "output_type": "stream",
     "text": [
      "The relative output stability score is:  4.673010975859937\n"
     ]
    }
   ],
   "source": [
    "adversarial_output_ig = filter_and_compute_output_stability(model_adv, test_dataloader,\"IntegratedGradients\", device, resnet = False)\n",
    "print(\"The relative output stability score is: \", adversarial_output_ig)"
   ]
  },
  {
   "cell_type": "code",
   "execution_count": 194,
   "id": "36ff6f76-0d2c-4475-ab1d-18982bcc8908",
   "metadata": {},
   "outputs": [
    {
     "name": "stdout",
     "output_type": "stream",
     "text": [
      "The relative output stability score is:  4.56845332206729\n"
     ]
    }
   ],
   "source": [
    "l1_output_ig =  filter_and_compute_output_stability(model_l1_unstructured, test_dataloader,\"IntegratedGradients\", device, resnet = False)\n",
    "print(\"The relative output stability score is: \",l1_output_ig)"
   ]
  },
  {
   "cell_type": "code",
   "execution_count": 195,
   "id": "7b3da63d-3a00-4030-b67e-f956df8ca52b",
   "metadata": {},
   "outputs": [
    {
     "name": "stdout",
     "output_type": "stream",
     "text": [
      "The relative output stability score is:  4.619938831280848\n"
     ]
    }
   ],
   "source": [
    "global_output_ig = filter_and_compute_output_stability(model_global, test_dataloader,\"IntegratedGradients\", device, resnet = False)\n",
    "print(\"The relative output stability score is: \",global_output_ig )"
   ]
  },
  {
   "cell_type": "code",
   "execution_count": 196,
   "id": "e7297f93-b4dd-4d97-9376-57df32b12ffc",
   "metadata": {},
   "outputs": [
    {
     "name": "stdout",
     "output_type": "stream",
     "text": [
      "The relative output stability score is:  4.4482123373710305\n"
     ]
    }
   ],
   "source": [
    "layered_output_ig = filter_and_compute_output_stability(model_structured, test_dataloader,\"IntegratedGradients\", device, resnet = False)\n",
    "print(\"The relative output stability score is: \", layered_output_ig)"
   ]
  },
  {
   "cell_type": "markdown",
   "id": "884938c2-ce26-45a4-a8fe-2b35828a6337",
   "metadata": {},
   "source": [
    "# OUTPUT STABILITY SMOOTHGRAD"
   ]
  },
  {
   "cell_type": "code",
   "execution_count": 198,
   "id": "afd30f03-cb47-4541-88ed-c1c699518295",
   "metadata": {},
   "outputs": [],
   "source": [
    "gc.collect()\n",
    "torch.cuda.empty_cache()"
   ]
  },
  {
   "cell_type": "code",
   "execution_count": 199,
   "id": "39d0aa7e-0fcd-49ac-aa8c-2b03961dc284",
   "metadata": {},
   "outputs": [
    {
     "name": "stdout",
     "output_type": "stream",
     "text": [
      "The relative output stability score is:  1.9232326393815664\n"
     ]
    }
   ],
   "source": [
    "normal_output_smooth =  filter_and_compute_output_stability(model, test_dataloader, \"SmoothGrad\", device, resnet = False)\n",
    "print(\"The relative output stability score is: \",normal_output_smooth)"
   ]
  },
  {
   "cell_type": "code",
   "execution_count": 200,
   "id": "1211eb96-baf8-49b0-9d40-eac67cedbea1",
   "metadata": {},
   "outputs": [
    {
     "name": "stdout",
     "output_type": "stream",
     "text": [
      "The relative output stability score is:  2.253182188840668\n"
     ]
    }
   ],
   "source": [
    "adversarial_output_smooth =  filter_and_compute_output_stability(model_adv, test_dataloader, \"SmoothGrad\", device, resnet = False)\n",
    "print(\"The relative output stability score is: \",adversarial_output_smooth)"
   ]
  },
  {
   "cell_type": "code",
   "execution_count": 201,
   "id": "c2f38fb7-1a82-48f4-ab83-a310e97c5940",
   "metadata": {},
   "outputs": [
    {
     "name": "stdout",
     "output_type": "stream",
     "text": [
      "The relative output stability score is:  1.947890604758193\n"
     ]
    }
   ],
   "source": [
    "l1_output_smooth = filter_and_compute_output_stability(model_l1_unstructured, test_dataloader, \"SmoothGrad\", device, resnet = False)\n",
    "print(\"The relative output stability score is: \", l1_output_smooth)"
   ]
  },
  {
   "cell_type": "code",
   "execution_count": 202,
   "id": "f1173444-02ab-4884-a8fc-ac4edc9d49b4",
   "metadata": {},
   "outputs": [
    {
     "name": "stdout",
     "output_type": "stream",
     "text": [
      "The relative output stability score is:  1.969694682956773\n"
     ]
    }
   ],
   "source": [
    "global_output_smooth = filter_and_compute_output_stability(model_global, test_dataloader, \"SmoothGrad\", device, resnet = False)\n",
    "print(\"The relative output stability score is: \", global_output_smooth)"
   ]
  },
  {
   "cell_type": "code",
   "execution_count": 203,
   "id": "8eb6ea58-9063-43fe-8a8d-0351debe7117",
   "metadata": {},
   "outputs": [
    {
     "name": "stdout",
     "output_type": "stream",
     "text": [
      "The relative output stability score is:  1.843029696947983\n"
     ]
    }
   ],
   "source": [
    "layered_output_smooth = filter_and_compute_output_stability(model_structured, test_dataloader, \"SmoothGrad\", device, resnet = False)\n",
    "print(\"The relative output stability score is: \", layered_output_smooth)"
   ]
  },
  {
   "cell_type": "code",
   "execution_count": 204,
   "id": "bafbbca2-3543-49cd-8ffd-7dcd1e733c76",
   "metadata": {},
   "outputs": [
    {
     "data": {
      "text/html": [
       "<style type=\"text/css\">\n",
       "#T_50579 th {\n",
       "  border: 1px solid black;\n",
       "}\n",
       "#T_50579  td {\n",
       "  border: 1px solid black;\n",
       "}\n",
       "</style>\n",
       "<table id=\"T_50579\">\n",
       "  <thead>\n",
       "    <tr>\n",
       "      <th class=\"blank level0\" >&nbsp;</th>\n",
       "      <th id=\"T_50579_level0_col0\" class=\"col_heading level0 col0\" >Vanilla Gradient</th>\n",
       "      <th id=\"T_50579_level0_col1\" class=\"col_heading level0 col1\" >Integrated Gradients</th>\n",
       "      <th id=\"T_50579_level0_col2\" class=\"col_heading level0 col2\" >SmoothGrad</th>\n",
       "    </tr>\n",
       "  </thead>\n",
       "  <tbody>\n",
       "    <tr>\n",
       "      <th id=\"T_50579_level0_row0\" class=\"row_heading level0 row0\" >Normal Model</th>\n",
       "      <td id=\"T_50579_row0_col0\" class=\"data row0 col0\" >2.623515</td>\n",
       "      <td id=\"T_50579_row0_col1\" class=\"data row0 col1\" >4.682336</td>\n",
       "      <td id=\"T_50579_row0_col2\" class=\"data row0 col2\" >1.923233</td>\n",
       "    </tr>\n",
       "    <tr>\n",
       "      <th id=\"T_50579_level0_row1\" class=\"row_heading level0 row1\" >Adversarial Model</th>\n",
       "      <td id=\"T_50579_row1_col0\" class=\"data row1 col0\" >2.819226</td>\n",
       "      <td id=\"T_50579_row1_col1\" class=\"data row1 col1\" >4.673011</td>\n",
       "      <td id=\"T_50579_row1_col2\" class=\"data row1 col2\" >2.253182</td>\n",
       "    </tr>\n",
       "    <tr>\n",
       "      <th id=\"T_50579_level0_row2\" class=\"row_heading level0 row2\" >L1 Unstructured Pruned</th>\n",
       "      <td id=\"T_50579_row2_col0\" class=\"data row2 col0\" >2.662824</td>\n",
       "      <td id=\"T_50579_row2_col1\" class=\"data row2 col1\" >4.568453</td>\n",
       "      <td id=\"T_50579_row2_col2\" class=\"data row2 col2\" >1.947891</td>\n",
       "    </tr>\n",
       "    <tr>\n",
       "      <th id=\"T_50579_level0_row3\" class=\"row_heading level0 row3\" >Global Pruned</th>\n",
       "      <td id=\"T_50579_row3_col0\" class=\"data row3 col0\" >2.600214</td>\n",
       "      <td id=\"T_50579_row3_col1\" class=\"data row3 col1\" >4.619939</td>\n",
       "      <td id=\"T_50579_row3_col2\" class=\"data row3 col2\" >1.969695</td>\n",
       "    </tr>\n",
       "    <tr>\n",
       "      <th id=\"T_50579_level0_row4\" class=\"row_heading level0 row4\" >Layered Structured Pruned</th>\n",
       "      <td id=\"T_50579_row4_col0\" class=\"data row4 col0\" >2.508399</td>\n",
       "      <td id=\"T_50579_row4_col1\" class=\"data row4 col1\" >4.448212</td>\n",
       "      <td id=\"T_50579_row4_col2\" class=\"data row4 col2\" >1.843030</td>\n",
       "    </tr>\n",
       "  </tbody>\n",
       "</table>\n"
      ],
      "text/plain": [
       "<pandas.io.formats.style.Styler at 0x1ef380db920>"
      ]
     },
     "execution_count": 204,
     "metadata": {},
     "output_type": "execute_result"
    }
   ],
   "source": [
    "vanilla_gradient = [normal_output_saliency, adversarial_output_saliency, l1_output_saliency, global_output_saliency, layered_output_saliency]\n",
    "integrated_gradients = [normal_output_ig, adversarial_output_ig, l1_output_ig, global_output_ig, layered_output_ig]\n",
    "smoothgrad = [normal_output_smooth, adversarial_output_smooth, l1_output_smooth, global_output_smooth, layered_output_smooth]\n",
    "\n",
    "row_labels = [\"Normal Model\", \"Adversarial Model\", \"L1 Unstructured Pruned\", \"Global Pruned\", \"Layered Structured Pruned\"]\n",
    "\n",
    "data = {\n",
    "    \"Vanilla Gradient\": vanilla_gradient,\n",
    "    \"Integrated Gradients\": integrated_gradients,\n",
    "    \"SmoothGrad\": smoothgrad\n",
    "}\n",
    "\n",
    "df = pd.DataFrame(data, index = row_labels)\n",
    "\n",
    "df.style.set_table_styles(\n",
    "    [{'selector': 'th, td', 'props': [('border', '1px solid black')]}]\n",
    ")"
   ]
  },
  {
   "cell_type": "markdown",
   "id": "cd768efd-95ba-459b-a126-f7b6f4df4572",
   "metadata": {},
   "source": [
    "# SPARSITY VANILLA GRADIENT"
   ]
  },
  {
   "cell_type": "code",
   "execution_count": 206,
   "id": "b999fdd4-5506-405a-a307-10483f9180d9",
   "metadata": {},
   "outputs": [],
   "source": [
    "gc.collect()\n",
    "torch.cuda.empty_cache()"
   ]
  },
  {
   "cell_type": "code",
   "execution_count": 207,
   "id": "b6650b37-4f92-4535-a961-5c3ae481b189",
   "metadata": {},
   "outputs": [
    {
     "name": "stdout",
     "output_type": "stream",
     "text": [
      "The sparsity score is:  (0.5726994638395948, 0.004584305892854839)\n"
     ]
    }
   ],
   "source": [
    "normal_sparse_saliency = filter_and_compute_sparsity(model, test_dataloader,\"Saliency\", device, resnet = False)\n",
    "print(\"The sparsity score is: \", normal_sparse_saliency)"
   ]
  },
  {
   "cell_type": "code",
   "execution_count": 208,
   "id": "5f018c16-083b-49fd-a8af-1356245d07cd",
   "metadata": {},
   "outputs": [
    {
     "name": "stdout",
     "output_type": "stream",
     "text": [
      "The sparsity score is:  (0.5972986099098042, 0.004904099955738187)\n"
     ]
    }
   ],
   "source": [
    "adversarial_sparse_saliency = filter_and_compute_sparsity(model_adv, test_dataloader,\"Saliency\", device, resnet = False)\n",
    "print(\"The sparsity score is: \", adversarial_sparse_saliency)"
   ]
  },
  {
   "cell_type": "code",
   "execution_count": 209,
   "id": "590ddbac-a8ee-4cec-baed-f424cfcda896",
   "metadata": {},
   "outputs": [
    {
     "name": "stdout",
     "output_type": "stream",
     "text": [
      "The sparsity score is:  (0.5738094976392467, 0.005116665733681111)\n"
     ]
    }
   ],
   "source": [
    "l1_sparse_saliency =  filter_and_compute_sparsity(model_l1_unstructured, test_dataloader,\"Saliency\", device, resnet = False)\n",
    "print(\"The sparsity score is: \",l1_sparse_saliency)"
   ]
  },
  {
   "cell_type": "code",
   "execution_count": 210,
   "id": "e25ec449-f0f0-4339-b0c5-80a4fe0c4c4d",
   "metadata": {},
   "outputs": [
    {
     "name": "stdout",
     "output_type": "stream",
     "text": [
      "The sparsity score is:  (0.5624702731796459, 0.005317814904009483)\n"
     ]
    }
   ],
   "source": [
    "global_sparse_saliency = filter_and_compute_sparsity(model_global, test_dataloader,\"Saliency\", device, resnet = False)\n",
    "print(\"The sparsity score is: \", global_sparse_saliency)"
   ]
  },
  {
   "cell_type": "code",
   "execution_count": 211,
   "id": "9b7854a9-814f-49ed-ae9c-8fc4e364eae1",
   "metadata": {},
   "outputs": [
    {
     "name": "stdout",
     "output_type": "stream",
     "text": [
      "The sparsity score is:  (0.5122827342001331, 0.017010550552633678)\n"
     ]
    }
   ],
   "source": [
    "layered_sparse_saliency = filter_and_compute_sparsity(model_structured, test_dataloader,\"Saliency\", device, resnet = False)\n",
    "print(\"The sparsity score is: \",layered_sparse_saliency  )"
   ]
  },
  {
   "cell_type": "markdown",
   "id": "d148679d-18a3-4806-9fd4-59919e3f9aa3",
   "metadata": {},
   "source": [
    "# SPARSITY INTEGRATED GRADIENT"
   ]
  },
  {
   "cell_type": "code",
   "execution_count": 212,
   "id": "30a578f6-a6d0-4e36-a38d-70dda63d13cc",
   "metadata": {},
   "outputs": [],
   "source": [
    "gc.collect()\n",
    "torch.cuda.empty_cache()"
   ]
  },
  {
   "cell_type": "code",
   "execution_count": 213,
   "id": "6bacb0a1-e42e-4586-a24e-d8b6c826aa91",
   "metadata": {},
   "outputs": [
    {
     "name": "stdout",
     "output_type": "stream",
     "text": [
      "The sparsity score is:  (0.6501560334004735, 0.0038958996317912387)\n"
     ]
    }
   ],
   "source": [
    "normal_sparse_ig =  filter_and_compute_sparsity(model, test_dataloader,\"IntegratedGradients\", device, resnet = False)\n",
    "print(\"The sparsity score is: \",normal_sparse_ig)"
   ]
  },
  {
   "cell_type": "code",
   "execution_count": 214,
   "id": "2998fe2e-7998-48bb-9d6a-6d15cceff48d",
   "metadata": {},
   "outputs": [
    {
     "name": "stdout",
     "output_type": "stream",
     "text": [
      "The sparsity score is:  (0.6719259052821809, 0.004295748463367508)\n"
     ]
    }
   ],
   "source": [
    "adversarial_sparse_ig = filter_and_compute_sparsity(model_adv, test_dataloader,\"IntegratedGradients\", device, resnet = False)\n",
    "print(\"The sparsity score is: \",adversarial_sparse_ig )"
   ]
  },
  {
   "cell_type": "code",
   "execution_count": 215,
   "id": "6d3638cf-95a1-4d95-857f-7e352721ad05",
   "metadata": {},
   "outputs": [
    {
     "name": "stdout",
     "output_type": "stream",
     "text": [
      "The sparsity score is:  (0.6560931448904695, 0.004290100112678763)\n"
     ]
    }
   ],
   "source": [
    "l1_sparse_ig = filter_and_compute_sparsity(model_l1_unstructured, test_dataloader,\"IntegratedGradients\", device, resnet = False)\n",
    "print(\"The sparsity score is: \", l1_sparse_ig)"
   ]
  },
  {
   "cell_type": "code",
   "execution_count": 216,
   "id": "abc8b09c-9e7b-40e9-a147-5efe0a12f86f",
   "metadata": {},
   "outputs": [
    {
     "name": "stdout",
     "output_type": "stream",
     "text": [
      "The sparsity score is:  (0.6351893832086976, 0.004785989095752681)\n"
     ]
    }
   ],
   "source": [
    "global_sparse_ig = filter_and_compute_sparsity(model_global, test_dataloader,\"IntegratedGradients\", device, resnet = False)\n",
    "print(\"The sparsity score is: \",global_sparse_ig )"
   ]
  },
  {
   "cell_type": "code",
   "execution_count": 217,
   "id": "7e38afdc-1029-409b-be87-9de495cfcba8",
   "metadata": {},
   "outputs": [
    {
     "name": "stdout",
     "output_type": "stream",
     "text": [
      "The sparsity score is:  (0.5758098355768306, 0.019984059895344727)\n"
     ]
    }
   ],
   "source": [
    "layered_sparse_ig = filter_and_compute_sparsity(model_structured, test_dataloader,\"IntegratedGradients\", device, resnet = False)\n",
    "print(\"The sparsity score is: \", layered_sparse_ig)"
   ]
  },
  {
   "cell_type": "markdown",
   "id": "faa1dfe4-a9b4-430d-8ae5-5481d3d1ed14",
   "metadata": {},
   "source": [
    "# SPARSITY SMOOTHGRAD"
   ]
  },
  {
   "cell_type": "code",
   "execution_count": 219,
   "id": "60906702-8cfc-4d92-8e1d-eca244a83d05",
   "metadata": {},
   "outputs": [],
   "source": [
    "gc.collect()\n",
    "torch.cuda.empty_cache()"
   ]
  },
  {
   "cell_type": "code",
   "execution_count": 220,
   "id": "6a20545f-7d52-4b90-afa4-dc92ed1e71eb",
   "metadata": {},
   "outputs": [
    {
     "name": "stdout",
     "output_type": "stream",
     "text": [
      "The sparsity score is:  (0.4657412467932185, 0.005326518347014147)\n"
     ]
    }
   ],
   "source": [
    "normal_sparse_smooth = filter_and_compute_sparsity(model, test_dataloader,\"SmoothGrad\", device, resnet = False)\n",
    "print(\"The sparsity score is: \",normal_sparse_smooth )"
   ]
  },
  {
   "cell_type": "code",
   "execution_count": 221,
   "id": "d851267c-8a17-477b-9d39-8d43b585cec2",
   "metadata": {},
   "outputs": [
    {
     "name": "stdout",
     "output_type": "stream",
     "text": [
      "The sparsity score is:  (0.5190453759394414, 0.005456594232724554)\n"
     ]
    }
   ],
   "source": [
    "adversarial_sparse_smooth = filter_and_compute_sparsity(model_adv, test_dataloader,\"SmoothGrad\", device, resnet = False)\n",
    "print(\"The sparsity score is: \", adversarial_sparse_smooth)"
   ]
  },
  {
   "cell_type": "code",
   "execution_count": 222,
   "id": "c91ddeb8-be27-4826-a946-9739a6c91bda",
   "metadata": {},
   "outputs": [
    {
     "name": "stdout",
     "output_type": "stream",
     "text": [
      "The sparsity score is:  (0.46498667493850254, 0.005974374413143117)\n"
     ]
    }
   ],
   "source": [
    "l1_sparse_smooth = filter_and_compute_sparsity(model_l1_unstructured, test_dataloader,\"SmoothGrad\", device, resnet = False)\n",
    "print(\"The sparsity score is: \", l1_sparse_smooth)"
   ]
  },
  {
   "cell_type": "code",
   "execution_count": 223,
   "id": "51175d98-0ea1-4592-a4e6-b0d36f5ff251",
   "metadata": {},
   "outputs": [
    {
     "name": "stdout",
     "output_type": "stream",
     "text": [
      "The sparsity score is:  (0.46332769971628734, 0.006009343492445573)\n"
     ]
    }
   ],
   "source": [
    "global_sparse_smooth = filter_and_compute_sparsity(model_global, test_dataloader,\"SmoothGrad\", device, resnet = False)\n",
    "print(\"The sparsity score is: \", global_sparse_smooth)"
   ]
  },
  {
   "cell_type": "code",
   "execution_count": 224,
   "id": "b546500e-cee9-4e3e-8bf9-31a3145f5e9b",
   "metadata": {},
   "outputs": [
    {
     "name": "stdout",
     "output_type": "stream",
     "text": [
      "The sparsity score is:  (0.4188853146879053, 0.013438792225912263)\n"
     ]
    }
   ],
   "source": [
    "layered_sparse_smooth =  filter_and_compute_sparsity(model_structured, test_dataloader,\"SmoothGrad\", device, resnet = False)\n",
    "print(\"The sparsity score is: \",layered_sparse_smooth)"
   ]
  },
  {
   "cell_type": "code",
   "execution_count": 225,
   "id": "2d3035b1-893f-4001-ba40-08c1b62a1f7e",
   "metadata": {},
   "outputs": [
    {
     "data": {
      "text/html": [
       "<style type=\"text/css\">\n",
       "#T_447da th {\n",
       "  border: 1px solid black;\n",
       "}\n",
       "#T_447da  td {\n",
       "  border: 1px solid black;\n",
       "}\n",
       "</style>\n",
       "<table id=\"T_447da\">\n",
       "  <thead>\n",
       "    <tr>\n",
       "      <th class=\"blank level0\" >&nbsp;</th>\n",
       "      <th id=\"T_447da_level0_col0\" class=\"col_heading level0 col0\" >Vanilla Gradient</th>\n",
       "      <th id=\"T_447da_level0_col1\" class=\"col_heading level0 col1\" >Integrated Gradients</th>\n",
       "      <th id=\"T_447da_level0_col2\" class=\"col_heading level0 col2\" >SmoothGrad</th>\n",
       "    </tr>\n",
       "  </thead>\n",
       "  <tbody>\n",
       "    <tr>\n",
       "      <th id=\"T_447da_level0_row0\" class=\"row_heading level0 row0\" >Normal Model</th>\n",
       "      <td id=\"T_447da_row0_col0\" class=\"data row0 col0\" >(0.5726994638395948, 0.004584305892854839)</td>\n",
       "      <td id=\"T_447da_row0_col1\" class=\"data row0 col1\" >(0.6501560334004735, 0.0038958996317912387)</td>\n",
       "      <td id=\"T_447da_row0_col2\" class=\"data row0 col2\" >(0.4657412467932185, 0.005326518347014147)</td>\n",
       "    </tr>\n",
       "    <tr>\n",
       "      <th id=\"T_447da_level0_row1\" class=\"row_heading level0 row1\" >Adversarial Model</th>\n",
       "      <td id=\"T_447da_row1_col0\" class=\"data row1 col0\" >(0.5972986099098042, 0.004904099955738187)</td>\n",
       "      <td id=\"T_447da_row1_col1\" class=\"data row1 col1\" >(0.6719259052821809, 0.004295748463367508)</td>\n",
       "      <td id=\"T_447da_row1_col2\" class=\"data row1 col2\" >(0.5190453759394414, 0.005456594232724554)</td>\n",
       "    </tr>\n",
       "    <tr>\n",
       "      <th id=\"T_447da_level0_row2\" class=\"row_heading level0 row2\" >L1 Unstructured Pruned</th>\n",
       "      <td id=\"T_447da_row2_col0\" class=\"data row2 col0\" >(0.5738094976392467, 0.005116665733681111)</td>\n",
       "      <td id=\"T_447da_row2_col1\" class=\"data row2 col1\" >(0.6560931448904695, 0.004290100112678763)</td>\n",
       "      <td id=\"T_447da_row2_col2\" class=\"data row2 col2\" >(0.46498667493850254, 0.005974374413143117)</td>\n",
       "    </tr>\n",
       "    <tr>\n",
       "      <th id=\"T_447da_level0_row3\" class=\"row_heading level0 row3\" >Global Pruned</th>\n",
       "      <td id=\"T_447da_row3_col0\" class=\"data row3 col0\" >(0.5624702731796459, 0.005317814904009483)</td>\n",
       "      <td id=\"T_447da_row3_col1\" class=\"data row3 col1\" >(0.6351893832086976, 0.004785989095752681)</td>\n",
       "      <td id=\"T_447da_row3_col2\" class=\"data row3 col2\" >(0.46332769971628734, 0.006009343492445573)</td>\n",
       "    </tr>\n",
       "    <tr>\n",
       "      <th id=\"T_447da_level0_row4\" class=\"row_heading level0 row4\" >Layered Structured Pruned</th>\n",
       "      <td id=\"T_447da_row4_col0\" class=\"data row4 col0\" >(0.5122827342001331, 0.017010550552633678)</td>\n",
       "      <td id=\"T_447da_row4_col1\" class=\"data row4 col1\" >(0.5758098355768306, 0.019984059895344727)</td>\n",
       "      <td id=\"T_447da_row4_col2\" class=\"data row4 col2\" >(0.4188853146879053, 0.013438792225912263)</td>\n",
       "    </tr>\n",
       "  </tbody>\n",
       "</table>\n"
      ],
      "text/plain": [
       "<pandas.io.formats.style.Styler at 0x1ef290d1970>"
      ]
     },
     "execution_count": 225,
     "metadata": {},
     "output_type": "execute_result"
    }
   ],
   "source": [
    "vanilla_gradient = [normal_sparse_saliency, adversarial_sparse_saliency, l1_sparse_saliency, global_sparse_saliency, layered_sparse_saliency]\n",
    "integrated_gradients = [normal_sparse_ig, adversarial_sparse_ig, l1_sparse_ig, global_sparse_ig, layered_sparse_ig]\n",
    "smoothgrad = [normal_sparse_smooth, adversarial_sparse_smooth, l1_sparse_smooth, global_sparse_smooth, layered_sparse_smooth]\n",
    "\n",
    "row_labels = [\"Normal Model\", \"Adversarial Model\", \"L1 Unstructured Pruned\", \"Global Pruned\", \"Layered Structured Pruned\"]\n",
    "\n",
    "data = {\n",
    "    \"Vanilla Gradient\": vanilla_gradient,\n",
    "    \"Integrated Gradients\": integrated_gradients,\n",
    "    \"SmoothGrad\": smoothgrad\n",
    "}\n",
    "\n",
    "df = pd.DataFrame(data, index = row_labels)\n",
    "\n",
    "df.style.set_table_styles(\n",
    "    [{'selector': 'th, td', 'props': [('border', '1px solid black')]}]\n",
    ")"
   ]
  },
  {
   "cell_type": "code",
   "execution_count": null,
   "id": "be3e41ea-ff9e-4f15-9e58-49afb79fddd3",
   "metadata": {},
   "outputs": [],
   "source": []
  }
 ],
 "metadata": {
  "kernelspec": {
   "display_name": "Python 3 (ipykernel)",
   "language": "python",
   "name": "python3"
  },
  "language_info": {
   "codemirror_mode": {
    "name": "ipython",
    "version": 3
   },
   "file_extension": ".py",
   "mimetype": "text/x-python",
   "name": "python",
   "nbconvert_exporter": "python",
   "pygments_lexer": "ipython3",
   "version": "3.12.3"
  }
 },
 "nbformat": 4,
 "nbformat_minor": 5
}
